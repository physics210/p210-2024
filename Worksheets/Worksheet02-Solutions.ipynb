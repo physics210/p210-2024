{
 "cells": [
  {
   "cell_type": "markdown",
   "metadata": {},
   "source": [
    "# Day 02 Group Worksheet - Solutions\n",
    "Sept 09, 2024"
   ]
  },
  {
   "cell_type": "markdown",
   "metadata": {},
   "source": [
    "If you're working on CoCalc, it's good to rename your notebook with a fun group name and to include all group member names below so that you can easily find it later for reference."
   ]
  },
  {
   "cell_type": "markdown",
   "metadata": {},
   "source": [
    "* Group members:   "
   ]
  },
  {
   "cell_type": "markdown",
   "metadata": {},
   "source": [
    "## 2.1 Playing with syntax\n",
    "In the cell below, try out each of the following. In a few words, explain the results in the cell below that\n",
    "1. In printed math notation, you can multiply x and y like this: $xy$.  What happens if you try that in python?\n",
    "1. What if you import numpy as np, but call numpy.sin(2)?\n",
    "1. What is the difference between using `+` and `*` for strings and numbers?\n",
    "1. Can you use `-` or `/` on strings?\n",
    "1. Is there a difference between defining a string as `string1 = 'all the words'` vs `string2 = \"all the words\"`? Can you define one by mixing the two, `string3 = 'all the words\"`?\n",
    "1. You can use a minus sign to make a negative number like -2. What happens if you put a plus sign before a number? What about `2++2` or `2 ++ +2`?\n",
    "1. In math notation, leading zeros are ok, as in 09. What happens if you try this in Python?"
   ]
  },
  {
   "cell_type": "code",
   "execution_count": null,
   "metadata": {},
   "outputs": [],
   "source": [
    "# Do your testing here\n",
    "\n"
   ]
  },
  {
   "cell_type": "markdown",
   "metadata": {},
   "source": [
    "Put your responses to \"Playing with syntax\" in this cell:\n",
    "\n",
    "1. Sticking two variables x and y together as in xy refers to a completely different variable, which will make an error if it hasn't been defined.\n",
    "1. if you import numpy as np but then try to call numpy.sin you'll get an error\n",
    "1. `+` and `*` are addition and multiplication for numbers, but are concatenation and repetition for strings\n",
    "1. `-` and `/` don't work with strings\n",
    "1. 'all the words' and \"all the words\" are identical beyond the fact that if you want to include one kind of quote inside your string, use the other kind to start and end it\n",
    "1. Extra `+` signs in front of numbers are ignored\n",
    "1. Leading zeros as in 09 produce an error"
   ]
  },
  {
   "cell_type": "markdown",
   "metadata": {},
   "source": [
    "## 2.2 Debugging\n",
    "The code in the following cell should print: \n",
    "```\n",
    "sin(1.987) =  \n",
    "x.xxxxx\n",
    "is less than 8 is True\n",
    "```\n",
    "Find and correct the mistakes (there are a few). `x.xxxxx` represents that actual numerical value of sin for that value to the number of decimal places specified."
   ]
  },
  {
   "cell_type": "code",
   "execution_count": 20,
   "metadata": {},
   "outputs": [
    {
     "ename": "SyntaxError",
     "evalue": "invalid syntax (<ipython-input-20-be44b06819d8>, line 3)",
     "output_type": "error",
     "traceback": [
      "\u001b[1;36m  File \u001b[1;32m\"<ipython-input-20-be44b06819d8>\"\u001b[1;36m, line \u001b[1;32m3\u001b[0m\n\u001b[1;33m    print(sin(1.987) = )\u001b[0m\n\u001b[1;37m                       ^\u001b[0m\n\u001b[1;31mSyntaxError\u001b[0m\u001b[1;31m:\u001b[0m invalid syntax\n"
     ]
    }
   ],
   "source": [
    "# Original code provided\n",
    "\n",
    "print(sin(1.987) = )\n",
    "print(np.sin(1.987))\n",
    "\n",
    "sometext = 'ibidbu is less than dodi'\n",
    "subtext = sometext[6:17]\n",
    "A = 16/2\n",
    "print(subtext , A, \"is\", (A > np.sin(1.987)))"
   ]
  },
  {
   "cell_type": "code",
   "execution_count": 21,
   "metadata": {},
   "outputs": [
    {
     "name": "stdout",
     "output_type": "stream",
     "text": [
      "sin(1.987) = \n",
      "0.91463\n",
      "is less than 8 is True\n"
     ]
    }
   ],
   "source": [
    "# Fixed code\n",
    "\n",
    "import numpy as np\n",
    "\n",
    "print('sin(1.987) = ')\n",
    "print(f\"{np.sin(1.987):.5f}\")\n",
    "\n",
    "sometext = 'ibidbu is less than dodi'\n",
    "A = 16//2\n",
    "print(sometext[7:19],A , 'is', (8 > np.sin(1.987)))"
   ]
  },
  {
   "cell_type": "markdown",
   "metadata": {},
   "source": [
    "## 2.3 Math practice\n",
    "\n",
    "Zerubbabel says they are 430520 hours old. Use python to print their age in years, days and hours. Your program should print a line that looks like: \n",
    "```\n",
    "Zerubbabel is y years, d days and h hours old\n",
    "```\n",
    "where `y`, `d` and `h` are replaced with the appropriate numbers. Let's not discuss the fact that by the time you figure out their age, they will already be older.\n",
    "\n",
    "Ignore leap years (assume every year has 365 days).\n",
    "\n",
    "Use string concatenation or string formatting to print it all in one statement. Hint: if you use string concatenation, you can convert from one variable type to another using `str()` or `int()`."
   ]
  },
  {
   "cell_type": "code",
   "execution_count": 3,
   "metadata": {},
   "outputs": [
    {
     "name": "stdout",
     "output_type": "stream",
     "text": [
      "Zerubbabel is 49 years, 53 days, 8 hours\n"
     ]
    }
   ],
   "source": [
    "# Code for Zerubbabel's age here.\n",
    "\n",
    "hours = 430520 \n",
    "years = hours // (24*365)\n",
    "hours_remaining = hours - years*24*365 # leftover hours\n",
    "days = hours_remaining // 24\n",
    "hours = hours_remaining % 24 \n",
    "\n",
    "# Print the result\n",
    "print(f\"Zerubbabel is {years} years, {days} days, {hours} hours\")\n"
   ]
  },
  {
   "cell_type": "markdown",
   "metadata": {},
   "source": [
    "## 2.4 Practice with indexing strings among us\n",
    "Someone in this class is an imposter and sent out a secret message to reveal their identity to the other imposters in class. Write code in python to complete the steps below to find out who it is!\n",
    "```\n",
    "A = 'dsjsoofdjsnwraebseiyiuhjijenrheegrbeqiloieskjbdkb'\n",
    "```\n",
    "**Hints:**\n",
    "1. Remember the difference between element number (how most of us are used to counting) and index, which starts at 0 for the left-most element.\n",
    "1. Also remember that negative indices start at the right-most element, with an index of -1\n",
    "\n",
    "**Steps: (use python code to do all of the steps)**\n",
    "\n",
    "* The first letter:\n",
    "    1. Get the number of times ‘o’ appears in _elements_ 2 to 8 (inclusive) in the string\n",
    "    2. This is the _index_ of string A which is the first letter\n",
    "    3. Capitalize it\n",
    "\n",
    "\n",
    "* The second letter:\n",
    "    1. Take the length of the string A, divide it by 7 and add 3   \n",
    "    2. The answer from 1 is the _negative index_ of the second letter. This means that if you calculated `5` in step 1, you are looking for the letter found at `A[-5]`. Don't forget that an index must be an integer.\n",
    "\n",
    "\n",
    "* The third letter:\n",
    "    1. Create a string that is made up of _every second letter_ from index 14 to index 34 (inclusive). You may wish to use an internet search or Generative AI to figure out how to choose every second letter when slicing. We will learn more about this on day 3 when we are learning about lists.\n",
    "    2. Find the number of times the letter ‘i’ is in this substring and raise this number to the power of 2. This is the _index_ of the third letter\n",
    "\n",
    "\n",
    "* Fourth Letter:\n",
    "    1. Add the number of times the letter ‘e’ appears to the number of times the letter ‘c’ appears (in the whole string). Use this as a negative index to determine the fourth letter."
   ]
  },
  {
   "cell_type": "code",
   "execution_count": 15,
   "metadata": {},
   "outputs": [
    {
     "name": "stdout",
     "output_type": "stream",
     "text": [
      "J o s s\n"
     ]
    }
   ],
   "source": [
    "# Code for your answer here\n",
    "\n",
    "A = 'dsjsoofdjsnwraebseiyiuhjijenrheegrbeqiloieskjbdkb'\n",
    "\n",
    "# First letter\n",
    "count_o = A[2:9].count('o')\n",
    "first_letter = A[count_o].upper()\n",
    "\n",
    "# Second letter\n",
    "string_length = len(A)\n",
    "second_letter_index = (string_length // 7) + 3\n",
    "second_letter = A[-second_letter_index]\n",
    "\n",
    "# Third letter\n",
    "substring = A[14:35:2]\n",
    "count_i = substring.count('i')\n",
    "third_letter_index = count_i ** 2\n",
    "third_letter = A[third_letter_index]\n",
    "\n",
    "# Fourth letter\n",
    "count_e = A.count('e')\n",
    "count_c = A.count('c')\n",
    "fourth_letter_index = -(count_e + count_c)\n",
    "fourth_letter = A[fourth_letter_index]\n",
    "\n",
    "print(first_letter, second_letter, third_letter, fourth_letter)"
   ]
  },
  {
   "cell_type": "code",
   "execution_count": null,
   "metadata": {},
   "outputs": [],
   "source": []
  }
 ],
 "metadata": {
  "kernelspec": {
   "display_name": "Python 3",
   "language": "python",
   "name": "python3"
  },
  "language_info": {
   "codemirror_mode": {
    "name": "ipython",
    "version": 3
   },
   "file_extension": ".py",
   "mimetype": "text/x-python",
   "name": "python",
   "nbconvert_exporter": "python",
   "pygments_lexer": "ipython3",
   "version": "3.7.6"
  }
 },
 "nbformat": 4,
 "nbformat_minor": 4
}
