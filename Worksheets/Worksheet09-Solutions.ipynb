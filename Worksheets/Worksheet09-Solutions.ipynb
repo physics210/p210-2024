{
 "cells": [
  {
   "cell_type": "markdown",
   "metadata": {
    "id": "68gKoP9jF9lU"
   },
   "source": [
    "# Day 09 Group Worksheet - Solutions\n",
    "Oct 07, 2024\n",
    "\n",
    "If you're working on CoCalc, it's good to rename your notebook with a fun group name and to include your names below so that you can easily find it later for reference."
   ]
  },
  {
   "cell_type": "markdown",
   "metadata": {
    "id": "B8UKtrg1F9lm"
   },
   "source": [
    "* Group members:"
   ]
  },
  {
   "cell_type": "markdown",
   "metadata": {
    "id": "iFyc4sgriobb"
   },
   "source": [
    "## Electric Field Hockey tasks:\n",
    "Today, your goal (pun intended) is to make sense of, fix and then update the functionality of the [Electric Field Hockey](https://phet.colorado.edu/en/simulations/electric-hockey) starter code provided below. Read through all of the tasks below before starting to work on them since they are intertwined so you may not progress through them linearly."
   ]
  },
  {
   "cell_type": "markdown",
   "metadata": {
    "id": "ss2V3qeyiobb"
   },
   "source": [
    "### Starter code (there's an additional copy at the end of the notebook for reference)"
   ]
  },
  {
   "cell_type": "code",
   "execution_count": 8,
   "metadata": {
    "id": "uUhlvfVpiobc",
    "outputId": "631e8379-c271-4eab-c011-616ba7d10f16"
   },
   "outputs": [
    {
     "data": {
      "image/png": "[encoded data removed]",
      "text/plain": [
       "<Figure size 576x576 with 1 Axes>"
      ]
     },
     "metadata": {
      "needs_background": "light"
     },
     "output_type": "display_data"
    }
   ],
   "source": [
    "import numpy as np\n",
    "import matplotlib.pyplot as plt\n",
    "\n",
    "# Euler's method for ODE integration\n",
    "def euler_method(initial_state, t_array):\n",
    "    '''\n",
    "    Variables defined outside of this function:\n",
    "    - The constants k, q and m\n",
    "    - The nested list fixed_charges\n",
    "    '''\n",
    "    \n",
    "    x0, y0, vx0, vy0 = initial_state # Initial state vector for the moving charge\n",
    "\n",
    "    x_array = np.zeros_like(t_array, dtype=float)\n",
    "    y_array = np.zeros_like(t_array, dtype=float)\n",
    "    vx_array = np.zeros_like(t_array, dtype=float)\n",
    "    vy_array = np.zeros_like(t_array, dtype=float)\n",
    "\n",
    "    # Set initial values\n",
    "    x_array[0], y_array[0] = x0, y0\n",
    "    vx_array[0], vy_array[0] = vx0, vy0\n",
    "    \n",
    "    for i in range(1, len(t_array)): # Start at i=1 since i=0 already filled\n",
    "\n",
    "        # Quantities from the previous step for calculating next step quantities\n",
    "        t = t_array[i-1], \n",
    "        dt = t_array[i] - t_array[i-1]\n",
    "        x, y = x_array[i-1], y_array[i-1]\n",
    "        vx, vy = vx_array[i-1], vy_array[i-1]\n",
    "        \n",
    "        # Determine net force on the moving charge\n",
    "        fx, fy = 0, 0\n",
    "        for fixed_charge in fixed_charges: # Coulomb's Law forces exerted on the moving charge\n",
    "            x_fixed_charge, y_fixed_charge = fixed_charge[0], fixed_charge[1]\n",
    "            sign_fixed_charge = fixed_charge[2]            \n",
    "            r = np.sqrt((x-x_fixed_charge)**2 + (y-y_fixed_charge)**2)\n",
    "            fx += k * q**2 / r**2 # Fix me! x-component needed\n",
    "            fy += k * q**2 / r**2 # Fix me! y-component needed\n",
    "\n",
    "        ax, ay = fx/m, fy/m\n",
    "\n",
    "        x_new = x + dt * vx\n",
    "        y_new = y + dt * vy\n",
    "        vx_new = vx + dt * ax\n",
    "        vy_new = vy + dt * ay\n",
    "        \n",
    "        x_array[i], y_array[i] = x_new, y_new \n",
    "        vx_array[i], vy_array[i] = vx_new, vy_new \n",
    "\n",
    "        if y>=1.: # Fix me\n",
    "            break\n",
    "\n",
    "    return t_array[:i+1], [ x_array[:i+1], y_array[:i+1] ]\n",
    "        \n",
    "'''\n",
    "The main code area\n",
    "'''\n",
    "    \n",
    "# Constants\n",
    "k = 8.9875517923e9 # Coulomb's constant; N*m^2/C^2\n",
    "q = 1e-6 # Base charge is 1 uC\n",
    "m = 1e-3 # Base mass is 1 g\n",
    "\n",
    "goal_dim = [[.98, 1.],[.75, .85]]\n",
    "\n",
    "# Initial state vector and fixed charge parameters\n",
    "state0 = [0.5, 0.01, 0.0, 6.2] # x0, y0, vx0, vy0\n",
    "fixed_charges = [ [.2, .6, 'r'] ] # For each charge: x, y and sign of charge\n",
    "\n",
    "# Times to be simulated\n",
    "t0, tmax, dt = 0, 1, 0.001\n",
    "t = np.arange(t0, tmax+dt, dt) # end is exclusive so we use end = tmax + dt\n",
    "\n",
    "# Solve the system using Euler's method\n",
    "sol_t, sol_results = euler_method(state0, t)\n",
    "sol_x, sol_y = sol_results\n",
    "\n",
    "# Extract the final conditions to check for a goal\n",
    "x_final, y_final, t_final = sol_x[-1], sol_y[-1], sol_t[-1]\n",
    "\n",
    "# Use the extracted final conditions to check for a goal\n",
    "if x_final > 0.99 and goal_dim[1][0] <= y_final <= goal_dim[1][1]:\n",
    "    goal_text = \"Goal!\"\n",
    "else:\n",
    "    goal_text = \"No goal :(\"\n",
    "\n",
    "    \n",
    "'''\n",
    "Plotting\n",
    "'''\n",
    "\n",
    "fig, ax = plt.subplots(figsize=(8, 8))\n",
    "\n",
    "ax.plot(sol_x, sol_y, color='r')\n",
    "\n",
    "ax.plot([goal_dim[0][1], goal_dim[0][1]], [goal_dim[1][0], goal_dim[1][1]])\n",
    "\n",
    "for fixed_charge in fixed_charges:\n",
    "    x_fixed_charge, y_fixed_charge = fixed_charge[0], fixed_charge[1]\n",
    "    sign_fixed_charge = fixed_charge[2]\n",
    "    ax.scatter(x_fixed_charge, y_fixed_charge, color=sign_fixed_charge, s=100)\n",
    "\n",
    "ax.set_xlim([-.01, 1.01])\n",
    "ax.set_ylim([-.01, 1.01])\n",
    "\n",
    "ax.grid(True)\n",
    "plt.show()"
   ]
  },
  {
   "cell_type": "markdown",
   "metadata": {
    "id": "wb8TtM3Uiobf"
   },
   "source": [
    "### Example of target output for goal and no goal situations\n",
    "You <u>do not</u> need to match the exact format and style of the example goal and no goal visualizations, but at minimum your visualizations should include information about the dimensions and units of the play area, as well as feedback embedded in the visualization regarding if a goal was scored or not.\n",
    "\n",
    "The left panel below shows how the simulation should behave when the Coulomb's Law code has been fixed, while keeping the initial state as `state0 = [0.5, 0.01, 0.0, 10.]`. \n",
    "\n",
    "<table border=\"0\" cellspacing=\"0\" cellpadding=\"0\"><tr>\n",
    "    <td><img src=\"https://i.ibb.co/4JnNyYm/no-goal.png\" alt=\"No goal :(\"></td>\n",
    "    <td><img src=\"https://i.ibb.co/0c4rytG/goal-unknown-vy0.png\" alt=\"Goal!\"></td>\n",
    "</tr></table>"
   ]
  },
  {
   "cell_type": "markdown",
   "metadata": {
    "id": "XXIbz04Siobf"
   },
   "source": [
    "### Task 1. Make sense of the `fixed_charges` list\n",
    "We will treat the moving charge and the initial fixed charge as each having positive charge. If we wanted to add a negative charge as a second fixed charge, we could updated our `fixed_charges` list to something along the lines of:\n",
    "```python\n",
    "fixed_charges = [ [.2, .6, 'r'], [.6, .2, 'b'] ] # Example of adding a second negative charge\n",
    "```\n",
    "How does the `fixed_charges` list of lists work? Where are all of the places in the code that this list is used? What is represented by each element in the list `[.2, .6, 'r']`? For example, what does `charge[0]` represent within the for loop `for charge in charges:`?"
   ]
  },
  {
   "cell_type": "markdown",
   "metadata": {
    "id": "XK8G0wJ2iobg"
   },
   "source": [
    "(Your notes)\n",
    "* charge[0]: ...\n",
    "* charge[1]: ...\n",
    "* charge[2]: ..."
   ]
  },
  {
   "cell_type": "markdown",
   "metadata": {
    "id": "A_sB0Tcliobg"
   },
   "source": [
    "### Task 2: Make sense of the parameters in the `euler_method()` function\n",
    "Have a careful look at the `euler_method()` function and make sure you understand how the information used for each of the following variables is made available to the function and how that information is used"
   ]
  },
  {
   "cell_type": "markdown",
   "metadata": {
    "id": "Tt9LUEXDiobg"
   },
   "source": [
    "* x0: ...\n",
    "* y0: ...\n",
    "* vx0: ...\n",
    "* vy0: ...\n",
    "* k: ...\n",
    "* q: ...\n",
    "* m: ..."
   ]
  },
  {
   "cell_type": "markdown",
   "metadata": {},
   "source": [
    "### Task 3: Make sense of the objects returned from the `euler_method()` functions\n",
    "The format of the information returned by the `euler_method()` function is intended to match the format returned by `solve_ivp()`, a solver that we are going to learn next class. So the format may seem a bit odd, but it was chosen with this specific purpose.\n",
    "\n",
    "Why is the slice `[:i+1]` being used when returning the arrays `t_array`, `x_array` and `y_array` from the `euler_method()` function?\n",
    "```python\n",
    "return t_array`[:i+1], [ x_array[:i+1], y_array[:i+1] ]\n",
    "```\n",
    "\n",
    "Do you understand what information is stored in the returned objects `sol_t` and `sol_results`?\n",
    "```python\n",
    "sol_t, sol_results = euler_method(state0, t)\n",
    "```"
   ]
  },
  {
   "cell_type": "markdown",
   "metadata": {
    "id": "gwa_oTCxiobh"
   },
   "source": [
    "### Task 4. Fix the Coulomb's Law code to be split into x- and y-components\n",
    "Based on the output, it sort of looks like Coulomb's Law is implemented correctly but the x- and y-components are currently both equal to the Coulomb's Law magnitude."
   ]
  },
  {
   "cell_type": "markdown",
   "metadata": {
    "id": "HVMwUpoWiobh"
   },
   "source": [
    "### Task 5. Update the code and visualization\n",
    "Update the code to include detection of and feedback about if a goal is scored. Update the visualization to include this feedback as well as improving the visualization overall. "
   ]
  },
  {
   "cell_type": "markdown",
   "metadata": {
    "id": "DIuSgHT3iobh"
   },
   "source": [
    "### Task 6. Score some goals!!!\n",
    "Below we want you to score a goal by varying the initial conditions in a bunch of specified ways. \n",
    "\n",
    "***Bonus challenge***: See if you can build a function such that you only have to provide the initial conditions instead of copying the full code to each new cell, e.g., `run_simulation(state0, fixed_charges, ...)"
   ]
  },
  {
   "cell_type": "markdown",
   "metadata": {
    "id": "l_sckT6Tiobh"
   },
   "source": [
    "#### a) Starting with the original initial parameters and charge locations, score a goal by changing only the initial speed of the moving charge"
   ]
  },
  {
   "cell_type": "code",
   "execution_count": 2,
   "metadata": {
    "id": "K849N6k1iobh"
   },
   "outputs": [],
   "source": [
    "# Your 6a code\n",
    "\n"
   ]
  },
  {
   "cell_type": "markdown",
   "metadata": {
    "id": "nzbXYolwiobh"
   },
   "source": [
    "#### b) Starting with the original initial parameters and charge locations, score a goal by changing only the direction of the initial charge\n",
    "You may wish to ask GenAI how to implement `sin` and `cos` in python"
   ]
  },
  {
   "cell_type": "code",
   "execution_count": 3,
   "metadata": {
    "id": "Dr7D44T3iobi"
   },
   "outputs": [],
   "source": [
    "# Your 6b code\n",
    "\n"
   ]
  },
  {
   "cell_type": "markdown",
   "metadata": {
    "id": "zTQpbq-Wiobi"
   },
   "source": [
    "#### c) Starting with the original initial parameters and charge locations, score a goal by changing only the position of the fixed charge"
   ]
  },
  {
   "cell_type": "code",
   "execution_count": 4,
   "metadata": {
    "id": "ifXppL_Hiobi"
   },
   "outputs": [],
   "source": [
    "# Your 6c code\n",
    "\n"
   ]
  },
  {
   "cell_type": "markdown",
   "metadata": {
    "id": "jiyj9gHdiobi"
   },
   "source": [
    "#### d) Starting with the original initial parameters and charge locations, score a goal by changing both the sign and position of the fixed charge"
   ]
  },
  {
   "cell_type": "code",
   "execution_count": 5,
   "metadata": {
    "id": "EfqyPauiiobi"
   },
   "outputs": [],
   "source": [
    "# Your 6d code\n",
    "\n"
   ]
  },
  {
   "cell_type": "markdown",
   "metadata": {
    "id": "RGwsTA11iobi"
   },
   "source": [
    "#### e) Starting with the original initial parameters and charge locations, score a goal by adding a second fixed charge of either sign"
   ]
  },
  {
   "cell_type": "code",
   "execution_count": 6,
   "metadata": {
    "id": "sHSKYNFKiobj"
   },
   "outputs": [],
   "source": [
    "# Your 6e code\n",
    "\n"
   ]
  },
  {
   "cell_type": "markdown",
   "metadata": {
    "id": "PH-W7eFXiobj"
   },
   "source": [
    "## Backup copy of starter code"
   ]
  },
  {
   "cell_type": "markdown",
   "metadata": {
    "id": "uUhlvfVpiobc",
    "outputId": "631e8379-c271-4eab-c011-616ba7d10f16"
   },
   "source": [
    "```python\n",
    "import numpy as np\n",
    "import matplotlib.pyplot as plt\n",
    "\n",
    "# Euler's method for ODE integration\n",
    "def euler_method(initial_state, t_array):\n",
    "    '''\n",
    "    Variables defined outside of this function:\n",
    "    - The constants k, q and m\n",
    "    - The nested list fixed_charges\n",
    "    '''\n",
    "    \n",
    "    x0, y0, vx0, vy0 = initial_state # Initial state vector for the moving charge\n",
    "\n",
    "    x_array = np.zeros_like(t_array, dtype=float)\n",
    "    y_array = np.zeros_like(t_array, dtype=float)\n",
    "    vx_array = np.zeros_like(t_array, dtype=float)\n",
    "    vy_array = np.zeros_like(t_array, dtype=float)\n",
    "\n",
    "    # Set initial values\n",
    "    x_array[0], y_array[0] = x0, y0\n",
    "    vx_array[0], vy_array[0] = vx0, vy0\n",
    "    \n",
    "    for i in range(1, len(t_array)): # Start at i=1 since i=0 already filled\n",
    "\n",
    "        # Quantities from the previous step for calculating next step quantities\n",
    "        t = t_array[i-1], \n",
    "        dt = t_array[i] - t_array[i-1]\n",
    "        x, y = x_array[i-1], y_array[i-1]\n",
    "        vx, vy = vx_array[i-1], vy_array[i-1]\n",
    "        \n",
    "        # Determine net force on the moving charge\n",
    "        fx, fy = 0, 0\n",
    "        for fixed_charge in fixed_charges: # Coulomb's Law forces exerted on the moving charge\n",
    "            x_fixed_charge, y_fixed_charge = fixed_charge[0], fixed_charge[1]\n",
    "            sign_fixed_charge = fixed_charge[2]            \n",
    "            r = np.sqrt((x-x_fixed_charge)**2 + (y-y_fixed_charge)**2)\n",
    "            fx += k * q**2 / r**2 # Fix me! x-component needed\n",
    "            fy += k * q**2 / r**2 # Fix me! y-component needed\n",
    "\n",
    "        ax, ay = fx/m, fy/m\n",
    "\n",
    "        x_array[i], y_array[i] = x + dt * vx, y + dt * vy\n",
    "        vx_array[i], vy_array[i] = vx + dt * ax, vy + dt * ay\n",
    "\n",
    "        if y>=1.: # Fix me\n",
    "            break\n",
    "\n",
    "    return t_array[:i+1], [ x_array[:i+1], y_array[:i+1] ]\n",
    "        \n",
    "'''\n",
    "The main code area\n",
    "'''\n",
    "    \n",
    "# Constants\n",
    "k = 8.9875517923e9 # Coulomb's constant; N*m^2/C^2\n",
    "q = 1e-6 # Base charge is 1 uC\n",
    "m = 1e-3 # Base mass is 1 g\n",
    "\n",
    "goal_dim = [[.98, 1.],[.75, .85]]\n",
    "\n",
    "# Initial state vector and fixed charge parameters\n",
    "state0 = [0.5, 0.01, 0.0, 6.2] # x0, y0, vx0, vy0\n",
    "fixed_charges = [ [.2, .6, 'r'] ] # For each charge: x, y and sign of charge\n",
    "\n",
    "# Times to be simulated\n",
    "t0, tmax, dt = 0, 1, 0.001\n",
    "t = np.arange(t0, tmax+dt, dt) # end is exclusive so we use end = tmax + dt\n",
    "\n",
    "# Solve the system using Euler's method\n",
    "sol_t, sol_results = euler_method(state0, t)\n",
    "sol_x, sol_y = sol_results\n",
    "\n",
    "# Extract the final conditions to check for a goal\n",
    "x_final, y_final, t_final = sol_x[-1], sol_y[-1], sol_t[-1]\n",
    "\n",
    "# Use the extracted final conditions to check for a goal\n",
    "if x_final > 0.99 and goal_dim[1][0] <= y_final <= goal_dim[1][1]:\n",
    "    goal_text = \"Goal!\"\n",
    "else:\n",
    "    goal_text = \"No goal :(\"\n",
    "\n",
    "    \n",
    "'''\n",
    "Plotting\n",
    "'''\n",
    "\n",
    "fig, ax = plt.subplots(figsize=(8, 8))\n",
    "\n",
    "ax.plot(sol_x, sol_y, color='r')\n",
    "\n",
    "ax.plot([goal_dim[0][1], goal_dim[0][1]], [goal_dim[1][0], goal_dim[1][1]])\n",
    "\n",
    "for fixed_charge in fixed_charges:\n",
    "    x_fixed_charge, y_fixed_charge = fixed_charge[0], fixed_charge[1]\n",
    "    sign_fixed_charge = fixed_charge[2]\n",
    "    ax.scatter(x_fixed_charge, y_fixed_charge, color=sign_fixed_charge, s=100)\n",
    "\n",
    "ax.set_xlim([-.01, 1.01])\n",
    "ax.set_ylim([-.01, 1.01])\n",
    "\n",
    "ax.grid(True)\n",
    "plt.show()\n",
    "```"
   ]
  },
  {
   "cell_type": "markdown",
   "metadata": {},
   "source": [
    "## Solutions"
   ]
  },
  {
   "cell_type": "code",
   "execution_count": 7,
   "metadata": {},
   "outputs": [
    {
     "data": {
      "image/png": "[encoded data removed]",
      "text/plain": [
       "<Figure size 576x576 with 1 Axes>"
      ]
     },
     "metadata": {
      "needs_background": "light"
     },
     "output_type": "display_data"
    }
   ],
   "source": [
    "### Solution\n",
    "\n",
    "import numpy as np\n",
    "import matplotlib.pyplot as plt\n",
    "\n",
    "# Euler's method for ODE integration\n",
    "def euler_method(initial_state, t_array):\n",
    "    '''\n",
    "    Variables defined outside of this function:\n",
    "    - The constants k, q and m\n",
    "    - The nested list fixed_charges\n",
    "    '''\n",
    "    \n",
    "    x0, y0, vx0, vy0 = initial_state # Initial state vector for the moving charge\n",
    "\n",
    "    x_array = np.zeros_like(t_array, dtype=float)\n",
    "    y_array = np.zeros_like(t_array, dtype=float)\n",
    "    vx_array = np.zeros_like(t_array, dtype=float)\n",
    "    vy_array = np.zeros_like(t_array, dtype=float)\n",
    "    \n",
    "    # Put initial values at index = 0\n",
    "    x_array[0] = x0\n",
    "    y_array[0] = y0\n",
    "    vx_array[0] = vx0\n",
    "    vy_array[0] = vy0\n",
    "    \n",
    "    for i in range(1, len(t_array)): # Start at i=1 since i=0 already filled\n",
    "\n",
    "        # Quantities from the previous step for calculating next step quantities\n",
    "        t = t_array[i-1]\n",
    "        x = x_array[i-1]\n",
    "        y = y_array[i-1]\n",
    "        vx = vx_array[i-1]\n",
    "        vy = vy_array[i-1]\n",
    "        dt = t_array[i] - t_array[i-1]\n",
    "\n",
    "        # Determine net force on the moving charge\n",
    "        fx = 0\n",
    "        fy = 0\n",
    "        for fixed_charge in fixed_charges: # Coulomb's Law forces exerted on the moving charge\n",
    "            x_fixed_charge = fixed_charge[0]\n",
    "            y_fixed_charge = fixed_charge[1]\n",
    "            sign_fixed_charge = fixed_charge[2]            \n",
    "            r = np.sqrt((x-x_fixed_charge)**2 + (y-y_fixed_charge)**2)\n",
    "            ### Original code\n",
    "            #fx += k * q**2 / r**2 # Fix me! x-component needed\n",
    "            #fy += k * q**2 / r**2 # Fix me! y-component needed\n",
    "            ### Correct solutions\n",
    "            dir = 1. if fixed_charge[2] == 'r' else -1. \n",
    "            fx += dir * k * q**2 / r**3 * (x-x_fixed_charge)\n",
    "            fy += dir * k * q**2 / r**3 * (y-y_fixed_charge)  \n",
    "\n",
    "        ax = fx/m\n",
    "        ay = fy/m\n",
    "\n",
    "        x_next = x + dt * vx\n",
    "        y_next = y + dt * vy\n",
    "        vx_next = vx + dt * ax\n",
    "        vy_next = vy + dt * ay\n",
    "\n",
    "        x_array[i] = x_next\n",
    "        y_array[i] = y_next\n",
    "        vx_array[i] = vx_next\n",
    "        vy_array[i] = vy_next\n",
    "\n",
    "        ### Original code\n",
    "        #if y_next>=1.: # Fix me\n",
    "        #    break\n",
    "        ### Solution\n",
    "        if x_next<=0 or x_next>=1 or y_next<=0 or y_next>=1:\n",
    "            break\n",
    "\n",
    "    return t_array[:i+1], [ x_array[:i+1], y_array[:i+1] ]\n",
    "        \n",
    "'''\n",
    "The main code area\n",
    "'''\n",
    "    \n",
    "# Constants\n",
    "k = 8.9875517923e9 # Coulomb's constant; N*m^2/C^2\n",
    "q = 1e-6 # Base charge is 1 uC\n",
    "m = 1e-3 # Base mass is 1 g\n",
    "\n",
    "goal_dim = [[.98, 1.],[.75, .85]]\n",
    "\n",
    "# Initial state vector and fixed charge parameters\n",
    "state0 = [0.5, 0.01, 0.0, 6.2] # x0, y0, vx0, vy0\n",
    "fixed_charges = [ [.2, .6, 'r'] ] # For each charge: x, y and sign of charge\n",
    "\n",
    "# Times to be simulated\n",
    "t0, tmax, dt = 0, 1, 0.001\n",
    "t = np.arange(t0, tmax+dt, dt) # end is exclusive so we use end = tmax + dt\n",
    "\n",
    "# Solve the system using Euler's method\n",
    "sol_t, sol_results = euler_method(state0, t)\n",
    "sol_x, sol_y = sol_results\n",
    "\n",
    "# Extract the final conditions to check for a goal\n",
    "x_final, y_final, t_final = sol_x[-1], sol_y[-1], sol_t[-1]\n",
    "\n",
    "# Use the extracted final conditions to check for a goal\n",
    "if x_final > 0.99 and goal_dim[1][0] <= y_final <= goal_dim[1][1]:\n",
    "    goal_text = \"Goal!\"\n",
    "else:\n",
    "    goal_text = \"No goal :(\"\n",
    "\n",
    "### Plotting\n",
    "\n",
    "fig, ax = plt.subplots(figsize=(8, 8))\n",
    "ax.plot(sol_x, sol_y, color='r')\n",
    "\n",
    "# Draw sidelines and the goal\n",
    "for x1, y1, x2, y2 in [(1., 0, 1., 1), (0, 0, 0, 1), (0, 0, 1., 0), (0, 1., 1., 1.)]:\n",
    "    ax.plot([x1, x2], [y1, y2], color='k', linestyle='--', linewidth=2)\n",
    "ax.plot([goal_dim[0][1], goal_dim[0][1]], [goal_dim[1][0], goal_dim[1][1]], color = 'k', linewidth = 3)\n",
    "ax.plot([goal_dim[0][0], goal_dim[0][1]], [goal_dim[1][1],goal_dim[1][1]], color = 'k', linewidth = 3)\n",
    "ax.plot([goal_dim[0][0], goal_dim[0][1]], [goal_dim[1][0], goal_dim[1][0]], color = 'k', linewidth = 3)\n",
    "\n",
    "# Plot charges\n",
    "for fixed_charge in fixed_charges:\n",
    "    x_fixed_charge = fixed_charge[0]\n",
    "    y_fixed_charge = fixed_charge[1]\n",
    "    sign_fixed_charge = fixed_charge[2]\n",
    "    ax.scatter(x_fixed_charge, y_fixed_charge, color=sign_fixed_charge, s=100)\n",
    "\n",
    "# Set labels, limits, and show the plot\n",
    "ax.set_xlabel('x (m)')\n",
    "ax.set_ylabel('y (m)')\n",
    "ax.set_xlim([-.01, 1.01])\n",
    "ax.set_ylim([-.01, 1.01])\n",
    "\n",
    "plt.text(.5, .9, goal_text, color='red', ha='center', va='center', fontsize=20,\n",
    "         bbox=dict(facecolor='white', edgecolor='red', boxstyle='round,pad=0.5'))\n",
    "\n",
    "ax.set_title(f'Initial velocity = ({state0[2]}, {state0[3]}) m/s')\n",
    "\n",
    "ax.grid(True)\n",
    "plt.show()"
   ]
  },
  {
   "cell_type": "code",
   "execution_count": null,
   "metadata": {},
   "outputs": [],
   "source": []
  }
 ],
 "metadata": {
  "colab": {
   "provenance": []
  },
  "kernelspec": {
   "display_name": "Python 3",
   "language": "python",
   "name": "python3"
  },
  "language_info": {
   "codemirror_mode": {
    "name": "ipython",
    "version": 3
   },
   "file_extension": ".py",
   "mimetype": "text/x-python",
   "name": "python",
   "nbconvert_exporter": "python",
   "pygments_lexer": "ipython3",
   "version": "3.7.6"
  }
 },
 "nbformat": 4,
 "nbformat_minor": 1
}
