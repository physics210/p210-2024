{
 "cells": [
  {
   "cell_type": "markdown",
   "metadata": {},
   "source": [
    "# Day 11 Group Worksheet - Solutions\n",
    "Oct 16, 2024\n",
    "\n",
    "If you're working on CoCalc, it's good to rename your notebook with a fun group name and to include your names below so that you can easily find it later for reference."
   ]
  },
  {
   "cell_type": "markdown",
   "metadata": {},
   "source": [
    "* Group members:"
   ]
  },
  {
   "cell_type": "markdown",
   "metadata": {},
   "source": [
    "## *Task 1: Fun with arrays*"
   ]
  },
  {
   "cell_type": "markdown",
   "metadata": {},
   "source": [
    "Build a function, `my_sign(a)` that takes a NumPy array as an argument and then returns an array of the same shape with the following elements:\n",
    "* a `1` corresponding to a positive value for that array element in `a`,\n",
    "* a `-1` corresponding to a negative value for that array element in `a`,\n",
    "* a `0` corresponding to a zero for that array element in `a`.\n",
    "\n",
    "Bonus points if the function also works correctly when an individual number is passed in as the argument instead of an array. In this case it should return an individual number following the same rules as above."
   ]
  },
  {
   "cell_type": "code",
   "execution_count": null,
   "metadata": {},
   "outputs": [],
   "source": [
    "# Your code here\n",
    "\n"
   ]
  },
  {
   "cell_type": "markdown",
   "metadata": {},
   "source": [
    "## *Task 2: Calculating grades*"
   ]
  },
  {
   "cell_type": "markdown",
   "metadata": {},
   "source": [
    "You are a teaching assistant in a course where grades are maintained for each student in a python dictionary, with homework and quiz grades being stored as lists within the dictionary. The classlist is a list where each element in the lists holds the data dictionary for one student. For example\n",
    "\n",
    "    s1 = {'name': 'Kamala Khan', 'homework': [93.0,79.0, 67.5],'quizzes':[67, 72, 45]}\n",
    "    students = [s1]\n",
    "\n",
    "Start with these two lines, then add invented data for at least three more students, appending their dictionaries to the list.\n",
    "Then, assuming homework is weighted 30% and quizzes 70%, calculate the quiz average, homework average, and overall average for each student.\n",
    "\n",
    "For each student print out: \n",
    "\n",
    "`[Name] has an average of [X]% on homework, [Y]% on quizzes, and [Z]% overall.`\n",
    "\n",
    "Use your choice of string formatting and limit the averages to one decimal place."
   ]
  },
  {
   "cell_type": "code",
   "execution_count": null,
   "metadata": {},
   "outputs": [],
   "source": [
    "# Your code here\n",
    "\n"
   ]
  },
  {
   "cell_type": "code",
   "execution_count": 4,
   "metadata": {},
   "outputs": [
    {
     "name": "stdout",
     "output_type": "stream",
     "text": [
      "Kamala Khan has an average of 79.8% on homework, 61.3% on quizzes, and 66.9% overall.\n",
      "America Chavez has an average of 86.2% on homework, 88.0% on quizzes, and 87.5% overall.\n",
      "Cassie Lang has an average of 97.5% on homework, 86.0% on quizzes, and 89.4% overall.\n",
      "Kate Bishop has an average of 48.8% on homework, 50.7% on quizzes, and 50.1% overall.\n"
     ]
    }
   ],
   "source": [
    "## Solution\n",
    "\n",
    "import numpy as np\n",
    "s = {'name': 'Kamala Khan', 'homework': [93.0,79.0, 67.5],'quizzes':[67, 72, 45]}\n",
    "students = [s]\n",
    "\n",
    "andromeda = {\n",
    "  \"name\": \"America Chavez\",\n",
    "  \"homework\": [93.0,79.0,78.0,95.0],\n",
    "  \"quizzes\": [85.0,91.0]\n",
    "}\n",
    "students.append(andromeda)\n",
    "\n",
    "orion = {\n",
    "  \"name\": \"Cassie Lang\",\n",
    "  \"homework\": [100.0, 92.0, 98.0, 100.0],\n",
    "  \"quizzes\": [83.0, 82.0, 93.0],\n",
    " }\n",
    "students.append(orion)\n",
    "cassiopeia = {\n",
    "  \"name\": \"Kate Bishop\",\n",
    "  \"homework\": [87.0, 0.0, 77.0, 31.0],\n",
    "  \"quizzes\": [0.0, 65.0, 87.0]\n",
    "    }\n",
    "students.append(cassiopeia)\n",
    "\n",
    "for student in students:\n",
    "    homework = np.average(student['homework'])\n",
    "    quizzes = np.average(student['quizzes'])\n",
    "    average = 0.3 * homework + 0.7 * quizzes\n",
    "    print('{} has an average of {:.1f}% on homework, {:.1f}% on quizzes, and {:.1f}% overall.'\n",
    "          .format(student['name'], homework, quizzes, average))"
   ]
  },
  {
   "cell_type": "markdown",
   "metadata": {},
   "source": [
    "## *Task 3: Hidden treasure.*"
   ]
  },
  {
   "cell_type": "markdown",
   "metadata": {},
   "source": [
    "At a Rivendale reunion, Gandalf becomes concerned for Pippin's increased use of pipeweed, and so hides it all. Knowing that hobbit feet have a limited tolerance for temperatures outside of a certain range, Gandalf casts a heat spell in his bedroom to deter Pippin from trying to search for the confiscated pipeweed. With $x$ and $y$ expressed in meters, that heat at any point(x,y) in the room is given to \n",
    "\n",
    "$$\\text{MH} = ( \\cos(x)+\\sin(y) ) \\text{ Ri},$$\n",
    "\n",
    "where the units of magical heat are Rings (Ri).\n",
    "\n",
    "Due to sensitivity to excessive cold or heat, hobbit feet can only tolerate magical heat in the range $-1.0 \\text{ Ri} < \\text{MH} < 1.0 \\text{ Ri}$. Pippin consults you to help map a safe path through Gandalf's room as he searches for his confiscated pipeweed.\n",
    "\n",
    "**Part a)** First, plot a heat map of the 20-m by 10-m room that shows the distribution of magical heat.\n",
    "\n",
    "**Part b)** Then, use countourf to show the boundaries of the regions that are too hot or too cold for Pippin's furry feet."
   ]
  },
  {
   "cell_type": "code",
   "execution_count": 1,
   "metadata": {},
   "outputs": [
    {
     "data": {
      "image/png": "[encoded data removed]",
      "text/plain": [
       "<Figure size 432x288 with 2 Axes>"
      ]
     },
     "metadata": {
      "needs_background": "light"
     },
     "output_type": "display_data"
    }
   ],
   "source": [
    "# Heat map here\n",
    "\n",
    "## Solution\n",
    "import numpy as np\n",
    "import matplotlib.pyplot as plt\n",
    "\n",
    "x = np.linspace(0, 20, 100) #the x axis of the room\n",
    "y = np.linspace(0, 10, 100) #make meshgrid \n",
    "x2, y2 = np.meshgrid(x,y)\n",
    "# The above could also be implemented as a single line\n",
    "# x2, y2 = np.meshgrid(np.linspace(0, 20, 100),np.linspace(0, 10, 100))\n",
    "z = np.cos(x2) + np.sin(y2)    #heat as a function of position\n",
    "plt.imshow(z,extent=(0,20,0,10),cmap='jet')\n",
    "plt.colorbar()\n",
    "plt.title(\"Safe area for hobbit feet in green\")\n",
    "plt.show()"
   ]
  },
  {
   "cell_type": "code",
   "execution_count": 2,
   "metadata": {
    "scrolled": true
   },
   "outputs": [
    {
     "data": {
      "image/png": "[encoded data removed]",
      "text/plain": [
       "<Figure size 432x288 with 2 Axes>"
      ]
     },
     "metadata": {
      "needs_background": "light"
     },
     "output_type": "display_data"
    }
   ],
   "source": [
    "# Contour plot here\n",
    "\n",
    "## Solution\n",
    "plt.contourf(x,y,z,levels=[-3,-2,-1,1,2,3],cmap='jet')\n",
    "plt.colorbar()\n",
    "plt.title(\"Safe area for hobbit feet in green\")\n",
    "plt.show()"
   ]
  },
  {
   "cell_type": "markdown",
   "metadata": {},
   "source": [
    "All done!"
   ]
  },
  {
   "cell_type": "markdown",
   "metadata": {},
   "source": [
    "# Use the rest of the class period to get started on your homework and/or Project 02"
   ]
  },
  {
   "cell_type": "code",
   "execution_count": null,
   "metadata": {},
   "outputs": [],
   "source": []
  }
 ],
 "metadata": {
  "kernelspec": {
   "display_name": "Python 3",
   "language": "python",
   "name": "python3"
  },
  "language_info": {
   "codemirror_mode": {
    "name": "ipython",
    "version": 3
   },
   "file_extension": ".py",
   "mimetype": "text/x-python",
   "name": "python",
   "nbconvert_exporter": "python",
   "pygments_lexer": "ipython3",
   "version": "3.7.6"
  }
 },
 "nbformat": 4,
 "nbformat_minor": 4
}
