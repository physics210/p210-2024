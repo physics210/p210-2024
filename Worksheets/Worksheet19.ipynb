{
 "cells": [
  {
   "cell_type": "markdown",
   "metadata": {},
   "source": [
    "# Day 19 Group Worksheet\n",
    "Nov 20, 2024\n",
    "\n",
    "If you're working on CoCalc, it's good to rename your notebook with a fun group name and to include your names below so that you can easily find it later for reference."
   ]
  },
  {
   "cell_type": "markdown",
   "metadata": {},
   "source": [
    "* Group members:"
   ]
  },
  {
   "cell_type": "markdown",
   "metadata": {},
   "source": [
    "## Task 1: Parsing mixed data 1"
   ]
  },
  {
   "cell_type": "markdown",
   "metadata": {},
   "source": [
    "The file `Worksheet19-captains.csv` has three columns, the first is the captain's name, the second is their ID number, and the third is the number of years served. Write a function that takes an ID number as input, and reads in the information from `Worksheet19-captains.csv` and then finds the captain with that ID number and prints:\n",
    "\n",
    "Captain X served for Y years, under ID number Z.\n",
    "\n",
    "What happens if the ID number isn't found in the file? You decide."
   ]
  },
  {
   "cell_type": "code",
   "execution_count": 4,
   "metadata": {},
   "outputs": [],
   "source": [
    "# Your code here\n",
    "\n"
   ]
  },
  {
   "cell_type": "markdown",
   "metadata": {},
   "source": [
    "## Task 2: Parsing mixed data 2"
   ]
  },
  {
   "cell_type": "markdown",
   "metadata": {},
   "source": [
    "Reading mixed data can be tricky. One way around this for files like `Worksheet19-captains.csv` is to specify which columns to read in the call to `np.genfromtxt()`. Write a routine to do the same thing as before, but instead of creating a single structured array, use three different instances of `np.genfromtxt()` so that you can load each column directly into its own array (i.e., using `usecols=(0)` and so on)."
   ]
  },
  {
   "cell_type": "code",
   "execution_count": null,
   "metadata": {},
   "outputs": [],
   "source": [
    "# Your code here\n",
    "\n"
   ]
  },
  {
   "cell_type": "markdown",
   "metadata": {},
   "source": [
    "## Task 3: Creating a structured array and writing to a CSV file"
   ]
  },
  {
   "cell_type": "markdown",
   "metadata": {},
   "source": [
    "Copy your Task 2 code below and modify it so that you combine the three individual arrays into a structured array and then write the array to a csv file.\n",
    "\n",
    "There are many methods to create a structured array, but you may wish to search `np.core.records.fromarrays` as a nice compact solution."
   ]
  },
  {
   "cell_type": "code",
   "execution_count": null,
   "metadata": {},
   "outputs": [],
   "source": [
    "# Your code here\n",
    "\n"
   ]
  },
  {
   "cell_type": "markdown",
   "metadata": {},
   "source": [
    "(Optional) Bonus task: Figure out at least one additional method to create the desired structured array"
   ]
  },
  {
   "cell_type": "code",
   "execution_count": null,
   "metadata": {},
   "outputs": [],
   "source": [
    "# Your code here\n",
    "\n"
   ]
  }
 ],
 "metadata": {
  "kernelspec": {
   "display_name": "Python 3",
   "language": "python",
   "name": "python3"
  },
  "language_info": {
   "codemirror_mode": {
    "name": "ipython",
    "version": 3
   },
   "file_extension": ".py",
   "mimetype": "text/x-python",
   "name": "python",
   "nbconvert_exporter": "python",
   "pygments_lexer": "ipython3",
   "version": "3.7.6"
  }
 },
 "nbformat": 4,
 "nbformat_minor": 4
}
