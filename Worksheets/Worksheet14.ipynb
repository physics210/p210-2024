{
 "cells": [
  {
   "cell_type": "markdown",
   "metadata": {},
   "source": [
    "# Day 14 Group Worksheet\n",
    "Oct 28, 2024\n",
    "\n",
    "If you're working on CoCalc, it's good to rename your notebook with a fun group name and to include your names below so that you can easily find it later for reference."
   ]
  },
  {
   "cell_type": "markdown",
   "metadata": {},
   "source": [
    "* Group members:"
   ]
  },
  {
   "cell_type": "markdown",
   "metadata": {},
   "source": [
    "## *Plinko*"
   ]
  },
  {
   "cell_type": "markdown",
   "metadata": {},
   "source": [
    "Pinko is a game from the game show The Price is Right where a puck is placed into the top of a board with pegs in it. As the puck falls down the board, it hits the pegs and moves one place to the right or to the left with equal probability. Traditionally, If the puck hits the edge of the board, a bumper pushes it back to the last spot again. There are buckets at the bottom of the board for the puck to fall into with various prizes. But you can also play Plinko with a triangular board so the puck can never fall out "
   ]
  },
  {
   "cell_type": "markdown",
   "metadata": {},
   "source": [
    "## *Task 1: Triangular Plinko*\n",
    "\n",
    "![Triangular Plinko](https://i.ibb.co/28pGMgb/triangular-plinko.png)\n",
    "\n",
    "Use a Monte-Carlo simulation to simulate what happens on a Triangular Plinko board with 8 buckets, as shown above (image captured from https://phet.colorado.edu/sims/html/plinko-probability/latest/plinko-probability_en.html). \n",
    "* Create a final histogram that shows how many times the puck falls into each bin. \n",
    "* The results should follow a binomial distribution, so compare your results to the expected distribution."
   ]
  },
  {
   "cell_type": "code",
   "execution_count": null,
   "metadata": {},
   "outputs": [],
   "source": []
  },
  {
   "cell_type": "markdown",
   "metadata": {},
   "source": [
    "## *Task 2: Rectangular Plinko, with bumpers*\n",
    "In The Price is Right version of Plinko, the board is rectangular in shape, with 9 possible start positions and 9 buckets. It uses bumpers on the walls so that for certain positions along the wall, the puck only has one choice of path instead of two, as shown below (image captured from https://games.washingtonpost.com/games/price-is-right-plinko)\n",
    "\n",
    "![Plinko](https://i.ibb.co/sqqpg9G/plinko.png)\n",
    "\n",
    "After putting it in one of the 9 starting positions, the puck will encounter 12 rows of pegs.\n",
    "\n",
    "Build your Monte-Carlo simulation so that you can choose any starting position and then run $N$ simulations:\n",
    "\n",
    "* Create a final histogram that shows how many times the puck falls into each bin. Show the results for at least three different starting positions.\n",
    "* Calculate the expectation value (average winnings) for each possible starting position"
   ]
  },
  {
   "cell_type": "code",
   "execution_count": null,
   "metadata": {},
   "outputs": [],
   "source": []
  }
 ],
 "metadata": {
  "kernelspec": {
   "display_name": "Python 3",
   "language": "python",
   "name": "python3"
  },
  "language_info": {
   "codemirror_mode": {
    "name": "ipython",
    "version": 3
   },
   "file_extension": ".py",
   "mimetype": "text/x-python",
   "name": "python",
   "nbconvert_exporter": "python",
   "pygments_lexer": "ipython3",
   "version": "3.7.6"
  }
 },
 "nbformat": 4,
 "nbformat_minor": 4
}
