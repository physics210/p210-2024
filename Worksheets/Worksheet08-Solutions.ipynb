{
 "cells": [
  {
   "cell_type": "markdown",
   "metadata": {
    "id": "68gKoP9jF9lU"
   },
   "source": [
    "# Day 08 Group Worksheet - Solutions\n",
    "Oct 02, 2024\n",
    "\n",
    "If you're working on CoCalc, it's good to rename your notebook with a fun group name and to include your names below so that you can easily find it later for reference."
   ]
  },
  {
   "cell_type": "markdown",
   "metadata": {
    "id": "B8UKtrg1F9lm"
   },
   "source": [
    "* Group members: "
   ]
  },
  {
   "cell_type": "markdown",
   "metadata": {},
   "source": [
    "## Task 01: Array warm-ups"
   ]
  },
  {
   "cell_type": "markdown",
   "metadata": {},
   "source": [
    "**A.** Create the following 5x5 matrix where the border is filled with 1s and the inside is filled with 0s. \n",
    "\n",
    "I.e.,\n",
    "```python\n",
    "[[1. 1. 1. 1. 1.]\n",
    " [1. 0. 0. 0. 1.]\n",
    " [1. 0. 0. 0. 1.]\n",
    " [1. 0. 0. 0. 1.]\n",
    " [1. 1. 1. 1. 1.]]\n",
    "```"
   ]
  },
  {
   "cell_type": "code",
   "execution_count": 11,
   "metadata": {},
   "outputs": [],
   "source": [
    "# Your code here\n"
   ]
  },
  {
   "cell_type": "code",
   "execution_count": 18,
   "metadata": {},
   "outputs": [
    {
     "name": "stdout",
     "output_type": "stream",
     "text": [
      "[[1. 1. 1. 1. 1.]\n",
      " [1. 0. 0. 0. 1.]\n",
      " [1. 0. 0. 0. 1.]\n",
      " [1. 0. 0. 0. 1.]\n",
      " [1. 1. 1. 1. 1.]]\n"
     ]
    }
   ],
   "source": [
    "### Solution\n",
    "import numpy as np\n",
    "\n",
    "arr = np.ones((5, 5))\n",
    "arr[1:-1, 1:-1] = 0\n",
    "print(arr)"
   ]
  },
  {
   "cell_type": "markdown",
   "metadata": {},
   "source": [
    "**B.** Create the following 8x8 checkerboard pattern matrix with alternating 0s and 1s.\n",
    "```python\n",
    "[[0 1 0 1 0 1 0 1]\n",
    " [1 0 1 0 1 0 1 0]\n",
    " [0 1 0 1 0 1 0 1]\n",
    " [1 0 1 0 1 0 1 0]\n",
    " [0 1 0 1 0 1 0 1]\n",
    " [1 0 1 0 1 0 1 0]\n",
    " [0 1 0 1 0 1 0 1]\n",
    " [1 0 1 0 1 0 1 0]]\n",
    "```"
   ]
  },
  {
   "cell_type": "code",
   "execution_count": 16,
   "metadata": {},
   "outputs": [],
   "source": [
    "# Your code here\n"
   ]
  },
  {
   "cell_type": "code",
   "execution_count": 15,
   "metadata": {},
   "outputs": [
    {
     "name": "stdout",
     "output_type": "stream",
     "text": [
      "[[0 1 0 1 0 1 0 1]\n",
      " [1 0 1 0 1 0 1 0]\n",
      " [0 1 0 1 0 1 0 1]\n",
      " [1 0 1 0 1 0 1 0]\n",
      " [0 1 0 1 0 1 0 1]\n",
      " [1 0 1 0 1 0 1 0]\n",
      " [0 1 0 1 0 1 0 1]\n",
      " [1 0 1 0 1 0 1 0]]\n"
     ]
    }
   ],
   "source": [
    "### Solution\n",
    "import numpy as np\n",
    "arr = np.zeros((8, 8), dtype=int)\n",
    "arr[1::2, ::2] = 1\n",
    "arr[::2, 1::2] = 1\n",
    "print(arr)"
   ]
  },
  {
   "cell_type": "markdown",
   "metadata": {},
   "source": [
    "**C.** Normalize the following array (make the values sum to 1)"
   ]
  },
  {
   "cell_type": "code",
   "execution_count": 13,
   "metadata": {},
   "outputs": [],
   "source": [
    "# Your code here\n",
    "\n",
    "import numpy as np\n",
    "arr = np.array([1, 2, 3, 4]) \n",
    "\n"
   ]
  },
  {
   "cell_type": "code",
   "execution_count": 17,
   "metadata": {},
   "outputs": [
    {
     "name": "stdout",
     "output_type": "stream",
     "text": [
      "[0.1 0.2 0.3 0.4]\n"
     ]
    }
   ],
   "source": [
    "### Solution\n",
    "arr = np.array([1, 2, 3, 4])\n",
    "normalized_arr = arr / arr.sum()\n",
    "print(normalized_arr)"
   ]
  },
  {
   "cell_type": "markdown",
   "metadata": {},
   "source": [
    "**D.** For the array `arr` below, find the mean of each row and each column. Your answers should be:\n",
    "```python\n",
    "Row means: [2. 5. 8.]\n",
    "Column means: [4. 5. 6.]\n",
    "```"
   ]
  },
  {
   "cell_type": "code",
   "execution_count": 20,
   "metadata": {},
   "outputs": [],
   "source": [
    "# Your code here\n",
    "\n",
    "arr = np.array([[1, 2, 3], [4, 5, 6], [7, 8, 9]])\n"
   ]
  },
  {
   "cell_type": "code",
   "execution_count": 21,
   "metadata": {},
   "outputs": [
    {
     "name": "stdout",
     "output_type": "stream",
     "text": [
      "Row means: [2. 5. 8.]\n",
      "Column means: [4. 5. 6.]\n"
     ]
    }
   ],
   "source": [
    "### Solution\n",
    "\n",
    "import numpy as np\n",
    "\n",
    "arr = np.array([[1, 2, 3], [4, 5, 6], [7, 8, 9]])\n",
    "\n",
    "row_means = np.mean(arr, axis=1)\n",
    "col_means = np.mean(arr, axis=0)\n",
    "\n",
    "print(\"Row means:\", row_means)\n",
    "print(\"Column means:\", col_means)"
   ]
  },
  {
   "cell_type": "markdown",
   "metadata": {
    "id": "9VNeBSgsbHWN"
   },
   "source": [
    "## Task 02: Broken phasor?\n",
    "\n",
    "One of the security officers has dropped her phasor and wants to know if it is still functioning correctly. Knowing that the relationship between input voltage (x) and output energy (y) should follow $y = sin(e^{x^2})$, you collect the data shown below. Write some code that will find and then print the size of the largest residual (measured-y minus expected-y) so that you can consult the user manual to determine if the phasor is functioning correctly."
   ]
  },
  {
   "cell_type": "code",
   "execution_count": null,
   "metadata": {
    "id": "SHNY8F_hbHWO",
    "outputId": "7265f1db-0515-442c-a794-661c2b6c1611"
   },
   "outputs": [],
   "source": [
    "x = np.array([1,2,3,4,5,6,7,8,9,10,11,12,13,14,15])\n",
    "y = np.array([1.376, 1.941,2.062,-0.207,0.193, -0.936,-0.3810,2.691,2.266,1.113,1.534,0.594,1.391,2.415,0.522])\n",
    "\n",
    "# Your code here\n",
    "\n"
   ]
  },
  {
   "cell_type": "code",
   "execution_count": 3,
   "metadata": {},
   "outputs": [
    {
     "name": "stdout",
     "output_type": "stream",
     "text": [
      "3.3881556463191433\n"
     ]
    }
   ],
   "source": [
    "### Solution\n",
    "import numpy as np\n",
    "x = np.array([1,2,3,4,5,6,7,8,9,10,11,12,13,14,15])\n",
    "y = np.array([1.376, 1.941,2.062,-0.207,0.193, -0.936,-0.3810,2.691,2.266,1.113,1.534,0.594,1.391,2.415,0.522])\n",
    "\n",
    "\n",
    "expected = np.sin(np.exp(x**2))\n",
    "residual = np.abs(y-expected)\n",
    "max_residual = residual.max()\n",
    "print(max_residual)"
   ]
  },
  {
   "cell_type": "markdown",
   "metadata": {
    "id": "hRLHAnqJbHWV"
   },
   "source": [
    "## Task 03\n",
    "\n",
    "You are a crew member of the Starship Enterprise. Recently, the Borg (an enemy alien race) have destroyed part of the ship’s computers, so that they only accept code in \"Python\". Luckily, you are the ship expert on the ancient language of \"Python\". The captain wants to see what you can do, and asks you to write code which takes a 9-element array of numbers, such as `a = [1, 2, 3, 4, 5, 6, 7, 8, 9]`, and splits it into three arrays of length three, then stacks the three arrays to make a matrix of 3 rows.\n",
    "\n",
    "The resulting array should look like\n",
    "```\n",
    "[[1 2 3]\n",
    " [4 5 6]\n",
    " [7 8 9]]\n",
    "```\n",
    "Do this using at least TWO different methods. You may find the exhaustive list of array methods to be helpful: https://numpy.org/doc/stable/reference/routines.html"
   ]
  },
  {
   "cell_type": "code",
   "execution_count": null,
   "metadata": {
    "id": "RjjkZYf9bHWY",
    "outputId": "251ce95c-7da4-4f0a-9d3b-e7e6610bc7a5"
   },
   "outputs": [],
   "source": [
    "# First method here\n",
    "import numpy as np\n",
    "a = np.array([1, 2, 3, 4, 5, 6, 7, 8, 9])\n",
    "\n"
   ]
  },
  {
   "cell_type": "code",
   "execution_count": null,
   "metadata": {
    "id": "ESPaPeQ1bHWZ",
    "outputId": "12269e9b-0c74-4d0e-f0c9-b830879683d7"
   },
   "outputs": [],
   "source": [
    "# Second method here\n",
    "import numpy as np\n",
    "a = np.array([1, 2, 3, 4, 5, 6, 7, 8, 9])\n",
    "\n"
   ]
  },
  {
   "cell_type": "code",
   "execution_count": null,
   "metadata": {
    "id": "99nios3RbHWb"
   },
   "outputs": [],
   "source": [
    "# A third method if you dare (optional)\n",
    "import numpy as np\n",
    "a = np.array([1, 2, 3, 4, 5, 6, 7, 8, 9])\n",
    "\n"
   ]
  },
  {
   "cell_type": "code",
   "execution_count": 4,
   "metadata": {},
   "outputs": [
    {
     "data": {
      "text/plain": [
       "array([[1, 2, 3],\n",
       "       [4, 5, 6],\n",
       "       [7, 8, 9]])"
      ]
     },
     "execution_count": 4,
     "metadata": {},
     "output_type": "execute_result"
    }
   ],
   "source": [
    "### Solution\n",
    "a = np.array([1, 2, 3, 4, 5, 6, 7, 8, 9])\n",
    "c, d, e = np.split(a,3)\n",
    "a1 = np.vstack((c,d,e))\n",
    "a1"
   ]
  },
  {
   "cell_type": "code",
   "execution_count": 5,
   "metadata": {},
   "outputs": [
    {
     "data": {
      "text/plain": [
       "array([[1, 2, 3],\n",
       "       [4, 5, 6],\n",
       "       [7, 8, 9]])"
      ]
     },
     "execution_count": 5,
     "metadata": {},
     "output_type": "execute_result"
    }
   ],
   "source": [
    "### Solution\n",
    "cols = len(a)/3\n",
    "a2 = np.reshape(a, (3, int(cols)))\n",
    "a2"
   ]
  },
  {
   "cell_type": "markdown",
   "metadata": {
    "id": "kNK_9KtWbHWd"
   },
   "source": [
    "## Task 04: Impress the Captain!\n",
    "\n",
    "Rewrite your code from Task 02 to allow it to work for any size starting array. If the starting array cannot be split into three equal parts, add `0`s to the end until it has enough elements so that it is a multiple of three.\n",
    "\n",
    "Hints: `np.append` the \"%\" (moduluo) operator and/or `np.zeros` may be of use here."
   ]
  },
  {
   "cell_type": "code",
   "execution_count": null,
   "metadata": {
    "id": "Q9PT34pybHWe"
   },
   "outputs": [],
   "source": [
    "# Your code here\n",
    "\n",
    "\n"
   ]
  },
  {
   "cell_type": "code",
   "execution_count": 8,
   "metadata": {},
   "outputs": [
    {
     "name": "stdout",
     "output_type": "stream",
     "text": [
      "[[ 1.  2.  3.  4.]\n",
      " [ 5.  6.  7.  8.]\n",
      " [ 9. 10.  0.  0.]]\n"
     ]
    }
   ],
   "source": [
    "### Solution\n",
    "\n",
    "a = np.array([1,2,3,4,5,6,7,8,9,10])\n",
    "toadd = 3-len(a)%3\n",
    "add = np.zeros(toadd)\n",
    "a = np.append(a,add) # add extras\n",
    "cols = len(a)/3\n",
    "new = np.reshape(a, (3, int(cols)))\n",
    "print(new)"
   ]
  },
  {
   "cell_type": "markdown",
   "metadata": {
    "id": "2owce4e-bHWe"
   },
   "source": [
    "## Task 05: The Sphinx's riddle\n",
    "\n",
    "You've come to an impasse in the road. A sphinx is sitting in the middle of the road and it won't let you pass until you answer a riddle. Unfortunately, it is asking you a new riddle and you don't already know the answer. Fortunately, you have your laptop with you, so you can quickly program the question in python to get the answer. The riddle is: there are 100 doors, and they are all closed. You visit each door (in order) 100 times:\n",
    "\n",
    "1. On your first pass, you toggle (change the position from open ot closed or vice versa) every door.\n",
    "1. On the second pass, you toggle every 2nd door (leave the first alone, toggle the second, leave the third alone, toggle the fourth).\n",
    "1. On the third pass, you toggle every 3rd door (leave the first 2 alone, toggle the third etc).\n",
    "1. On the fourth pass, you toggle every 4th door, etc, until on the 100th pass you toggle only the 100th door.\n",
    "\n",
    "At the end of all this, which doors are open? Do you recognize any pattern in the doors that are left open?"
   ]
  },
  {
   "cell_type": "code",
   "execution_count": null,
   "metadata": {
    "id": "uC7rMjVzbHWf",
    "outputId": "19d02040-b34c-4fba-ad0d-90a1306a9c69"
   },
   "outputs": [],
   "source": [
    "# Your door riddle code here\n",
    "\n",
    "\n"
   ]
  },
  {
   "cell_type": "code",
   "execution_count": 9,
   "metadata": {},
   "outputs": [
    {
     "name": "stdout",
     "output_type": "stream",
     "text": [
      "open doors are:\n",
      "1\n",
      "4\n",
      "9\n",
      "16\n",
      "25\n",
      "36\n",
      "49\n",
      "64\n",
      "81\n",
      "100\n",
      "[  1   4   9  16  25  36  49  64  81 100]\n"
     ]
    }
   ],
   "source": [
    "### Solution\n",
    "\n",
    "# door riddle code here.\n",
    "import numpy as np\n",
    "\n",
    "#  let -1 = Closed, 1 = Open\n",
    "\n",
    "doors = np.ones(100) * (-1) # create an array of 100 closed doors\n",
    "i=1\n",
    "while (i<101):               # to do the 100 passes by the doors\n",
    "    doors[i-1::i] *= -1 # toggles every i'th door, starting at the i'th door.\n",
    "    i += 1\n",
    "\n",
    "i = 0\n",
    "print(\"open doors are:\")\n",
    "while(i < 100):\n",
    "    if doors[i] == 1:\n",
    "        print(i+1)\n",
    "    i += 1\n",
    "# alternatively, find the open doors with:\n",
    "print(np.where(doors == 1)[0] +1)\n",
    "# np.where is a conditional function that behaves somewhat like if..then\n",
    "# However, the return value contains more information than just the desired array. \n",
    "# Thus \"[0]\" # is used to grab the 0th element (the array of values) and then \n",
    "# we add one to get the door position (which starts at 1 rather than 0)"
   ]
  },
  {
   "cell_type": "code",
   "execution_count": null,
   "metadata": {},
   "outputs": [],
   "source": []
  }
 ],
 "metadata": {
  "colab": {
   "provenance": []
  },
  "kernelspec": {
   "display_name": "Python 3",
   "language": "python",
   "name": "python3"
  },
  "language_info": {
   "codemirror_mode": {
    "name": "ipython",
    "version": 3
   },
   "file_extension": ".py",
   "mimetype": "text/x-python",
   "name": "python",
   "nbconvert_exporter": "python",
   "pygments_lexer": "ipython3",
   "version": "3.7.6"
  }
 },
 "nbformat": 4,
 "nbformat_minor": 1
}
