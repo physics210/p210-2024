{
 "cells": [
  {
   "cell_type": "markdown",
   "metadata": {},
   "source": [
    "# Day 11 Group Worksheet\n",
    "Oct 16, 2024\n",
    "\n",
    "If you're working on CoCalc, it's good to rename your notebook with a fun group name and to include your names below so that you can easily find it later for reference."
   ]
  },
  {
   "cell_type": "markdown",
   "metadata": {},
   "source": [
    "* Group members:"
   ]
  },
  {
   "cell_type": "markdown",
   "metadata": {},
   "source": [
    "## *Task 1: Fun with arrays*"
   ]
  },
  {
   "cell_type": "markdown",
   "metadata": {},
   "source": [
    "Build a function, `my_sign(a)` that takes a NumPy array as an argument and then returns an array of the same shape with the following elements:\n",
    "* a `1` corresponding to a positive value for that array element in `a`,\n",
    "* a `-1` corresponding to a negative value for that array element in `a`,\n",
    "* a `0` corresponding to a zero for that array element in `a`.\n",
    "\n",
    "Bonus points if the function also works correctly when an individual number is passed in as the argument instead of an array. In this case it should return an individual number following the same rules as above."
   ]
  },
  {
   "cell_type": "code",
   "execution_count": null,
   "metadata": {},
   "outputs": [],
   "source": [
    "# Your code here\n",
    "\n"
   ]
  },
  {
   "cell_type": "markdown",
   "metadata": {},
   "source": [
    "## *Task 2: Calculating grades*"
   ]
  },
  {
   "cell_type": "markdown",
   "metadata": {},
   "source": [
    "You are a teaching assistant in a course where grades are maintained for each student in a python dictionary, with homework and quiz grades being stored as lists within the dictionary. The classlist is a list where each element in the lists holds the data dictionary for one student. For example\n",
    "\n",
    "    s1 = {'name': 'Kamala Khan', 'homework': [93.0,79.0, 67.5],'quizzes':[67, 72, 45]}\n",
    "    students = [s1]\n",
    "\n",
    "Start with these two lines, then add invented data for at least three more students, appending their dictionaries to the list.\n",
    "Then, assuming homework is weighted 30% and quizzes 70%, calculate the quiz average, homework average, and overall average for each student.\n",
    "\n",
    "For each student print out: \n",
    "\n",
    "`[Name] has an average of [X]% on homework, [Y]% on quizzes, and [Z]% overall.`\n",
    "\n",
    "Use your choice of string formatting and limit the averages to one decimal place."
   ]
  },
  {
   "cell_type": "code",
   "execution_count": null,
   "metadata": {},
   "outputs": [],
   "source": [
    "# Your code here\n",
    "\n"
   ]
  },
  {
   "cell_type": "markdown",
   "metadata": {},
   "source": [
    "## *Task 3: Hidden treasure.*"
   ]
  },
  {
   "cell_type": "markdown",
   "metadata": {},
   "source": [
    "At a Rivendale reunion, Gandalf becomes concerned for Pippin's increased use of pipeweed, and so hides it all. Knowing that hobbit feet have a limited tolerance for temperatures outside of a certain range, Gandalf casts a heat spell in his bedroom to deter Pippin from trying to search for the confiscated pipeweed. With $x$ and $y$ expressed in meters, that heat at any point(x,y) in the room is given to \n",
    "\n",
    "$$\\text{MH} = ( \\cos(x)+\\sin(y) ) \\text{ Ri},$$\n",
    "\n",
    "where the units of magical heat are Rings (Ri).\n",
    "\n",
    "Due to sensitivity to excessive cold or heat, hobbit feet can only tolerate magical heat in the range $-1.0 \\text{ Ri} < \\text{MH} < 1.0 \\text{ Ri}$. Pippin consults you to help map a safe path through Gandalf's room as he searches for his confiscated pipeweed.\n",
    "\n",
    "**Part a)** First, plot a heat map of the 20-m by 10-m room that shows the distribution of magical heat.\n",
    "\n",
    "**Part b)** Then, use countourf to show the boundaries of the regions that are too hot or too cold for Pippin's furry feet."
   ]
  },
  {
   "cell_type": "code",
   "execution_count": null,
   "metadata": {},
   "outputs": [],
   "source": [
    "# Heat map here\n",
    "\n"
   ]
  },
  {
   "cell_type": "code",
   "execution_count": null,
   "metadata": {
    "scrolled": true
   },
   "outputs": [],
   "source": [
    "# Contour plot here\n",
    "\n",
    "\n"
   ]
  },
  {
   "cell_type": "markdown",
   "metadata": {},
   "source": [
    "All done!"
   ]
  },
  {
   "cell_type": "markdown",
   "metadata": {},
   "source": [
    "# Use the rest of the class period to get started on your homework and/or Project 02"
   ]
  }
 ],
 "metadata": {
  "kernelspec": {
   "display_name": "Python 3",
   "language": "python",
   "name": "python3"
  },
  "language_info": {
   "codemirror_mode": {
    "name": "ipython",
    "version": 3
   },
   "file_extension": ".py",
   "mimetype": "text/x-python",
   "name": "python",
   "nbconvert_exporter": "python",
   "pygments_lexer": "ipython3",
   "version": "3.7.6"
  }
 },
 "nbformat": 4,
 "nbformat_minor": 4
}
