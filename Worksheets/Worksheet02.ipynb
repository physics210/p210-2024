{
 "cells": [
  {
   "cell_type": "markdown",
   "metadata": {},
   "source": [
    "# Day 02 Group Worksheet\n",
    "Sept 09, 2024"
   ]
  },
  {
   "cell_type": "markdown",
   "metadata": {},
   "source": [
    "If you're working on CoCalc, it's good to rename your notebook with a fun group name and to include all group member names below so that you can easily find it later for reference."
   ]
  },
  {
   "cell_type": "markdown",
   "metadata": {},
   "source": [
    "* Group members:   "
   ]
  },
  {
   "cell_type": "markdown",
   "metadata": {},
   "source": [
    "## 2.1 Playing with syntax\n",
    "In the cell below, try out each of the following. In a few words, explain the results in the cell below that\n",
    "1. In printed math notation, you can multiply x and y like this: $xy$.  What happens if you try that in python?\n",
    "1. What if you import numpy as np, but call numpy.sin(2)?\n",
    "1. What is the difference between using `+` and `*` for strings and numbers?\n",
    "1. Can you use `-` or `/` on strings?\n",
    "1. Is there a difference between defining a string as `string1 = 'all the words'` vs `string2 = \"all the words\"`? Can you define one by mixing the two, `string3 = 'all the words\"`?\n",
    "1. You can use a minus sign to make a negative number like -2. What happens if you put a plus sign before a number? What about `2++2` or `2 ++ +2`?\n",
    "1. In math notation, leading zeros are ok, as in 09. What happens if you try this in Python?"
   ]
  },
  {
   "cell_type": "code",
   "execution_count": null,
   "metadata": {},
   "outputs": [],
   "source": [
    "# Do your testing here\n",
    "\n"
   ]
  },
  {
   "cell_type": "markdown",
   "metadata": {},
   "source": [
    "Put your responses to \"Playing with syntax\" in this cell:\n",
    "\n",
    "1. ...\n",
    "1. ...\n",
    "1. ...\n",
    "1. ...\n",
    "1. ...\n",
    "1. ...\n",
    "1. ..."
   ]
  },
  {
   "cell_type": "markdown",
   "metadata": {},
   "source": [
    "## 2.2 Debugging\n",
    "The code in the following cell should print: \n",
    "```\n",
    "sin(1.987) =  \n",
    "x.xxxxx\n",
    "is less than 8 is True\n",
    "```\n",
    "Find and correct the mistakes (there are a few). `x.xxxxx` represents that actual numerical value of sin for that value to the number of decimal places specified."
   ]
  },
  {
   "cell_type": "code",
   "execution_count": null,
   "metadata": {},
   "outputs": [],
   "source": [
    "print(sin(1.987) = )\n",
    "print(np.sin(1.987))\n",
    "\n",
    "sometext = 'ibidbu is less than dodi'\n",
    "subtext = sometext[6:17]\n",
    "A = 16/2\n",
    "print(subtext , A, \"is\", (A > np.sin(1.987)))"
   ]
  },
  {
   "cell_type": "markdown",
   "metadata": {},
   "source": [
    "## 2.3 Math practice\n",
    "\n",
    "Zerubbabel says they are 430520 hours old. Use python to print their age in years, days and hours. Your program should print a line that looks like: \n",
    "```\n",
    "Zerubbabel is y years, d days and h hours old\n",
    "```\n",
    "where `y`, `d` and `h` are replaced with the appropriate numbers. Let's not discuss the fact that by the time you figure out their age, they will already be older.\n",
    "\n",
    "Ignore leap years (assume every year has 365 days).\n",
    "\n",
    "Use string concatenation or string formatting to print it all in one statement. Hint: if you use string concatenation, you can convert from one variable type to another using `str()` or `int()`."
   ]
  },
  {
   "cell_type": "code",
   "execution_count": null,
   "metadata": {},
   "outputs": [],
   "source": [
    "# Code for Zerubbabel's age here.\n",
    "\n"
   ]
  },
  {
   "cell_type": "markdown",
   "metadata": {},
   "source": [
    "## 2.4 Practice with indexing strings among us\n",
    "Someone in this class is an imposter and sent out a secret message to reveal their identity to the other imposters in class. Write code in python to complete the steps below to find out who it is!\n",
    "```\n",
    "A = 'dsjsoofdjsnwraebseiyiuhjijenrheegrbeqiloieskjbdkb'\n",
    "```\n",
    "**Hints:**\n",
    "1. Remember the difference between element number (how most of us are used to counting) and index, which starts at 0 for the left-most element.\n",
    "1. Also remember that negative indices start at the right-most element, with an index of -1\n",
    "\n",
    "**Steps: (use python code to do all of the steps)**\n",
    "\n",
    "* The first letter:\n",
    "    1. Get the number of times ‘o’ appears in _elements_ 2 to 8 (inclusive) in the string\n",
    "    2. This is the _index_ of string A which is the first letter\n",
    "    3. Capitalize it\n",
    "\n",
    "\n",
    "* The second letter:\n",
    "    1. Take the length of the string A, divide it by 7 and add 3   \n",
    "    2. The answer from 1 is the _negative index_ of the second letter. This means that if you calculated `5` in step 1, you are looking for the letter found at `A[-5]`. Don't forget that an index must be an integer.\n",
    "\n",
    "\n",
    "* The third letter:\n",
    "    1. Create a string that is made up of _every second letter_ from index 14 to index 34 (inclusive). You may wish to use an internet search or Generative AI (see next question) to figure out how to choose every second letter when slicing. We will learn more about this on day 3 when we are learning about lists.\n",
    "    2. Find the number of times the letter ‘i’ is in this substring and raise this number to the power of 2. This is the _index_ of the third letter\n",
    "\n",
    "\n",
    "* Fourth Letter:\n",
    "    1. Add the number of times the letter ‘e’ appears to the number of times the letter ‘c’ appears (in the whole string). Use this as a negative index to determine the fourth letter."
   ]
  },
  {
   "cell_type": "code",
   "execution_count": null,
   "metadata": {},
   "outputs": [],
   "source": [
    "# Code for your answer here\n",
    "\n"
   ]
  },
  {
   "cell_type": "markdown",
   "metadata": {},
   "source": [
    "## 2.5 Group check-out for engagement points\n",
    "Only Questions 2.1 to 2.4 are required today for engagement points. Once you reach this point call one of the members of the teaching team over to ask you each a check-out question. \n",
    "\n",
    "Afterward (or while you are waiting), we encourage you to get started on Question 2.6"
   ]
  },
  {
   "cell_type": "markdown",
   "metadata": {},
   "source": [
    "## (Optional) 2.6 Getting started with Generative AI\n",
    "\n",
    "_**You are not required to use Generative AI in this course so please determine your own level of comfort in terms of how much you wish to engage with these tasks.**_\n",
    "\n",
    "Please be aware that if you create accounts for any of these services, any personal information used to create this account will be available to this service. As an additional precaution, you may wish to use a pseudonym and/or temporary email address for account creation. Additionally, information entered into the toola may be shared outside of Canada.\n",
    "\n",
    "**GenAI services which do not require an account**\n",
    "\n",
    "Each of these services can be interacted with in a limited fashion from an incognito browser in a way that does not require a login. \n",
    "\n",
    "* https://copilot.microsoft.com/ - Like with all of the online Microsoft products, you can login to this using your  @student.ubc.ca email address and your CWL password. Copilot is built on GPT-4 (same large language model as ChatGPT) and uses servers in Canada. See also \n",
    "[UBC guidance for use](https://ai.ctlt.ubc.ca/microsoft-copilot-for-organizations/).\n",
    "\n",
    "* https://chatgpt.com/ - The free, no login version is ChatGPT 4o mini. This is the new equivalent to ChatGPT-3.5 (see [UBC guidance for use](https://ai.ctlt.ubc.ca/chatgpt-3-5/)). You can also create a free account for additional functionality and access to a powerful version.\n",
    "\n",
    "* https://www.meta.ai/ - This requires an age verification prompt if using without logging in. \n",
    "\n",
    "**GenAI services which require a free account**\n",
    "\n",
    "* https://gemini.google.com/ - Google's GenAI\n",
    "* https://claude.ai/ - Anthropic's GenAI\n",
    "* https://chat.mistral.ai/ - Mistral's GenAI\n",
    "\n",
    "**GenAI services available from within CoCalc**\n",
    "\n",
    "* With your free CoCalc account you will find a \"generate with AI\" link inside the Jupyter cells. After you enter your prompt, you can choose which GenAI to use beside the \"Generate with...\" button. This gives you access to compact versions of ChatGPT, Gemini, Claude and Mistral."
   ]
  },
  {
   "cell_type": "markdown",
   "metadata": {},
   "source": [
    "### Task 2.6.1\n",
    "To the degree that you are comfortable doing so, each person in your group should choose a different one of the services above for this and the subsequent questions.\n",
    "\n",
    "\n",
    "* Use your chosen service to learn how to get a value for 1/e in python. An example prompt you could use is \"How do I calculate 1/e in python?\", but you should experiment to learn different ways to write a prompt. Ask it how to get values for pi, tau and other mathematical constants using different styles of prompts. What happens if you ask it to specifically use the math or numpy libraries? What happens if you ask it for a function as opposed to a constant?\n",
    "* Compare with the other people in your group and record a few notes on what you learned about the different services or different ways of creating generative AI prompts\n"
   ]
  },
  {
   "cell_type": "markdown",
   "metadata": {},
   "source": [
    "**Notes on 2.6.1 for group member #1**\n",
    "* ...\n",
    "* ...\n",
    "* ..."
   ]
  },
  {
   "cell_type": "markdown",
   "metadata": {},
   "source": [
    "**Notes on 2.6.1 for group member #2**\n",
    "* ...\n",
    "* ...\n",
    "* ..."
   ]
  },
  {
   "cell_type": "markdown",
   "metadata": {},
   "source": [
    "**Notes on 2.6.1 for group member #3**\n",
    "* ...\n",
    "* ...\n",
    "* ..."
   ]
  },
  {
   "cell_type": "markdown",
   "metadata": {},
   "source": [
    "**Notes on 2.6.1 for group member #4**\n",
    "* ...\n",
    "* ...\n",
    "* ..."
   ]
  },
  {
   "cell_type": "markdown",
   "metadata": {},
   "source": [
    "### Task 2.6.2\n",
    "* Use your preferred string formatting method to create a string \"After one time constant a value decays to (something) or (something else) of its original value\" using a string variable `oneovere = \"1/e\"` and your preferred method of determining a `value` for 1/e from task 1. Recall that the string formatting methods are percent-style string formatting (old style), str.format() (new style) and f-strings.\n",
    "* Apply your string formatting method to `my_string` to incorporate `oneovere` and `value` in a way that will give the desired output to pass the assert statement\n",
    "* Your group can choose to all work on your individual preferred methods, team-up to work on one method, or divide up the different string formatting approaches between group members"
   ]
  },
  {
   "cell_type": "markdown",
   "metadata": {},
   "source": [
    "**Code for group member or method #1**"
   ]
  },
  {
   "cell_type": "code",
   "execution_count": null,
   "metadata": {},
   "outputs": [],
   "source": [
    "# Update the code to pass the assert statement\n",
    "\n",
    "oneovere1 = \"1/e\"\n",
    "value1 =  # Use a math or numpy constant or function\n",
    "my_string1 = \"After one time constant a value decays to (something) or (something else) of its original value\""
   ]
  },
  {
   "cell_type": "code",
   "execution_count": null,
   "metadata": {},
   "outputs": [],
   "source": [
    "assert my_string1 == \"After one time constant a value decays to 1/e or 36.8% of its original value\""
   ]
  },
  {
   "cell_type": "markdown",
   "metadata": {},
   "source": [
    "**Code for group member or method #2**"
   ]
  },
  {
   "cell_type": "code",
   "execution_count": null,
   "metadata": {},
   "outputs": [],
   "source": [
    "# Update the code to pass the assert statement\n",
    "\n",
    "oneovere2 = \"1/e\"\n",
    "value2 =  # Use a math or numpy constant or function\n",
    "my_string2 = \"After one time constant a value decays to (something) or (something else) of its original value\""
   ]
  },
  {
   "cell_type": "code",
   "execution_count": null,
   "metadata": {},
   "outputs": [],
   "source": [
    "assert my_string2 == \"After one time constant a value decays to 1/e or 36.8% of its original value\""
   ]
  },
  {
   "cell_type": "markdown",
   "metadata": {},
   "source": [
    "**Code for group member or method #3**"
   ]
  },
  {
   "cell_type": "code",
   "execution_count": null,
   "metadata": {},
   "outputs": [],
   "source": [
    "# Update the code to pass the assert statement\n",
    "\n",
    "oneovere3 = \"1/e\"\n",
    "value3 =  # Use a math or numpy constant or function\n",
    "my_string3 = \"After one time constant a value decays to (something) or (something else) of its original value\""
   ]
  },
  {
   "cell_type": "code",
   "execution_count": null,
   "metadata": {},
   "outputs": [],
   "source": [
    "assert my_string3 == \"After one time constant a value decays to 1/e or 36.8% of its original value\""
   ]
  },
  {
   "cell_type": "markdown",
   "metadata": {},
   "source": [
    "**Code for group member or method #4**"
   ]
  },
  {
   "cell_type": "code",
   "execution_count": null,
   "metadata": {},
   "outputs": [],
   "source": [
    "# Update the code to pass the assert statement\n",
    "\n",
    "oneovere4 = \"1/e\"\n",
    "value4 =  # Use a math or numpy constant or function\n",
    "my_string4 = \"After one time constant a value decays to (something) or (something else) of its original value\""
   ]
  },
  {
   "cell_type": "code",
   "execution_count": null,
   "metadata": {},
   "outputs": [],
   "source": [
    "assert my_string4 == \"After one time constant a value decays to 1/e or 36.8% of its original value\""
   ]
  },
  {
   "cell_type": "markdown",
   "metadata": {},
   "source": [
    "### Task 2.6.3\n",
    "Use one or more of the Generative AI services to convert your formatted `my_string` string from one string formatting method to another. Try to figure out the most concise prompt needed to do this. Record your most concise prompt for each service you try this out on."
   ]
  },
  {
   "cell_type": "markdown",
   "metadata": {},
   "source": [
    "**Service #1**\n",
    "\n",
    "* .."
   ]
  },
  {
   "cell_type": "markdown",
   "metadata": {},
   "source": [
    "**Service #2**\n",
    "\n",
    "* .."
   ]
  },
  {
   "cell_type": "markdown",
   "metadata": {},
   "source": [
    "**Service #3**\n",
    "\n",
    "* .."
   ]
  },
  {
   "cell_type": "markdown",
   "metadata": {},
   "source": [
    "**Service #4**\n",
    "\n",
    "* .."
   ]
  }
 ],
 "metadata": {
  "kernelspec": {
   "display_name": "Python 3 (ipykernel)",
   "language": "python",
   "name": "python3"
  },
  "language_info": {
   "codemirror_mode": {
    "name": "ipython",
    "version": 3
   },
   "file_extension": ".py",
   "mimetype": "text/x-python",
   "name": "python",
   "nbconvert_exporter": "python",
   "pygments_lexer": "ipython3",
   "version": "3.12.4"
  },
  "widgets": {
   "application/vnd.jupyter.widget-state+json": {
    "state": {},
    "version_major": 2,
    "version_minor": 0
   }
  }
 },
 "nbformat": 4,
 "nbformat_minor": 4
}
