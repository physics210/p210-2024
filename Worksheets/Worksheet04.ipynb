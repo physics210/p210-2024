{
 "cells": [
  {
   "cell_type": "markdown",
   "metadata": {
    "id": "68gKoP9jF9lU"
   },
   "source": [
    "# Day 04 Group Worksheet\n",
    "Sept 16, 2024\n",
    "\n",
    "If you're working on CoCalc, it's good to rename your notebook with a fun group name and to include all group member names below so that you can easily find it later for reference."
   ]
  },
  {
   "cell_type": "markdown",
   "metadata": {
    "id": "B8UKtrg1F9lm"
   },
   "source": [
    "* Group members:"
   ]
  },
  {
   "cell_type": "markdown",
   "metadata": {},
   "source": [
    "## 4.1 Lists warmup"
   ]
  },
  {
   "cell_type": "markdown",
   "metadata": {},
   "source": [
    "As a group, come up with at least 3 different ways that you could fill the list `short` from the list `long`, such that the contents are as shown.\n",
    "```python\n",
    "long = [\"A\", \"B\", \"C\", \"D\", \"E\", \"F\", \"G\", \"H\", \"I\", \"J\"]\n",
    "print(short)\n",
    "```\n",
    "`[\"D\", \"F\", \"H\", \"J\"]`"
   ]
  },
  {
   "cell_type": "code",
   "execution_count": null,
   "metadata": {},
   "outputs": [],
   "source": [
    "# Method 1\n",
    "\n"
   ]
  },
  {
   "cell_type": "code",
   "execution_count": null,
   "metadata": {},
   "outputs": [],
   "source": [
    "# Method 2\n",
    "\n"
   ]
  },
  {
   "cell_type": "code",
   "execution_count": null,
   "metadata": {},
   "outputs": [],
   "source": [
    "# Method 3\n",
    "\n"
   ]
  },
  {
   "cell_type": "code",
   "execution_count": null,
   "metadata": {},
   "outputs": [],
   "source": [
    "# Method 4 (optional)\n",
    "\n"
   ]
  },
  {
   "cell_type": "code",
   "execution_count": null,
   "metadata": {},
   "outputs": [],
   "source": [
    "# Method 5 (optional)\n",
    "\n"
   ]
  },
  {
   "cell_type": "markdown",
   "metadata": {},
   "source": [
    "## More Euler's method for motion\n",
    "Today we are going to continue our work with Euler's method for motion by:\n",
    "1. Introducing lists as a way to store all of the motion data generated throughout a loop\n",
    "1. Introducing collisions\n",
    "1. Bringing in `while` loops as an alternative to `for` loops"
   ]
  },
  {
   "cell_type": "markdown",
   "metadata": {
    "id": "WF85UmjsF9lv"
   },
   "source": [
    "## 4.2 A collision and storing data in lists\n",
    "Below is a modified version of our Day 03 Euler's method code which introduces a collision, as well as storing our time, position and velocity data in lists to be able to analyze after the main loop. After the code you will find your tasks related to this code."
   ]
  },
  {
   "cell_type": "code",
   "execution_count": null,
   "metadata": {
    "id": "Dkj-a45vF9mO"
   },
   "outputs": [],
   "source": [
    "# Constants and initial values\n",
    "y0 = 0. # m\n",
    "y_max = 100. # m\n",
    "v0 = 15.3 # m/s\n",
    "t0 = 0. # s\n",
    "t_max = 50. # s\n",
    "dt = 0.1 # s\n",
    "\n",
    "# Lists to store values throughout the simulation\n",
    "y = [y0]\n",
    "v = [v0]\n",
    "t = [t0]\n",
    "\n",
    "# Main loop\n",
    "n_steps = int((t_max - t0) / dt)  # Total number of steps\n",
    "\n",
    "for i in range(1, n_steps+1):\n",
    "\n",
    "    y_last = y[-1]\n",
    "    v_last = v[-1]\n",
    "    t_last = t[-1]\n",
    "    \n",
    "    y_new = y_last + v_last * dt\n",
    "    v_new = v_last\n",
    "    t_new = t_last + dt\n",
    "    \n",
    "    if y_new >= y_max:\n",
    "        v_new = -v_new\n",
    "    \n",
    "    y.append(y_new)\n",
    "    v.append(v_new)\n",
    "    t.append(t_new)   \n",
    "    \n"
   ]
  },
  {
   "cell_type": "markdown",
   "metadata": {},
   "source": [
    "**a)** Let's start by looking at the use of lists in this version of the code. Add in any print or other diagnostic statements that you need to make sense of the code.\n",
    "\n",
    "1. How is `[-1]` being used in the loop? \n",
    "1. How are we storing the data generated throughout the loop? \n",
    "1. Why might it be more helpful in this example to use `range(1, n_steps+1)` instead of `range(n_steps` for this specific loop?"
   ]
  },
  {
   "cell_type": "markdown",
   "metadata": {},
   "source": [
    "* Your notes here\n",
    "* .."
   ]
  },
  {
   "cell_type": "markdown",
   "metadata": {},
   "source": [
    "**b)** How does the collision work? "
   ]
  },
  {
   "cell_type": "markdown",
   "metadata": {},
   "source": [
    "* Your notes here\n",
    "* .."
   ]
  },
  {
   "cell_type": "markdown",
   "metadata": {},
   "source": [
    "**c)** From within the loop, use the variable `col_idx` to store the index associated with when the collision occured. Based on how the `t`, `y` and `v` lists are built, we expect that this same index would apply to all three. Build a second loop after this main loop to print out the information from the five sequential steps consisting of the two steps immediately before the collision, the collision itself, and the two steps immediately after the collision. Below is an example of what this information could look like. \n",
    "\n",
    "```\n",
    "t = 6.4 s,   y =  97.92 m,   v =  15.3 m/s\n",
    "t = 6.5 s,   y =  99.45 m,   v =  15.3 m/s\n",
    "t = 6.6 s,   y = 100.98 m,   v = -15.3 m/s\n",
    "t = 6.7 s,   y =  99.45 m,   v = -15.3 m/s\n",
    "t = 6.8 s,   y =  97.92 m,   v = -15.3 m/s\n",
    "```"
   ]
  },
  {
   "cell_type": "code",
   "execution_count": null,
   "metadata": {},
   "outputs": [],
   "source": [
    "# Your code here\n",
    "\n"
   ]
  },
  {
   "cell_type": "markdown",
   "metadata": {},
   "source": [
    "**d)** How would your answer change to part **c** change if we had instead used `for i in range(n_steps)` to run the loop?"
   ]
  },
  {
   "cell_type": "markdown",
   "metadata": {},
   "source": [
    "## Multiple collisions\n",
    "\n",
    "**e)** Introduce into your code a second collision barrier at `-100 m`, such that the object will be bouncing back and forth between the two barriers. Change `col_idx` to a list of the indices at which these collisions occur. And then, after the main loop, build a second loop that uses the indices stored in `col_idx` to output the times of each collision, in a format similar to what is shown below. In your output you are welcome to communicate the collision numbers with the first collision being numbered 0 or 1.\n",
    "```\n",
    "Collision number 1 occurred at  6.6 seconds\n",
    "Collision number 2 occurred at 19.8 seconds\n",
    "Collision number 3 occurred at 33.0 seconds\n",
    "Collision number 4 occurred at 46.2 seconds\n",
    "```"
   ]
  },
  {
   "cell_type": "code",
   "execution_count": null,
   "metadata": {},
   "outputs": [],
   "source": [
    "# Your code here\n",
    "\n"
   ]
  },
  {
   "cell_type": "markdown",
   "metadata": {},
   "source": [
    "## 4.3 Replacing the main `for` loop with a `while` loop"
   ]
  },
  {
   "cell_type": "markdown",
   "metadata": {
    "id": "soUXPUYDIhu7"
   },
   "source": [
    "**f)** Below we have provide a space for you to replace the original `for` loop with a `while` loop that will run for approximately the same number of iterations (steps) at the original code. \n",
    "\n",
    "You should add a few notes contrasting the strengths and weaknesses of each approach for this specific task."
   ]
  },
  {
   "cell_type": "markdown",
   "metadata": {},
   "source": [
    "* Your notes here\n",
    "* .."
   ]
  },
  {
   "cell_type": "code",
   "execution_count": null,
   "metadata": {},
   "outputs": [],
   "source": [
    "# Constants and initial values\n",
    "y0 = 0. # m\n",
    "y_max = 100. # m\n",
    "v0 = 15.3 # m/s\n",
    "t0 = 0. # s\n",
    "t_max = 50. # s\n",
    "dt = 0.1 # s\n",
    "\n",
    "# Lists to store values throughout the simulation\n",
    "y = [y0]\n",
    "v = [v0]\n",
    "t = [t0]\n",
    "\n",
    "# Main loop\n",
    "while t[-1] < tmax:\n",
    "    \n",
    "    y_last = y[-1]\n",
    "    v_last = v[-1]\n",
    "    t_last = t[-1]\n",
    "    \n",
    "    y_new = y_last + v_last * dt\n",
    "    v_new = v_last\n",
    "    t_new = t_last + dt\n",
    "    \n",
    "    if y_new >= y_max:\n",
    "        v_new = -v_new\n",
    "    \n",
    "    y.append(y_new)\n",
    "    v.append(v_new)\n",
    "    t.append(t_new)\n",
    "    "
   ]
  },
  {
   "cell_type": "markdown",
   "metadata": {},
   "source": [
    "## Group check-out for engagement points\n",
    "Once you reach this point call one of the members of the teaching team over to ask you each a check-out question. \n",
    "\n",
    "Afterward (or while you are waiting), engage with the bonus tasks below."
   ]
  },
  {
   "cell_type": "markdown",
   "metadata": {},
   "source": [
    "## 4.4 Bonus tasks if you have time. \n",
    "\n",
    "**g)** Pick the tasks that are most interesting to you\n",
    "\n",
    "1. For Part **e**, try to figure out how to use the function `enumerate()` in your `for` loop statement (e.g., `for .. in enumerate(col_idx):` as an alternate method of extracting the desired information out of `col_idx`.\n",
    "1. In loops that take a long time to run, it can be helpful to provide progress feedback while the loop is running. Add code to one of your loops that prints some output every 100 iterations (e.g., `100 iterations complete`, `200 iterations complete`, etc,...).\n",
    "1. For a trickier challenge than the above task, instead print output for every 10% complete (e.g., `10% complete`, `20% complete`, etc,...). Make sure that this is built in a responsive way so that if you update `t_max` or `dt`, it will still work correctly."
   ]
  },
  {
   "cell_type": "code",
   "execution_count": null,
   "metadata": {},
   "outputs": [],
   "source": [
    "# Your code here\n",
    "\n"
   ]
  },
  {
   "cell_type": "code",
   "execution_count": null,
   "metadata": {},
   "outputs": [],
   "source": [
    "# Your code here\n",
    "\n"
   ]
  },
  {
   "cell_type": "code",
   "execution_count": null,
   "metadata": {},
   "outputs": [],
   "source": [
    "# Your code here\n",
    "\n"
   ]
  }
 ],
 "metadata": {
  "colab": {
   "provenance": []
  },
  "kernelspec": {
   "display_name": "Python 3",
   "language": "python",
   "name": "python3"
  },
  "language_info": {
   "codemirror_mode": {
    "name": "ipython",
    "version": 3
   },
   "file_extension": ".py",
   "mimetype": "text/x-python",
   "name": "python",
   "nbconvert_exporter": "python",
   "pygments_lexer": "ipython3",
   "version": "3.7.6"
  }
 },
 "nbformat": 4,
 "nbformat_minor": 1
}
