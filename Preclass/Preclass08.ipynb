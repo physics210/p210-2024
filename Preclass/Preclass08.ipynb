{
 "cells": [
  {
   "cell_type": "markdown",
   "metadata": {},
   "source": [
    "# Preclass Assignment: Day 08 (Oct 02, 2024)<br>Introduction to NumPy arrays\n",
    "Learning goals\n",
    "1. Identify the rank, number of rows, number of columns and length for a given numpy array.\n",
    "1. Identify the attributes ndim, shape, size and dtype for a given numpy array.\n",
    "1. Predict the output from combining two numerical numpy arrays of the same shape using the common arithmetic operations `+`, `-`, `/`, and `*`.\n",
    "1. Define (create) an array with one or more dimensions and fill it with values provided via a list (e.g., `numpy.array([1, 2, 3])`).\n",
    "1. Use an intrinsic array creation function to define an array and fill it with zeros or ones (e.g., `numpy.zeros(3)`).\n",
    "1. Specify data type when creating a numpy array (e.g., `np.array([1, 2, 3], dtype=float)`).\n",
    "1. Index or slice a numpy array having one or more dimensions. \n",
    "1. Use array methods such as `sum()`, `max()` and `std()` to perform operations on arrays\n",
    "1. Predict the impact of changing an element in an array after a shallow copy or deep copy of the array has been made"
   ]
  },
  {
   "cell_type": "markdown",
   "metadata": {},
   "source": [
    "## *Self-assessment questions*\n",
    "\n",
    "**If you can already answer these correctly, you can skip the rest of the reading assignment and submit it. Otherwise, complete the rest of the reading assignment and return to these questions to test what you learned. You might decide you would benefit from further review before class.**\n",
    "\n",
    "Note that these questions can often be answered easily by running the provided code, so the intellectual work on your part is figuring out the correct answer and then running the code to check your answer.\n",
    "\n",
    "Please ensure all of these self-assessment questions are answered correctly before submitting this pre-class reading assignment. The *Your Turn* questions, found throughout the rest of this assignment, are for your practice as you learn this material and do not need to be answered correctly to receive full completion marks for this pre-class reading assignment."
   ]
  },
  {
   "cell_type": "markdown",
   "metadata": {},
   "source": [
    "### Self-assessment question 8.1\n",
    "\n",
    "What will the following code print?\n",
    "```python\n",
    "import numpy as np\n",
    "a = np.array([[1, 2, 3], [4, 5, 6], [7, 8, 9]])\n",
    "print(np.ndim(a))\n",
    "```\n",
    "A) 1<br>\n",
    "B) 2<br>\n",
    "C) 3<br>\n",
    "D) 9<br>"
   ]
  },
  {
   "cell_type": "code",
   "execution_count": null,
   "metadata": {},
   "outputs": [],
   "source": [
    "# Code testing area to help answer this question\n",
    "\n"
   ]
  },
  {
   "cell_type": "code",
   "execution_count": null,
   "metadata": {},
   "outputs": [],
   "source": [
    "# Enter your answer inside the string quotes and run this cell to check your anwer\n",
    "\n",
    "answer = \"\"\n",
    "\n",
    "import hashlib\n",
    "assert answer in ['A', 'B', 'C', 'D'], \"Your answer did not match any of the choices\"\n",
    "assert hashlib.sha256(answer.encode()).hexdigest() == \\\n",
    "    'df7e70e5021544f4834bbee64a9e3789febc4be81470df629cad6ddb03320a5c', \"Your answer is incorrect\"\n",
    "print(\"Your answer\", answer, \"is correct\") # Passed all assert statements above"
   ]
  },
  {
   "cell_type": "markdown",
   "metadata": {},
   "source": [
    "### Self-assessment question 8.2\n",
    "\n",
    "What will the variable C contain after running the following code?\n",
    "\n",
    "```python\n",
    "import numpy as np\n",
    "A = np.array([[9, 1], [4, 2]])\n",
    "C = np.zeros(np.size(A))\n",
    "```\n",
    "\n",
    "A) A list of four zeros<br>\n",
    "B) A one-dimensional numpy array of four integer zeros<br>\n",
    "C) A one-dimensional  numpy array of four floating point zeros<br>\n",
    "D) A three-dimensional numpy array containing a total of 72 floating point zeros<br>\n",
    "E) A two-dimensional numpy array containing a total of 4 floating point zeros."
   ]
  },
  {
   "cell_type": "code",
   "execution_count": null,
   "metadata": {},
   "outputs": [],
   "source": [
    "# Code testing area to help answer this question\n",
    "\n"
   ]
  },
  {
   "cell_type": "code",
   "execution_count": null,
   "metadata": {},
   "outputs": [],
   "source": [
    "# Enter your answer inside the string quotes and run this cell to check your anwer\n",
    "\n",
    "answer = \"\"\n",
    "\n",
    "import hashlib\n",
    "assert answer in ['A', 'B', 'C', 'D', 'E'], \"Your answer did not match any of the choices\"\n",
    "assert hashlib.sha256(answer.encode()).hexdigest() == \\\n",
    "    '6b23c0d5f35d1b11f9b683f0b0a617355deb11277d91ae091d399c655b87940d', \"Your answer is incorrect\"\n",
    "print(\"Your answer\", answer, \"is correct\") # Passed all assert statements above"
   ]
  },
  {
   "cell_type": "markdown",
   "metadata": {},
   "source": [
    "### Self-assessment question 8.3\n",
    "\n",
    "What is printed by this array operation?\n",
    "\n",
    "```python\n",
    "import numpy as np\n",
    "A = np.array([1,2,3])\n",
    "B = np.array([4,5,6])\n",
    "print(A*B)\n",
    "```\n",
    "\n",
    "A) `32`<br>\n",
    "B) `[5 7 18]`<br>\n",
    "C) `[4 10 18]`<br>\n",
    "D) `[12 10 4]`<br>\n",
    "E) `15`"
   ]
  },
  {
   "cell_type": "code",
   "execution_count": null,
   "metadata": {},
   "outputs": [],
   "source": [
    "# Code testing area to help answer this question\n",
    "\n"
   ]
  },
  {
   "cell_type": "code",
   "execution_count": null,
   "metadata": {},
   "outputs": [],
   "source": [
    "# Enter your answer inside the string quotes\n",
    "# and run this cell to check your anwer\n",
    "\n",
    "answer = \"\"  \n",
    "\n",
    "import hashlib\n",
    "assert answer in ['A', 'B', 'C', 'D', 'E'], \"Your answer did not match any of the choices\"\n",
    "assert hashlib.sha256(answer.encode()).hexdigest() == \\\n",
    "    '6b23c0d5f35d1b11f9b683f0b0a617355deb11277d91ae091d399c655b87940d', \"Your answer is incorrect\"\n",
    "print(\"Your answer\", answer, \"is correct\") # Passed all assert statements above"
   ]
  },
  {
   "cell_type": "markdown",
   "metadata": {},
   "source": [
    "### Self-assessment question 8.4\n",
    "\n",
    "What will be the output of the following?\n",
    "\n",
    "```python\n",
    "import numpy as np\n",
    "A = np.array([[1,2,3],[4,5,6],[7,8,9],[10,11,12]])\n",
    "print( A[:, 1] )\n",
    "```\n",
    "A) `[1, 4, 7, 10]` <br>\n",
    "B) `[2, 5, 8, 11]` <br>\n",
    "C) `[1, 2, 3]` <br>\n",
    "D) `[4, 5, 6]` <br>"
   ]
  },
  {
   "cell_type": "code",
   "execution_count": null,
   "metadata": {},
   "outputs": [],
   "source": [
    "# Code testing area to help answer this question\n",
    "\n"
   ]
  },
  {
   "cell_type": "code",
   "execution_count": null,
   "metadata": {},
   "outputs": [],
   "source": [
    "# Enter your answer inside the string quotes\n",
    "# and run this cell to check your anwer\n",
    "\n",
    "answer = \"\"  \n",
    "\n",
    "import hashlib\n",
    "assert answer in ['A', 'B', 'C', 'D', 'E'], \"Your answer did not match any of the choices\"\n",
    "assert hashlib.sha256(answer.encode()).hexdigest() == \\\n",
    "    'df7e70e5021544f4834bbee64a9e3789febc4be81470df629cad6ddb03320a5c', \"Your answer is incorrect\"\n",
    "print(\"Your answer\", answer, \"is correct\") # Passed all assert statements above"
   ]
  },
  {
   "cell_type": "markdown",
   "metadata": {},
   "source": [
    "### Self-assessment question 8.5\n",
    "\n",
    "What will be the output of the following?\n",
    "\n",
    "```python\n",
    "import numpy as np\n",
    "\n",
    "x = np.array([1, 2])\n",
    "y = x\n",
    "z = x.copy()\n",
    "\n",
    "x[0] = 99\n",
    "print(\"x:\",x)\n",
    "print(\"y:\",y)\n",
    "print(\"z:\",z)\n",
    "```\n",
    "A) `x: [99  2]`<br>\n",
    "&nbsp;&nbsp;&nbsp;&nbsp;&nbsp;`y: [1  2]`<br>\n",
    "&nbsp;&nbsp;&nbsp;&nbsp;&nbsp;`z: [1 2]`<br><br>\n",
    "B) `x: [99  2]`<br>\n",
    "&nbsp;&nbsp;&nbsp;&nbsp;&nbsp;`y: [99  2]`<br>\n",
    "&nbsp;&nbsp;&nbsp;&nbsp;&nbsp;`z: [1 2]`<br><br>\n",
    "C) `x: [99  2]`<br>\n",
    "&nbsp;&nbsp;&nbsp;&nbsp;&nbsp;`y: [1  2]`<br>\n",
    "&nbsp;&nbsp;&nbsp;&nbsp;&nbsp;`z: [99 2]`<br><br>\n",
    "D) `x: [99  2]`<br>\n",
    "&nbsp;&nbsp;&nbsp;&nbsp;&nbsp;`y: [99  2]`<br>\n",
    "&nbsp;&nbsp;&nbsp;&nbsp;&nbsp;`z: [99 2]`<br>"
   ]
  },
  {
   "cell_type": "code",
   "execution_count": null,
   "metadata": {},
   "outputs": [],
   "source": [
    "# Code testing area to help answer this question\n",
    "\n"
   ]
  },
  {
   "cell_type": "code",
   "execution_count": null,
   "metadata": {},
   "outputs": [],
   "source": [
    "# Enter your answer inside the string quotes\n",
    "# and run this cell to check your anwer\n",
    "\n",
    "answer = \"\"  \n",
    "\n",
    "import hashlib\n",
    "assert answer in ['A', 'B', 'C', 'D', 'E'], \"Your answer did not match any of the choices\"\n",
    "assert hashlib.sha256(answer.encode()).hexdigest() == \\\n",
    "    'df7e70e5021544f4834bbee64a9e3789febc4be81470df629cad6ddb03320a5c', \"Your answer is incorrect\"\n",
    "print(\"Your answer\", answer, \"is correct\") # Passed all assert statements above"
   ]
  },
  {
   "cell_type": "markdown",
   "metadata": {},
   "source": [
    "## *8.1 Reintroduction to `numpy`*\n",
    "\n",
    "As we have already encountered, NumPy is the fundamental library needed for scientific computing. \n",
    "This __Open Source__ library includes a powerful N-dimensional array object, which also has many methods and operations, such as:\n",
    "- Advanced array slicing methods (to select array elements); and\n",
    "- Convenient array reshaping methods.\n",
    "\n",
    "It also contains libraries with numerical routines, including:\n",
    "\n",
    "* Basic linear algebra functions;\n",
    "* Fourier transforms; and\n",
    "* Sophisticated random number capabilities.\n",
    "\n",
    "Day 08 is about learning how to create and manipulate arrays and using some of the most common methods applied to arrays. We’ll look at some more advanced array and NumPy concepts later in the course."
   ]
  },
  {
   "cell_type": "markdown",
   "metadata": {},
   "source": [
    "## *8.2 Overview of `numpy` arrays*\n",
    "\n",
    "NumPy's main object is the homogeneous multidimensional array called ndarray.  Homogeneous here means that every element of the array has the same type (i.e., an array of ints, floats or complex values).\n",
    "\n",
    "* An array is a table of elements (usually numbers), all of the same type, indexed by one or integers. Typical examples of multidimensional arrays include vectors, matrices, images and spreadsheets, but are not limited to these.\n",
    "* The array can have multiple dimensions, also called ***axes***. The number of axes is also known as the ***rank***.\n",
    "\n",
    "The link below takes you to a NumPy tutorial, where you will read up to, but not including the subsection Broadcasting (a concept we will cover later). This means you will read the subsections Arrays, Array Indexing, Datatypes, and Array Math.\n",
    "\n",
    "* http://cs231n.github.io/python-numpy-tutorial/#numpy"
   ]
  },
  {
   "cell_type": "markdown",
   "metadata": {},
   "source": [
    "## *8.3 Some array examples*\n",
    "Before executing this code, see if you can figure out what to expect as the output."
   ]
  },
  {
   "cell_type": "code",
   "execution_count": null,
   "metadata": {},
   "outputs": [],
   "source": [
    "# Predict the output and then run it to check your prediction\n",
    "\n",
    "import numpy as np\n",
    "a = np.array([1,3,5,7,9])\n",
    "b = np.array([3,5,6,7,9])\n",
    "c = a + b\n",
    "print(c)"
   ]
  },
  {
   "cell_type": "markdown",
   "metadata": {},
   "source": [
    "You might be asking youtself, why are there two (different) sets of brackets when creating each of the arrays, e.g., `a = numpy.array([1, 3, 5, 7, 9])`?\n",
    "\n",
    "The `numpy.array()` function attempts to turn the argument it is given into an array. The: `[1, 3, 5, 7, 9]` is a python list, which we have already seen. Thus we could also have used the following two lines of code to make the same array:\n",
    "```python\n",
    "my_list = [1, 3, 5, 7, 9]\n",
    "a = np.array( my_list )\n",
    "```\n",
    "\n",
    "Lists and arrays have a number of things in common, but arrays have many additional useful features not available when working with lists."
   ]
  },
  {
   "cell_type": "markdown",
   "metadata": {},
   "source": [
    "## *8.4 The meaning of the terms rank, row, column, length and axis*\n",
    "\n",
    "Let's start with a couple of examples to highlight how some of this terminology is used\n",
    "\n",
    "The following is an array of rank 1, which means it is one-dimensional or has one axis (of length 3):\n",
    "\n",
    "* `[7 5 -1]`\n",
    "\n",
    "The following is an array of rank 2, meaning that it has two axes. The first axis (the number of rows) is of length 2 and the second axis (the number of columns) is of length 3. \n",
    "\n",
    "* `[ [ 1.5 0.2 -3.7] [ 0.1 1.7 2.9] ]`"
   ]
  },
  {
   "cell_type": "markdown",
   "metadata": {},
   "source": [
    "### `numpy` array attributes\n",
    "Every array has a number of attributes that describe the array or the data it holds. These attributes include:"
   ]
  },
  {
   "cell_type": "markdown",
   "metadata": {},
   "source": [
    "#### `ndarray.ndim`\n",
    "* The number of axes (dimensions) of the array, i.e. the rank."
   ]
  },
  {
   "cell_type": "code",
   "execution_count": null,
   "metadata": {},
   "outputs": [],
   "source": [
    "# Run me (and the other cells below)!\n",
    "# I use an array created in the previous section\n",
    "\n",
    "print( a )\n",
    "print( \"a.ndim:\", a.ndim )\n",
    "print( \"np.ndim(a):\", np.ndim(a) )"
   ]
  },
  {
   "cell_type": "markdown",
   "metadata": {},
   "source": [
    "#### `ndarray.shape` \n",
    "* The dimensions of the array – the lengths along each of the axes."
   ]
  },
  {
   "cell_type": "code",
   "execution_count": null,
   "metadata": {},
   "outputs": [],
   "source": [
    "a.shape # or np.shape(a)"
   ]
  },
  {
   "cell_type": "markdown",
   "metadata": {},
   "source": [
    "#### `ndarray.size` \n",
    "* The total number of elements of the array, equal to the product of the elements of shape."
   ]
  },
  {
   "cell_type": "code",
   "execution_count": null,
   "metadata": {},
   "outputs": [],
   "source": [
    "a.size # or np.size(a)"
   ]
  },
  {
   "cell_type": "markdown",
   "metadata": {},
   "source": [
    "#### `ndarray.dtype`\n",
    "* Describes the type of the elements in the array. One can create or specify dtypes using standard Python types. NumPy also provides many types, for example bool, int8, int16, int32, int64, float16, float32, float64, float128, complex64, complex128. The numerical parts of these names indicate how many “bits” are used to store the number. Larger numbers indicate that larger values that can be stored in the data type, and for floats, with higher precision."
   ]
  },
  {
   "cell_type": "code",
   "execution_count": null,
   "metadata": {},
   "outputs": [],
   "source": [
    "a.dtype # or np.dtype(a)"
   ]
  },
  {
   "cell_type": "markdown",
   "metadata": {},
   "source": [
    "## *8.5 `numpy` array creation and use*\n",
    "Let's use some examples to highlight array creation and use:"
   ]
  },
  {
   "cell_type": "code",
   "execution_count": null,
   "metadata": {},
   "outputs": [],
   "source": [
    "# Run me (and the other cells below)!\n",
    "\n",
    "import numpy as np\n",
    "# Creates a 2-dimensional array\n",
    "a = np.array([[1, 2, 3], [3, 6, 9], [2, 4, 6]])  "
   ]
  },
  {
   "cell_type": "code",
   "execution_count": null,
   "metadata": {},
   "outputs": [],
   "source": [
    "a"
   ]
  },
  {
   "cell_type": "code",
   "execution_count": null,
   "metadata": {},
   "outputs": [],
   "source": [
    "a.ndim  # check attribute ndim"
   ]
  },
  {
   "cell_type": "code",
   "execution_count": null,
   "metadata": {},
   "outputs": [],
   "source": [
    "print(a[0, :])  # prints the first row"
   ]
  },
  {
   "cell_type": "markdown",
   "metadata": {},
   "source": [
    "The notation above is similar to what we saw for strings and lists, but for two dimensional arrays you can provide two indicies, separated by a comma, such as `a[0, 1]` or `a[0:1, 0:2]`"
   ]
  },
  {
   "cell_type": "code",
   "execution_count": null,
   "metadata": {},
   "outputs": [],
   "source": [
    "# Run me (and the other cells below)!\n",
    "\n",
    "print(a[1, 2])  # prints an element of the array"
   ]
  },
  {
   "cell_type": "code",
   "execution_count": null,
   "metadata": {},
   "outputs": [],
   "source": [
    "print(a[1, 1:3])  # and slices"
   ]
  },
  {
   "cell_type": "code",
   "execution_count": null,
   "metadata": {},
   "outputs": [],
   "source": [
    "print(a[:, 1])  # prints the second column"
   ]
  },
  {
   "cell_type": "markdown",
   "metadata": {},
   "source": [
    "Consider what you think the two arrays `b` and `c` will be..."
   ]
  },
  {
   "cell_type": "code",
   "execution_count": null,
   "metadata": {},
   "outputs": [],
   "source": [
    "# Predict the output and then run it to check your prediction\n",
    "\n",
    "import numpy as np\n",
    "b = np.ones(10)\n",
    "c = np.zeros((2,3), dtype=complex)\n",
    "\n",
    "# Use some code here to see what arrays b and c look like\n"
   ]
  },
  {
   "cell_type": "markdown",
   "metadata": {},
   "source": [
    "## *8.6 `numpy` array methods*\n",
    "There are many functions in `numpy` that can manipulate or perform calculations on arrays. Examples using the (2d) array `a` from above:"
   ]
  },
  {
   "cell_type": "code",
   "execution_count": null,
   "metadata": {},
   "outputs": [],
   "source": [
    "# Run me (and the other cells below)!\n",
    "# I continue to use previously defined arrays\n",
    "\n",
    "a"
   ]
  },
  {
   "cell_type": "code",
   "execution_count": null,
   "metadata": {},
   "outputs": [],
   "source": [
    "a.sum() # Sums the individual elements in the array"
   ]
  },
  {
   "cell_type": "code",
   "execution_count": null,
   "metadata": {},
   "outputs": [],
   "source": [
    "a.mean()"
   ]
  },
  {
   "cell_type": "code",
   "execution_count": null,
   "metadata": {},
   "outputs": [],
   "source": [
    "a.std(ddof=1) # Standard deviation"
   ]
  },
  {
   "cell_type": "code",
   "execution_count": null,
   "metadata": {},
   "outputs": [],
   "source": [
    "a.max()"
   ]
  },
  {
   "cell_type": "code",
   "execution_count": null,
   "metadata": {},
   "outputs": [],
   "source": [
    "a.min()"
   ]
  },
  {
   "cell_type": "markdown",
   "metadata": {},
   "source": [
    "An exhaustive list of numpy methods can be found at:\n",
    "\n",
    "* http://docs.scipy.org/doc/numpy/reference/routines.html\n",
    "\n",
    "Have a look at to see what's there, but don't spend a long time reading about them all – the list is very, very long!"
   ]
  },
  {
   "cell_type": "markdown",
   "metadata": {},
   "source": [
    "## *8.7 `numpy` mathematics*\n",
    "You can use the conventional operators +, -, /, * for numpy arrays. You can also use methods for mathematical operations:"
   ]
  },
  {
   "cell_type": "code",
   "execution_count": null,
   "metadata": {},
   "outputs": [],
   "source": [
    "# Run me!\n",
    "\n",
    "# Addition is element by element\n",
    "import numpy as np\n",
    "F = np.array([1,2,3])\n",
    "G = np.array([4,5,6])\n",
    "J = F + G\n",
    "print(J)"
   ]
  },
  {
   "cell_type": "code",
   "execution_count": null,
   "metadata": {},
   "outputs": [],
   "source": [
    "# Run me!\n",
    "\n",
    "# If a single number is specified---as opposed to an array---the\n",
    "# operation related to that number is applied to each individual element\n",
    "J = 10 + F\n",
    "print(J)"
   ]
  },
  {
   "cell_type": "code",
   "execution_count": null,
   "metadata": {},
   "outputs": [],
   "source": [
    "# Run me!\n",
    "\n",
    "print( np.sqrt(H) )"
   ]
  },
  {
   "cell_type": "code",
   "execution_count": null,
   "metadata": {},
   "outputs": [],
   "source": [
    "# Run me!\n",
    "\n",
    "x = np.array([4.5, 2.3, 6.7, 1.2, 1.8, 5.5])\n",
    "np.sort(x)"
   ]
  },
  {
   "cell_type": "markdown",
   "metadata": {},
   "source": [
    "### math vs numpy:\n",
    "You may remember we previously mentioned that functions like `sin`, `cos`, `tan`, `exp`, etc. are available in both the math module and in numpy. However the math module functions will not work on a numpy array."
   ]
  },
  {
   "cell_type": "markdown",
   "metadata": {},
   "source": [
    "### Array mathematics can simplify many of the things we have been doing with lists\n",
    "\n",
    "Below is our Euler's method code from Solo Worksheet 09. We highlight some changes (`### NEW ARRAY STUFF ###`) that make the residuals calculations look much simpler. Also note that all of our graphs can use lists or arrays for their plotting variables."
   ]
  },
  {
   "cell_type": "markdown",
   "metadata": {},
   "source": [
    "## *8.8 Shallow vs deep copying with python containers such as arrays and lists*\n",
    "*(This section is based on output originally generated by ChatGPT from the prompt: \"shallow vs deep copy with numpy arrays\")*"
   ]
  },
  {
   "cell_type": "markdown",
   "metadata": {},
   "source": [
    "In Python, copying a `numpy` array or list can be done either as a **shallow copy** or a **deep copy**. It is important to understand the difference between these two when working with arrays or lists since they affect how data are stored and modified. Our examples will predominently use `numpy` arrays, but the concepts hold for most container-type objects in python."
   ]
  },
  {
   "cell_type": "markdown",
   "metadata": {},
   "source": [
    "### Shallow Copy\n",
    "A shallow copy creates a new object that references the **same** data as the original array. It refers to copying the structure of the array, but not the data. Both arrays share the same data in memory\n",
    "\n",
    "**Very important!!!** Changes made to the data in the (shallow) copied array will reflect in the original array because both are pointing to the same memory location."
   ]
  },
  {
   "cell_type": "code",
   "execution_count": null,
   "metadata": {},
   "outputs": [],
   "source": [
    "# Run me for a shallow copy example\n",
    "\n",
    "# Assignment (\"=\"): assigning one array to another does not create a new array; \n",
    "#                   both variables will reference the same array.\n",
    "\n",
    "import numpy as np\n",
    "a = np.array([1, 2, 3])\n",
    "b = a  # Shallow copy\n",
    "b[0] = 99\n",
    "print(a)\n",
    "print(b)\n",
    "\n",
    "# They're both the same. Modifying b[0] also modifies a[0]"
   ]
  },
  {
   "cell_type": "markdown",
   "metadata": {},
   "source": [
    "### Deep Copy\n",
    "A deep copy, on the other hand, creates a completely independent copy of the original array. The data are copied fully to a new location in memory. Changes made to one array do not affect the other.\n",
    "\n",
    "**Important!!!** A deep copy duplicates both the structure **and** the data, meaning changes to one array do not impact the other.\n"
   ]
  },
  {
   "cell_type": "code",
   "execution_count": null,
   "metadata": {},
   "outputs": [],
   "source": [
    "# Run me for a deep copy example\n",
    "\n",
    "# For numpy arrays deep copies can be created using .copy()\n",
    "\n",
    "import numpy as np\n",
    "a = np.array([1, 2, 3])\n",
    "b = a.copy()  # Deep copy\n",
    "b[0] = 99\n",
    "print(a)\n",
    "print (b)\n",
    "\n",
    "# Since we made a deep copy, modifying b[0] does not modify a[0]"
   ]
  },
  {
   "cell_type": "markdown",
   "metadata": {},
   "source": [
    "### It's the same for lists"
   ]
  },
  {
   "cell_type": "markdown",
   "metadata": {},
   "source": [
    "We repeat the array examples above to show the same behaviour applies to lists as well."
   ]
  },
  {
   "cell_type": "code",
   "execution_count": null,
   "metadata": {},
   "outputs": [],
   "source": [
    "# List shallow copy example\n",
    "\n",
    "a = [1, 2, 3]\n",
    "b = a  # Shallow copy\n",
    "b[0] = 99\n",
    "print(a)\n",
    "print(b)"
   ]
  },
  {
   "cell_type": "code",
   "execution_count": null,
   "metadata": {},
   "outputs": [],
   "source": [
    "# List deep copy example\n",
    "\n",
    "a = [1, 2, 3]\n",
    "b = a.copy()  # Deep copy\n",
    "b[0] = 99\n",
    "print(a)\n",
    "print (b)"
   ]
  },
  {
   "cell_type": "markdown",
   "metadata": {},
   "source": [
    "### Summary:\n",
    "- **Shallow Copy**: The new array shares the same data as the original array (e.g., `=`). Changes to one affect the other.\n",
    "- **Deep Copy**: The new array has its own copy of the data (e.g., `.copy()`). Changes to one do not affect the other."
   ]
  },
  {
   "cell_type": "markdown",
   "metadata": {},
   "source": [
    "## *Further optional reading on numpy arrays*\n",
    "http://freecomputerbooks.com/Computational-Physics-with-Python-by-Eric-Ayars.html\n",
    "* There is a (very) short introduction to numpy in section 3.0 of the book mentioned last day. On that website find the 'Read and Download Links' section. Click on 'Computational Physics with Python (Eric Ayars)'. Again, material in that book is presented in a very different order from our approach.\n"
   ]
  },
  {
   "cell_type": "markdown",
   "metadata": {},
   "source": [
    "## *Submitting this reading assignment*\n",
    "Before submitting your work, restart + rerun your notebook to make sure that your self-assessmet questions run correctly and without error. We will only check that the Self-assessment questions at the start of the assignment have run correctly. After you've executed and checked your notebook, choose: `File >> Save_and_Export_Notebook_As >> HTML`. This will download an HTML version of your notebook to your computer which you can upload to Canvas"
   ]
  },
  {
   "cell_type": "code",
   "execution_count": null,
   "metadata": {},
   "outputs": [],
   "source": []
  }
 ],
 "metadata": {
  "kernelspec": {
   "display_name": "Python 3",
   "language": "python",
   "name": "python3"
  },
  "language_info": {
   "codemirror_mode": {
    "name": "ipython",
    "version": 3
   },
   "file_extension": ".py",
   "mimetype": "text/x-python",
   "name": "python",
   "nbconvert_exporter": "python",
   "pygments_lexer": "ipython3",
   "version": "3.7.6"
  }
 },
 "nbformat": 4,
 "nbformat_minor": 4
}
