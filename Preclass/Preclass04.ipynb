{
 "cells": [
  {
   "cell_type": "markdown",
   "metadata": {},
   "source": [
    "# Preclass Preaparation Assignment: Day 04 (Sep 16, 2023)<br>Lists and While Loops\n",
    "\n",
    "Learning goals\n",
    "1. Create, index and slice a one-dimensional or nested list\n",
    "1. Modify a list through indexing, slicing and list methods\n",
    "1. Build a `for` loop that iterates over a `list`\n",
    "1. Build a while loop that will successfully complete as intended"
   ]
  },
  {
   "cell_type": "markdown",
   "metadata": {},
   "source": [
    "## *Self-assessment questions*\n",
    "\n",
    "**If you can already answer these correctly, you can skip the rest of the reading assignment and submit it. Otherwise, complete the rest of the reading assignment and return to these questions to test what you learned. You might decide you would benefit from further review before class.**\n",
    "\n",
    "Note that these questions can often be answered easily by running the provided code, so the intellectual work on your part is figuring out the correct answer and then running the code to check your answer.\n",
    "\n",
    "Please ensure all of these self-assessment questions are answered correctly before submitting this pre-class reading assignment. The *Your Turn* questions, found throughout the rest of this assignment, are for your practice as you learn this material and do not need to be answered correctly to receive full completion marks for this pre-class reading assignment."
   ]
  },
  {
   "cell_type": "markdown",
   "metadata": {},
   "source": [
    "### Self-assessment question 4.1\n",
    "\n",
    "Which number will be printed by the following?\n",
    "```python\n",
    "gnarly_list = [ 1, [2, 3, 4], [5, 6, 7, 8] ]\n",
    "print(gnarly_list[-2][1])\n",
    "```\n",
    "A) 1<br>\n",
    "B) 2<br>\n",
    "C) 3<br>\n",
    "D) 5<br>\n",
    "E) 6<br>\n",
    "F) 7"
   ]
  },
  {
   "cell_type": "code",
   "execution_count": null,
   "metadata": {},
   "outputs": [],
   "source": [
    "# Code testing area to help answer this question\n",
    "\n"
   ]
  },
  {
   "cell_type": "code",
   "execution_count": null,
   "metadata": {},
   "outputs": [],
   "source": [
    "# Enter your answer inside the string quotes and then run this cell to check your anwer\n",
    "\n",
    "answer = \"\"\n",
    "\n",
    "import hashlib\n",
    "assert answer in ['A', 'B', 'C', 'D', 'E', 'F'], \"Your answer did not match any of the choices\"\n",
    "assert hashlib.sha256(answer.encode()).hexdigest() == \\\n",
    "    '6b23c0d5f35d1b11f9b683f0b0a617355deb11277d91ae091d399c655b87940d', \"Your answer is incorrect\"\n",
    "print(\"Your answer\", answer, \"is correct\") # Passed all assert statements above"
   ]
  },
  {
   "cell_type": "markdown",
   "metadata": {},
   "source": [
    "### Self-assessment question 4.2\n",
    "\n",
    "What will be printed by the following?\n",
    "```python\n",
    "my_list = [4, 5, 6, 7]\n",
    "\n",
    "my_list.append(8)\n",
    "my_list[1] = [4, 4]\n",
    "\n",
    "print(my_list)\n",
    "```\n",
    "A) `[4, 4, 4, 6, 7]`<br>\n",
    "B) `[4, 4, 4, 6, 7, 8]`<br>\n",
    "C) `[[4, 4], 5, 6, 7, 8]`<br>\n",
    "D) `[4, [4, 4], 6, 7, 8]`<br>\n",
    "E) `[[4, 4], 5, 6, 7]`<br>\n",
    "F) `[4, [4, 4], 6, 7]`"
   ]
  },
  {
   "cell_type": "code",
   "execution_count": null,
   "metadata": {},
   "outputs": [],
   "source": [
    "# Code testing area to help answer this question\n",
    "\n"
   ]
  },
  {
   "cell_type": "code",
   "execution_count": null,
   "metadata": {},
   "outputs": [],
   "source": [
    "# Enter your answer inside the string quotes and then run this cell to check your anwer\n",
    "\n",
    "answer = \"\"\n",
    "\n",
    "import hashlib\n",
    "assert answer in ['A', 'B', 'C', 'D', 'E', 'F'], \"Your answer did not match any of the choices\"\n",
    "assert hashlib.sha256(answer.encode()).hexdigest() == \\\n",
    "    '3f39d5c348e5b79d06e842c114e6cc571583bbf44e4b0ebfda1a01ec05745d43', \"Your answer is incorrect\"\n",
    "print(\"Your answer\", answer, \"is correct\") # Passed all assert statements above"
   ]
  },
  {
   "cell_type": "markdown",
   "metadata": {},
   "source": [
    "### Self-assessment question 4.3\n",
    "\n",
    "What will be the output of the following?\n",
    "\n",
    "```python\n",
    "gnarly_list2 = [ 1, [2, 3] ]\n",
    "for item in gnarly_list2:\n",
    "    print(item)\n",
    "```\n",
    "A)<br> &nbsp; &nbsp;`1`<br> &nbsp; &nbsp;`2`<br> &nbsp; &nbsp;`3`<br>\n",
    "B)<br> &nbsp; &nbsp;`1`<br> &nbsp; &nbsp;`[2]`<br> &nbsp; &nbsp;`[3]`<br>\n",
    "C)<br> &nbsp; &nbsp;`1`<br> &nbsp; &nbsp;`[2, 3]`\n"
   ]
  },
  {
   "cell_type": "code",
   "execution_count": null,
   "metadata": {},
   "outputs": [],
   "source": [
    "# Code testing area to help answer this question\n",
    "\n"
   ]
  },
  {
   "cell_type": "code",
   "execution_count": null,
   "metadata": {},
   "outputs": [],
   "source": [
    "# Enter your answer inside the string quotes and then run this cell to check your anwer\n",
    "\n",
    "answer = \"\"\n",
    "\n",
    "import hashlib\n",
    "assert answer in ['A', 'B', 'C'], \"Your answer did not match any of the choices\"\n",
    "assert hashlib.sha256(answer.encode()).hexdigest() == \\\n",
    "    '6b23c0d5f35d1b11f9b683f0b0a617355deb11277d91ae091d399c655b87940d', \"Your answer is incorrect\"\n",
    "print(\"Your answer\", answer, \"is correct\") # Passed all assert statements above"
   ]
  },
  {
   "cell_type": "markdown",
   "metadata": {},
   "source": [
    "### Self-assessment question 4.4\n",
    "\n",
    "What will the following code output? Note that commas are used here to help present the answer, but each number would actually appear on a new line\n",
    "\n",
    "```python\n",
    "i = 0\n",
    "while i<10:\n",
    "    print(i+1)\n",
    "    i = i + 1\n",
    "```\n",
    "\n",
    "A) `0, 1, 2, 3, 4, 5, 6, 7, 8, 9`<br>\n",
    "B) `1, 2, 3, 4, 5, 6, 7, 8, 9, 10`<br>\n",
    "C) `1, 2, 3, 4, 5, 6, 7, 8, 9`<br>\n",
    "D) `0, 1, 2, 3, 4, 5, 6, 7, 8, 9, 10` <br>"
   ]
  },
  {
   "cell_type": "code",
   "execution_count": null,
   "metadata": {},
   "outputs": [],
   "source": [
    "# Code testing area to help answer this question\n",
    "\n"
   ]
  },
  {
   "cell_type": "code",
   "execution_count": null,
   "metadata": {},
   "outputs": [],
   "source": [
    "# Enter your answer inside the string quotes and then run this cell to check your anwer\n",
    "\n",
    "answer = \"\"\n",
    "\n",
    "import hashlib\n",
    "assert answer in ['A', 'B', 'C', 'D'], \"Your answer did not match any of the choices\"\n",
    "assert hashlib.sha256(answer.encode()).hexdigest() == \\\n",
    "    'df7e70e5021544f4834bbee64a9e3789febc4be81470df629cad6ddb03320a5c', \"Your answer is incorrect\"\n",
    "print(\"Your answer\", answer, \"is correct\") # Passed all assert statements above"
   ]
  },
  {
   "cell_type": "markdown",
   "metadata": {},
   "source": [
    "## *4.1 Lists*\n",
    "A `list` is a sequence of variables which can be of *any* type. We will reiterate this point later, but a list is mutable, meaning that after you create it, you can change or update the individual elements in the list. This is in contrast to a string, which is immutable.\n",
    "\n",
    "The most common way to create a Python `list` is to use the square brackets `[..]`:"
   ]
  },
  {
   "cell_type": "code",
   "execution_count": null,
   "metadata": {},
   "outputs": [],
   "source": [
    "# Run me!\n",
    "\n",
    "empty_list = [] # We will come back to this one later\n",
    "\n",
    "mylist = [2,3.,5/2,'somestuff'] # Notice it is a mix of different types of elements\n",
    "\n",
    "print(\"type:\",type(mylist))\n",
    "\n",
    "print(\"mylist:\", mylist)"
   ]
  },
  {
   "cell_type": "markdown",
   "metadata": {},
   "source": [
    "## *4.2 Indexing and slicing lists*\n",
    "\n",
    "Like we saw with strings, you can access individual elements in a list using their index. "
   ]
  },
  {
   "cell_type": "code",
   "execution_count": null,
   "metadata": {},
   "outputs": [],
   "source": [
    "# Run me!\n",
    "\n",
    "mylist=[2,3.,5/2,'somestuff']\n",
    "\n",
    "print(mylist[0]) # The first element has index = 0\n",
    "print(mylist[-1]) # The last element has index = -1"
   ]
  },
  {
   "cell_type": "markdown",
   "metadata": {},
   "source": [
    "Slicing also works the same way as we saw with strings"
   ]
  },
  {
   "cell_type": "code",
   "execution_count": null,
   "metadata": {},
   "outputs": [],
   "source": [
    "# Run me!\n",
    "\n",
    "mylist=[2,3.,5/2,'somestuff']\n",
    "\n",
    "print (mylist[2:])\n",
    "print (mylist[::-2])"
   ]
  },
  {
   "cell_type": "markdown",
   "metadata": {},
   "source": [
    "## *4.3 Modifying lists using indexing and slicing*"
   ]
  },
  {
   "cell_type": "markdown",
   "metadata": {},
   "source": [
    "As we mentioned earlier, lists are mutable, which means you can change their elements after creation."
   ]
  },
  {
   "cell_type": "code",
   "execution_count": null,
   "metadata": {},
   "outputs": [],
   "source": [
    "# Run me!\n",
    "\n",
    "mylist=[2,3.,5/2,'somestuff']\n",
    "print(mylist)\n",
    "mylist[-1] = 'differentstuff'\n",
    "print(mylist)"
   ]
  },
  {
   "cell_type": "markdown",
   "metadata": {},
   "source": [
    "You can also modify elements using slicing"
   ]
  },
  {
   "cell_type": "code",
   "execution_count": null,
   "metadata": {},
   "outputs": [],
   "source": [
    "# Run me!\n",
    "\n",
    "mylist=[2,3.,5/2,'somestuff']\n",
    "print(mylist)\n",
    "\n",
    "mylist[1:3] = [\"newstuff\",42]\n",
    "print(mylist)"
   ]
  },
  {
   "cell_type": "markdown",
   "metadata": {},
   "source": [
    "## *4.4 List methods*\n",
    "Like `string` objects, `list` objects have a bunch of useful methods (functions specific to lists) associated with them. A complete list can be found here, https://docs.python.org/3/tutorial/datastructures.html#more-on-lists, but let's look at the one we will put to the most use leading into our first project."
   ]
  },
  {
   "cell_type": "markdown",
   "metadata": {},
   "source": [
    "**Append:** Add an item to the end of the list."
   ]
  },
  {
   "cell_type": "code",
   "execution_count": null,
   "metadata": {},
   "outputs": [],
   "source": [
    "# Run me!\n",
    "\n",
    "mylist=[2,3.,5/2,'somestuff']\n",
    "print(mylist)\n",
    "\n",
    "mylist.append(\"appendedstuff\")\n",
    "print(mylist)"
   ]
  },
  {
   "cell_type": "markdown",
   "metadata": {},
   "source": [
    "Notice that we can even start with an empty list and build it up using the `append()` method"
   ]
  },
  {
   "cell_type": "code",
   "execution_count": null,
   "metadata": {},
   "outputs": [],
   "source": [
    "# Run me!\n",
    "\n",
    "empty_list = [] # Create an empty list\n",
    "empty_list.append(1)\n",
    "empty_list.append(\"two\")\n",
    "empty_list.append(3.)\n",
    "print(empty_list) # Not so empty anymore"
   ]
  },
  {
   "cell_type": "markdown",
   "metadata": {},
   "source": [
    "## *4.5 Nested lists*\n",
    "Lists can also contain other lists, creating nested lists. \n",
    "\n",
    "In the example beow, we show how you can access the `index = 1` element of `gnarly_list` using the expected notation of `gnarly_list[1]`. However, if we want to then access an element within second-level list, we use a second square bracket, `gnarly_list[1][0]`."
   ]
  },
  {
   "cell_type": "code",
   "execution_count": null,
   "metadata": {},
   "outputs": [],
   "source": [
    "# Run me!\n",
    "\n",
    "gnarly_list = [ 1, [2, 3, 4], [5, 6, 7, 8] ]\n",
    "\n",
    "print(gnarly_list)\n",
    "\n",
    "print(gnarly_list[1])\n",
    "\n",
    "print(gnarly_list[1][0])"
   ]
  },
  {
   "cell_type": "markdown",
   "metadata": {},
   "source": [
    "### Your turn #1\n",
    "\n",
    "Using the correct indexing on our list `gnarly_list`, assign `8` to the varible `my_eight` to resolve the `assert` error."
   ]
  },
  {
   "cell_type": "code",
   "execution_count": null,
   "metadata": {},
   "outputs": [],
   "source": [
    "# Using indexing on gnarly_list, assign '8' to the varible 'my_eight'\n",
    "\n",
    "gnarly_list = [ 1, [2, 3, 4], [5, 6, 7, 8] ]\n",
    "\n",
    "my_eight = gnarly_list[1][1] # fix my indices\n",
    "\n",
    "assert my_eight == 8\n",
    "print(\"You answered correctly\")"
   ]
  },
  {
   "cell_type": "markdown",
   "metadata": {},
   "source": [
    "## *4.6 For loop on a List*"
   ]
  },
  {
   "cell_type": "markdown",
   "metadata": {},
   "source": [
    "In addition to iterating over strings, `for` loops can iterate over lists, as well as other iterable objects we will encounter later such as arrays. "
   ]
  },
  {
   "cell_type": "code",
   "execution_count": null,
   "metadata": {},
   "outputs": [],
   "source": [
    "# Run me!\n",
    "\n",
    "mylist=[2,3.,5/2,'somestuff']\n",
    "\n",
    "for v in mylist:\n",
    "    print(type(v), \"v =\", v)"
   ]
  },
  {
   "cell_type": "markdown",
   "metadata": {},
   "source": [
    "Notice again that the elements in this list are a mix of different types: `int`, `float` and `str`.\n",
    "\n",
    "As in the case of strings, you are free to name the enumeration variable (we used `v` in the example above). As you see from the example, Python is updating the variable `v` and its `type` every time it picks up a new element from the list `mylist`."
   ]
  },
  {
   "cell_type": "code",
   "execution_count": null,
   "metadata": {},
   "outputs": [],
   "source": [
    "# Run me!\n",
    "\n",
    "# Note that we could use range(4) since we know the size of the list\n",
    "# or use the more general len(mylist) so that we could use the\n",
    "# same code even if we changed the size of mylist.\n",
    "\n",
    "for i in range(len(mylist)):\n",
    "    print(\"i =\",i,\"; element =\",mylist[i])  # print index, and element."
   ]
  },
  {
   "cell_type": "markdown",
   "metadata": {},
   "source": [
    "**Iterating over the elements of a list vs over the indices of a list:** Both of the following loops have the same output, but are taking different approaches to accessing each element in the list. The first is more concise and readable, but in the second one we have the index `index`, which could facilitate other things we want to do within the `for` loop."
   ]
  },
  {
   "cell_type": "code",
   "execution_count": null,
   "metadata": {},
   "outputs": [],
   "source": [
    "# Run me!\n",
    "\n",
    "mylist = [10, 20, 30, 40, 50]\n",
    "\n",
    "print(\"Iterating over the elements in the list\")\n",
    "for element in mylist:\n",
    "    print(element)\n",
    "\n",
    "print()\n",
    "\n",
    "print(\"Iterating over the indices in the list\")\n",
    "for index in range(len(mylist)):\n",
    "    print(mylist[index])\n"
   ]
  },
  {
   "cell_type": "markdown",
   "metadata": {},
   "source": [
    "### Your turn #2\n",
    "What do you need to change the `print` statement in the `for` loop to be so that the output will be the following? \n",
    "```\n",
    "0\n",
    "1\n",
    "2\n",
    "3\n",
    "4\n",
    "```"
   ]
  },
  {
   "cell_type": "code",
   "execution_count": null,
   "metadata": {},
   "outputs": [],
   "source": [
    "# Fix me so that I have the correct output\n",
    "\n",
    "mylist = [10, 20, 30, 40, 50]\n",
    "for i in range(len(mylist)):\n",
    "    print(mylist[i])"
   ]
  },
  {
   "cell_type": "markdown",
   "metadata": {},
   "source": [
    "## *4.7 Transforming `range` into a real python list*"
   ]
  },
  {
   "cell_type": "markdown",
   "metadata": {},
   "source": [
    "The `range` function makes a range object, which is treated like a list when used as an iterable object. However, it is not actually a list. Among other differences, it is immutable.\n",
    "\n",
    "However, you can use the function `list()` to transform a `range` object into a \"real Python list\". This can be a very quick way to make a list that is initially made of numbers following an equally-spaced sequence."
   ]
  },
  {
   "cell_type": "code",
   "execution_count": null,
   "metadata": {},
   "outputs": [],
   "source": [
    "# Run me!\n",
    "\n",
    "a = range(10,1,-2)\n",
    "print(type(a),\"a = \", a)\n",
    "\n",
    "b = list(a)\n",
    "print(type(b),\"b = \", b) # now b is a list!"
   ]
  },
  {
   "cell_type": "markdown",
   "metadata": {},
   "source": [
    "## 4.8 *`while` loops*\n",
    "\n",
    "Read the following (not the whole chapter, just the first three sections):\n",
    "* **Sections 7.1 to 7.3** from http://greenteapress.com/thinkpython2/html/thinkpython2008.html"
   ]
  },
  {
   "cell_type": "markdown",
   "metadata": {},
   "source": [
    "**A `while` loop:** This conditional statement will continue looping through a block of code  as long as 'condition' is `True`. The generic syntax is:\n",
    "\n",
    "```python\n",
    "while condition:\n",
    "    statements if condition is True\n",
    "    returns to the start of while loop while condition is True\n",
    "\n",
    "subsequent statements\n",
    "```\n",
    "\n",
    "Like with the `if` statements and `for` loops, the `:` at the end of the line and the indenting are both mantatory. The condition is checked when the while statement is first encountered, and then each time the end of the block is reached. If the condition becomes false part way through the block, the rest of the block **is** executed and then the loop terminates at the end of the block when it goes to check that `condition` == `True` again."
   ]
  },
  {
   "cell_type": "markdown",
   "metadata": {},
   "source": [
    "**IMPORTANT NOTE ABOUT WHILE LOOPS IN JUPYTER:** `while` loops are much more fragile than `for` loops in that it is quite easy to accidentally make an \"infinite loop\", which is a loop that will never finish because the statements inside the loop never make the `while` condition `False`. Jupyter can be quite slow to allow you to terminate infinite loops so we use some additional precautions in this section to help you avoid getting stuck in infinite loops. "
   ]
  },
  {
   "cell_type": "markdown",
   "metadata": {},
   "source": [
    "**Example:** Let's revisit one of our `for` loops from earlier and look at the equivalent `while` loop construction."
   ]
  },
  {
   "cell_type": "code",
   "execution_count": null,
   "metadata": {},
   "outputs": [],
   "source": [
    "# Run me to see the reminder of the for loop version!\n",
    "\n",
    "mylist = [10, 20, 30, 40, 50]\n",
    "\n",
    "for index1 in range(len(mylist)):\n",
    "    print(mylist[index1])\n"
   ]
  },
  {
   "cell_type": "code",
   "execution_count": null,
   "metadata": {},
   "outputs": [],
   "source": [
    "# Run me!\n",
    "\n",
    "mylist = [10, 20, 30, 40, 50]\n",
    "\n",
    "index2 = 0\n",
    "\n",
    "while index2 < len(mylist):\n",
    "    print(mylist[index2])\n",
    "    index2 += 1\n"
   ]
  },
  {
   "cell_type": "markdown",
   "metadata": {},
   "source": [
    "**Pause to consider:** For the while loop above, why did we use `index2 < len(mylist)` instead of `index2 <= len(mylist)`, where `<=` means less than or equal to?"
   ]
  },
  {
   "cell_type": "markdown",
   "metadata": {},
   "source": [
    "**When would you use a `while` loop instead of a for loop?** This might be a question you are asking yourself at the moment. The answer is that `while` loops are best-suited for situations where you don't know in advance how many iterations you might need. Examples include:\n",
    "* Simulating a process where the loop runs until a condition is met, such as using stored funds on a transit card and then receiving an alert when the balance goes below a set amount (such as $10).\n",
    "* Waiting for an event, such as it going from morning to afternoon."
   ]
  },
  {
   "cell_type": "markdown",
   "metadata": {},
   "source": [
    "### Your turn #3\n",
    "\n",
    "**BEFORE INTERACTING WITH THE CODE BELOW:** \n",
    "1. You need to know how to terminate an infinite loop, but unfortunately with the web-based Jupyter servers, they often respond quite slowly. First, try to click on `Kernel` above and then `Interrupt`. The longer you let your infinite loop run, the longer this may take to respond. If it takes more than 10s of seconds, you can try to instead `Shutdown` the kernel. If you are not getting any response from either of these approaches, try going to `File >> Hub Control Panel` and then clicking on `Stop My Server`, closing your old Jupyter Open tab, and then clicking on `Start my Server`. Once you initiate the initial `Interrupt`, you may just need to wait until that tab on your browser crashes and then reload it. \n",
    "2. To help prevent the hassle described above for the following exercise, we added some additional code that checks how long the cell has been running and then exits the loop if it has taken too long.\n",
    "\n",
    "Run the cell below and then explore the following questions:\n",
    "\n",
    "1. Does the \"I really wasn't expecting this result\" ever print?\n",
    "1. What happens if you add four spaces in front of the 'print(\"Loop finished\")' statement?\n",
    "1. What happens if you comment out or delete the x = x + dx line?\n",
    "1. What happens if we define `xmax` as a value smaller than our initial value of `x=0.`?\n",
    "\n",
    "*Note that this program is a very un-python way of doing this sort of calculation and is really the kind of construction is the kind of approach used in older programming languages like C or Fortran. A much more pythonesque way of doing this would be to make x an array and do all the calculations at once, which is something we will learn in a lesson in the near future.*"
   ]
  },
  {
   "cell_type": "code",
   "execution_count": null,
   "metadata": {},
   "outputs": [],
   "source": [
    "# Run me and then explore the additional your turn questions\n",
    "\n",
    "import numpy as np\n",
    "import time # To help save us from infinite loops\n",
    "\n",
    "x = 0.\n",
    "xmax = np.pi\n",
    "dx = .25\n",
    "\n",
    "print(\"Starting the loop with x =\",x)\n",
    "\n",
    "### Don't delete this statement, it helps save us from infinite loops\n",
    "time_then = time.time()\n",
    "###\n",
    "\n",
    "while x <= xmax:\n",
    "\n",
    "    ### Don't delete this statement, it saves us from infinite loops\n",
    "    if (time.time()-time_then) > 0.1: print(\"Cell timed out\"); break\n",
    "    ###\n",
    "\n",
    "    if (x > xmax):\n",
    "        print(\"I really wasn't expecting this result\")\n",
    "    else :\n",
    "        print(f\"sin({x}) = {np.sin(x):.3f}\")\n",
    "    x = x + dx\n",
    "\n",
    "print(\"Loop finished\")"
   ]
  },
  {
   "cell_type": "markdown",
   "metadata": {},
   "source": [
    "## *Submitting this reading assignment*\n",
    "Before submitting your work, restart + rerun your notebook to make sure that everything runs correctly and without error. We will only check that the Self-assessment questions at the start of the assignment have run correctly. After you've executed and checked your notebook, choose: File => Save_and_Export_Notebook_As => HTML. This will download an HTML version of your notebook to your computer which you can upload to Canvas"
   ]
  }
 ],
 "metadata": {
  "kernelspec": {
   "display_name": "Python 3",
   "language": "python",
   "name": "python3"
  },
  "language_info": {
   "codemirror_mode": {
    "name": "ipython",
    "version": 3
   },
   "file_extension": ".py",
   "mimetype": "text/x-python",
   "name": "python",
   "nbconvert_exporter": "python",
   "pygments_lexer": "ipython3",
   "version": "3.7.6"
  }
 },
 "nbformat": 4,
 "nbformat_minor": 4
}
