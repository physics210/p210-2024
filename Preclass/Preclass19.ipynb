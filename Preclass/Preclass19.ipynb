{
 "cells": [
  {
   "cell_type": "markdown",
   "metadata": {},
   "source": [
    "# Preclass Assignment: Day 19 (Nov 20, 2024)<br>File input and output\n",
    "Learning goals\n",
    "1. Write to a file using the `file.write()` or `np.savetxt()` functions\n",
    "1. Read from a file using the `file.readline()` or `np.loadtxt()` functions\n",
    "1. Extract data of the desired format after using the `file.readline()` or `np.loadtxt()`"
   ]
  },
  {
   "cell_type": "markdown",
   "metadata": {},
   "source": [
    "## *Self-assessment questions*\n",
    "\n",
    "**If you can already answer these correctly, you can skip the rest of the reading assignment and submit it. Otherwise, complete the rest of the reading assignment and return to these questions to test what you learned. You might decide you would benefit from further review before class.**\n",
    "\n",
    "Note that these questions can often be answered easily by running the provided code, so the intellectual work on your part is figuring out the correct answer and then running the code to check your answer.\n",
    "\n",
    "Please ensure all of these self-assessment questions are answered correctly before submitting this pre-class reading assignment. The *Your Turn* questions, found throughout the rest of this assignment, are for your practice as you learn this material and do not need to be answered correctly to receive full completion marks for this pre-class reading assignment."
   ]
  },
  {
   "cell_type": "markdown",
   "metadata": {},
   "source": [
    "### Self-assessment question #1\n",
    "\n",
    "A file `data.csv` contains the following data.\n",
    "\n",
    "```\n",
    "N,x,y,xerror,yerror\n",
    "1,1.24,3.14,0.012,0.52\n",
    "2,1.26,3.89,0.012,0.52\n",
    "3,1.28,4.04,0.012,0.53\n",
    "4,1.3,4.33,0.012,0.53\n",
    "5,1.33,4.67,0.012,0.54\n",
    "6,1.35,5.08,0.012,0.54\n",
    "# Data from 10:15:39 on September 12 2016,,,,\n",
    "```\n",
    "\n",
    "You run the following code \n",
    "```python\n",
    "data = np.genfromtxt(file, delimiter=',', skip_header=1, names=True)\n",
    "print(data)\n",
    "```\n",
    "and notice in the output that you failed to import the first row of data.:\n",
    "```\n",
    "[(2., 1.26, 3.89, 0.012, 0.52) \n",
    " (3., 1.28, 4.04, 0.012, 0.53)\n",
    " (4., 1.3 , 4.33, 0.012, 0.53) \n",
    " (5., 1.33, 4.67, 0.012, 0.54)\n",
    " (6., 1.35, 5.08, 0.012, 0.54)]\n",
    "```\n",
    "Which of the following will fix this issue?\n",
    "\n",
    "A) Remove only the `skip_header=1` argument<br>\n",
    "B) Remove only the `names=True` argument<br>\n",
    "C) Remove both the `skip_header=1` and `names=True` arguments<br>\n",
    "D) Remove either the `skip_header=1` or the `names=True` argument, but not both"
   ]
  },
  {
   "cell_type": "code",
   "execution_count": null,
   "metadata": {},
   "outputs": [],
   "source": [
    "# Code testing area to help answer this question\n",
    "\n"
   ]
  },
  {
   "cell_type": "code",
   "execution_count": null,
   "metadata": {},
   "outputs": [],
   "source": [
    "# Enter your answer inside the string quotes and run this cell to check your anwer\n",
    "\n",
    "answer = \"\"\n",
    "\n",
    "import hashlib\n",
    "assert answer in ['A', 'B', 'C', 'D'], \"Your answer did not match any of the choices\"\n",
    "assert hashlib.sha256(answer.encode()).hexdigest() == \\\n",
    "    '3f39d5c348e5b79d06e842c114e6cc571583bbf44e4b0ebfda1a01ec05745d43', \"Your answer is incorrect\"\n",
    "print(\"Your answer\", answer, \"is correct\") # Passed all assert statements above"
   ]
  },
  {
   "cell_type": "markdown",
   "metadata": {},
   "source": [
    "### Self-assessment question #2\n",
    "\n",
    "Using the same `data.csv` from the previous question\n",
    "\n",
    "```\n",
    "N,x,y,xerror,yerror\n",
    "1,1.24,3.14,0.012,0.52\n",
    "2,1.26,3.89,0.012,0.52\n",
    "3,1.28,4.04,0.012,0.53\n",
    "4,1.3,4.33,0.012,0.53\n",
    "5,1.33,4.67,0.012,0.54\n",
    "6,1.35,5.08,0.012,0.54\n",
    "# Data from 10:15:39 on September 12 2016,,,,\n",
    "```\n",
    "\n",
    "You run the following code \n",
    "```python\n",
    "data = np.genfromtxt(file, delimiter=',', names=True)\n",
    "print(data)\n",
    "```\n",
    "and your array looks as follows:\n",
    "```\n",
    "[(1., 1.24, 3.14, 0.012, 0.52) \n",
    " (2., 1.26, 3.89, 0.012, 0.52)\n",
    " (3., 1.28, 4.04, 0.012, 0.53) \n",
    " (4., 1.3 , 4.33, 0.012, 0.53)\n",
    " (5., 1.33, 4.67, 0.012, 0.54) \n",
    " (6., 1.35, 5.08, 0.012, 0.54)]\n",
    "```\n",
    "Which of the following will correctly access the value '1.24', stored in column 1 of row 0?\n",
    "\n",
    "A) `data[0,1]`<br>\n",
    "B) `data['x',0]`<br>\n",
    "C) `data['x',1]`<br>\n",
    "D) `data['x'][0]`<br>\n",
    "E) `data['x'][1]`<br>"
   ]
  },
  {
   "cell_type": "code",
   "execution_count": null,
   "metadata": {},
   "outputs": [],
   "source": [
    "# Code testing area to help answer this question\n",
    "\n"
   ]
  },
  {
   "cell_type": "code",
   "execution_count": null,
   "metadata": {},
   "outputs": [],
   "source": [
    "# Enter your answer inside the string quotes and run this cell to check your anwer\n",
    "\n",
    "answer = \"\"\n",
    "\n",
    "import hashlib\n",
    "assert answer in ['A', 'B', 'C', 'D', 'E'], \"Your answer did not match any of the choices\"\n",
    "assert hashlib.sha256(answer.encode()).hexdigest() == \\\n",
    "    '3f39d5c348e5b79d06e842c114e6cc571583bbf44e4b0ebfda1a01ec05745d43', \"Your answer is incorrect\"\n",
    "print(\"Your answer\", answer, \"is correct\") # Passed all assert statements above"
   ]
  },
  {
   "cell_type": "markdown",
   "metadata": {},
   "source": [
    "### Self-assessment question #3\n",
    "\n",
    "How many different methods are available to write arrays to CSV files?\n",
    "\n",
    "A) 0<br>\n",
    "B) 1<br>\n",
    "C) Too many<br>"
   ]
  },
  {
   "cell_type": "code",
   "execution_count": null,
   "metadata": {},
   "outputs": [],
   "source": [
    "# Code testing area to help answer this question\n",
    "\n"
   ]
  },
  {
   "cell_type": "code",
   "execution_count": null,
   "metadata": {},
   "outputs": [],
   "source": [
    "# Enter your answer inside the string quotes and run this cell to check your anwer\n",
    "\n",
    "answer = \"C\"\n",
    "\n",
    "import hashlib\n",
    "assert answer in ['A', 'B', 'C'], \"Your answer did not match any of the choices\"\n",
    "assert hashlib.sha256(answer.encode()).hexdigest() == \\\n",
    "    '6b23c0d5f35d1b11f9b683f0b0a617355deb11277d91ae091d399c655b87940d', \"Your answer is incorrect\"\n",
    "print(\"Your answer\", answer, \"is correct\") # Passed all assert statements above"
   ]
  },
  {
   "cell_type": "markdown",
   "metadata": {},
   "source": [
    "## *1. Intro to File I/O (input/output) using csv files*"
   ]
  },
  {
   "cell_type": "markdown",
   "metadata": {},
   "source": [
    "Although there are ways to read to and write from a variety of file types in Python, the most useful file type in Physics and data science applications is the Comma-Separated Values (CSV) file. These are plain text files that use commas `,` as delimeters to differentiate between one value and the next, and newline characters to indicate (wait for it) new lines.\n",
    "\n",
    "These files are human readable and can be opened in text editors (where you see the commas) or in spreadsheet programs where they look like tabular data. "
   ]
  },
  {
   "cell_type": "markdown",
   "metadata": {},
   "source": [
    "## *2. Reading from a csv file with `np.genfromtxt()`*"
   ]
  },
  {
   "cell_type": "markdown",
   "metadata": {},
   "source": [
    "A very useful and flexible function for reading from `.csv` files is `np.genfromtxt()`. It allows you to read a text file, including `.csv` files, and store the information as a numpy array. \n",
    "\n",
    "Let's look at how to open the file `Preclass19-Example_Data.csv`, which starts with a header row, 6 rows of data and then a comment line. The file looks as follows:\n",
    "\n",
    "```\n",
    "N,x,y,xerror,yerror\n",
    "1,1.24,3.14,0.012,0.52\n",
    "2,1.26,3.89,0.012,0.52\n",
    "3,1.28,4.04,0.012,0.53\n",
    "4,1.3,4.33,0.012,0.53\n",
    "5,1.33,4.67,0.012,0.54\n",
    "6,1.35,5.08,0.012,0.54\n",
    "# Data from 10:15:39 on September 12 2016,,,,\n",
    "```"
   ]
  },
  {
   "cell_type": "markdown",
   "metadata": {},
   "source": [
    "### 2.1 Basic use of `np.genfromtxt()`"
   ]
  },
  {
   "cell_type": "markdown",
   "metadata": {},
   "source": [
    "The following code opens file and stores the contents, skipping the header row and the comment row, and storing the rest in a 6 row, 5 column array."
   ]
  },
  {
   "cell_type": "code",
   "execution_count": null,
   "metadata": {},
   "outputs": [],
   "source": [
    "# Run me to read 'Preclass19-Example_Data.csv' to the 'data' array\n",
    "\n",
    "import numpy as np\n",
    "\n",
    "data = np.genfromtxt(\n",
    "    'Preclass19-Example_Data.csv', # The file\n",
    "    delimiter=',', # The delimeter which is ',' for csv files\n",
    "    skip_header=1) # Skip the first row\n",
    "print(data)\n",
    "# Also note that by defaut genfromtxt skips any line that starts with '#'"
   ]
  },
  {
   "cell_type": "markdown",
   "metadata": {},
   "source": [
    "You can access a column of data (column 0 in this example) using our familiar array indexing"
   ]
  },
  {
   "cell_type": "code",
   "execution_count": null,
   "metadata": {},
   "outputs": [],
   "source": [
    "# Run me to access column 0 of the array\n",
    "\n",
    "N = data[:,0]\n",
    "print(N)"
   ]
  },
  {
   "cell_type": "markdown",
   "metadata": {},
   "source": [
    "### 2.2 Including variable names and creating a structured array"
   ]
  },
  {
   "cell_type": "markdown",
   "metadata": {},
   "source": [
    "In files where we have a header row of column names, we can extract those as wel using the `names = True` optional argument. When we do this, we exclude the `skip_header` optional argument so that the header row is read in for the names. This creates a structured array, which has some slightly different indexing rules than a regular numpy array. \n",
    "\n",
    "Each column in our data set now has a 'field name', which is stored via via the attribute `.dtype.names`. In the code below you can see that `data.dtype.names` has all the column names from the header line in our csv file. "
   ]
  },
  {
   "cell_type": "code",
   "execution_count": null,
   "metadata": {},
   "outputs": [],
   "source": [
    "# Run me to read the csv file into a structured array\n",
    "\n",
    "file = 'Preclass19-Example_Data.csv'\n",
    "sdata = np.genfromtxt(file, delimiter=',', names=True)\n",
    "\n",
    "print(\"The data array:\")\n",
    "print(sdata)\n",
    "print(\"\\nThe field names extracted from the header row:\")\n",
    "print(sdata.dtype.names)"
   ]
  },
  {
   "cell_type": "markdown",
   "metadata": {},
   "source": [
    "Now let's look at how to access columns of data from a structured array. Our first method is directly through field name."
   ]
  },
  {
   "cell_type": "code",
   "execution_count": null,
   "metadata": {},
   "outputs": [],
   "source": [
    "# Run me to see how to access column 0, 'N'\n",
    "\n",
    "N_data = sdata['N'] \n",
    "print(N_data)"
   ]
  },
  {
   "cell_type": "markdown",
   "metadata": {},
   "source": [
    "If you still want to use indexing to access a specific column of data, you can use indexing on `data.dtype.names`, as shown."
   ]
  },
  {
   "cell_type": "code",
   "execution_count": null,
   "metadata": {},
   "outputs": [],
   "source": [
    "# Run me for how to access column 0 using indexing\n",
    "\n",
    "col0_data = sdata[sdata.dtype.names[0]]\n",
    "print(col0_data)"
   ]
  },
  {
   "cell_type": "markdown",
   "metadata": {},
   "source": [
    "### 2.3 Handling missing data"
   ]
  },
  {
   "cell_type": "markdown",
   "metadata": {},
   "source": [
    "One very handy reason to use `np.genfromtxt` over an alternative such as `np.loadtxt` is that it is flexible in how it handles missing data. We introduce a second data file, `Preclass19-Example_Data2.csv`, with the `yerror` column missing every second value. Let's open that file and see what happens.\n",
    "```\n",
    "N,x,y,xerror,yerror\n",
    "1,1.24,3.14,0.012,0.52\n",
    "2,1.26,3.89,0.012,\n",
    "3,1.28,4.04,0.012,0.53\n",
    "4,1.3,4.33,0.012,\n",
    "5,1.33,4.67,0.012,0.54\n",
    "6,1.35,5.08,0.012,\n",
    "# Data from 10:15:39 on September 12 2016,,,,\n",
    "```"
   ]
  },
  {
   "cell_type": "code",
   "execution_count": null,
   "metadata": {},
   "outputs": [],
   "source": [
    "# Run me to open the data file with missing values\n",
    "\n",
    "file2 = 'Preclass19-Example_Data2.csv'\n",
    "data2 = np.genfromtxt(file2, delimiter=',', skip_header=1)\n",
    "print(data2)"
   ]
  },
  {
   "cell_type": "markdown",
   "metadata": {},
   "source": [
    "What we see is that the missing values are replaced by `nan`, which means \"not a number\".\n",
    "\n",
    "By default, many numpy functions will return `nan` if you try to operate on an array that contain `nan` values. For example if we try to take the mean of the `yerror` column..."
   ]
  },
  {
   "cell_type": "code",
   "execution_count": null,
   "metadata": {},
   "outputs": [],
   "source": [
    "# Run me to see the result of taking the mean of an array with `nan` values\n",
    "\n",
    "col4 = data2[:,4]\n",
    "result = np.mean(col4)\n",
    "                 \n",
    "print(\"The np.mean of the column\")\n",
    "print(col4)\n",
    "print(\"is:\", result)"
   ]
  },
  {
   "cell_type": "markdown",
   "metadata": {},
   "source": [
    "Fortunately, there is a suite of numpy functions that are built to ignore `nan` values when doing calculations, such as `np.nanmean`. More of these functions can be found at https://numpy.org/doc/stable/reference/routines.statistics.html"
   ]
  },
  {
   "cell_type": "code",
   "execution_count": null,
   "metadata": {},
   "outputs": [],
   "source": [
    "# Run me to see the result of taking the nanmean of an array with `nan` values\n",
    "\n",
    "result2 = np.nanmean(col4)\n",
    "                 \n",
    "print(\"The np.nanmean of the column\")\n",
    "print(col4)\n",
    "print(\"is:\", result2)"
   ]
  },
  {
   "cell_type": "markdown",
   "metadata": {},
   "source": [
    "Related to missing values, there's another very helpful thing that `np.genfromtxt` can do, which is fill in missing values with a default value using the `filling_values` argument, as shown..."
   ]
  },
  {
   "cell_type": "code",
   "execution_count": null,
   "metadata": {},
   "outputs": [],
   "source": [
    "file2 = 'Preclass19-Example_Data2.csv'\n",
    "sdata2 = np.genfromtxt(file2, delimiter=',', names = True, filling_values=-99)\n",
    "print(sdata2)"
   ]
  },
  {
   "cell_type": "markdown",
   "metadata": {},
   "source": [
    "### 2.4 Selecting specific columns to read with `np.genfromtxt`"
   ]
  },
  {
   "cell_type": "markdown",
   "metadata": {},
   "source": [
    "You can do a selective reading of the array using the `usecols` argument. In the example below, we select only the N, x and y columns"
   ]
  },
  {
   "cell_type": "code",
   "execution_count": null,
   "metadata": {},
   "outputs": [],
   "source": [
    "# Run me for a regular array with only columns 0, 1, 2\n",
    "\n",
    "file = 'Preclass19-Example_Data.csv'\n",
    "data = np.genfromtxt(file, delimiter=',', skip_header=1, usecols=(0,1,2))\n",
    "\n",
    "print(data)"
   ]
  },
  {
   "cell_type": "code",
   "execution_count": null,
   "metadata": {},
   "outputs": [],
   "source": [
    "# Run me for a structured array with columns 0, 1, 2\n",
    "\n",
    "file = 'Preclass19-Example_Data.csv'\n",
    "sdata = np.genfromtxt(file, delimiter=',', names=True, usecols=(0,1,2))\n",
    "\n",
    "print(sdata)"
   ]
  },
  {
   "cell_type": "markdown",
   "metadata": {},
   "source": [
    "### 2.5 Specifying data type with `np.genfromtxt`, by column"
   ]
  },
  {
   "cell_type": "markdown",
   "metadata": {},
   "source": [
    "You can force `np.genfromtxt` to try detect data type by column using the `dtype = None` argument. You can use the `.dtype` attribute to look at the assigned data types, by column. "
   ]
  },
  {
   "cell_type": "code",
   "execution_count": null,
   "metadata": {},
   "outputs": [],
   "source": [
    "# Run me to show np.genfromtxt automatically detect data type by column.\n",
    "\n",
    "file = 'Preclass19-Example_Data.csv'\n",
    "sdata = np.genfromtxt(file, delimiter=',', names=True, dtype=None)\n",
    "\n",
    "print(\"The structured data array:\")\n",
    "print(sdata)\n",
    "print(\"\\nThe data types, by column:\")\n",
    "print(sdata.dtype)"
   ]
  },
  {
   "cell_type": "markdown",
   "metadata": {},
   "source": [
    "A brief summary of how to interpret the output from `print(data.dtype)`:\n",
    "* The notation `('N', '<i4')` tells you that the column 'N' is of data type '<i4'\n",
    "* These data types are shorthand with the following pieces:\n",
    "  - `<`: This is byte order and is something that we do not need to concern ourselves with\n",
    "  - `i`: This is the data code type, where the most common ones we will see are `i` for integer, `f` for float and `U` for (unicode) string\n",
    "  - `4`: This is the number of bytes (8 bits per bite) the data type occupies. So `i4` is a 32-bit integer, equivalent to `int32`. For strings, the number of bytes represents the maximum number of characters in the string. "
   ]
  },
  {
   "cell_type": "markdown",
   "metadata": {},
   "source": [
    "If you use `dtype = None` without `names = True`, it will still automatically switch over to a structured array since this is the only way to hold mixed data types within a single array. In this case it automatically creates column names: `f0`, `f1`, `f2`, etc."
   ]
  },
  {
   "cell_type": "code",
   "execution_count": null,
   "metadata": {},
   "outputs": [],
   "source": [
    "# Run me!\n",
    "\n",
    "file = 'Preclass19-Example_Data.csv'\n",
    "data = np.genfromtxt(file, delimiter=',', skip_header = True, dtype=None)\n",
    "\n",
    "print(\"The structured data array:\")\n",
    "print(data)\n",
    "print(\"\\nThe data types, by column:\")\n",
    "print(data.dtype)"
   ]
  },
  {
   "attachments": {
    "r18.png": {
     "image/png": "[encoded data removed]"
    }
   },
   "cell_type": "markdown",
   "metadata": {},
   "source": [
    "### Your turn #2\n",
    "\n",
    "Using any of the methods described above, read the data in from `Preclass19-Example_Data.csv` and then plot the `y` vs `x` data as shown in the example plot.\n",
    "\n",
    "![r18.png](attachment:r18.png)"
   ]
  },
  {
   "cell_type": "code",
   "execution_count": null,
   "metadata": {},
   "outputs": [],
   "source": [
    "# Your code here\n",
    "\n"
   ]
  },
  {
   "cell_type": "markdown",
   "metadata": {},
   "source": [
    "## *3 Writing arrays to file*"
   ]
  },
  {
   "cell_type": "markdown",
   "metadata": {},
   "source": [
    "This section details writing the regular numpy arrays and structured arrays to csv files. Writing the structured arrays to file has a bit more overhead so we will start with writing regular numpy arrays to file."
   ]
  },
  {
   "cell_type": "markdown",
   "metadata": {},
   "source": [
    "### 3.1 Writing regular numpy arrays to file with `np.savetxt()`"
   ]
  },
  {
   "cell_type": "markdown",
   "metadata": {},
   "source": [
    "Similarly, you can write arrays in files in text format using the `savetxt()` numpy method. \n",
    "\n",
    "A few notes:\n",
    "* Since we are creating a csv file, we need to specify the delimeter, `delimiter=','`\n",
    "* We are specifying the header manually using `header = 'N,x,y'`\n",
    "* The argument `comments=''` is preventing a `#` from being placed in front of the header\n",
    "* When you open the file 'newexamplearray.csv' after creating it, you will notice that everything has been written in scientific notation with 19 significant figures. We will also discuss how to change this."
   ]
  },
  {
   "cell_type": "code",
   "execution_count": null,
   "metadata": {},
   "outputs": [],
   "source": [
    "# Run me and then open the file 'newexamplearray.csv' to examine its contents\n",
    "\n",
    "import numpy as np\n",
    "\n",
    "short_data = np.array(\n",
    "    [[1, 1.24, 3.14],\n",
    "     [20, 1.26, 3.89],\n",
    "     [300, 1.28, 4.04],\n",
    "     [4000, 1.3 , 4.33],\n",
    "     [50000, 1.33, 4.67],\n",
    "     [600000, 1.35, 5.08]])\n",
    "\n",
    "# output file name\n",
    "outfile = 'newexamplearray.csv'\n",
    "\n",
    "np.savetxt(outfile, short_data, delimiter=',', header = 'N,x,y', comments='')"
   ]
  },
  {
   "cell_type": "markdown",
   "metadata": {},
   "source": [
    "Run the following examples to see how `fmt=` can be used to specify the format of the data being written to file."
   ]
  },
  {
   "cell_type": "code",
   "execution_count": null,
   "metadata": {},
   "outputs": [],
   "source": [
    "# Run me to have all values written to 6 decmimal places\n",
    "\n",
    "outfile = 'newexamplearray2.csv'\n",
    "np.savetxt(outfile, short_data, delimiter=',', fmt='%.6f', header = 'N,x,y', comments='')"
   ]
  },
  {
   "cell_type": "code",
   "execution_count": null,
   "metadata": {},
   "outputs": [],
   "source": [
    "# Run me to have all values written to 4 significant figures, where it switches \n",
    "# automatically to scientific notation if needed\n",
    "\n",
    "outfile = 'newexamplearray3.csv'\n",
    "np.savetxt(outfile, short_data, delimiter=',', fmt='%.4g', header = 'N,x,y', comments='')"
   ]
  },
  {
   "cell_type": "code",
   "execution_count": null,
   "metadata": {},
   "outputs": [],
   "source": [
    "# Run me to have all values written to 4 significant figures using scientification notation\n",
    "\n",
    "outfile = 'newexamplearray4.csv'\n",
    "np.savetxt(outfile, short_data, delimiter=',', fmt='%.4e', header = 'N,x,y', comments='')"
   ]
  },
  {
   "cell_type": "markdown",
   "metadata": {},
   "source": [
    "### 3.2 Writing structured arrays to file with `np.savetxt()`"
   ]
  },
  {
   "cell_type": "markdown",
   "metadata": {},
   "source": [
    "If the contents of your structured array are all numbers that can be represented as floats, then everything we learned above about `np.savetxt` applies here as well."
   ]
  },
  {
   "cell_type": "code",
   "execution_count": null,
   "metadata": {},
   "outputs": [],
   "source": [
    "# Run me to read an all-numerical structured array and then write it to file\n",
    "\n",
    "# Our input and output files\n",
    "in_file = 'Preclass19-Example_Data.csv'\n",
    "out_file = 'structured_data1.csv'\n",
    "\n",
    "# Read the file in as a structured array\n",
    "sdata = np.genfromtxt(in_file, delimiter=',', names=True, dtype=None)\n",
    "\n",
    "# Write the structured array to file as floats (default)\n",
    "np.savetxt(out_file, sdata, delimiter=',', comments='')"
   ]
  },
  {
   "cell_type": "markdown",
   "metadata": {},
   "source": [
    "If the contents of your structured array are mixed data types that include strings, you need to specify the format of each column using the `fmt` argument, as shown below. "
   ]
  },
  {
   "cell_type": "code",
   "execution_count": null,
   "metadata": {},
   "outputs": [],
   "source": [
    "# Define a structured array\n",
    "sdata3 = np.array([(1, 2.54, 'Britsh Columbia'), (3, 4.51, 'Alberta'), (5, 6.75, 'Saskatchewan')],\n",
    "                dtype=[('ID', 'i4'), ('Score', 'f4'), ('Province', 'U20')])\n",
    "\n",
    "# Write to a CSV file with appropriate formats for each column\n",
    "np.savetxt('structured_data2.csv', sdata3, delimiter=',', fmt=['%d', '%.2f', '%s'], header=\"ID,Score,Name\", comments='')"
   ]
  },
  {
   "cell_type": "markdown",
   "metadata": {},
   "source": [
    "### 3.3 Writing to file using the `csv` module or the `pandas` module"
   ]
  },
  {
   "cell_type": "markdown",
   "metadata": {},
   "source": [
    "We introduce two final methods of writing structured arrays to csv. It writes the structured array to file as it appears when you are working with it, so doesn't require a bunch of specification about the format of the contents.\n",
    "\n",
    "The first uses the `csv` module, and writes to file one line at a time."
   ]
  },
  {
   "cell_type": "code",
   "execution_count": null,
   "metadata": {},
   "outputs": [],
   "source": [
    "# Run me to write to file using the csv module\n",
    "\n",
    "import csv\n",
    "\n",
    "# Define a structured array\n",
    "sdata3 = np.array([(1, 2.54, 'Britsh Columbia'), (3, 4.51, 'Alberta'), (5, 6.75, 'Saskatchewan')],\n",
    "                dtype=[('ID', 'i4'), ('Score', 'f4'), ('Province', 'U20')])\n",
    "\n",
    "# Open a CSV file and then write the data\n",
    "with open('structured_data3.csv', mode='w', newline='') as file:\n",
    "     \n",
    "    # Create a csv writer object \"wr_obj\", allowing us to use\n",
    "    # the \"writerow()\" method to write each individual row to file, \n",
    "    # including a header row\n",
    "    wr_obj = csv.writer(file)\n",
    "\n",
    "    # Write the header, consisting of the column/field names\n",
    "    wr_obj.writerow(sdata3.dtype.names)\n",
    "    \n",
    "    # Write each row of the structured array\n",
    "    for row in sdata3:\n",
    "        wr_obj.writerow(row)"
   ]
  },
  {
   "cell_type": "markdown",
   "metadata": {},
   "source": [
    "The second method, and arguably these simplest of all of them, uses the `pandas` module. Pandas uses a data structure called a dataframe, which is very similar to the structured arrays we have been working with so far in this preclass assignment. We won't get into further details of working with dataframes in this course, but will note that the line `df = pd.DataFrame(sdata3)` converts our structured array to a dataframe so that pandas can then write the dataframe to file using `df.to_csv()`."
   ]
  },
  {
   "cell_type": "code",
   "execution_count": null,
   "metadata": {},
   "outputs": [],
   "source": [
    "# Run me to write to file using the pandas module\n",
    "\n",
    "import pandas as pd\n",
    "\n",
    "# Create a structured array\n",
    "sdata3 = np.array([(1, 2.54, 'Britsh Columbia'), (3, 4.51, 'Alberta'), (5, 6.75, 'Saskatchewan')],\n",
    "                dtype=[('ID', 'i4'), ('Score', 'f4'), ('Province', 'U20')])\n",
    "\n",
    "# Convert the structured array to a pandas DataFrame\n",
    "df = pd.DataFrame(sdata3)\n",
    "\n",
    "# Write to a CSV file\n",
    "df.to_csv('structured_data4.csv', index=False)\n"
   ]
  },
  {
   "cell_type": "markdown",
   "metadata": {},
   "source": [
    "Phew! That was quite the journey. As we did with subplots and string formatting, pick your preferred method of doing the file input and output, and learn how to use that well. The other methods are worth having in your mind so that when you encounter them in the code of others, you have a basic undertanding of what is happening."
   ]
  },
  {
   "cell_type": "markdown",
   "metadata": {},
   "source": [
    "## *Submitting this reading assignment*\n",
    "Before submitting your work, restart + rerun your notebook to make sure that your self-assessmet questions run correctly and without error. We will only check that the Self-assessment questions at the start of the assignment have run correctly. After you've executed and checked your notebook, choose: File >> Save_and_Export_Notebook_As >> HTML. This will download an HTML version of your notebook to your computer which you can upload to Canvas"
   ]
  }
 ],
 "metadata": {
  "kernelspec": {
   "display_name": "Python 3",
   "language": "python",
   "name": "python3"
  },
  "language_info": {
   "codemirror_mode": {
    "name": "ipython",
    "version": 3
   },
   "file_extension": ".py",
   "mimetype": "text/x-python",
   "name": "python",
   "nbconvert_exporter": "python",
   "pygments_lexer": "ipython3",
   "version": "3.7.6"
  }
 },
 "nbformat": 4,
 "nbformat_minor": 4
}
