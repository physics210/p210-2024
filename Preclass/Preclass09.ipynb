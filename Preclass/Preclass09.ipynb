{
 "cells": [
  {
   "cell_type": "markdown",
   "metadata": {},
   "source": [
    "# Preclass Assignment: Day 09 (Oct 07, 2024)<br>Functions\n",
    "\n",
    "Learning goals\n",
    "1. Know the difference between defining a function and calling a function.\n",
    "1. Define a function using the def keyword.\n",
    "1. Call a function and pass arguments, as required.\n",
    "1. Know that a function ends either at the end of its body or when a `return` statement is executed.\n",
    "1. Recognize that fruitful functions return values using the `return` statement\n",
    "1. Know that if a `return` statement is not used, the function will return `None` by default.\n",
    "1. Call and build functions with default parameters.\n",
    "1. Know that a local variable inside a function has a scope limited to that function.\n",
    "1. Pass lists to and return them from functions."
   ]
  },
  {
   "cell_type": "markdown",
   "metadata": {},
   "source": [
    "## *Self-assessment questions*\n",
    "\n",
    "**If you can already answer these correctly, you can skip the rest of the reading assignment and submit it. Otherwise, complete the rest of the reading assignment and return to these questions to test what you learned. You might decide you would benefit from further review before class.**\n",
    "\n",
    "Note that these questions can often be answered easily by running the provided code, so the intellectual work on your part is figuring out the correct answer and then running the code to check your answer.\n",
    "\n",
    "Please ensure all of these self-assessment questions are answered correctly before submitting this pre-class reading assignment. The *Your Turn* questions, found throughout the rest of this assignment, are for your practice as you learn this material and do not need to be answered correctly to receive full completion marks for this pre-class reading assignment."
   ]
  },
  {
   "cell_type": "markdown",
   "metadata": {},
   "source": [
    "### Self-assessment question 9.1\n",
    "\n",
    "What will be printed by the `print(s1, s2)` line from the code below?\n",
    "```python\n",
    "def func1():\n",
    "    print(\"Hello\")\n",
    "    \n",
    "def func2():\n",
    "    return(\"Hello\")\n",
    "\n",
    "s1 = func1()\n",
    "s2 = func2()\n",
    "\n",
    "print(s1, s2)\n",
    "```\n",
    "A) `Hello Hello`<br>\n",
    "B) `None None`<br>\n",
    "C) `Hello None`<br>\n",
    "D) `None Hello`"
   ]
  },
  {
   "cell_type": "code",
   "execution_count": null,
   "metadata": {},
   "outputs": [],
   "source": [
    "# Code testing area to help answer this question\n",
    "\n"
   ]
  },
  {
   "cell_type": "code",
   "execution_count": null,
   "metadata": {},
   "outputs": [],
   "source": [
    "# Enter your answer inside the string quotes and then run this cell to check your anwer\n",
    "\n",
    "answer = \"\"\n",
    "\n",
    "import hashlib\n",
    "assert answer in ['A', 'B', 'C', 'D'], \"Your answer did not match any of the choices\"\n",
    "assert hashlib.sha256(answer.encode()).hexdigest() == \\\n",
    "    '3f39d5c348e5b79d06e842c114e6cc571583bbf44e4b0ebfda1a01ec05745d43', \"Your answer is incorrect\"\n",
    "print(\"Your answer\", answer, \"is correct\") # Passed all assert statements above"
   ]
  },
  {
   "cell_type": "markdown",
   "metadata": {},
   "source": [
    "### Self-assessment question 9.2\n",
    "\n",
    "What will be printed by the following code?\n",
    "```python\n",
    "def my_func(a = \"first\", b = \"second\", c = \"third\"):\n",
    "    print(a, b, c)\n",
    "\n",
    "my_func(c = \"fourth\", b = \"fifth\")\n",
    "```\n",
    "\n",
    "A) `first second third`<br>\n",
    "B) `fourth fifth third`<br>\n",
    "C) `first fifth fourth`<br>\n",
    "D) `first fouth fifth`<br>\n",
    "E) `first second third fourth fifth`"
   ]
  },
  {
   "cell_type": "code",
   "execution_count": null,
   "metadata": {},
   "outputs": [],
   "source": [
    "# Code testing area to help answer this question\n",
    "\n"
   ]
  },
  {
   "cell_type": "code",
   "execution_count": null,
   "metadata": {},
   "outputs": [],
   "source": [
    "# Enter your answer inside the string quotes and then run this cell to check your answer\n",
    "\n",
    "answer = \"\"\n",
    "import hashlib\n",
    "assert answer in ['A', 'B', 'C', 'D', 'E'], \"Your answer did not match any of the choices\"\n",
    "assert hashlib.sha256(answer.encode()).hexdigest() == \\\n",
    "    '6b23c0d5f35d1b11f9b683f0b0a617355deb11277d91ae091d399c655b87940d', \"Your answer is incorrect\"\n",
    "print(\"Your answer\", answer, \"is correct\") # Passed all assert statements above"
   ]
  },
  {
   "cell_type": "markdown",
   "metadata": {},
   "source": [
    "### Self-assessment question 9.3\n",
    "\n",
    "What will be printed by the following code?\n",
    "```python\n",
    "def my_func(x):\n",
    "    a = x\n",
    "    return a\n",
    "\n",
    "a = 3\n",
    "print(my_func(2), a)\n",
    "```\n",
    "A) `2 2`<br>\n",
    "B) `2 3`<br>\n",
    "C) `3 2`<br>\n",
    "D) `3 3`"
   ]
  },
  {
   "cell_type": "code",
   "execution_count": null,
   "metadata": {},
   "outputs": [],
   "source": [
    "# Code testing area to help answer this question\n",
    "\n"
   ]
  },
  {
   "cell_type": "code",
   "execution_count": null,
   "metadata": {},
   "outputs": [],
   "source": [
    "# Enter your answer inside the string quotes and then run this cell to check your answer\n",
    "\n",
    "answer = \"\"\n",
    "\n",
    "import hashlib\n",
    "assert answer in ['A', 'B', 'C', 'D'], \"Your answer did not match any of the choices\"\n",
    "assert hashlib.sha256(answer.encode()).hexdigest() == \\\n",
    "    'df7e70e5021544f4834bbee64a9e3789febc4be81470df629cad6ddb03320a5c', \"Your answer is incorrect\"\n",
    "print(\"Your answer\", answer, \"is correct\") # Passed all assert statements above"
   ]
  },
  {
   "cell_type": "markdown",
   "metadata": {},
   "source": [
    "### Self-assessment question 9.4\n",
    "\n",
    "What is the correct way to provide time and position data to the `plt.plot(..., ...)` function at the end of this code?\n",
    "```python\n",
    "def euler_lists(y_start, v_start, t_start, t_end, t_step):\n",
    "\n",
    "    t_list = [t_start]\n",
    "    y_list = [y_start]\n",
    "    v_list = [v_start]\n",
    "    a = -9.81  \n",
    "\n",
    "    steps = int( (t_end - t_start) / t_step)  \n",
    "\n",
    "    for i in range(steps):\n",
    "        \n",
    "        t_last = t_list[-1]\n",
    "        y_last = y_list[-1]\n",
    "        v_last = v_list[-1]\n",
    "        \n",
    "        y_new = y_last + t_step * v_last\n",
    "        v_new = v_last + t_step * a\n",
    "        t_new = t_last + t_step\n",
    "\n",
    "        y_list.append(y_new)\n",
    "        v_list.append(v_new)\n",
    "        t_list.append(t_new)\n",
    "        \n",
    "    return np.array(t_list), np.array(y_list)\n",
    "\n",
    "## Main part of the program\n",
    "import numpy as np\n",
    "import matplotlib.pyplot as plt\n",
    "\n",
    "y0, v0 = 0, 10 # Initial position and velocity\n",
    "t0, tmax, dt = 0, 2, 0.01  # Start time, end time and step size\n",
    "\n",
    "results = euler_lists(y0, v0, t0, tmax, dt)\n",
    "\n",
    "plt.plot(..., ...) # Fix me\n",
    "\n",
    "```\n",
    "A) `plt.plot(results[0], results[1])`<br>\n",
    "B) `plt.plot(t_results, y_results)`<br>\n",
    "C) `plt.plot(t_list, y_list)`<br>\n",
    "D) `plt.plot(t, y)`<br>\n",
    "E) More than one of these answers is correct"
   ]
  },
  {
   "cell_type": "code",
   "execution_count": null,
   "metadata": {},
   "outputs": [],
   "source": [
    "# Code testing area to help answer this question\n",
    "\n"
   ]
  },
  {
   "cell_type": "code",
   "execution_count": null,
   "metadata": {},
   "outputs": [],
   "source": [
    "# Enter your answer inside the string quotes and then run this cell to check your answer\n",
    "\n",
    "answer = \"\"\n",
    "\n",
    "import hashlib\n",
    "assert answer in ['A', 'B', 'C', 'D'], \"Your answer did not match any of the choices\"\n",
    "assert hashlib.sha256(answer.encode()).hexdigest() == \\\n",
    "    '559aead08264d5795d3909718cdd05abd49572e84fe55590eef31a88a08fdffd', \"Your answer is incorrect\"\n",
    "print(\"Your answer\", answer, \"is correct\") # Passed all assert statements above"
   ]
  },
  {
   "cell_type": "markdown",
   "metadata": {},
   "source": [
    "## *9.1 Introduction to functions*\n",
    "\n",
    "One of the most fundamental concepts in programming is that of functions. You use functions all the time, e.g. `np.sqrt()` is the square-root function. In python, the syntax to *call a function* looks like:\n",
    "```python\n",
    "result = my_function(arguments)\n",
    "```\n",
    "where `result` is the outcome of your new function given some input `arguments`. The parentheses are an important part of this – they are what actually indicates that you intend this to be a function call. \n",
    "\n",
    "In Python, the **syntax to define a function** is:\n",
    "```python\n",
    "def my_function(param1, param2):\n",
    "# parameters are optional, the \"(\", \")\" and \":\" are mandatory\n",
    "    calculations that use parameters\n",
    "    return value # optional\n",
    "```\n",
    "The words argument and parameter are often used interchangeably. To be precise, parameters are defined within the function. Arguments are passed in when the function is called and become the parameters.\n",
    "\n",
    "The python keyword `def` defines a new function. Today you will learn how to create both “fruitful” functions (i.e. functions which return a result), and void functions (i.e. functions which return no result). \n",
    "\n",
    "READ: **sections 3.1 to 3.12** in <br>\n",
    "* http://greenteapress.com/thinkpython2/html/thinkpython2004.html (Note: we almost always want to use numpy functions rather than the similar math functions.)\n",
    "\n"
   ]
  },
  {
   "cell_type": "markdown",
   "metadata": {},
   "source": [
    "## 9.2 *Fruitful vs void functions*\n",
    "\n",
    "When learning to create and use functions in Python, it is helpful to think of functions as falling into two categorie:\n",
    "\n",
    "1. **Frutiful functions:** Fruitful functions return a value. You can assign the result of a fruitful function to a variable\n",
    "2. **Void function:** Void functions do not return a *meaningful* value. Instead of returning a result that you might wish to assign to a variable, they instead perform an action, such as printing something or modifying an object (such as a list)  \"in place\", as we discussed previously. Technically, a void function returns a `None` value, which we will also explore."
   ]
  },
  {
   "cell_type": "markdown",
   "metadata": {},
   "source": [
    "## *9.3 Fruitful functions*"
   ]
  },
  {
   "cell_type": "markdown",
   "metadata": {},
   "source": [
    "### 9.3.1 A simple fruitful function\n",
    "First we will look at a fruitful function that returns the square of a value"
   ]
  },
  {
   "cell_type": "code",
   "execution_count": null,
   "metadata": {},
   "outputs": [],
   "source": [
    "# Run me!\n",
    "\n",
    "def fruitful_square(x):\n",
    "    return x*x\n",
    "\n",
    "# Assigns the square of \"3\" to \"my_value1\"\n",
    "my_value1 = fruitful_square(3)"
   ]
  },
  {
   "cell_type": "code",
   "execution_count": null,
   "metadata": {},
   "outputs": [],
   "source": [
    "print(my_value1)"
   ]
  },
  {
   "cell_type": "markdown",
   "metadata": {},
   "source": [
    "Note that user-defined functions need to appear earlier in the code than when you call them."
   ]
  },
  {
   "cell_type": "markdown",
   "metadata": {},
   "source": [
    "### 9.3.2 Sending the value returned by a function to another function\n",
    "We can also call our function`fruitful_square` from inside another function so that the returned value `9` becomes the argument used in the outer function."
   ]
  },
  {
   "cell_type": "code",
   "execution_count": null,
   "metadata": {},
   "outputs": [],
   "source": [
    "squares = [1, 4]\n",
    "\n",
    "squares.append(fruitful_square(3))\n",
    "\n",
    "print(squares)"
   ]
  },
  {
   "cell_type": "markdown",
   "metadata": {},
   "source": [
    "### 9.3.3 Output to the console vs the `print()` function\n",
    "Let's briefly touch on a point that we have not yet discussed in the course, but that you have no doubt encountered. When you are using an interactive mode in Python, such as running code from a `*.ipynb` notebook, fruitful functions and operations (those that return values) will output their values directly to the console if the value returned by the function is not assigned to a variable. **Important!!!** This is not the same as printing, as only the last output sent to the console this way will actually result in any output. Run the examples below."
   ]
  },
  {
   "cell_type": "code",
   "execution_count": null,
   "metadata": {},
   "outputs": [],
   "source": [
    "# Sends the output of 3+3 to the console\n",
    "\n",
    "3+3"
   ]
  },
  {
   "cell_type": "code",
   "execution_count": null,
   "metadata": {},
   "outputs": [],
   "source": [
    "# Sends the string 'Hello world!' to the console\n",
    "\n",
    "\"Hello world!\""
   ]
  },
  {
   "cell_type": "code",
   "execution_count": null,
   "metadata": {},
   "outputs": [],
   "source": [
    "# Sends the value returned by fruitful_square to the console\n",
    "\n",
    "fruitful_square(3)"
   ]
  },
  {
   "cell_type": "code",
   "execution_count": null,
   "metadata": {},
   "outputs": [],
   "source": [
    "# We only see output from the last command\n",
    "\n",
    "fruitful_square(3)\n",
    "3+3\n",
    "\"Hello world\""
   ]
  },
  {
   "cell_type": "markdown",
   "metadata": {},
   "source": [
    "### 9.3.4 Function arguments\n",
    "Our function `fruitful_square(x)` is expecting us to send it a single argument. If we don't send a value, we get a `TypeError` indicating that `fruitful_square` was expecting to be sent an argument (e.g. `fruitful_square(3)` as opposed to `fruitful_square()`)."
   ]
  },
  {
   "cell_type": "code",
   "execution_count": null,
   "metadata": {},
   "outputs": [],
   "source": [
    "# We get an error if we try to call our function without its one argument\n",
    "\n",
    "my_value1 = fruitful_square()"
   ]
  },
  {
   "cell_type": "markdown",
   "metadata": {},
   "source": [
    "### 9.3.5 Argument types\n",
    "Note that, based on the `x*x` operation inside the `fruitful_square()` function, this function is expecting an argument being passed to the function where this operation is allowed, such as an `int` or a `float`.\n",
    "\n",
    "As an example, If we try to use a string as an argument, we get an error:"
   ]
  },
  {
   "cell_type": "code",
   "execution_count": null,
   "metadata": {},
   "outputs": [],
   "source": [
    "# For this function, an int argument will result in an int being returned\n",
    "fruitful_square(3)"
   ]
  },
  {
   "cell_type": "code",
   "execution_count": null,
   "metadata": {},
   "outputs": [],
   "source": [
    "# For this function, a float argument will result in a float being returned\n",
    "fruitful_square(3.0)"
   ]
  },
  {
   "cell_type": "code",
   "execution_count": null,
   "metadata": {},
   "outputs": [],
   "source": [
    "# If you can't `x*x` the argument, you will get a TypeError\n",
    "fruitful_square(\"Hello\")"
   ]
  },
  {
   "cell_type": "markdown",
   "metadata": {},
   "source": [
    "## *9.4 More about fruitful functions*"
   ]
  },
  {
   "cell_type": "markdown",
   "metadata": {},
   "source": [
    "When creating a fruitful function, no parameters need to be specified. An example of a parameter is the `x` in our `def fruitful_square(x):` earlier. Here we define a new function `fruitful_hello()` with no parameters in the definition, thus we do not need to send it any arguments when we call it."
   ]
  },
  {
   "cell_type": "markdown",
   "metadata": {},
   "source": [
    "This function just returns the string \"hello\". Like before, we don't see any output from just assigning this returned string to `my_value2`. We need to explicitly print `my_value2` if we want to see that output."
   ]
  },
  {
   "cell_type": "code",
   "execution_count": null,
   "metadata": {},
   "outputs": [],
   "source": [
    "# Run me!\n",
    "\n",
    "def fruitful_hello():\n",
    "    return \"hello\"\n",
    "\n",
    "my_value2 = fruitful_hello()"
   ]
  },
  {
   "cell_type": "code",
   "execution_count": null,
   "metadata": {},
   "outputs": [],
   "source": [
    "# Run me too!\n",
    "\n",
    "print(my_value2)"
   ]
  },
  {
   "cell_type": "markdown",
   "metadata": {},
   "source": [
    "And just like before, if we call this fruitful function *without* assigning it to a variable, it will simply send its output to the console. "
   ]
  },
  {
   "cell_type": "code",
   "execution_count": null,
   "metadata": {},
   "outputs": [],
   "source": [
    "# Send the most recent fruitful operation output to the terminal\n",
    "\n",
    "fruitful_hello()"
   ]
  },
  {
   "cell_type": "markdown",
   "metadata": {},
   "source": [
    "## *9.5 Variable Scope 1: local variables*"
   ]
  },
  {
   "cell_type": "markdown",
   "metadata": {},
   "source": [
    "Function parameters and other variables created inside a function are local variables, meaning they cannot be accessed outside of that function and that they are unaware of variables with the same name outside of that function.\n",
    "\n",
    "This means that if you define a variable inside a function with the same name as a variable outside the function, they are ***different variables***. For example, "
   ]
  },
  {
   "cell_type": "code",
   "execution_count": null,
   "metadata": {},
   "outputs": [],
   "source": [
    "# Run me!\n",
    "\n",
    "# Define a variable 'a' outside of the function\n",
    "a = 1 \n",
    "\n",
    "# Define our function f\n",
    "def f(x): # The parameter 'a', which is a variable defined within the function\n",
    "    \n",
    "    a = x\n",
    "    print(\"The variable 'a' inside the function =\",a)\n",
    "     \n",
    "    return a*a\n",
    "\n",
    "# Send b = 2 to the function and assign this to 'c'\n",
    "b = 2\n",
    "c = f(b) \n",
    "\n",
    "# Now let's print a, b and c as seen outside of the function\n",
    "print(f\"Outside the function: a, b, c = {a}, {b}, {c}\")"
   ]
  },
  {
   "cell_type": "markdown",
   "metadata": {},
   "source": [
    "Notice that when we send `2` to the function `f(x)`, the local variable `a` inside the function `f` is given the value `2` and we see that with the printed statement `The variable 'a' inside the function = 2`. However, we also defined `a = 1` outside of the function at the very start of the code block. And when we print all of the variables outside of the function, we see we have the originally defined `a = 1` because variables defined inside functions remain local."
   ]
  },
  {
   "cell_type": "markdown",
   "metadata": {},
   "source": [
    "### Your turn: What will be the output of `print(y, z)` in the code below?\n",
    "```python\n",
    "def change_value():\n",
    "    y = 25\n",
    "    return y\n",
    "\n",
    "y = 50\n",
    "z = 75\n",
    "\n",
    "z = change_value()\n",
    "print(y, z)\n",
    "```\n",
    "A) 25, 75<br>\n",
    "B) 50, 75<br>\n",
    "C) 50, 25<br>\n",
    "D) 25, 25"
   ]
  },
  {
   "cell_type": "code",
   "execution_count": null,
   "metadata": {},
   "outputs": [],
   "source": [
    "# Code box to check your answer\n",
    "\n",
    "def change_value():\n",
    "    y = 25\n",
    "    return y\n",
    "\n",
    "y = 50\n",
    "z = 75\n",
    "\n",
    "z = change_value()\n",
    "print(y, z)\n",
    "\n"
   ]
  },
  {
   "cell_type": "markdown",
   "metadata": {},
   "source": [
    "In the final scetion of the preclass preparation assignment, we will look at how global variables (those defined outside of the function) can be referenced from within a function. Additionally, it is possible to alter the value of a variable external to a function using the `global` keyword, but we will not spend any time on this yet. If you are interested in reading about this topic, see http://www.python-course.eu/python3_global_vs_local_variables.php."
   ]
  },
  {
   "cell_type": "markdown",
   "metadata": {},
   "source": [
    "## *9.6 Default parameters (a.k.a. optional parameters)*"
   ]
  },
  {
   "cell_type": "markdown",
   "metadata": {},
   "source": [
    "Function parameters can be preset to defaults, allowing some of the arguments sent to the function to be optional."
   ]
  },
  {
   "cell_type": "code",
   "execution_count": null,
   "metadata": {},
   "outputs": [],
   "source": [
    "# Run me\n",
    "\n",
    "def my_func(x, c = 1, n = 1):\n",
    "    return c * x**n\n",
    "\n",
    "# If the parameter names aren't specified, they are interpreted in the order sent\n",
    "my_func(3, 0.5, 2) # 0.5 * 3**2"
   ]
  },
  {
   "cell_type": "code",
   "execution_count": null,
   "metadata": {},
   "outputs": [],
   "source": [
    "# Run me\n",
    "\n",
    "# Since we have two optional arguments, we only need to specify the\n",
    "# first (non-optional) argument\n",
    "my_func(5) # 1 * 5**1"
   ]
  },
  {
   "cell_type": "code",
   "execution_count": null,
   "metadata": {},
   "outputs": [],
   "source": [
    "# Run me\n",
    "\n",
    "# When the parameter names are specified, optional arguments can be specified in\n",
    "# order and not all of them need to be specified\n",
    "my_func(5, n = 2) # 1 * 5**2"
   ]
  },
  {
   "cell_type": "code",
   "execution_count": null,
   "metadata": {},
   "outputs": [],
   "source": [
    "# Run me! (I won't work correctly)\n",
    "\n",
    "# This will return an error because the non-default argument `x`\n",
    "# must be spefied\n",
    "my_func(n = 2)"
   ]
  },
  {
   "cell_type": "markdown",
   "metadata": {},
   "source": [
    "## *9.7 Returning lists, arrays or multiple values from functions*\n",
    "\n",
    "You can return lists or arrays from functions, or send lists or arrays as arguments to functions. \n",
    "\n",
    "**Returning a list:** Here's an example that returns a list:"
   ]
  },
  {
   "cell_type": "code",
   "execution_count": null,
   "metadata": {},
   "outputs": [],
   "source": [
    "# I'm a function that returns a list\n",
    "\n",
    "def fruitful_list(n):\n",
    "    this_list = [i for i in range(n)]\n",
    "    return this_list\n",
    "\n",
    "my_list = fruitful_list(5)\n",
    "print(my_list)"
   ]
  },
  {
   "cell_type": "markdown",
   "metadata": {},
   "source": [
    "**Returning an array:** Here's an example that returns an array:"
   ]
  },
  {
   "cell_type": "code",
   "execution_count": null,
   "metadata": {},
   "outputs": [],
   "source": [
    "# I'm a function that returns an array\n",
    "\n",
    "import numpy as np\n",
    "\n",
    "def fruitful_array(n):\n",
    "    this_array = np.arange(n)\n",
    "    return this_array\n",
    "\n",
    "my_array = fruitful_array(5)\n",
    "print(my_array)"
   ]
  },
  {
   "cell_type": "markdown",
   "metadata": {},
   "source": [
    "**Sending a list to a function:** And here's an example of a function that accepts a list as an argument and returns the first value in that list:"
   ]
  },
  {
   "cell_type": "code",
   "execution_count": null,
   "metadata": {},
   "outputs": [],
   "source": [
    "# Run me to load the function into memory\n",
    "\n",
    "def get_first_value(my_list):\n",
    "    \n",
    "    # First checks that it is a list\n",
    "    if not isinstance(my_list, list):\n",
    "        raise TypeError(\"Argument must be a list\")\n",
    "    \n",
    "    # Then checks for an empty list\n",
    "    if not my_list:\n",
    "        raise ValueError(\"List is empty\")\n",
    "    \n",
    "    # If both of the checks above are passed, it \n",
    "    return my_list[0]\n"
   ]
  },
  {
   "cell_type": "code",
   "execution_count": null,
   "metadata": {},
   "outputs": [],
   "source": [
    "# Run me with a function that contains a first element\n",
    "\n",
    "such_a_great_list = [\"five\", 4, \"iii\", \"1+1\", 1]\n",
    "get_first_value(such_a_great_list)"
   ]
  },
  {
   "cell_type": "code",
   "execution_count": null,
   "metadata": {},
   "outputs": [],
   "source": [
    "# Run me to see error for empty list\n",
    "\n",
    "empty_list = []\n",
    "get_first_value(empty_list)"
   ]
  },
  {
   "cell_type": "markdown",
   "metadata": {},
   "source": [
    "**Sending an array (or a list) to a function:** The following function doesn't check for potential errors, but works on lists and arrays."
   ]
  },
  {
   "cell_type": "code",
   "execution_count": null,
   "metadata": {},
   "outputs": [],
   "source": [
    "import numpy as np\n",
    "\n",
    "def get_first_value2(my_container):\n",
    "        \n",
    "    # If the check above is passed, it returns the value\n",
    "    return my_container[0]"
   ]
  },
  {
   "cell_type": "code",
   "execution_count": null,
   "metadata": {},
   "outputs": [],
   "source": [
    "# Send an array to the function\n",
    "\n",
    "get_first_value2( np.array([5, 4, 3, 2, 1]) )"
   ]
  },
  {
   "cell_type": "code",
   "execution_count": null,
   "metadata": {},
   "outputs": [],
   "source": [
    "# Send a list to the function\n",
    "\n",
    "get_first_value2( [4, 8, 15, 16, 23, 42] )"
   ]
  },
  {
   "cell_type": "markdown",
   "metadata": {},
   "source": [
    "**Assigning multiple variables at once:** We can also use this type of syntax to have a fruitful function return multiple values and assign those values to individual variables. "
   ]
  },
  {
   "cell_type": "code",
   "execution_count": null,
   "metadata": {},
   "outputs": [],
   "source": [
    "# I'm a function that returns the final two values of a sequential list of size n\n",
    "\n",
    "def fruitful_two_values(n):\n",
    "    this_list = [i for i in range(n)]\n",
    "    return this_list[-1], this_list[-2] # Returns two values\n",
    "\n",
    "last, second_last = fruitful_two_values(5) # Assigns the two returned values to different variables\n",
    "print(last)\n",
    "print(second_last)"
   ]
  },
  {
   "cell_type": "markdown",
   "metadata": {},
   "source": [
    "Technically the object returned from the function `this_list[-1], this_list[-2]` is a `tuple`. We will learn more about these later, so don't worry if this sounds like coding gobbledygook. We're bringing this up here to be , not to go in depth with tuples. \n",
    "\n",
    "To see more clearly that this Instead of assigning these returned values to different variables, we will assign the returned object `this_list[-1], this_list[-2]` to a single variable. When we do this the variable will be a `tuple`, which behaves the same way as lists in terms of indexing and slicing, but they are immutable. This means they can't be modified once created, like a string. \n",
    "\n",
    "We can unpack a tuple (or list) by assigning each element in the tuple (or list) to a new variable.\n",
    "\n",
    "Let's look at a couple of examples to bring these ideas together"
   ]
  },
  {
   "cell_type": "code",
   "execution_count": null,
   "metadata": {},
   "outputs": [],
   "source": [
    "# Returning multiple values to a single variable of type tuple\n",
    "\n",
    "my_tuple = fruitful_two_values(7)\n",
    "var1, var2 = my_tuple\n",
    "print(f\"my_tuple = {my_tuple} and is an object of type {type(my_tuple)}\")\n",
    "print(var1)\n",
    "print(var2)\n",
    "print(type(var1), type(var2))"
   ]
  },
  {
   "cell_type": "code",
   "execution_count": null,
   "metadata": {},
   "outputs": [],
   "source": [
    "m = [1,2]\n",
    "a, b = m\n",
    "print(a)\n",
    "print(b)"
   ]
  },
  {
   "cell_type": "markdown",
   "metadata": {},
   "source": [
    "As we just mentioned, these can be inexed like lists:"
   ]
  },
  {
   "cell_type": "code",
   "execution_count": null,
   "metadata": {},
   "outputs": [],
   "source": [
    "# Indexing a tuple to grab its second value\n",
    "\n",
    "print(my_tuple[1])"
   ]
  },
  {
   "cell_type": "markdown",
   "metadata": {},
   "source": [
    "## *9.8 Void functions*\n",
    "\n",
    "As discussed earlier, void functions don't return a useful value, so there's no output to the console when we call a void function without assigning it to a variable. "
   ]
  },
  {
   "cell_type": "code",
   "execution_count": null,
   "metadata": {},
   "outputs": [],
   "source": [
    "# Run me to call a void function that does something\n",
    "\n",
    "def void_print_something():\n",
    "    print(\"Something\")\n",
    "    \n",
    "void_print_something()"
   ]
  },
  {
   "cell_type": "code",
   "execution_count": null,
   "metadata": {},
   "outputs": [],
   "source": [
    "# Run me to call a void function that does nothing useful\n",
    "\n",
    "def void_do_nothing():\n",
    "    doing_nothing = True\n",
    "    \n",
    "void_do_nothing()"
   ]
  },
  {
   "cell_type": "markdown",
   "metadata": {},
   "source": [
    "In practice, these void functions are actually returning the value `None`, a 'NoneType' object as shown below"
   ]
  },
  {
   "cell_type": "code",
   "execution_count": null,
   "metadata": {},
   "outputs": [],
   "source": [
    "print(\"The function void_do_nothing() returns:\",void_do_nothing() )\n",
    "print(\"This 'None' returned value is of type:\", type(void_do_nothing()) )"
   ]
  },
  {
   "cell_type": "markdown",
   "metadata": {},
   "source": [
    "It is rare that you actually want to make use of a `None` value in your code. However, when debugging or testing your code you may sometimes wish to double-check that your function is a void function. For example, "
   ]
  },
  {
   "cell_type": "code",
   "execution_count": null,
   "metadata": {},
   "outputs": [],
   "source": [
    "# Run me! \n",
    "\n",
    "assert void_print_something() == None\n",
    "print(\"It passes the assert statement, so we have confirmed it is a void function\")"
   ]
  },
  {
   "cell_type": "code",
   "execution_count": null,
   "metadata": {},
   "outputs": [],
   "source": [
    "# Run me \n",
    "\n",
    "def fruitful_hello():\n",
    "    return \"hello\"\n",
    "\n",
    "assert fruitful_hello() != None\n",
    "print(\"It passes the assert statement, so we have confirmed it is NOT a void function\")"
   ]
  },
  {
   "cell_type": "markdown",
   "metadata": {},
   "source": [
    "## *9.9 Euler's method using functions*\n",
    "\n",
    "Let's incorporate a function into an Euler's method program to model one-dimensional motion with gravity. This will be our first step toward more advanced techniques for modelling motion and other physics that can be modelled using ordinary differential equations (ODEs). To emphasize the fact that the function parameters and other variables created inside our `euler` functions are local variables, we make sure to name them differently from the variables in the main part of our program. "
   ]
  },
  {
   "cell_type": "markdown",
   "metadata": {},
   "source": [
    "### Version 1: Using lists and `.append()` for our Euler loop\n",
    "The function receives initial parameters, generates lists filled with the useful kinematic variables as we have been doing so far, and then converts these lists to arrays when returning them from the function."
   ]
  },
  {
   "cell_type": "code",
   "execution_count": null,
   "metadata": {},
   "outputs": [],
   "source": [
    "# Run me!\n",
    "\n",
    "# Import libraries\n",
    "import numpy as np\n",
    "import matplotlib.pyplot as plt\n",
    "\n",
    "# Load functions into memory\n",
    "def euler_lists(y_start, v_start, t_start, t_end, t_step):\n",
    "    \"\"\"Euler's method integrator using a for loop.\n",
    "    Args:\n",
    "    - y_start: initial height\n",
    "    - v_start: initial y-velocity\n",
    "    - t_start, t_end: start and end time\n",
    "    - t_step: step size\n",
    "    Returns: arrays of times and corresponding y values\n",
    "    \"\"\"\n",
    "    t_list = [t_start]\n",
    "    y_list = [y_start]\n",
    "    v_list = [v_start]\n",
    "    a = -9.81  # gravitational acceleration\n",
    "\n",
    "    steps = int( (t_end - t_start) / t_step)  # Calculate the number of iterations\n",
    "\n",
    "    for i in range(steps):\n",
    "        \n",
    "        t_last = t_list[-1]\n",
    "        y_last = y_list[-1]\n",
    "        v_last = v_list[-1]\n",
    "        \n",
    "        y_new = y_last + t_step * v_last\n",
    "        v_new = v_last + t_step * a\n",
    "        t_new = t_last + t_step\n",
    "\n",
    "        y_list.append(y_new)\n",
    "        v_list.append(v_new)\n",
    "        t_list.append(t_new)\n",
    "        \n",
    "    return np.array(t_list), np.array(y_list)\n",
    "\n",
    "\n",
    "## Main part of the program\n",
    "y0, v0 = 0, 10 # Initial position and velocity\n",
    "t0, tmax, dt = 0, 2, 0.01  # Start time, end time and step size\n",
    "\n",
    "times, y_results = euler_lists(y0, v0, t0, tmax, dt)\n",
    "\n",
    "plt.plot(times, y_results)\n",
    "plt.title(\"One-dimensional motion (Euler's method)\")\n",
    "plt.xlabel(\"t (s)\")\n",
    "plt.ylabel(\"y (m)\")\n",
    "plt.grid(True)\n",
    "plt.show()"
   ]
  },
  {
   "cell_type": "markdown",
   "metadata": {},
   "source": [
    "### Version 2: Using arrays throughout our Euler function\n",
    "In this version, we make our arrays `t_array`, `y_array` and `v_array` of the desired length before the loop instead of using `.append()` to dynamically make them whatever size we want. Since we already know our number of steps (`steps`), we just need to make our arrays one element larger than this. With arrays, it is a very slow operation to append or otherwise change the size of the array once it has been created so the preference when working with arrays is almost always to make the arrays the size that you need in advance and then to fill them as you go."
   ]
  },
  {
   "cell_type": "code",
   "execution_count": null,
   "metadata": {},
   "outputs": [],
   "source": [
    "# Run me!\n",
    "\n",
    "# Import libraries\n",
    "import numpy as np\n",
    "import matplotlib.pyplot as plt\n",
    "\n",
    "# Load functions into memory\n",
    "def euler_arrays(y_start, v_start, t_start, t_end, t_step):\n",
    "    \"\"\"Euler's method integrator using a for loop.\n",
    "    Args:\n",
    "    - y_start: initial height\n",
    "    - v_start: initial y-velocity\n",
    "    - t_start, t_end: start and end time\n",
    "    - t_step: step size\n",
    "    Returns: arrays of times and corresponding y values\n",
    "    \"\"\"\n",
    "\n",
    "    # Add one to the number of iterations so that we can include the index=0 \n",
    "    # values and then loop through the remaining elements\n",
    "    steps = int( (t_end - t_start) / t_step) + 1\n",
    "\n",
    "    # Initialize the arrays\n",
    "    t_array = np.zeros(steps, dtype=float)\n",
    "    y_array = np.zeros(steps, dtype=float)\n",
    "    v_array = np.zeros(steps, dtype=float)\n",
    "    \n",
    "    # Put initial values at index = 0\n",
    "    t_array[0] = t_start\n",
    "    y_array[0] = y_start\n",
    "    v_array[0] = v_start\n",
    "    \n",
    "    a = -9.81  # gravitational acceleration\n",
    "    \n",
    "    for i in range(1, steps):\n",
    "        \n",
    "        t_last = t_array[i-1]\n",
    "        y_last = y_array[i-1]\n",
    "        v_last = v_array[i-1]\n",
    "        \n",
    "        y_new = y_last + t_step * v_last\n",
    "        v_new = v_last + t_step * a\n",
    "        t_new = t_last + t_step\n",
    "\n",
    "        y_array[i] = y_new\n",
    "        v_array[i] = v_new\n",
    "        t_array[i] = t_new\n",
    "        \n",
    "    return t_array, y_array\n",
    "\n",
    "\n",
    "## Main part of the program\n",
    "y0, v0 = 0, 10 # Initial position and velocity\n",
    "t0, tmax, dt = 0, 2, 0.01  # Start time, end time and step size\n",
    "\n",
    "times, y_results = euler_arrays(y0, v0, t0, tmax, dt)\n",
    "\n",
    "plt.plot(times, y_results)\n",
    "plt.title(\"One-dimensional motion (Euler's method)\")\n",
    "plt.xlabel(\"t (s)\")\n",
    "plt.ylabel(\"y (m)\")\n",
    "plt.grid(True)\n",
    "plt.show()"
   ]
  },
  {
   "cell_type": "markdown",
   "metadata": {},
   "source": [
    "### Your turn: change the graph to a `v vs t` graph\n",
    "\n",
    "Choose Version 1 or Version 2 of the Euler's method code above and then modify any parts of the code needed to make it so that \"v vs t\" is being plotted instead of \"y vs t\". "
   ]
  },
  {
   "cell_type": "code",
   "execution_count": null,
   "metadata": {},
   "outputs": [],
   "source": [
    "# Copy from above and modify to change the graph to a \"v vs t\" graph\n",
    "\n",
    "\n"
   ]
  },
  {
   "cell_type": "markdown",
   "metadata": {},
   "source": [
    "## *9.10 Variable Scope 2: global variables*"
   ]
  },
  {
   "cell_type": "markdown",
   "metadata": {},
   "source": [
    "### 9.10.1 Removing the parameters from our `euler_lists()` and `euler_arrays()` function\n",
    "\n",
    "We return to our discussion of local vs global variables, where we previously discussed how a variable defined within a function is not available outside of the function. In this section we are going to look at how the opposite is true; a variable defined outside of a function is available within a function.\n",
    "\n",
    "In our original version of the `euler_lists()` and `euler_arrays()` functions, we defined five global variables (`y0`, `v0`, `t0`, `tmax` and `dt`) which were passed to the `euler_lists()` and `euler_arrays()` functions as arguments. Within these `euler_x()` functions, these five variables were given different names (see below) to help us distinguish the global variables outside of `euler_x()` from the local variables within `euler_x()`.\n",
    "\n",
    "| Argument passed<br>to `euler_x()` | Parameter defined<br>within `euler_x()` |\n",
    "| :--- | :--- |\n",
    "| `y0` | `y_start` |\n",
    "| `v0` | `v_start` |\n",
    "| `t0` | `t_start` |\n",
    "| `tmax` | `t_end` |\n",
    "| `dt` | `t_step`| \n",
    "\n",
    "In the examples below, we define new functions `euler2_lists()` and `euler2_arrays()`, which have the same functionality of `euler_lists()` and `euler_arrays()`, but have no parameters. Instead, the global variables that were previously passed in as arguments (`y0`, `v0`, `t0`, `tmax` and `dt`) are instead just used directly within this function. The comments included in these code blocks highlight the changes needed to remove the need for parameters."
   ]
  },
  {
   "cell_type": "markdown",
   "metadata": {},
   "source": [
    "### Version 1 (`euler2_lists()`): Using lists and `.append()` for our Euler loop"
   ]
  },
  {
   "cell_type": "code",
   "execution_count": null,
   "metadata": {},
   "outputs": [],
   "source": [
    "# Run me to see a modification of the previous euler_lists() function\n",
    "# so that it uses variables defined outside of the function instead\n",
    "# of passing the variables into the function via arguments\n",
    "\n",
    "import numpy as np\n",
    "import matplotlib.pyplot as plt\n",
    "\n",
    "# This version of the function has no parameters\n",
    "def euler2_lists():\n",
    "\n",
    "    # All of the parameters used here were defined outside of the function\n",
    "    t_list = [t0]\n",
    "    y_list = [y0] \n",
    "    v_list = [v0]\n",
    "    steps = int( (tmax - t0) / dt) \n",
    "\n",
    "    a = -9.81  \n",
    "    \n",
    "    for i in range(steps):\n",
    "        \n",
    "        t_last = t_list[-1]\n",
    "        y_last = y_list[-1]\n",
    "        v_last = v_list[-1]\n",
    "        \n",
    "        # These were updated to use dt instead of t_step\n",
    "        y_new = y_last + dt * v_last\n",
    "        v_new = v_last + dt * a\n",
    "        t_new = t_last + dt\n",
    "\n",
    "        y_list.append(y_new)\n",
    "        v_list.append(v_new)\n",
    "        t_list.append(t_new)\n",
    "        \n",
    "    return np.array(t_list), np.array(y_list)\n",
    "\n",
    "\n",
    "y0, v0 = 0, 10 \n",
    "t0, tmax, dt = 0, 2, 0.01 \n",
    "\n",
    "times, y_results = euler2_lists() # No arguments are passed to the new version of the function\n",
    "\n",
    "plt.plot(times, y_results)\n",
    "plt.title(\"One-dimensional motion (Euler's method)\")\n",
    "plt.xlabel(\"t (s)\")\n",
    "plt.ylabel(\"y (m)\")\n",
    "plt.grid(True)\n",
    "plt.show()"
   ]
  },
  {
   "cell_type": "markdown",
   "metadata": {},
   "source": [
    "### Version 2 (`euler2_arrays()`): Using arrays throughout our Euler function\n"
   ]
  },
  {
   "cell_type": "code",
   "execution_count": null,
   "metadata": {},
   "outputs": [],
   "source": [
    "# Run me to see a modification of the previous euler_arrays() function\n",
    "# so that it uses variables defined outside of the function instead\n",
    "# of passing the variables into the function via arguments\n",
    "\n",
    "import numpy as np\n",
    "import matplotlib.pyplot as plt\n",
    "\n",
    "def euler2_arrays():\n",
    "\n",
    "    # Parameters defined outside of the function\n",
    "    steps = int( (tmax - t0) / dt) + 1\n",
    "\n",
    "    t_array = np.zeros(steps, dtype=float)\n",
    "    y_array = np.zeros(steps, dtype=float)\n",
    "    v_array = np.zeros(steps, dtype=float)\n",
    "    \n",
    "    # Parameters defined outside of the function\n",
    "    t_array[0] = t0\n",
    "    y_array[0] = y0\n",
    "    v_array[0] = v0\n",
    "    \n",
    "    a = -9.81  \n",
    "    \n",
    "    for i in range(1, steps):\n",
    "        \n",
    "        t_last = t_array[i-1]\n",
    "        y_last = y_array[i-1]\n",
    "        v_last = v_array[i-1]\n",
    "        \n",
    "        # These were updated to use dt instead of t_step\n",
    "        y_new = y_last + dt * v_last\n",
    "        v_new = v_last + dt * a\n",
    "        t_new = t_last + dt\n",
    "\n",
    "        y_array[i] = y_new\n",
    "        v_array[i] = v_new\n",
    "        t_array[i] = t_new\n",
    "        \n",
    "    return t_array, y_array\n",
    "\n",
    "\n",
    "y0, v0 = 0, 10 \n",
    "t0, tmax, dt = 0, 2, 0.01  \n",
    "\n",
    "times, y_results = euler2_arrays()\n",
    "\n",
    "plt.plot(times, y_results)\n",
    "plt.title(\"One-dimensional motion (Euler's method)\")\n",
    "plt.xlabel(\"t (s)\")\n",
    "plt.ylabel(\"y (m)\")\n",
    "plt.grid(True)\n",
    "plt.show()"
   ]
  },
  {
   "cell_type": "markdown",
   "metadata": {},
   "source": [
    "Why would we use `euler_lists()` and `euler_arrays()` with parameters instead of these versions (`euler2_lists()` and `euler2_arrays()`), which don't need parameters? One of the main reasons is that a function that relies only on information passed to it via arguments is much more reusable. You can copy it into any notebook and use it as intended by ensuring you know which arguments to send to it. Conversely, if you hard-code the variables that the function needs access to outside of itself, that means you have to make sure that those variables have those exact names in your code outside of the function or that you will be needing to rename those variables within the function to use the code in some new situation. This is much less flexible. "
   ]
  },
  {
   "cell_type": "markdown",
   "metadata": {},
   "source": [
    "## *Submitting this reading assignment*\n",
    "Before submitting your work, restart + rerun your notebook to make sure that your self-assessmet questions run correctly and without error. We will only check that the Self-assessment questions at the start of the assignment have run correctly. After you've executed and checked your notebook, choose: File >> Save_and_Export_Notebook_As >> HTML. This will download an HTML version of your notebook to your computer which you can upload to Canvas"
   ]
  },
  {
   "cell_type": "code",
   "execution_count": null,
   "metadata": {},
   "outputs": [],
   "source": []
  }
 ],
 "metadata": {
  "kernelspec": {
   "display_name": "Python 3",
   "language": "python",
   "name": "python3"
  },
  "language_info": {
   "codemirror_mode": {
    "name": "ipython",
    "version": 3
   },
   "file_extension": ".py",
   "mimetype": "text/x-python",
   "name": "python",
   "nbconvert_exporter": "python",
   "pygments_lexer": "ipython3",
   "version": "3.7.6"
  }
 },
 "nbformat": 4,
 "nbformat_minor": 4
}
