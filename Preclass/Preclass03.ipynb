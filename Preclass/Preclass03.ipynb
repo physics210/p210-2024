{
 "cells": [
  {
   "cell_type": "markdown",
   "metadata": {
    "id": "UFf2XTsPQjrb"
   },
   "source": [
    "# Preclass Preaparation Assignment: Day 03 (Sep 11, 2024)<br>Conditionals and Loops\n",
    "Learning goals\n",
    "1. Build conditional statements using the the `if`, `elif` (\"else if\") and `else` keywords\n",
    "1. Use multiple conditional statements in a single `if` or `elif` statement using the `and`, `or` and `not` keywords\n",
    "1. Build a nested conditional (if you must)\n",
    "1. Build a `for` loop\n",
    "1. Use the break keywords in a `for` loops"
   ]
  },
  {
   "cell_type": "markdown",
   "metadata": {
    "id": "f7cSshwHQjri"
   },
   "source": [
    "## *Before you get started: run the cell below*"
   ]
  },
  {
   "cell_type": "markdown",
   "metadata": {
    "id": "2R0I6Ya9Qjrl"
   },
   "source": [
    "## *Self-assessment questions*\n",
    "\n",
    "**If you can already answer these correctly, you can skip the rest of the reading assignment and submit it. Otherwise, complete the rest of the reading assignment and return to these questions to test what you learned. You might decide you would benefit from further review before class.**\n",
    "\n",
    "Note that these questions can often be answered easily by running the provided code, so the intellectual work on your part is figuring out the correct answer and then running the code to check your answer.\n",
    "\n",
    "Please ensure all of these self-assessment questions are answered correctly before submitting this pre-class reading assignment. The *Your Turn* questions, found throughout the rest of this assignment, are for your practice as you learn this material and do not need to be answered correctly to receive full completion marks for this pre-class reading assignment.\n",
    "\n",
    "Instructions for submission can be found at the end of this document."
   ]
  },
  {
   "cell_type": "markdown",
   "metadata": {
    "id": "vA70U7i9Qjrm"
   },
   "source": [
    "### Self-assessment Q1\n",
    "\n",
    "Assuming `x` is a number (float or integer), which value(s) of `x` would make `The 'elif' statement is true` print?\n",
    "\n",
    "```python\n",
    "if x > 0 :\n",
    "    print(\"The 'if' statement is true\")\n",
    "elif x > 2:\n",
    "    print(\"The 'elif' statement is true\")\n",
    "else:\n",
    "    print(\"The 'else' statement executed\")\n",
    "```\n",
    "\n",
    "A) No possible values of `x` <br>\n",
    "B) Any value greater than 0<br>\n",
    "C) Any value greater than 2<br>\n",
    "D) Any value in between 0 and 2"
   ]
  },
  {
   "cell_type": "code",
   "execution_count": null,
   "metadata": {
    "id": "z6A4TCPTQjrn"
   },
   "outputs": [],
   "source": [
    "# Code testing area to help answer this question\n",
    "\n"
   ]
  },
  {
   "cell_type": "code",
   "execution_count": null,
   "metadata": {
    "id": "j11Vz1q2Qjrn",
    "outputId": "bf84b70f-38ed-4411-a9e1-89a09e5178fe"
   },
   "outputs": [],
   "source": [
    "# Enter your answer inside the string quotes and then run this cell to check your answer\n",
    "\n",
    "answer = \"\"\n",
    "\n",
    "import hashlib\n",
    "assert answer in ['A', 'B', 'C', 'D'], \"Your answer did not match any of the choices\"\n",
    "assert hashlib.sha256(answer.encode()).hexdigest() == \\\n",
    "    '559aead08264d5795d3909718cdd05abd49572e84fe55590eef31a88a08fdffd', \"Your answer is incorrect\"\n",
    "print(\"Your answer\", answer, \"is correct\") # Passed all assert statements above"
   ]
  },
  {
   "cell_type": "markdown",
   "metadata": {
    "id": "9Ih__kIUQjrr"
   },
   "source": [
    "### Self-assessment Q2\n",
    "\n",
    "Assuming `x` is a number (float or integer), which value(s) of `x` would make `The 'else' statement executed` print?\n",
    "\n",
    "```python\n",
    "if x<0 and x>-4:\n",
    "    print(\"The 'if' statement is true\")\n",
    "elif x<-4:\n",
    "    print(\"The 'elif' statement is true\")\n",
    "else:\n",
    "    print(\"The 'else' statement executed\")\n",
    "```\n",
    "\n",
    "A) No possible values of `x`<br>\n",
    "B) Any value greater than 0<br>\n",
    "C) Any value equal to or greater than 0<br>\n",
    "D) -4 <br>\n",
    "E) -4 and any value equal to or greater than 0"
   ]
  },
  {
   "cell_type": "code",
   "execution_count": null,
   "metadata": {
    "id": "Cv2I7AH8Qjrs"
   },
   "outputs": [],
   "source": [
    "# Code testing area to help answer this question\n",
    "\n"
   ]
  },
  {
   "cell_type": "code",
   "execution_count": null,
   "metadata": {
    "id": "l92p2eIdQjrt",
    "outputId": "8a09421b-0337-4fd9-970b-d09475b0eb3a"
   },
   "outputs": [],
   "source": [
    "# Enter your answer inside the string quotes and then run this cell to check your answer\n",
    "\n",
    "answer = \"\"\n",
    "\n",
    "import hashlib\n",
    "assert answer in ['A', 'B', 'C', 'D', 'E'], \"Your answer did not match any of the choices\"\n",
    "assert hashlib.sha256(answer.encode()).hexdigest() == \\\n",
    "    'a9f51566bd6705f7ea6ad54bb9deb449f795582d6529a0e22207b8981233ec58', \"Your answer is incorrect\"\n",
    "print(\"Your answer\", answer, \"is correct\") # Passed all assert statements above"
   ]
  },
  {
   "cell_type": "markdown",
   "metadata": {
    "id": "lmdd9pYcQjru"
   },
   "source": [
    "### Self-assessment Q3\n",
    "\n",
    "Which of the loops below will output `A` as its first line?\n",
    "```python\n",
    "# For loop 1\n",
    "alpha = \"ABCDE\"\n",
    "for i in alpha:\n",
    "    print(i)\n",
    "\n",
    "# For loop 2\n",
    "alpha = \"ABCDE\"\n",
    "for i in alpha:\n",
    "    print(alpha[i])\n",
    "```\n",
    "A) For loop 1<br>\n",
    "B) For loop 2<br>\n",
    "C) Both for loops<br>\n",
    "D) Neither for loop"
   ]
  },
  {
   "cell_type": "code",
   "execution_count": null,
   "metadata": {
    "id": "ngzGCVuvQjrv"
   },
   "outputs": [],
   "source": [
    "# Code testing area to help answer this question\n",
    "\n"
   ]
  },
  {
   "cell_type": "code",
   "execution_count": null,
   "metadata": {
    "id": "Ouyx4O6RQjrv",
    "outputId": "55d47e38-2ac0-4689-d97e-dd2bf95180c8"
   },
   "outputs": [],
   "source": [
    "# Enter your answer inside the string quotes and then run this cell to check your answer\n",
    "\n",
    "answer = \"\"\n",
    "\n",
    "import hashlib\n",
    "assert answer in ['A', 'B', 'C', 'D'], \"Your answer did not match any of the choices\"\n",
    "assert hashlib.sha256(answer.encode()).hexdigest() == \\\n",
    "    '559aead08264d5795d3909718cdd05abd49572e84fe55590eef31a88a08fdffd', \"Your answer is incorrect\"\n",
    "print(\"Your answer\", answer, \"is correct\") # Passed all assert statements above"
   ]
  },
  {
   "cell_type": "markdown",
   "metadata": {},
   "source": [
    "### Self-assessment Q4\n",
    "\n",
    "What will be output by the following?\n",
    "```python\n",
    "for x in range(2,6):\n",
    "    if x == 3:\n",
    "        break\n",
    "    else:\n",
    "        print(x)\n",
    "```\n",
    "Commas below represent new lines<br><br>\n",
    "A) 2<br>\n",
    "B) 2, 3<br>\n",
    "C) 2, 4, 5<br>\n",
    "D) 2, 4, 5, 6<br>\n",
    "E) 2, 3, 4, 5<br>\n",
    "F) 2, 3, 4, 5, 6<br>"
   ]
  },
  {
   "cell_type": "code",
   "execution_count": null,
   "metadata": {},
   "outputs": [],
   "source": [
    "# Code testing area to help answer this question\n",
    "\n"
   ]
  },
  {
   "cell_type": "code",
   "execution_count": null,
   "metadata": {},
   "outputs": [],
   "source": [
    "# Enter your answer inside the string quotes and then run this cell to check your answer\n",
    "\n",
    "answer = \"\"\n",
    "\n",
    "import hashlib\n",
    "assert answer in ['A', 'B', 'C', 'D', 'E', 'F'], \"Your answer did not match any of the choices\"\n",
    "assert hashlib.sha256(answer.encode()).hexdigest() == \\\n",
    "    '559aead08264d5795d3909718cdd05abd49572e84fe55590eef31a88a08fdffd', \"Your answer is incorrect\"\n",
    "print(\"Your answer\", answer, \"is correct\") # Passed all assert statements above"
   ]
  },
  {
   "cell_type": "markdown",
   "metadata": {
    "id": "CpfiZdD5Qjrw"
   },
   "source": [
    "## *3.1 If Statements*\n",
    "\n",
    "In Python, an `if` statement is used to check if a *condition* is true, and then to subsequently run specific code only if that condition is true. Otherwise it will skip the code associated with that `if` statement.  Note that the `if` line must end in a colon or else there will be a syntax error.\n",
    "\n",
    "The generic syntax is as follows:\n",
    "\n",
    "```python\n",
    "if condition:\n",
    "    Code line 1 # Code executed if the condition is True\n",
    "    Code line 2 # More code executed if the condition is True\n",
    "Code line 3 # Code executed whether or not the condidtion is true\n",
    "```\n",
    "\n",
    "Notice that indentation plays an important role here regarding which lines of code will be run by the True condition. Lines of code sharing the same level of indentation represent a code block.\n",
    "\n",
    "Run the examples below to see how the `if` statement works and the role played by indention in defining which lines of code are run"
   ]
  },
  {
   "cell_type": "code",
   "execution_count": null,
   "metadata": {
    "id": "2SrDpTwgQjrw"
   },
   "outputs": [],
   "source": [
    "# Run me!\n",
    "\n",
    "x = 1\n",
    "y = 10\n",
    "z = 100\n",
    "\n",
    "print(\"checking z > x\")\n",
    "\n",
    "if x > z:\n",
    "    print(x, \"is greater than\", z)\n",
    "\n",
    "print(\"checking y > x\")\n",
    "\n",
    "if y > x:\n",
    "    print(y, \"is greater than\", x)"
   ]
  },
  {
   "cell_type": "code",
   "execution_count": null,
   "metadata": {
    "id": "JTUUCnc9Qjrw"
   },
   "outputs": [],
   "source": [
    "# Run me too and notice the impact of the change in indentation\n",
    "\n",
    "print(\"checking z > x\")\n",
    "\n",
    "if x > z:\n",
    "    print(x, \"is greater than\", z)\n",
    "\n",
    "    print(\"checking y > x\") # Note the change in indentiation\n",
    "\n",
    "if y > x:\n",
    "    print(y, \"is greater than\", x)"
   ]
  },
  {
   "cell_type": "markdown",
   "metadata": {
    "id": "9Uwbo3FnQjry"
   },
   "source": [
    "## *3.2 if-else statements (alternate execution)*\n",
    "\n",
    "A second form of the if statement is “alternative execution”, in which there are two possibilities and the condition determines which one runs. The syntax looks like this (example and partial text from https://greenteapress.com/thinkpython2/html/thinkpython2006.html):\n",
    "\n",
    "```python\n",
    "# Assume x is an integer\n",
    "\n",
    "if x % 2 == 0:\n",
    "    print('x is even')\n",
    "else:\n",
    "    print('x is odd')\n",
    "```\n",
    "\n",
    "If the remainder when x is divided by 2 is 0, then we know that x is even, and the program displays an appropriate message. If the condition is false, the second set of statements runs. Since the condition must be true or false, exactly one of the alternatives will run. The alternatives are called branches, because they are branches in the flow of execution.\n",
    "\n"
   ]
  },
  {
   "cell_type": "markdown",
   "metadata": {
    "id": "7SsbR_1nQjry"
   },
   "source": [
    "## *3.3 if-elif-else statatements (chained conditionals)*\n",
    "\n",
    "We introduce `elif` (\"else if\"), which will only execute if all preceeding `if` and `elif` conditions are False. The final `else` block is executed if none of the preceding conditions are True."
   ]
  },
  {
   "cell_type": "code",
   "execution_count": null,
   "metadata": {
    "id": "N5mdtZyeQjry"
   },
   "outputs": [],
   "source": [
    "# Try out different values of x below\n",
    "# - Is it possible to trigger the 'else' condition?\n",
    "\n",
    "x = 3\n",
    "\n",
    "if x > 0:\n",
    "    print (\"x is greater than 0\")\n",
    "elif x < 0:\n",
    "    print(\"x is less than zero\")\n",
    "elif x == 0:\n",
    "    print(\"x is 0\")\n",
    "else:\n",
    "    print(\"x is something else?\")"
   ]
  },
  {
   "cell_type": "markdown",
   "metadata": {
    "id": "yFoApo4LQjrz"
   },
   "source": [
    "## *3.4 Nested conditionals*\n",
    "\n",
    "Section 5.7 of https://greenteapress.com/thinkpython2/html/thinkpython2006.html provides a really good overview of nested conditionals, reproduced below. It may also be worthwhile to read Sections 5.2-5.6 as a review of the topics above.\n",
    "\n",
    "One conditional can also be nested within another. We can write the same three condition statement using an if-elif-else structure or using nested conditionals:\n",
    "\n",
    "```python\n",
    "# if-elif-else structure\n",
    "if x == y:\n",
    "    print('x and y are equal')\n",
    "elif x < y:\n",
    "    print('x is less than y')\n",
    "else:\n",
    "    print('x is greater than y')\n",
    "```\n",
    "\n",
    "```python\n",
    "# nested conditionals\n",
    "if x == y:\n",
    "    print('x and y are equal')\n",
    "else:\n",
    "    if x < y:\n",
    "        print('x is less than y')\n",
    "    else:\n",
    "        print('x is greater than y')\n",
    "```"
   ]
  },
  {
   "cell_type": "markdown",
   "metadata": {},
   "source": [
    "For the nested conditionals example, the outer conditional contains two branches. The first branch contains a simple statement. The second branch contains another if statement, which has two branches of its own. Those two branches are both simple statements, although they could have been conditional statements as well.\n",
    "\n",
    "Although the indentation of the statements makes the structure apparent, nested conditionals become difficult to read very quickly. **It is a good idea to avoid nested conditionals when you can.**\n",
    "\n",
    "Logical operators often provide a way to simplify nested conditional statements. For example, we can rewrite the following code using a single conditional:\n",
    "\n",
    "```python\n",
    "if 0 < x:\n",
    "    if x < 10:\n",
    "        print('x is a positive single-digit number.')\n",
    "```\n",
    "      \n",
    "The print statement runs only if we make it past both conditionals, so we can get the same effect with the `and` operator:\n",
    "\n",
    "```python\n",
    "if 0 < x and x < 10:\n",
    "    print('x is a positive single-digit number.')\n",
    "```    \n",
    "    \n",
    "For this kind of condition, Python provides a more concise option:\n",
    "\n",
    "```python\n",
    "if 0 < x < 10:\n",
    "    print('x is a positive single-digit number.')\n",
    "```\n",
    "    \n",
    "(This section was reproduced from https://greenteapress.com/thinkpython2/html/thinkpython2006.html)"
   ]
  },
  {
   "cell_type": "markdown",
   "metadata": {
    "id": "n91hmNAWQjrz"
   },
   "source": [
    "## *3.5. More complicated logic statements as conditions*\n",
    "\n",
    "We can combine multiople logic statements to create a more complicated logic statement to check if our `condition` is `True` or `False`.\n",
    "Let's use some code examples to look at the most common logic modifying and joining statements of `and`, `or` and `not`:"
   ]
  },
  {
   "cell_type": "code",
   "execution_count": null,
   "metadata": {
    "id": "ZW_Yv2IPQjr0"
   },
   "outputs": [],
   "source": [
    "# Run me!\n",
    "conditionA = True\n",
    "conditionB = False\n",
    "\n",
    "if conditionA and conditionB:\n",
    "    # This code will run only if conditionA==True and conditionB=True\n",
    "    print(\"The 'and' condition is True\")\n",
    "else:\n",
    "    print(\"The 'and' condition is False\")"
   ]
  },
  {
   "cell_type": "code",
   "execution_count": null,
   "metadata": {
    "id": "JB9dD0XoQjr0"
   },
   "outputs": [],
   "source": [
    "# Run me!\n",
    "\n",
    "if conditionA or conditionB:\n",
    "    # This code will run if either conditionA==True or conditionB=True\n",
    "    print(\"The 'or' condition is True\")\n",
    "else:\n",
    "    print(\"The 'or' condition is False\")"
   ]
  },
  {
   "cell_type": "code",
   "execution_count": null,
   "metadata": {
    "id": "ajvaDwf5Qjr1"
   },
   "outputs": [],
   "source": [
    "# Run me\n",
    "\n",
    "# 'not' flips the boolean to the opposite value\n",
    "if not conditionB:\n",
    "    print(\"'not condition B' is True\")\n",
    "else:\n",
    "    print(\"'not condition B' is False\")\n",
    "\n",
    "if not conditionA:\n",
    "    print(\"'not condition A' is True\")\n",
    "else:\n",
    "    print(\"'not condition A' is False\")"
   ]
  },
  {
   "cell_type": "markdown",
   "metadata": {
    "id": "8ocUuq5tQjr1"
   },
   "source": [
    "### Your turn #1\n",
    "\n",
    "Without adding or removing any of the variables, fix the following `if` statements so that the \"I should be printed\" statement is printed and the \"I should not be printed\" statements are not printed"
   ]
  },
  {
   "cell_type": "code",
   "execution_count": null,
   "metadata": {
    "id": "GP7O_UQYQjr1",
    "outputId": "90d2df7f-a90b-411f-c838-e194fcb8f502"
   },
   "outputs": [],
   "source": [
    "# Fix these 'if' statements\n",
    "\n",
    "num1 = 10\n",
    "num2 = 5\n",
    "bool1 = True\n",
    "bool2 = False\n",
    "\n",
    "if num1 < num2:\n",
    "    print(\"3.1a: I should be printed\")\n",
    "\n",
    "if (num1 > num2) and not (num1 == 5):\n",
    "    print(\"3.1b: I should not be printed\")\n",
    "\n",
    "if bool1 or bool2:\n",
    "    print(\"3.1c: I should not be printed\")"
   ]
  },
  {
   "cell_type": "markdown",
   "metadata": {
    "id": "l1nqUWy9Qjr2"
   },
   "source": [
    "## *3.6 For loops*"
   ]
  },
  {
   "cell_type": "markdown",
   "metadata": {
    "id": "wjCwTAGPQjr2"
   },
   "source": [
    "There are two loop constructs in Python, `for` loops and `while` loops. In general, most tasks can be accomplished using either of these loop types, but they each have their own strengths and weaknesses. We are going to focus on `for` loops here and return to `while` loops in the next preclass assignment.\n",
    "\n",
    "The `for` keyword in Python allows you to iterate through a countable list of elements inside what is called an iterable object, such as a `string` or a `list`.\n",
    "\n",
    "The syntax of the for loop is straightforward:"
   ]
  },
  {
   "cell_type": "code",
   "execution_count": null,
   "metadata": {
    "id": "3Ti-9zAVQjr3"
   },
   "outputs": [],
   "source": [
    "# Run me!\n",
    "\n",
    "mystring='somestuff'\n",
    "\n",
    "for c in mystring:\n",
    "    print(\"character:\",c)"
   ]
  },
  {
   "cell_type": "markdown",
   "metadata": {},
   "source": [
    "So what is this `for` loop doing? it is saying that `mystring` is an iterable object and that it is going to iterate through each element in this iterable object, meaning it is going to first look at `character[0] = s`, then `character[1] = o`, and so on. Because the iterable object is a string, the `for c` part tells Python to create a variable `c`, which will be a `str type`, and which will hold each letter of `somestuff` one at a time, in sequence. Note that the variable `c` could have any name, but here we called it `c` to help remind us that it is used to store a character."
   ]
  },
  {
   "cell_type": "markdown",
   "metadata": {},
   "source": [
    "## *3.7 For loop with `range()`*"
   ]
  },
  {
   "cell_type": "markdown",
   "metadata": {},
   "source": [
    "There is a convenient built-in function in Python, `range(n)`, which creates an iterable object containing the sequence of integers from 0 to n-1:"
   ]
  },
  {
   "cell_type": "code",
   "execution_count": null,
   "metadata": {},
   "outputs": [],
   "source": [
    "# Run me!\n",
    "\n",
    "range_object = range(5)\n",
    "\n",
    "print(\"range_object =\",range_object)\n",
    "\n",
    "print(\"type =\", type(range_object))"
   ]
  },
  {
   "cell_type": "markdown",
   "metadata": {},
   "source": [
    "Note that the type for this object is `range`. For those already familiar with lists in Python, this is a type of object that behaves much like a list when used in calculations, but is much more efficient in terms of memory storage. \n",
    "\n",
    "You can access `range` elements in the same way we've been accessing the individual elements in a string: "
   ]
  },
  {
   "cell_type": "code",
   "execution_count": null,
   "metadata": {},
   "outputs": [],
   "source": [
    "# Run me!\n",
    "range_object = range(5)\n",
    "\n",
    "for i in range_object:\n",
    "    print(i)"
   ]
  },
  {
   "cell_type": "markdown",
   "metadata": {},
   "source": [
    "Note that this is similar to other Python counting that we have encountered: `range(5)` behaves like a 5-element list, which counts up from 0 up to 4. "
   ]
  },
  {
   "cell_type": "markdown",
   "metadata": {},
   "source": [
    "Note the difference between the construction of the following two loops, which each have the same output\n",
    "\n",
    "* The variable `x1` in the first loop is of `str` type and takes on the value of each character in `mystring`\n",
    "* In the second loop, a `range` object is created, which has the same number of elements as the string `mystring`. Thus, `x2` is of `int` type and iterates through the indices 0-8 due to the `range(9)` object. To get each of the characters in `mystring`, we then use each index assigned to `x2` to access that element in `mystring` (e.g., `mystring[x2]`)."
   ]
  },
  {
   "cell_type": "code",
   "execution_count": null,
   "metadata": {},
   "outputs": [],
   "source": [
    "# Run me!\n",
    "\n",
    "mystring='somestuff'\n",
    "\n",
    "print(\"Iterating over the string\")\n",
    "for x1 in mystring:\n",
    "    print(x1)\n",
    "print(type(x1))\n",
    "    \n",
    "print(\"\") # Put a blank line between the two outputs\n",
    "\n",
    "print(\"Iterating over the range\")\n",
    "for x2 in range( len(mystring) ):\n",
    "    print(mystring[x2])\n",
    "print(type(x2))"
   ]
  },
  {
   "cell_type": "markdown",
   "metadata": {},
   "source": [
    "### Your turn #2\n",
    "What do you need to change the `print` statement in the `for` loop to be so that the output will be the following? \n",
    "```\n",
    "0\n",
    "1\n",
    "2\n",
    "3\n",
    "4\n",
    "5\n",
    "6\n",
    "7\n",
    "8\n",
    "```"
   ]
  },
  {
   "cell_type": "code",
   "execution_count": null,
   "metadata": {},
   "outputs": [],
   "source": [
    "# Fix me so that I have the correct output\n",
    "\n",
    "mystring='somestuff'\n",
    "\n",
    "for x2 in range( len(mystring) ):\n",
    "    print(mystring[x2])"
   ]
  },
  {
   "cell_type": "markdown",
   "metadata": {},
   "source": [
    "## *3.8 `range()` arguments*"
   ]
  },
  {
   "cell_type": "markdown",
   "metadata": {},
   "source": [
    "`range()` can take up to three arguments, the third (optional) is the step between elements (see http://pythoncentral.io/pythons-range-function-explained/) for a full description). "
   ]
  },
  {
   "cell_type": "code",
   "execution_count": null,
   "metadata": {},
   "outputs": [],
   "source": [
    "# range requires one argument, `stop`, which means it counts from a default of `start` of 0 (inclusive)\n",
    "# up to `stop` exclusive\n",
    "\n",
    "for i in range(5):\n",
    "    print(i)"
   ]
  },
  {
   "cell_type": "code",
   "execution_count": null,
   "metadata": {},
   "outputs": [],
   "source": [
    "# If a second argument is included, this is interpreted as the start value, so this is\n",
    "# • start = 1 (inclusive)\n",
    "# • stop = 5 (exclusive)\n",
    "\n",
    "for i in range(1,5):\n",
    "    print(i)"
   ]
  },
  {
   "cell_type": "code",
   "execution_count": null,
   "metadata": {},
   "outputs": [],
   "source": [
    "# If a third argument is included, this is interpreted as 'step', \n",
    "# which is the difference between each number in the sequence\n",
    "# • start = 1 (inclusive)\n",
    "# • stop = 5 (exclusive)\n",
    "# • step = 2\n",
    "\n",
    "for i in range(1,5,2):\n",
    "    print(i)"
   ]
  },
  {
   "cell_type": "code",
   "execution_count": null,
   "metadata": {},
   "outputs": [],
   "source": [
    "# Note that negative values for 'step' can be used to count backward\n",
    "\n",
    "for i in range(5, 0, -1):\n",
    "    print(i)"
   ]
  },
  {
   "cell_type": "markdown",
   "metadata": {},
   "source": [
    "## *3.9 The `break` keyword*"
   ]
  },
  {
   "cell_type": "markdown",
   "metadata": {},
   "source": [
    "There will be many times when you want to end a `for` loop early because some condition was met. For example, in our `mystring` loop, perhaps we are searching for a `t` and want to stop the loop once we found it."
   ]
  },
  {
   "cell_type": "code",
   "execution_count": null,
   "metadata": {},
   "outputs": [],
   "source": [
    "# Run me!\n",
    "\n",
    "mystring='somestuff'\n",
    "\n",
    "for c in mystring:\n",
    "    print(\"character:\",c)\n",
    "    if c == \"t\":\n",
    "        print(\"We found a\", c)\n",
    "        break"
   ]
  },
  {
   "cell_type": "markdown",
   "metadata": {},
   "source": [
    "We can also look at an example where the `break` condition is triggered based on some arithmetic operation on the iteration variable `i`:"
   ]
  },
  {
   "cell_type": "code",
   "execution_count": null,
   "metadata": {},
   "outputs": [],
   "source": [
    "# Run me!\n",
    "\n",
    "for i in range(10):\n",
    "    \n",
    "    i_squared = i**2 # '**' is the Python exponent/power operator\n",
    "    \n",
    "    print(i, i_squared)\n",
    "    \n",
    "    if i_squared > 50:\n",
    "        print(\"Sorry, this number is too big\")\n",
    "        break"
   ]
  },
  {
   "cell_type": "markdown",
   "metadata": {},
   "source": [
    "## *3.10 Suggested further reading (optional)*\n",
    "\n",
    "We suggest spending a bit more time tying together many of the ideas that we have seen so far in this course. Here are some suggested readings.\n",
    "\n",
    "Read through the following three resources to help synthesize the python topics we have been looking at so far in the course:\n",
    "* Sections 8.1 to 8.10 ing http://greenteapress.com/thinkpython2/html/thinkpython2009.html which will review and add to what you know about strings and also covers for loops and iterating on them.\n",
    "* Skim sections 4.1 to 4.6 of https://docs.python.org/3/tutorial/controlflow.html. They provide a nice summary of the conditional statements that can be used for control flow in Python. Take these sections as reference materials, they cover a lot of ground: much of which we've seen, but there are a few things there that are more advanced. "
   ]
  },
  {
   "cell_type": "markdown",
   "metadata": {
    "id": "OENdW00hQjr4"
   },
   "source": [
    "## *Submitting this preclass assignment*\n",
    "Before submitting your work, restart + rerun your notebook to make sure that everything runs correctly and without error. We will only check that the Self-assessment questions at the start of the assignment have run correctly. After you've executed and checked your notebook, choose: `File => Save_and_Export_Notebook_As => HTML`. This will download an HTML version of your notebook to your computer which you can upload to Canvas"
   ]
  },
  {
   "cell_type": "code",
   "execution_count": null,
   "metadata": {
    "id": "kuqFL488Qjr4"
   },
   "outputs": [],
   "source": []
  }
 ],
 "metadata": {
  "colab": {
   "provenance": []
  },
  "kernelspec": {
   "display_name": "Python 3",
   "language": "python",
   "name": "python3"
  },
  "language_info": {
   "codemirror_mode": {
    "name": "ipython",
    "version": 3
   },
   "file_extension": ".py",
   "mimetype": "text/x-python",
   "name": "python",
   "nbconvert_exporter": "python",
   "pygments_lexer": "ipython3",
   "version": "3.7.6"
  }
 },
 "nbformat": 4,
 "nbformat_minor": 1
}
