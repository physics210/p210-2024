{
 "cells": [
  {
   "cell_type": "markdown",
   "metadata": {
    "id": "L6BPQwluF50w"
   },
   "source": [
    "# Project 01: Destructive collision\n",
    "**Due:** See the syllabus for submission dates\n",
    "\n",
    "**Updated Sept 24, 2024:** Incorporated some clarfications and advice from a Canvas announcement sent on Sept 23."
   ]
  },
  {
   "cell_type": "markdown",
   "metadata": {},
   "source": [
    "## *Description of the project*"
   ]
  },
  {
   "cell_type": "markdown",
   "metadata": {
    "id": "jsQISSBkRtc5"
   },
   "source": [
    "The goal of this project is to develop a research question, answered using a simulation involving one or more collisions, as well as one or more objects that will be destroyed if they experience too large of a force during a collision. The motion---as determined using Euler's method---of one or more objects before and after the collision should be integral to the simulation. An example research question that combines these ideas is \"At which speeds and angles can I bounce a water balloon off the ground to hit a target on the wall without having the water balloon explode when it bounces off the floor?\"\n",
    "\n",
    "The destruction aspect of the collision is included for a couple of reasons. First, it necessitates making multiple assumptions about real-world quantities. Second, the use of a categorical outcome (e.g., is the object destroyed or not) provides a useful anchor for research questions where you vary one or more independent variables. You may wish to come up with an alternative constraint to an oject being destroyed, but if so it should fit the same general framework of requiring critical real-world assumptions and having a categorical outcome be part of the outcomes you are looking at. \n",
    "\n",
    "Below you are provided with some **incomplete** starter code, intended to simulate what happens when two objects (balls) collide with each other and with barriers on either side. You will need to update this code so that it works as intended, and then extend the code to incorporate destructible elements, additional physics and to answer your research question. For example, you could try to break an egg in mini-golf by having to bounce the golf ball around some barriers to hit the egg, or launch a rock at a glass window (that poor rock doesn't stand a chance). "
   ]
  },
  {
   "cell_type": "markdown",
   "metadata": {},
   "source": [
    "To complete your project, you will need to do the following:\n",
    "\n",
    "1. Update the starter code so that the collision between the two objects is handled correctly.<br><br>\n",
    "\n",
    "1. Expand the provided code in a substantive way to make the physics more complicated (e.g., introducing additional physics interactions or new objects) and to make one or more of the objects destructible with some maximum forces they can tolerate. You may find that you have to make a lot of assumptions along the way, which is an expected part of the computational modelling process. Make sure to justify any assumptions or decisions along the way, with references, cited from within the text, if possible. Some examples of assumptions you might need to make:\n",
    "  * Is the collision elastic or inelsatic, and if inelastic how much energy is lost?\n",
    "  * How long does it take for a collision to occur?\n",
    "  * How much force can your object of choice take before it is destroyed?<br><br>\n",
    "\n",
    "1. Develop a research question that you find interesting and which can be answered with your expanded version of the simulation.<br><br>\n",
    "\n",
    "1. Produce a project report (a computational narrative in Jupyter notebook form) using the provided project template. This project report should ask and answer your research question, with the body of the providing the evidence and information needed to support your answer to the research question. The referee rubric lays out the key features that should be in this report and we provided an example project to further illustrate these key features. <br><br>\n",
    "\n",
    "1. Develop a graph to provide the main evidence / information used to answer your research question. For most research questions, this graph will represent the findings of your simulation as you vary one or more parameters in your simulation (such as initial velocity). <br><br>\n",
    "\n",
    "1. Develop a **static** multi-panel graph (no animations) to provide insight into the behaviour of your simulation for a given set of parameters and initial conditions. Be creative! This graph should be a concise visual representation that summarizes the behaviour of your simulation for a typical set of parameters and initial conditions, and which highlights one or more interesting things about the behaviour of your simulation (interactions, changes in quantities, etc). When you are building and debugging your simulation, it is likely you will use many more visualizations than just these ones, but in your final submission you want to present a concise visual representation, as described. <br><br>\n",
    "\n",
    "1. As an appendix to your project report (please see the Project 01 Report Template), you will share 2-3 ways that you validated the behaviour of your simulation. By this we mean we want you to put some energy into convincing yourself that your simulation behaves as you intended, from the perspective of the physics and the code. In the process of building and debugging your simulation you will have used some combination of common sense, by-hand calculations, visualizations, debugger interactions and targeted print statements to build up your confidence that things are all behaving correctly. We don't need to see every single one of these validation tasks. Instead, we are asking you to highlight the 2-3 most compelling of these validation / debugging / error-testing steps or tasks. \n",
    "  - The first of these is that you should choose two different sets of starting parameters and compare the results of your by-hand calculations to those of your simulation to confirm that your simulation is behaving correctly. If you have multiple collisions within the simulation, focus on what your perceive to be the most important of these collisions. \n",
    "  - The other one or two of these validation tasks that you wish to highlight are up to you.<br><br>\n",
    "\n",
    "1. As a second appendix in your project report, answer a series of reflection questions (provided in the Project 01 Report Template). These questions are designed to help you check your project report against the criteria and expectations before submission and to help us better understand where you extended yourself in completing this project."
   ]
  },
  {
   "cell_type": "markdown",
   "metadata": {},
   "source": [
    "## *Further advice on developing your project*"
   ]
  },
  {
   "cell_type": "markdown",
   "metadata": {},
   "source": [
    "First, don't try to build all of the complexity into your simulation at once. Make the simplest viable version first and make sure it works as intended. Once you understand the amount of work involved in having done that, you will have a much better idea of how much work it will be to incorporate all of your great ideas to add complexity. \n",
    "\n",
    "The second piece of advice is targets those considering trying to elevate their project to one that earns distinction points. Keep in mind that baseline of \"Publish\" is that you have completed an \"A\" quality project and that to earn distinction points requires pushing it into the \"A+\" level for overall quality. The most productive way to do so is to come up with a project that has a clear path to being \"A\" quality, but which also has room to add further complexity in many ways. This allows you to proceed confidently with your project knowing that you can achieve \"Publish\" while also still having the option to invest the additional effort to elevate it into the distinction point realm. "
   ]
  },
  {
   "cell_type": "markdown",
   "metadata": {},
   "source": [
    "## *Using the report template*"
   ]
  },
  {
   "cell_type": "markdown",
   "metadata": {},
   "source": [
    "The \"Project 01 Report Template\" should be used to write-up the results of your investigation. It includes some organizating elements, such as the appendices for your validation work and an appendix that includes your refelection questions.\n",
    "\n",
    "Your report should be viewed as a working Jupyter notebook, meaning that a person should be able to run your notebook to produce all of the relevant results, graphs, etc. It must contain all of the code needed to \n",
    "\n",
    "* Show how your simulation works,\n",
    "* Produce all data that you will be analyzing, and\n",
    "* Have the code and data needed to produce any plots that you include. "
   ]
  },
  {
   "cell_type": "markdown",
   "metadata": {},
   "source": [
    "Because developing a computational investigation is a highly nonlinear process, you will likely find that it is easiest to develop your relevant code somewhere other than the Report Template, such as in this notebook or in a new blank notebook. Once you feel that your project is complete, you can then copy the relevant pieces into the template, keeping in mind the expectations directly above that the Project Report itself be a working notebook."
   ]
  },
  {
   "cell_type": "markdown",
   "metadata": {},
   "source": [
    "## *Starter code*"
   ]
  },
  {
   "cell_type": "code",
   "execution_count": 2,
   "metadata": {},
   "outputs": [],
   "source": [
    "### Starter code for Project 01\n",
    "\n",
    "# Constants\n",
    "dt = 0.1 # s\n",
    "tmax = 100 # s\n",
    "steps = int(tmax / dt) # Total number of steps\n",
    "t = [0.] # List to store time values corresponding to position/velocity values\n",
    "left_barrier = -10 # m\n",
    "right_barrier = 10 # m\n",
    "\n",
    "# Object 1\n",
    "xi1 = -5 # m\n",
    "vi1 = 2 # m/s\n",
    "x1 = [xi1] # List to store position values\n",
    "v1 = [vi1] # List to store velocity values\n",
    "r1 = 0.05 # m\n",
    "m1 = .01 # kg\n",
    "\n",
    "# Object 2\n",
    "xi2 = 7 # m\n",
    "vi2 = -1 #m /s\n",
    "x2 = [xi2]\n",
    "v2 = [vi2]\n",
    "r2 = 0.02 # m\n",
    "m2 = .001 # kg\n",
    "\n",
    "\n",
    "for i in range(steps):\n",
    "    \n",
    "    # Retrieve the kinematic quantities from the previous iteration\n",
    "    x1_last = x1[-1]\n",
    "    v1_last = v1[-1]\n",
    "    x2_last = x2[-1]\n",
    "    v2_last = v2[-1]\n",
    "    t_last = t[-1]\n",
    "\n",
    "    # Calculate new physical quantities\n",
    "    x1_new = x1_last + v1_last * dt\n",
    "    x2_new = x2_last + v2_last * dt\n",
    "    v1_new = v1_last\n",
    "    v2_new = v2_last\n",
    "    t_new = t_last + dt\n",
    "\n",
    "    # Check for collisions and update kinematic quantities as needed\n",
    "    if x1_new + r1 >= right_barrier or x1_new - r1 <= left_barrier:\n",
    "        v1_new = -v1_new\n",
    "\n",
    "    if x2_new + r2 >= right_barrier or x2_new - r2 <= left_barrier:\n",
    "        v2_new = -v2_new\n",
    "\n",
    "    # Append updated quantities to their lists\n",
    "    x1.append(x1_new)\n",
    "    x2.append(x2_new)\n",
    "    v1.append(v1_new)\n",
    "    v2.append(v2_new)\n",
    "    t.append(t_new)\n"
   ]
  },
  {
   "cell_type": "code",
   "execution_count": null,
   "metadata": {},
   "outputs": [],
   "source": []
  }
 ],
 "metadata": {
  "colab": {
   "provenance": []
  },
  "kernelspec": {
   "display_name": "Python 3",
   "language": "python",
   "name": "python3"
  },
  "language_info": {
   "codemirror_mode": {
    "name": "ipython",
    "version": 3
   },
   "file_extension": ".py",
   "mimetype": "text/x-python",
   "name": "python",
   "nbconvert_exporter": "python",
   "pygments_lexer": "ipython3",
   "version": "3.7.6"
  }
 },
 "nbformat": 4,
 "nbformat_minor": 1
}
