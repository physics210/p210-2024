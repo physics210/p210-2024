{
 "cells": [
  {
   "cell_type": "markdown",
   "metadata": {},
   "source": [
    "# Welcome to Physics 210"
   ]
  },
  {
   "cell_type": "markdown",
   "metadata": {},
   "source": [
    "The course syllabus can be found at: https://physics210.github.io/p210-2024/syllabus.html"
   ]
  },
  {
   "cell_type": "markdown",
   "metadata": {},
   "source": [
    "Jupyter notebooks in this course will be distributed directly to your UBC Jupyter Open account via a GitHub repository. If you took Physics 119 last year, this will be very familiar to you.\n",
    "\n",
    "Each link on Canvas that directs you to a resource or assessment on UBC Jupyter Open will take you to that resource on Jupyter Open _and_ will also update your account with any new documents that have been added. If you ever want to restore a document to the original version we distributed to you, simply rename your local version of that and then click on any of the Jupyter Open resource links on Canvas and the original version of the document will reappear."
   ]
  }
 ],
 "metadata": {
  "kernelspec": {
   "display_name": "Python 3",
   "language": "python",
   "name": "python3"
  },
  "language_info": {
   "codemirror_mode": {
    "name": "ipython",
    "version": 3
   },
   "file_extension": ".py",
   "mimetype": "text/x-python",
   "name": "python",
   "nbconvert_exporter": "python",
   "pygments_lexer": "ipython3",
   "version": "3.7.6"
  }
 },
 "nbformat": 4,
 "nbformat_minor": 4
}
