{
 "cells": [
  {
   "cell_type": "markdown",
   "metadata": {
    "slideshow": {
     "slide_type": "slide"
    }
   },
   "source": [
    "# PHYS 210 Lecture 14 - Oct 28, 2024\n",
    "Agenda:\n",
    "\n",
    "1. Reading recap, polling questions and Q&A"
   ]
  },
  {
   "cell_type": "markdown",
   "metadata": {
    "slideshow": {
     "slide_type": "slide"
    }
   },
   "source": [
    "## Reading recap, polling questions and Q&A"
   ]
  },
  {
   "cell_type": "markdown",
   "metadata": {
    "slideshow": {
     "slide_type": "slide"
    }
   },
   "source": [
    "**Random number libraries**\n",
    "\n",
    "* `random` module: `random.uniform(a, b)`\n",
    "* `numpy.random`: `np.random.uniform(a, b, size)`\n",
    "* `secrets` module: generating cryptographically secure random numbers and strings\n",
    "* `scipy.stats`: a huge number of specialized statistical distributions"
   ]
  },
  {
   "cell_type": "markdown",
   "metadata": {
    "slideshow": {
     "slide_type": "slide"
    }
   },
   "source": [
    "**Q:** Can you go over the sin(x) Monte Carlo solution?\n",
    "\n",
    "Let's first jump to an example similar to the estimation of pi"
   ]
  },
  {
   "cell_type": "markdown",
   "metadata": {
    "slideshow": {
     "slide_type": "slide"
    }
   },
   "source": [
    "**Monte-Carlo integration - volume of a sphere**"
   ]
  },
  {
   "cell_type": "code",
   "execution_count": null,
   "metadata": {
    "slideshow": {
     "slide_type": "-"
    }
   },
   "outputs": [],
   "source": [
    "import numpy as np\n",
    "import matplotlib.pyplot as plt\n",
    "from mpl_toolkits.mplot3d import Axes3D\n",
    "r = np.random.uniform(-1,1,(5,3))\n",
    "r"
   ]
  },
  {
   "cell_type": "markdown",
   "metadata": {
    "slideshow": {
     "slide_type": "slide"
    }
   },
   "source": [
    "**Polling Q1** If we are trying to calculate the volume of a sphere with `r=1`, how should we write our volume calculation expression?"
   ]
  },
  {
   "cell_type": "code",
   "execution_count": null,
   "metadata": {},
   "outputs": [],
   "source": [
    "r = np.random.uniform(-1,1,(10000,3))\n",
    "rin = r[ r[:,0]**2 + r[:,1]**2 + r[:,2]**2 <= 1 ]\n",
    "\n",
    "fig = plt.figure()\n",
    "ax = fig.add_subplot(111, projection='3d')\n",
    "ax.scatter(rin[:, 0], rin[:, 1], rin[:, 2])\n",
    "plt.show()"
   ]
  },
  {
   "cell_type": "markdown",
   "metadata": {
    "slideshow": {
     "slide_type": "slide"
    }
   },
   "source": [
    "**Polling Q1:** If we are trying to calculate the volume of a sphere with `r=1`, how should we write our volume calculation expression?"
   ]
  },
  {
   "cell_type": "code",
   "execution_count": null,
   "metadata": {},
   "outputs": [],
   "source": [
    "r = np.random.uniform(-1,1,(10000,3))\n",
    "rin = r[ r[:,0]**2 + r[:,1]**2 + r[:,2]**2 <= 1 ]\n",
    "\n",
    "vol_A = 4/3 * np.pi * rin.size/r.size\n",
    "vol_B = 8 * rin.size/r.size\n",
    "vol_C = 2 * rin.size/r.size\n",
    "vol_D = 1/8 * rin.size/r.size \n",
    "vol_E = 1/2 * rin.size/r.size"
   ]
  },
  {
   "cell_type": "code",
   "execution_count": null,
   "metadata": {
    "slideshow": {
     "slide_type": "-"
    }
   },
   "outputs": [],
   "source": [
    "a = 1 # Update this\n",
    "print(f\"MC = {a*rin.size/r.size}, Volume = {4/3*np.pi:.3f}\")"
   ]
  },
  {
   "cell_type": "markdown",
   "metadata": {
    "slideshow": {
     "slide_type": "slide"
    }
   },
   "source": [
    "**Monte-Carlo integration - definite integral of sin**<br>\n",
    "\n",
    "Here's what I got when I asked ChatGPT: \n",
    "* \"python monte carlo integral of sin from 0 to pi\""
   ]
  },
  {
   "cell_type": "markdown",
   "metadata": {
    "slideshow": {
     "slide_type": "slide"
    }
   },
   "source": [
    "Monte Carlo integration is a technique that uses random sampling to approximate the value of a definite integral. Here's how you can use the Monte Carlo method to estimate the integral of \\( \\sin(x) \\) from 0 to \\( \\pi \\):\n",
    "\n",
    "1. Generate random points \\( (x, y) \\) where \\( x \\) is between 0 and \\( \\pi \\) and \\( y \\) is between 0 and 1.\n",
    "2. Count the number of points that lie below the curve \\( y = \\sin(x) \\).\n",
    "3. The ratio of the points below the curve to the total number of points, multiplied by the area of the bounding box (which is \\( \\pi \\times 1 = \\pi \\) in this case), will give an approximation of the integral.\n",
    "\n",
    "Here's the Python code to perform the Monte Carlo integration for \\( \\sin(x) \\):\n",
    "\n",
    "```python\n",
    "import numpy as np\n",
    "\n",
    "def monte_carlo_integration_sin(n_samples=100000):\n",
    "    # Generate random x values between 0 and pi\n",
    "    x = np.random.uniform(0, np.pi, n_samples)\n",
    "    \n",
    "    # Generate random y values between 0 and 1\n",
    "    y = np.random.uniform(0, 1, n_samples)\n",
    "    \n",
    "    # Check how many points lie below y = sin(x)\n",
    "    below_curve = y < np.sin(x)\n",
    "    \n",
    "    # Compute the ratio of points below the curve to total points\n",
    "    ratio = np.sum(below_curve) / n_samples\n",
    "    \n",
    "    # The area of the bounding box is pi\n",
    "    area_box = np.pi\n",
    "    \n",
    "    # Return the approximate integral\n",
    "    return ratio * area_box\n",
    "\n",
    "# Estimate the integral\n",
    "integral_estimate = monte_carlo_integration_sin()\n",
    "print(f\"Monte Carlo estimate of the integral: {integral_estimate}\")\n",
    "\n",
    "# The actual value of the integral of sin(x) from 0 to pi is 2\n",
    "print(f\"Actual value: 2\")\n",
    "```\n",
    "\n",
    "The more samples you use, the closer the estimate will be to the actual value. However, convergence can be slow, so for very accurate results, you might need a large number of samples."
   ]
  },
  {
   "cell_type": "code",
   "execution_count": null,
   "metadata": {
    "slideshow": {
     "slide_type": "slide"
    }
   },
   "outputs": [],
   "source": [
    "def monte_carlo_integration_sin(n_samples=100000):\n",
    "    # Generate random x values between 0 and pi and y between 0 and 1\n",
    "    x = np.random.uniform(0, np.pi, n_samples)\n",
    "    y = np.random.uniform(0, 1, n_samples)\n",
    "\n",
    "    # Check how many points lie below y = sin(x)\n",
    "    below_curve = y < np.sin(x)\n",
    "\n",
    "    # Compute the ratio of points below the curve to total points\n",
    "    ratio = np.sum(below_curve) / n_samples\n",
    "\n",
    "    # The area of the bounding box is pi\n",
    "    area_box = np.pi # pi wide by 1 tall\n",
    "\n",
    "    # Return the approximate integral\n",
    "    return ratio * area_box\n",
    "\n",
    "integral_estimate = monte_carlo_integration_sin()\n",
    "print(f\"Monte Carlo estimate of the integral: {integral_estimate}\")\n",
    "print(f\"Actual value: 2\")"
   ]
  },
  {
   "cell_type": "markdown",
   "metadata": {
    "slideshow": {
     "slide_type": "slide"
    }
   },
   "source": [
    "**Polling Q2:** Modifications to calculate the integral from $-\\pi$ to $\\pi$ instead of 0 to $\\pi$?<br>\n",
    "A) `x` goes from $-\\pi$ to $\\pi$<br>\n",
    "B) `y` goes from $-1$ to $1$<br>\n",
    "C) `below_curve` needs to become `0 < y < np.sin(x)`<br>\n",
    "D) Same as C but also need `above_curve = np.sin(x) < y < 0` and then use (`above_curve - below_curve`)<br>\n",
    "E) All of the above"
   ]
  },
  {
   "cell_type": "code",
   "execution_count": null,
   "metadata": {},
   "outputs": [],
   "source": [
    "def monte_carlo_integration_sin(n_samples=100000):\n",
    "    x = np.random.uniform(0, np.pi, n_samples)\n",
    "    y = np.random.uniform(0, 1, n_samples)\n",
    "    below_curve = y < np.sin(x)\n",
    "    ratio = np.sum(below_curve) / n_samples\n",
    "    area_box = np.pi\n",
    "    return ratio * area_box"
   ]
  },
  {
   "cell_type": "markdown",
   "metadata": {
    "slideshow": {
     "slide_type": "slide"
    }
   },
   "source": [
    "**Q:** what does the seed number do?.<br>"
   ]
  },
  {
   "cell_type": "markdown",
   "metadata": {
    "slideshow": {
     "slide_type": "slide"
    }
   },
   "source": [
    "Let's discuss pseudorandom number and an old and well-known generator:\n",
    "\n",
    "* https://en.wikipedia.org/wiki/Linear_congruential_generator"
   ]
  },
  {
   "cell_type": "markdown",
   "metadata": {
    "slideshow": {
     "slide_type": "slide"
    }
   },
   "source": [
    "## The rest of today\n",
    "Worksheet 14"
   ]
  },
  {
   "cell_type": "code",
   "execution_count": null,
   "metadata": {
    "slideshow": {
     "slide_type": "slide"
    }
   },
   "outputs": [],
   "source": []
  }
 ],
 "metadata": {
  "celltoolbar": "Slideshow",
  "kernelspec": {
   "display_name": "Python 3",
   "language": "python",
   "name": "python3"
  },
  "language_info": {
   "codemirror_mode": {
    "name": "ipython",
    "version": 3
   },
   "file_extension": ".py",
   "mimetype": "text/x-python",
   "name": "python",
   "nbconvert_exporter": "python",
   "pygments_lexer": "ipython3",
   "version": "3.7.6"
  }
 },
 "nbformat": 4,
 "nbformat_minor": 4
}
