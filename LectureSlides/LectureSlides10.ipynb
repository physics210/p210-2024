{
 "cells": [
  {
   "cell_type": "markdown",
   "metadata": {
    "slideshow": {
     "slide_type": "slide"
    }
   },
   "source": [
    "# PHYS 210 Lecture 10 - Oct 09, 2024\n",
    "Agenda:\n",
    "\n",
    "1. Announcements\n",
    "1. Reading recap (Q&A and polling questions)\n",
    "1. Groupwork"
   ]
  },
  {
   "cell_type": "markdown",
   "metadata": {
    "slideshow": {
     "slide_type": "slide"
    }
   },
   "source": [
    "## Groupwork reminders\n",
    "\n",
    "It feels like the quality of the groupwork has been slipping. The point of the worksheets is not to split up the tasks and finish as quickly as possible. \n",
    "\n",
    "Try to recognize your role in the group and the diversity of computing experience in it\n",
    "\n",
    "* Make sure that everybody understands what's going on before moving on\n",
    "* Ask your group to slow down or explain things if you need that. Notice if others need that support\n",
    "* Ask us to help you find a group working more at your speed if you need that"
   ]
  },
  {
   "cell_type": "markdown",
   "metadata": {
    "slideshow": {
     "slide_type": "slide"
    }
   },
   "source": [
    "## Reading recap, Q&A and polling questions\n",
    "First containers, then `solve_ivp`"
   ]
  },
  {
   "cell_type": "markdown",
   "metadata": {
    "slideshow": {
     "slide_type": "slide"
    }
   },
   "source": [
    "## Reading recap: Containers\n",
    "Data structures that can contain multiple items and types of items\n",
    "\n",
    "- Mutable – can be changed\n",
    "- Immutable – can’t be changed\n",
    "<br><br>\n",
    "- Ordered – items are in predictable order, can be accessed by slices\n",
    "- Unordered – the order is unpredictable (and usually unimportant)\n"
   ]
  },
  {
   "cell_type": "markdown",
   "metadata": {
    "slideshow": {
     "slide_type": "slide"
    }
   },
   "source": [
    "### Strings\n",
    "\n",
    "* Immutable, ordered\n",
    "* `+`, `*`, split, join \n",
    "* Aliasing (memory sharing/shallow copies) does not cause issues since they are immutable"
   ]
  },
  {
   "cell_type": "markdown",
   "metadata": {
    "slideshow": {
     "slide_type": "slide"
    }
   },
   "source": [
    "### Lists\n",
    "\n",
    "* Mutable, ordered\n",
    "* Create using `a = [ ]` or `a = list()`\n",
    "* \\*, \\+ as for strings\n",
    "* List methods: `append()`, `count()`, `extend()`, etc\n",
    "* Aliasing (memory sharing/shallow copies) can cause issues since they are mutable\n"
   ]
  },
  {
   "cell_type": "markdown",
   "metadata": {
    "slideshow": {
     "slide_type": "slide"
    }
   },
   "source": [
    "## Dictionaries\n",
    "\n",
    "* Mutable, unordered\t\n",
    "* Dictionary methods: clear(), copy(), get(), items(), keys(), values(), update(), etc"
   ]
  },
  {
   "cell_type": "code",
   "execution_count": null,
   "metadata": {},
   "outputs": [],
   "source": [
    "a = {'eyecolour': 'brown', 'height': 152.0 }\n",
    "a['eyecolour']"
   ]
  },
  {
   "cell_type": "markdown",
   "metadata": {
    "slideshow": {
     "slide_type": "slide"
    }
   },
   "source": [
    "### Q. Why use tuples? \n",
    "Once you've created a tuple, you can't change it (can't add elements, change them, remove them, etc).\n",
    "\n",
    "Generally you want to use lists as structures that hold information you are going to manipulate, and use tuples to transport several variables from here to there.\n",
    "\n",
    "A tuple is just a container that holds other variables. They are kept in order (ordered) but once you've made the container, all you can do is read the variables out of it."
   ]
  },
  {
   "cell_type": "markdown",
   "metadata": {
    "slideshow": {
     "slide_type": "slide"
    }
   },
   "source": [
    "### In-place operations vs new object creation\n",
    "\n",
    "Variables that contain multiple values can have multiple names.\n",
    "+ `a = [1, 2, 3]`, `b = a`: `a` and `b` are different names for the same list.\n",
    "+ If instead we’d said: `b = a * 1` then b and a would be different objects.\n",
    "+ After setting `b = a`, operations like: `a += [1]` and `a[0] = 5` change both a and b ('in place' operations).\n",
    "+ However, `a = a + 1` will create a new variable `a`.\n",
    "\n",
    "You will usually want to use `b = a.copy()` instead of `a = b` when making copies of mutable containiners such as lists or arrays"
   ]
  },
  {
   "cell_type": "markdown",
   "metadata": {
    "slideshow": {
     "slide_type": "slide"
    }
   },
   "source": [
    "### New variable example\n",
    "The new list created by `a = a + [5]` exists only inside the function"
   ]
  },
  {
   "cell_type": "code",
   "execution_count": null,
   "metadata": {},
   "outputs": [],
   "source": [
    "def do_nothing(a):\n",
    "    a = a + [5]\n",
    "    print(\"inside a:\", a)\n",
    "\n",
    "a = [ 1, 2, 3]\n",
    "do_nothing(a)\n",
    "print(\"outside a:\", a)"
   ]
  },
  {
   "cell_type": "markdown",
   "metadata": {
    "slideshow": {
     "slide_type": "slide"
    }
   },
   "source": [
    "### In place example\n",
    "Here the `a += 5` does its work 'in place'. Changes to the list inside the function are also seen outside of the function:"
   ]
  },
  {
   "cell_type": "code",
   "execution_count": null,
   "metadata": {},
   "outputs": [],
   "source": [
    "def add5(a):\n",
    "    a += [5]\n",
    "    print(\"inside a:\", a)\n",
    "a = [ 1, 2, 3]\n",
    "\n",
    "add5(a)\n",
    "print(\"outside a:\", a)"
   ]
  },
  {
   "cell_type": "markdown",
   "metadata": {
    "slideshow": {
     "slide_type": "slide"
    }
   },
   "source": [
    "### Another in place example\n",
    "All operations are 'in place', so the changes to the list inside the function are also seen outside of the function:"
   ]
  },
  {
   "cell_type": "code",
   "execution_count": null,
   "metadata": {},
   "outputs": [],
   "source": [
    "def swap(a):\n",
    "    b = a[0]\n",
    "    a[0] = a[1]\n",
    "    a[1] = b\n",
    "\n",
    "a = [ 1, 2, 3]\n",
    "\n",
    "swap(a)\n",
    "print(a)"
   ]
  },
  {
   "cell_type": "markdown",
   "metadata": {
    "slideshow": {
     "slide_type": "slide"
    }
   },
   "source": [
    "### Q: I don't know what happens when you put a function inside a function\n"
   ]
  },
  {
   "cell_type": "code",
   "execution_count": null,
   "metadata": {},
   "outputs": [],
   "source": [
    "def greet(name):\n",
    "    return f\"Hello {name}!\"\n",
    "\n",
    "def dismiss(name):\n",
    "    return f\"Go away {name}!\"\n",
    "\n",
    "def call_func(func, argument):\n",
    "    my_string = func(argument)\n",
    "    return my_string\n",
    "\n",
    "result = call_func(greet, \"Joss\") # pass the function as an argument\n",
    "print(result)"
   ]
  },
  {
   "cell_type": "markdown",
   "metadata": {},
   "source": [
    "In `solve_ivp` and `optimize.curve_fit` (after project 2) we will see that this is how we communicate equations and relationships to those functions"
   ]
  },
  {
   "cell_type": "markdown",
   "metadata": {
    "slideshow": {
     "slide_type": "slide"
    }
   },
   "source": [
    "### The main types of questions we were getting for `solve_ivp` and event handling\n",
    "* What are the parameters?\n",
    "* What is it doing with the array that is being passed to it?\n",
    "* How does event handling work?\n",
    "\n",
    "**Let's head back to the reading assignment with these questions in mind**"
   ]
  },
  {
   "cell_type": "markdown",
   "metadata": {
    "slideshow": {
     "slide_type": "slide"
    }
   },
   "source": [
    "## Group activity\n",
    "* More Electric Field Hockey, but now using solve_ivp()"
   ]
  },
  {
   "cell_type": "code",
   "execution_count": null,
   "metadata": {},
   "outputs": [],
   "source": []
  }
 ],
 "metadata": {
  "celltoolbar": "Slideshow",
  "kernelspec": {
   "display_name": "Python 3",
   "language": "python",
   "name": "python3"
  },
  "language_info": {
   "codemirror_mode": {
    "name": "ipython",
    "version": 3
   },
   "file_extension": ".py",
   "mimetype": "text/x-python",
   "name": "python",
   "nbconvert_exporter": "python",
   "pygments_lexer": "ipython3",
   "version": "3.7.6"
  }
 },
 "nbformat": 4,
 "nbformat_minor": 4
}
