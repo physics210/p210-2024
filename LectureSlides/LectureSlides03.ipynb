{
 "cells": [
  {
   "cell_type": "markdown",
   "metadata": {
    "slideshow": {
     "slide_type": "slide"
    }
   },
   "source": [
    "# PHYS 210 Lecture 03 - Sept 11, 2024\n",
    "\n",
    "1. Reminders about how to get help in this course (including office hours)\n",
    "1. Pre-class reading Q&A and polling questions\n",
    "1. Day 03 group worksheet\n",
    "1. Assignment 03"
   ]
  },
  {
   "cell_type": "markdown",
   "metadata": {
    "slideshow": {
     "slide_type": "slide"
    }
   },
   "source": [
    "## When you need help...\n",
    "\n",
    "* Troubleshooting, debugging and reasonable help-seeking with google and Generative AI\n",
    "* TAs, me and classmates during class time\n",
    "* Piazza if it is reasonable that another student could benefit from the answer or could help answer the question \n",
    "   * \"Please explain the answer for Homework Q3 since I don't quite get it\"\n",
    "* Office hours: Tues 1-2pm Hebb 312, Tues 4-5:30pm Hebb 112 + Zoom, Thurs 11:45am-1:15pm Zoom only)\n",
    "* Contact me privately only if none of those seem like the right thing"
   ]
  },
  {
   "cell_type": "markdown",
   "metadata": {
    "slideshow": {
     "slide_type": "slide"
    }
   },
   "source": [
    "## Reading topics\n",
    "\n",
    "* **Conditionals:** `if` / `elif` / `else` to execute code only if a condition is met (aka True).\n",
    "* **`for` Loops:** iterate through the elements of an iterable object. `break` and `continue` keywords\n",
    "* **`range()`:** a list-like object useful for generating indicies in `for` loops\n",
    "* **Indentation:** New blocks of code must be indented. 4 spaces is best\n"
   ]
  },
  {
   "cell_type": "markdown",
   "metadata": {
    "slideshow": {
     "slide_type": "slide"
    }
   },
   "source": [
    "## Reading 03 Q&A"
   ]
  },
  {
   "cell_type": "markdown",
   "metadata": {
    "slideshow": {
     "slide_type": "slide"
    }
   },
   "source": [
    "### `For` loops in python are like `foreach` loops in many other languages\n",
    "We loop over the items in an iterable object"
   ]
  },
  {
   "cell_type": "code",
   "execution_count": null,
   "metadata": {},
   "outputs": [],
   "source": [
    "my_string = \"ABC\"\n",
    "for i in my_string:\n",
    "    print(i)"
   ]
  },
  {
   "cell_type": "code",
   "execution_count": null,
   "metadata": {},
   "outputs": [],
   "source": [
    "for _ in \"ABC\":\n",
    "    print(_)"
   ]
  },
  {
   "cell_type": "markdown",
   "metadata": {
    "slideshow": {
     "slide_type": "slide"
    }
   },
   "source": [
    "**Q.** Could we go over a bit about 3.7 with the range in the for loops? specifically the example using x1 and x2, I got a little confused as to how this works\n",
    "\n",
    "**Q.** Can you explain why x2 is a integer here and not a string?\n",
    "\n",
    "**Q.** When iterating over a range determined by the length of a string, what is the difference between 'print(mystring[x2])' and 'print(x2)'?\n"
   ]
  },
  {
   "cell_type": "code",
   "execution_count": null,
   "metadata": {
    "slideshow": {
     "slide_type": "slide"
    }
   },
   "outputs": [],
   "source": [
    "mystring = 'ABC'\n",
    "\n",
    "for x1 in mystring: # Iterating over the string\n",
    "    print(x1)"
   ]
  },
  {
   "cell_type": "code",
   "execution_count": null,
   "metadata": {},
   "outputs": [],
   "source": [
    "for x2 in range( len(mystring) ): # Iterating over the range\n",
    "    print(x2, mystring[x2])"
   ]
  },
  {
   "cell_type": "markdown",
   "metadata": {
    "slideshow": {
     "slide_type": "slide"
    }
   },
   "source": [
    "### Note that we can also use `enumerate` to do both things at once"
   ]
  },
  {
   "cell_type": "code",
   "execution_count": null,
   "metadata": {},
   "outputs": [],
   "source": [
    "mystring = 'ABC'\n",
    "\n",
    "for i, element in enumerate(mystring):\n",
    "    print(\"i =\",i,\"; element =\",element)"
   ]
  },
  {
   "cell_type": "markdown",
   "metadata": {
    "slideshow": {
     "slide_type": "slide"
    }
   },
   "source": [
    "### Q. Difference between `break` and `continue`? How does this loop work?\n",
    "`continue` drops you to the end of the current iteration and starts the next iteration (if there is one). `break` forces you to exit the loop.\n",
    "```python\n",
    "for x in range(10):\n",
    "    if x == 2:\n",
    "        continue\n",
    "    elif x == 5:\n",
    "        break\n",
    "    else:\n",
    "        print(x)\n",
    "```\n",
    "Only prints `0, 1, 3, 4`.  `2` isn’t printed because of the continue, and 5 deosn't happen because the loop is terminated."
   ]
  },
  {
   "cell_type": "markdown",
   "metadata": {
    "slideshow": {
     "slide_type": "slide"
    }
   },
   "source": [
    "## Polling questions"
   ]
  },
  {
   "cell_type": "markdown",
   "metadata": {
    "slideshow": {
     "slide_type": "slide"
    }
   },
   "source": [
    "**Poll 3.1:** Will the print statement happen?"
   ]
  },
  {
   "cell_type": "code",
   "execution_count": null,
   "metadata": {
    "slideshow": {
     "slide_type": "-"
    }
   },
   "outputs": [],
   "source": [
    "if (9//2 > 4):\n",
    "    print(\"Yes, we got in!\")"
   ]
  },
  {
   "cell_type": "markdown",
   "metadata": {
    "slideshow": {
     "slide_type": "-"
    }
   },
   "source": [
    "A) Yes<br>\n",
    "B) No"
   ]
  },
  {
   "cell_type": "markdown",
   "metadata": {
    "slideshow": {
     "slide_type": "slide"
    }
   },
   "source": [
    "**Poll 3.2:** How many times will hello be printed?:"
   ]
  },
  {
   "cell_type": "code",
   "execution_count": null,
   "metadata": {},
   "outputs": [],
   "source": [
    "for i in range(5):\n",
    "    if (i == 3):\n",
    "        break\n",
    "    print (i, \"hello\")"
   ]
  },
  {
   "cell_type": "markdown",
   "metadata": {},
   "source": [
    "A) 6<br>\n",
    "B) 5<br>\n",
    "C) 4<br>\n",
    "D) 3<br>\n",
    "E) 1"
   ]
  },
  {
   "cell_type": "markdown",
   "metadata": {
    "slideshow": {
     "slide_type": "slide"
    }
   },
   "source": [
    "**Poll 3.3:** How many times will hello be printed?:"
   ]
  },
  {
   "cell_type": "code",
   "execution_count": null,
   "metadata": {
    "slideshow": {
     "slide_type": "-"
    }
   },
   "outputs": [],
   "source": [
    "for i in range(0,6,2):\n",
    "    if (i == 2):\n",
    "        continue\n",
    "    print (i,\"hello\")"
   ]
  },
  {
   "cell_type": "markdown",
   "metadata": {
    "slideshow": {
     "slide_type": "slide"
    }
   },
   "source": [
    "A) 6<br>\n",
    "B) 5<br>\n",
    "C) 4<br>\n",
    "D) 3<br>\n",
    "E) 2"
   ]
  },
  {
   "cell_type": "markdown",
   "metadata": {
    "slideshow": {
     "slide_type": "slide"
    }
   },
   "source": [
    "## The rest of the day\n",
    "* Group worksheet 03\n",
    "* Homework 03\n",
    "* Preclass 04 for Monday"
   ]
  }
 ],
 "metadata": {
  "celltoolbar": "Slideshow",
  "kernelspec": {
   "display_name": "Python 3",
   "language": "python",
   "name": "python3"
  },
  "language_info": {
   "codemirror_mode": {
    "name": "ipython",
    "version": 3
   },
   "file_extension": ".py",
   "mimetype": "text/x-python",
   "name": "python",
   "nbconvert_exporter": "python",
   "pygments_lexer": "ipython3",
   "version": "3.7.6"
  }
 },
 "nbformat": 4,
 "nbformat_minor": 4
}
