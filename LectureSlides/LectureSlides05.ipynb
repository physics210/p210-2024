{
 "cells": [
  {
   "cell_type": "markdown",
   "metadata": {
    "slideshow": {
     "slide_type": "slide"
    }
   },
   "source": [
    "# PHYS 210 Lecture 05 - Sep 18, 2024\n",
    "Agenda:\n",
    "\n",
    "1. No clickers today. We have a lot of \"fiddly formatting and commands\" which tend to be more about looking up the thing you need than thinking hard to figure stuff out\n",
    "1. Preclass Q&A\n",
    "1. Discussing Project 01\n",
    "1. Worksheet 05, but no Homework 05"
   ]
  },
  {
   "cell_type": "markdown",
   "metadata": {
    "slideshow": {
     "slide_type": "slide"
    }
   },
   "source": [
    "## Preclass 05 Q&A\n",
    "No polling questions today. The questions tended to be about fiddly syntax things less suited to polling questions.\n",
    "\n",
    "**Topics:**\n",
    "* More Linux command line\n",
    "* List comprehension\n",
    "* Plotting with matplotlib"
   ]
  },
  {
   "cell_type": "markdown",
   "metadata": {
    "slideshow": {
     "slide_type": "slide"
    }
   },
   "source": [
    "### Q: When will be using Linux commands and for what? Why are we learning it? When are some times when we would be using a terminal to code instead of just with jupyter?\n",
    "\n",
    "For many (many) physics summer jobs or co-ops, you will be working in a Linux environment. At minimum we want you to have a starting point to build on. \n",
    "\n",
    "Let's look at an example of trying to download an entire folder of files from Open Jupyter. There is no option to right-click download an entire folder, so we need to make a single archive file of the folder and can then download that...\n",
    "\n",
    "```\n",
    "$ tar -czvf Homework.tar.gz Homework/\n",
    "```\n"
   ]
  },
  {
   "cell_type": "markdown",
   "metadata": {
    "slideshow": {
     "slide_type": "slide"
    }
   },
   "source": [
    "```\n",
    "$ tar --help\n",
    "Usage: tar [OPTION...] [FILE]...\n",
    "GNU 'tar' saves many files together into a single tape or disk archive, and can\n",
    "restore individual files from the archive.\n",
    "\n",
    "Examples:\n",
    "  tar -cf archive.tar foo bar  # Create archive.tar from files foo and bar.\n",
    "  tar -tvf archive.tar         # List all files in archive.tar verbosely.\n",
    "  tar -xf archive.tar          # Extract all files from archive.tar.\n",
    "\n",
    " Main operation mode:\n",
    "  -A, --catenate, --concatenate   append tar files to an archive\n",
    "  -c, --create               create a new archive\n",
    "      --delete               delete from the archive (not on mag tapes!)\n",
    "  -d, --diff, --compare      find differences between archive and file system\n",
    "  -r, --append               append files to the end of an archive\n",
    "      --test-label           test the archive volume label and exit\n",
    "  -t, --list                 list the contents of an archive\n",
    "  -u, --update               only append files newer than copy in archive\n",
    "  -x, --extract, --get       extract files from an archive\n",
    "```"
   ]
  },
  {
   "cell_type": "markdown",
   "metadata": {
    "slideshow": {
     "slide_type": "slide"
    }
   },
   "source": [
    "### Q: List comprehension???\n",
    "\n",
    "I admit that we might have gotten a bit too deep into the weeds with list comprehension. The big-picture purpose of introducing list comprehension was to facilitate quickly making data that can be plotted before we have learned about arrays. "
   ]
  },
  {
   "cell_type": "markdown",
   "metadata": {
    "slideshow": {
     "slide_type": "slide"
    }
   },
   "source": [
    "## List comprehension"
   ]
  },
  {
   "cell_type": "markdown",
   "metadata": {
    "slideshow": {
     "slide_type": "slide"
    }
   },
   "source": [
    "### Q: Why does cat only print twice?\n",
    "Let's look at how you can make sense of this on your own (and ask GenAI as well)"
   ]
  },
  {
   "cell_type": "code",
   "execution_count": null,
   "metadata": {},
   "outputs": [],
   "source": [
    "animals = [\"dog\", \"cat\", \"African swallow\", \"European swallow\"]\n",
    "for i in range(4):\n",
    "    animals = animals[i:]\n",
    "    print(f\"Loop {i}: {animals}\")\n",
    "    if \"cat\" in animals:\n",
    "        print (\"I found a cat!\")"
   ]
  },
  {
   "cell_type": "code",
   "execution_count": null,
   "metadata": {
    "slideshow": {
     "slide_type": "slide"
    }
   },
   "outputs": [],
   "source": [
    "matrix = [[1, 2, 3], [4, 5, 6], [7, 8, 9]]\n",
    "flattened_long = []\n",
    "for row in matrix:\n",
    "    for num in row:\n",
    "        flattened_long.append(num)\n",
    "print(flattened_long)"
   ]
  },
  {
   "cell_type": "code",
   "execution_count": null,
   "metadata": {},
   "outputs": [],
   "source": [
    "flattened = [num for row in matrix for num in row]\n",
    "print(flattened)"
   ]
  },
  {
   "cell_type": "code",
   "execution_count": null,
   "metadata": {
    "slideshow": {
     "slide_type": "slide"
    }
   },
   "outputs": [],
   "source": [
    "# List comprehension\n",
    "evens_long = []\n",
    "for x in range(10):\n",
    "    if x % 2 == 0:\n",
    "        evens_long.append(x)\n",
    "print(evens_long)"
   ]
  },
  {
   "cell_type": "code",
   "execution_count": null,
   "metadata": {},
   "outputs": [],
   "source": [
    "evens = [x for x in range(10) if x % 2 == 0]\n",
    "print(evens)"
   ]
  },
  {
   "cell_type": "code",
   "execution_count": null,
   "metadata": {
    "slideshow": {
     "slide_type": "slide"
    }
   },
   "outputs": [],
   "source": [
    "numbers_long = []\n",
    "for x in range(10):\n",
    "    if x % 2:\n",
    "        numbers_long.append(-x)\n",
    "    else:\n",
    "        numbers_long.append(x)\n",
    "print(numbers_long)"
   ]
  },
  {
   "cell_type": "code",
   "execution_count": null,
   "metadata": {},
   "outputs": [],
   "source": [
    "numbers = [-x if x % 2 else x for x in range(10)]\n",
    "print(numbers)"
   ]
  },
  {
   "cell_type": "markdown",
   "metadata": {
    "slideshow": {
     "slide_type": "slide"
    }
   },
   "source": [
    "## Reading topics for Plotting with matplotlib\n",
    "```python\n",
    "import matplotlib.pyplot as plt\n",
    "plt.plot([1, 2, 3, 4], [1, 4, 9, 16])\n",
    "```\n",
    "- Line and point styles\n",
    "- Errorbars\n",
    "- Saving figures to files (e.g., png)\n",
    "- Multiple plots with `subplot()`\n",
    "- Histograms and bar plots\n",
    "- 2D and 3D Scatter plots (different point sizes & colours)"
   ]
  },
  {
   "cell_type": "markdown",
   "metadata": {
    "slideshow": {
     "slide_type": "slide"
    }
   },
   "source": [
    "### Q: It is very difficult to find out the error in the code for Homework 04: 4.3 and 4.4\n",
    "\n",
    "This is an important and practiced skill. Lots of people were struggling with this. There is no \"one true approach\". Let's try an example"
   ]
  },
  {
   "cell_type": "markdown",
   "metadata": {
    "slideshow": {
     "slide_type": "slide"
    }
   },
   "source": [
    "**Example:** `x0 = 0.000053` giving `n = 100` and `root = -99` instead of `root = 1`\n",
    "* Re-read the question carefully to ensure that you undestand the expected output conditions. For example, should `n = 100` always give `root = -99` or do you still check convergence during that iteration?\n",
    "\n",
    "And then use the debugger or print commands to try to understand where / why the issue is occurring..."
   ]
  },
  {
   "cell_type": "markdown",
   "metadata": {
    "slideshow": {
     "slide_type": "slide"
    }
   },
   "source": [
    "Using the debugger or print commands:\n",
    "\n",
    "* Start with a place where you have identified an output that is not what you expected (here we know that a specific `x0` value is giving the wrong value for `root`\n",
    "* Double-check the values of `n` and `root` after the loop completes\n",
    "* Double-check the values before going into the loop\n",
    "* Next double-check the values for `n` and `root` at the end of the loop after the first couple of iterations and for the final couple of iterations. Are these values what you expect? Can you calculate what they should be by hand to confirm?\n",
    "\n",
    "If none of this works, re-read the question again"
   ]
  },
  {
   "cell_type": "markdown",
   "metadata": {
    "slideshow": {
     "slide_type": "slide"
    }
   },
   "source": [
    "### Q. Can you review the numbers in `plt.subplot()`?\n",
    "plt.subplot() lets you make composite figures with more than one plot set side-by-side or one above another. The parameters are three numbers (e.g., plt.subplot(2,3,1) ) where \n",
    "\n",
    "* The first number (2) is how many rows of subplots there are, \n",
    "* The second number(3) is how many columns there are \n",
    "* And then the third number (1) is the index of the subplot you are currently plotting. This counting is like reading in English left to right and then proceeding downward: Bizarrely, the counting on this starts at 1, not 0. "
   ]
  },
  {
   "cell_type": "markdown",
   "metadata": {
    "slideshow": {
     "slide_type": "slide"
    }
   },
   "source": [
    "For any one figure with subplots, the first two numbers should always be the same. Usage would look something like:\n",
    "```python\n",
    "plt.subplot(2, 2, 1) # top-left\n",
    "plt.plot(x1, y1)\n",
    "plt.subplot(2, 2, 2) # top-right\n",
    "plt.plot(x2,  y2)\n",
    "plt.subplot(2, 2, 3) # bottom-left\n",
    "plt.plot(x3, y3)\n",
    "...\n",
    "```"
   ]
  },
  {
   "cell_type": "markdown",
   "metadata": {
    "slideshow": {
     "slide_type": "slide"
    }
   },
   "source": [
    "## For `plt.subplots()` (which counts from 0)\n",
    "```python\n",
    "# Before making any plots, indicate the arrangement of the canvas\n",
    "fig, axes = plt.subplots(2, 3) # 2 rows, 3 columns\n",
    "\n",
    "# Subplot at Row 1, Column 1 (Index 1)\n",
    "axes[0, 0].plot(..)\n",
    "\n",
    "# Subplot at Row 1, Column 2 (Index 2)\n",
    "axes[0, 1].plot(..)\n",
    "\n",
    "...\n",
    "```"
   ]
  },
  {
   "cell_type": "markdown",
   "metadata": {
    "slideshow": {
     "slide_type": "slide"
    }
   },
   "source": [
    "###  Q: How would you change the colours of the colour scale?"
   ]
  },
  {
   "cell_type": "code",
   "execution_count": null,
   "metadata": {
    "slideshow": {
     "slide_type": "-"
    }
   },
   "outputs": [],
   "source": [
    "import matplotlib.pyplot as plt\n",
    "x = [1, 2, 3, 4, 5]; y = [1, 4, 9, 16, 25]\n",
    "colors = [10, 20, 30, 40, 50]; sizes = [100, 200, 300, 400, 500]\n",
    "# Colormaps that are vision-defficiency friendly:\n",
    "# - viridis, plasma, inferno, magma, cividis\n",
    "plt.scatter(x, y, c=colors, s=sizes, cmap='plasma')\n",
    "plt.colorbar(); plt.show()"
   ]
  },
  {
   "cell_type": "markdown",
   "metadata": {
    "slideshow": {
     "slide_type": "slide"
    }
   },
   "source": [
    "**Q.** How does it work when 3 lists/arrays are specified `plt.plot(a, a, b)`?\n",
    "https://matplotlib.org/stable/api/_as_gen/matplotlib.pyplot.plot.html\n",
    "\n",
    "Let's start with what happens if you just use `plt.plot(b)`. When an argument is on its own, it gets interpretted as the `y` values and with `x` starting at 0, e.g., [0, 1, 2, 3]"
   ]
  },
  {
   "cell_type": "code",
   "execution_count": null,
   "metadata": {},
   "outputs": [],
   "source": [
    "import numpy as np; import  matplotlib.pyplot as plt\n",
    "a = [i for i in range(1,5)]; plt.plot(a); plt.show()"
   ]
  },
  {
   "cell_type": "markdown",
   "metadata": {
    "slideshow": {
     "slide_type": "slide"
    }
   },
   "source": [
    "`plt.plot(a, a, b)`: First two arguments are taken as x and y values, so you get a vs a. The 3rd argument is by itself, so is interpreted as y values for a new graph."
   ]
  },
  {
   "cell_type": "code",
   "execution_count": null,
   "metadata": {},
   "outputs": [],
   "source": [
    "import numpy as np; import  matplotlib.pyplot as plt\n",
    "a = [i for i in range(1,5)]; print(a)\n",
    "b = [3*i for i in a]; print(b)\n",
    "plt.plot(a, a, b); plt.show()"
   ]
  },
  {
   "cell_type": "markdown",
   "metadata": {
    "slideshow": {
     "slide_type": "slide"
    }
   },
   "source": [
    "# Let's discuss Project 01: Destructive collision(s)"
   ]
  },
  {
   "cell_type": "markdown",
   "metadata": {
    "slideshow": {
     "slide_type": "slide"
    }
   },
   "source": [
    "**The goal of this project is to develop a research question, answered by a simulation involving one or more collisions and one or more objects that will be destroyed if they experience too large of a force during a collision. For example, \"How fast can you throw an apple at a wall before the apple explodes?\"**\n",
    "\n",
    "We provide some starter code and further guidelines"
   ]
  },
  {
   "cell_type": "markdown",
   "metadata": {
    "slideshow": {
     "slide_type": "slide"
    }
   },
   "source": [
    "## Timeline\n",
    "| | |\n",
    "| :--- | :--- |\n",
    "| Mon., Sep. 23 (Day 06) | Working on your project during class time |\n",
    "| Wed., Sep. 25 (Day 07)| Submit a feedback draft before class for engagement points.<br>Part of our class time will be spent on a peer feedback activity with engagement points coming from briefly sharing the feedback you received with the teaching team. |\n",
    "| Mon., Sep. 30 | University closed for National Day for Truth and Reconciliation |\n",
    "| Wed., Oct. 02 (Day 08) | Project submission deadline #1 (end of day) |\n",
    "| Wed., Oct. 16 (Day 11) | Project submission deadline #2"
   ]
  },
  {
   "cell_type": "markdown",
   "metadata": {
    "slideshow": {
     "slide_type": "slide"
    }
   },
   "source": [
    "### Project submission deadlines\n",
    "\n",
    "Submission deadlines indicate the dates at which a new round of grading will begin. Grading allocation is based on what has been submitted by the deadline, with earlier submissions being graded earlier. Late submissions can only be submitted to the next deadline. \n",
    "\n",
    "|  | Oct 02 | Oct 15 | Oct 28 | Nov 12 | Nov 25 | Dec 10 | Dec 16 |\n",
    "| :--- | :--- | :--- | :--- | :--- | :--- | :--- | :--- |\n",
    "| Submission Deadline #  | #1  | #2  | #3  | #4  | #5  | #6  | #7  |\n",
    "| Recommended submission   | Project 1   | Project 1 revision  | Project 2  | Project 2 revision  | Project 3  | Project 3 revision  | One last project revision  |\n",
    "| Maximum number of different submissions accepted  | 1  | 1  | 2  | 2  | 2  | 1  | 1  |"
   ]
  },
  {
   "cell_type": "markdown",
   "metadata": {
    "slideshow": {
     "slide_type": "slide"
    }
   },
   "source": [
    "### Later this week I will post\n",
    "\n",
    "* The Project 01 Report Template\n",
    "* The Project 01 Referee Rubric, detailing more clearly what we will be looking for in the report, what the expectations are to earn \"Publish\" and to earn distinctions\n",
    "* An example project with some annotations / feedback\n",
    "\n",
    "Let's discuss the [Distinction Proposal Form](https://canvas.ubc.ca/courses/146757/assignments/1982054?module_item_id=7358568)"
   ]
  },
  {
   "cell_type": "markdown",
   "metadata": {
    "slideshow": {
     "slide_type": "slide"
    }
   },
   "source": [
    "# The rest of today\n",
    "* Group Worksheet 05\n",
    "* No Homework 05 and no Preclass 06\n",
    "* Get started on Project 01"
   ]
  },
  {
   "cell_type": "code",
   "execution_count": null,
   "metadata": {},
   "outputs": [],
   "source": []
  }
 ],
 "metadata": {
  "celltoolbar": "Slideshow",
  "kernelspec": {
   "display_name": "Python 3",
   "language": "python",
   "name": "python3"
  },
  "language_info": {
   "codemirror_mode": {
    "name": "ipython",
    "version": 3
   },
   "file_extension": ".py",
   "mimetype": "text/x-python",
   "name": "python",
   "nbconvert_exporter": "python",
   "pygments_lexer": "ipython3",
   "version": "3.7.6"
  }
 },
 "nbformat": 4,
 "nbformat_minor": 4
}
