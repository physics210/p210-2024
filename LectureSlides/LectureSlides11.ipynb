{
 "cells": [
  {
   "cell_type": "markdown",
   "metadata": {
    "slideshow": {
     "slide_type": "slide"
    }
   },
   "source": [
    "# PHYS 210 Lecture 11 - Oct 16, 2024\n",
    "Agenda:\n",
    "\n",
    "1. Reading recap, Q&A and polling questions\n",
    "1. Discussion of Project 02 and formulating research questions\n",
    "1. Shorter group worksheet "
   ]
  },
  {
   "cell_type": "markdown",
   "metadata": {
    "slideshow": {
     "slide_type": "slide"
    }
   },
   "source": [
    "## Reading recap: more arrays\n",
    "\n",
    "* Array filtering (coming up in the Q&A): \n",
    "  - `a>0` this is a mask: give True/False array according to the condition `a>0`\n",
    "  - `b = a[[1,3,5]]` gives an array of the 2nd, 4th, and 6th elements of `a`\n",
    "  - `b = np.where(a>0)` – gives the indicies in `a` where this condition is met\n",
    "* Array sorting: see `np.sort`\n",
    "* NumPy-compliant operations and functions\n",
    "* np.meshgrid()"
   ]
  },
  {
   "cell_type": "markdown",
   "metadata": {
    "slideshow": {
     "slide_type": "slide"
    }
   },
   "source": [
    "## Reading recap: More plotting:\n",
    "\n",
    "* `plt.imshow()` to show a 2d function (up/down are reversed)\n",
    "* `plt.contourf()` to make a contour plot"
   ]
  },
  {
   "cell_type": "markdown",
   "metadata": {
    "slideshow": {
     "slide_type": "slide"
    }
   },
   "source": [
    "## Reading recap: long lines:\n",
    "\n",
    "* Unmatched parentheses imply continuation,\n",
    "* `\\` at the end of a line forces continuation"
   ]
  },
  {
   "cell_type": "markdown",
   "metadata": {
    "slideshow": {
     "slide_type": "slide"
    }
   },
   "source": [
    "## Reading 11 Q&A"
   ]
  },
  {
   "cell_type": "markdown",
   "metadata": {
    "slideshow": {
     "slide_type": "slide"
    }
   },
   "source": [
    "**Q:** Could you review how np.meshgrid is interacting with arrays as inputs? I'm a little confused how it got the outputs that we saw in the question\n",
    "\n",
    "\n",
    "**A:** `meshgrid` is a quick way to set up grids of x and y pairs that cover some region of 2d space. It takes two 1D arrays and repeats one of them as rows and the other is repeated as columns. For example, with `x = [1,2,3]` and `y=[-2,-1,0,1,2]` meshgrid will give two arrays, pairs of x and y values organized in a regular grid: `x_new, y_new = np.meshgrid(x,y)` gives...\n",
    "```\n",
    "1 2 3        -2 -2 -2\n",
    "1 2 3        -1 -1 -1\n",
    "1 2 3   and   0  0  0\n",
    "1 2 3         1  1  1\n",
    "1 2 3         2  2  2\n",
    "```\n"
   ]
  },
  {
   "cell_type": "markdown",
   "metadata": {
    "slideshow": {
     "slide_type": "slide"
    }
   },
   "source": [
    "### Q. I'm confused about `np.where(a>0)` vs `a>0`"
   ]
  },
  {
   "cell_type": "code",
   "execution_count": null,
   "metadata": {
    "slideshow": {
     "slide_type": "-"
    }
   },
   "outputs": [],
   "source": [
    "import numpy as np \n",
    "arr = np.array([1, 2, 3, 4])\n",
    "mask=arr<3 # outputs an array of booleans the same size/shape of a"
   ]
  },
  {
   "cell_type": "code",
   "execution_count": null,
   "metadata": {},
   "outputs": [],
   "source": [
    "print(\"mask =\", mask)\n",
    "print(\"If we apply the mask to the array:\", arr[mask])"
   ]
  },
  {
   "cell_type": "code",
   "execution_count": null,
   "metadata": {
    "slideshow": {
     "slide_type": "fragment"
    }
   },
   "outputs": [],
   "source": [
    "# Returns a tuple where the first and only element is an that array tells us the \n",
    "# indices for 'arr' where the '<3' condition is met. Similar to arr[mask] above\n",
    "np.where(arr<3) \n"
   ]
  },
  {
   "cell_type": "markdown",
   "metadata": {
    "slideshow": {
     "slide_type": "slide"
    }
   },
   "source": [
    "**Why does `np.where()` act this way?** It has a different functionality when we pass it three arguments. Instead it functions as a conditional that returns an <u>array</u> (not a tuple) of the same shape as the original"
   ]
  },
  {
   "cell_type": "code",
   "execution_count": null,
   "metadata": {},
   "outputs": [],
   "source": [
    "arr = np.array([1, 2, 3, 4])\n",
    "arr2 = np.where(arr<3, # if this condition\n",
    "                -arr,  # then fill element with this\n",
    "                arr)   # else fill element with this\n",
    "arr2"
   ]
  },
  {
   "cell_type": "markdown",
   "metadata": {
    "slideshow": {
     "slide_type": "slide"
    }
   },
   "source": [
    "### More `np.where()`"
   ]
  },
  {
   "cell_type": "code",
   "execution_count": null,
   "metadata": {},
   "outputs": [],
   "source": [
    "print(arr)"
   ]
  },
  {
   "cell_type": "code",
   "execution_count": null,
   "metadata": {
    "slideshow": {
     "slide_type": "-"
    }
   },
   "outputs": [],
   "source": [
    "# np.where gives indices, similar to masks\n",
    "t0 = np.where(arr<3)\n",
    "print(t0)\n",
    "i1, = np.where(arr<3)   # works nicely. \n",
    "print(i1)\n",
    "i2 = np.where(arr<3)[0] # Grabs the array of indicies we care about.\n",
    "print(i2)"
   ]
  },
  {
   "cell_type": "code",
   "execution_count": null,
   "metadata": {
    "slideshow": {
     "slide_type": "fragment"
    }
   },
   "outputs": [],
   "source": [
    "# array filtering works with masks and np.where\n",
    "print( arr[arr<3] )\n",
    "print( arr[np.where(arr<3)] )"
   ]
  },
  {
   "cell_type": "markdown",
   "metadata": {
    "slideshow": {
     "slide_type": "slide"
    }
   },
   "source": [
    "**Polling Q11.1** Which one will produce an error if called with an array as an argument?\n",
    "```\n",
    "def f_1(x):                    def f_2(x):\n",
    "    y = x*x + 1                  y = np.ones(x.size)\n",
    "\treturn y                     y[x != 0] = np.sin(x[x != 0])/x[x != 0]\n",
    "                                 return y\n",
    "\n",
    "def f_3(x):                    def f_4(x):\n",
    "\tfor v in x:                  if (x != 0):\n",
    "\t\tif v != 0:                   y = np.sin(x)/x                   \n",
    "\t\t\tv = np.sin(v)/v      else:\n",
    "\t\telse:                        y = 1\n",
    "\t\t\tv = 1                return y\n",
    "\treturn x\n",
    "```"
   ]
  },
  {
   "cell_type": "markdown",
   "metadata": {
    "slideshow": {
     "slide_type": "slide"
    }
   },
   "source": [
    "**Polling Q11.1** Which one will produce an error if called with an array as an argument?\n",
    "\n",
    "This produces an error because the condition applied to an array will have multiple values – one for each element"
   ]
  },
  {
   "cell_type": "code",
   "execution_count": null,
   "metadata": {},
   "outputs": [],
   "source": [
    "def f_4(x):\n",
    "    if (x != 0):\n",
    "        y = np.sin(x)/x                   \n",
    "    else:\n",
    "        y = 1\n",
    "    return y\n",
    "\n",
    "import numpy as np\n",
    "\n",
    "my_return = f_4( np.array([1,2,3]) )\n",
    "print(my_return)"
   ]
  },
  {
   "cell_type": "markdown",
   "metadata": {
    "slideshow": {
     "slide_type": "slide"
    }
   },
   "source": [
    "# Let's discuss Project 02: Stable orbits in the Saturnian atomic model"
   ]
  },
  {
   "cell_type": "markdown",
   "metadata": {
    "slideshow": {
     "slide_type": "slide"
    }
   },
   "source": [
    "The goal of this project:\n",
    "* Develop and answer a research question that guides a **phase-space investigation** related to stable orbits in the Saturnian atomic model using solve_ivp. \n",
    "\n",
    "The emphasis in this project is on the investigation."
   ]
  },
  {
   "cell_type": "markdown",
   "metadata": {
    "slideshow": {
     "slide_type": "slide"
    }
   },
   "source": [
    "## Developing research questions\n",
    "Broad vs narrow/specific:\n",
    "* Broad research questions guide research programs, theses and grant applications, or provide an overview of an investigation\n",
    "\n",
    "**Broad:** Does requiring mobile devices in the classroom for web-based polling lead to increased levels of distraction? "
   ]
  },
  {
   "cell_type": "markdown",
   "metadata": {
    "slideshow": {
     "slide_type": "slide"
    }
   },
   "source": [
    "A well-stated narrow quantitative research question implies the graph or statistical test that will be used to answer it.\n",
    "\n",
    "**RQ1:** Comparing courses using similar pedagogies facilitated by mobile devices or standalone clickers, does the use of mobile or web-based apps lead to a higher level of distraction in first-year undergraduate science courses?\n",
    "\n",
    "**RQ2:** What are the differences in levels of distraction when students are engaged in active-learning activities (e.g., when completing a worksheet task or discussing a conceptual question) versus passive-learning activities (e.g., listening to the instructor lecture, watching a demonstration)?"
   ]
  },
  {
   "attachments": {},
   "cell_type": "markdown",
   "metadata": {
    "slideshow": {
     "slide_type": "slide"
    }
   },
   "source": [
    "<img src=\"https://i.ibb.co/NNxQGDF/distraction.png\" style=\"float: right; margin-right: 15px;\">\n",
    "\n",
    "A well-stated **narrow quantitative research question** implies the graph or statistical test that will be used to answer it.\n",
    "\n",
    "**RQ1:** Comparing courses using similar pedagogies facilitated by mobile devices or standalone clickers, does the use of mobile or web-based apps lead to a higher level of distraction in first-year undergraduate science courses?\n",
    "\n",
    "**Text:** A Welsh two-samples t-test reveals no difference in overall distraction levels between the tools $(t(444.2)=0.35, p=0.73)$."
   ]
  },
  {
   "cell_type": "markdown",
   "metadata": {
    "slideshow": {
     "slide_type": "slide"
    }
   },
   "source": [
    "As part of structuring your research questions, try to define the **variables** and **context** of your study as clearly as possible\n",
    "\n",
    "- **Independent Variable**: The factor you manipulate (e.g., \"initial velocity of the speeding car, type of polling device\").\n",
    "- **Dependent Variable**: The outcome you measure (e.g., \"stability of the orbit, level of distraction\").\n",
    "- **Control Variables**: Conditions you keep constant (e.g., \"the acceleration of the police car, similar pedagogies\").\n",
    "- **Scope/Conditions**: Specific conditions under which the study will occur (e.g., \"first-year undergraduate science courses\")."
   ]
  },
  {
   "cell_type": "markdown",
   "metadata": {
    "slideshow": {
     "slide_type": "slide"
    }
   },
   "source": [
    "## Timeline\n",
    "| | |\n",
    "| :--- | :--- |\n",
    "| Mon., Oct. 21 (Day 12) | Working on your project during class time |\n",
    "| Wed., Oct. 23 (Day 13)| Submit a feedback draft before class for engagement points.<br>Part of our class time will be spent on a peer feedback activity with engagement points coming from briefly sharing the feedback you received with the teaching team. |\n",
    "| Mon., Oct. 28 (Day 14) | Project submission deadline #3 |\n",
    "| Thu., Nov. 07 | Project submission deadline #4 |\n",
    "| Nov. 11 - 13 | Midterm break |"
   ]
  },
  {
   "cell_type": "markdown",
   "metadata": {
    "slideshow": {
     "slide_type": "slide"
    }
   },
   "source": [
    "## The rest of the day\n",
    "* Group worksheet for today \n",
    "* Finish Homework 10 if you haven't already done so (and ask for help)\n",
    "* A shorter homework assignment and then get started with Project 02"
   ]
  },
  {
   "cell_type": "code",
   "execution_count": null,
   "metadata": {},
   "outputs": [],
   "source": []
  }
 ],
 "metadata": {
  "celltoolbar": "Slideshow",
  "kernelspec": {
   "display_name": "Python 3",
   "language": "python",
   "name": "python3"
  },
  "language_info": {
   "codemirror_mode": {
    "name": "ipython",
    "version": 3
   },
   "file_extension": ".py",
   "mimetype": "text/x-python",
   "name": "python",
   "nbconvert_exporter": "python",
   "pygments_lexer": "ipython3",
   "version": "3.7.6"
  }
 },
 "nbformat": 4,
 "nbformat_minor": 4
}
