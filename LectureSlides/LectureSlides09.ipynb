{
 "cells": [
  {
   "cell_type": "markdown",
   "metadata": {
    "slideshow": {
     "slide_type": "slide"
    }
   },
   "source": [
    "# PHYS 210 Lecture 09 - Oct 07, 2024\n",
    "Agenda:\n",
    "\n",
    "1. Announcements\n",
    "1. Reading recap (Q&A and polling questions)\n",
    "1. Groupwork (Electric Field Hockey!)"
   ]
  },
  {
   "cell_type": "markdown",
   "metadata": {
    "slideshow": {
     "slide_type": "slide"
    }
   },
   "source": [
    "### Canadian Undergraduate Physics Conference (CUPC)\n",
    "\n",
    "UBC Vancouver Campus, October 24th - 27th\n",
    "Registration Deadline: October 8th, 11:59 pm\n",
    "\n",
    "CUPC is a fantastic opportunity to connect with peers, attend talks from leading physicists, and present your research to the national physics community. This year's event promises an exciting lineup of speakers, panels, tours, and a graduate/industry fair, along with opportunities to network with students from across Canada.\n",
    "\n",
    "This is the first time in the last 12 years that CUPC is returning to the west coast of Canada, so this is a great opportunity for students to get local conference experience. Don't miss out! Register and find more details at https://cupc.cap.ca/.\n"
   ]
  },
  {
   "cell_type": "markdown",
   "metadata": {
    "slideshow": {
     "slide_type": "slide"
    }
   },
   "source": [
    "### Grading of Project 01 is underway\n",
    "\n",
    "Thus far the most common Editorial Decision has been **Major Revisions** (the most common decision for my own papers as well): \n",
    "\n",
    "* \"The revised project will require further detailed feedback to determine if the author's revisions are sufficient\"\n",
    "\n",
    "Major Revisions means your project is likely already doing many things very well, but there is something substantial related to the project or report expectations that is incomplete or misaligned with these expectations. "
   ]
  },
  {
   "cell_type": "markdown",
   "metadata": {
    "slideshow": {
     "slide_type": "slide"
    }
   },
   "source": [
    "## Q&A and polling questions"
   ]
  },
  {
   "cell_type": "markdown",
   "metadata": {
    "slideshow": {
     "slide_type": "slide"
    }
   },
   "source": [
    "**Poll 9.1:** What are the possible return values of the following function?\n",
    "You may assume x is a number. "
   ]
  },
  {
   "cell_type": "code",
   "execution_count": 2,
   "metadata": {},
   "outputs": [],
   "source": [
    "def check_x(x):\n",
    "    if x<0 and x> -4:\n",
    "        return 0\n",
    "    elif x < -4:\n",
    "        return 1\n"
   ]
  },
  {
   "cell_type": "markdown",
   "metadata": {},
   "source": [
    "A) `0` or `1` or `None`<br>\n",
    "B) Syntax error<br>\n",
    "C) `0` or `1`<br>\n",
    "D) `0` or `1` or an empty array<br>\n",
    "E) None of the above"
   ]
  },
  {
   "cell_type": "markdown",
   "metadata": {
    "slideshow": {
     "slide_type": "slide"
    }
   },
   "source": [
    "This previous question was meant to address a common question / point of confusion, e.g.<br>\n",
    "\n",
    "**Q:** Can you go over the void functions a bit in class? I'm confused about the difference between a void function that prints something vs one that prints None."
   ]
  },
  {
   "cell_type": "code",
   "execution_count": 4,
   "metadata": {},
   "outputs": [
    {
     "name": "stdout",
     "output_type": "stream",
     "text": [
      "None\n"
     ]
    }
   ],
   "source": [
    "print(check_x(4))"
   ]
  },
  {
   "cell_type": "markdown",
   "metadata": {
    "slideshow": {
     "slide_type": "slide"
    }
   },
   "source": [
    "**Poll 9.2a)** What will the following code print?"
   ]
  },
  {
   "cell_type": "code",
   "execution_count": 7,
   "metadata": {},
   "outputs": [
    {
     "name": "stdout",
     "output_type": "stream",
     "text": [
      "30\n"
     ]
    }
   ],
   "source": [
    "def printstuff(a, z = 1, y = 2):\n",
    "    if len(a) > 2:\n",
    "        print(len(a)*y*z)\n",
    "    else:\n",
    "        print(len(a)*y)\n",
    "x = [1,2,3,4,5]\n",
    "printstuff(x, 3)"
   ]
  },
  {
   "cell_type": "markdown",
   "metadata": {},
   "source": [
    "A) Error<br>\n",
    "B) 5<br>\n",
    "C) 10<br>\n",
    "D) 15<br>\n",
    "E) 30\n",
    "    "
   ]
  },
  {
   "cell_type": "markdown",
   "metadata": {
    "slideshow": {
     "slide_type": "slide"
    }
   },
   "source": [
    "**Poll 9.2b)** What will the following print?"
   ]
  },
  {
   "cell_type": "code",
   "execution_count": 8,
   "metadata": {},
   "outputs": [
    {
     "name": "stdout",
     "output_type": "stream",
     "text": [
      "30\n"
     ]
    }
   ],
   "source": [
    "def printstuff(a, z = 1, y = 2):\n",
    "    if len(a) > 2:\n",
    "        print(len(a)*y*z)\n",
    "    else:\n",
    "        print(len(a)*y)\n",
    "y = 3\n",
    "x = [1,2,3,4,5]\n",
    "printstuff(x, y)"
   ]
  },
  {
   "cell_type": "markdown",
   "metadata": {},
   "source": [
    "A) Error<br>\n",
    "B) 5<br>\n",
    "C) 10<br>\n",
    "D) 15<br>\n",
    "E) 30\n",
    "    "
   ]
  },
  {
   "cell_type": "markdown",
   "metadata": {
    "slideshow": {
     "slide_type": "slide"
    }
   },
   "source": [
    "**Poll 9.2c)** What will the following print?"
   ]
  },
  {
   "cell_type": "code",
   "execution_count": 9,
   "metadata": {},
   "outputs": [
    {
     "name": "stdout",
     "output_type": "stream",
     "text": [
      "15\n"
     ]
    }
   ],
   "source": [
    "def printstuff(a, z = 1, y = 2):\n",
    "    if len(a) > 2:\n",
    "        print(len(a)*y*z)\n",
    "    else:\n",
    "        print(len(a)*y)\n",
    "y = 3\n",
    "x = [1,2,3,4,5]\n",
    "printstuff(x, y=y)"
   ]
  },
  {
   "cell_type": "markdown",
   "metadata": {},
   "source": [
    "A) Error<br>\n",
    "B) 5<br>\n",
    "C) 10<br>\n",
    "D) 15<br>\n",
    "E) 30\n",
    "    "
   ]
  },
  {
   "cell_type": "markdown",
   "metadata": {
    "slideshow": {
     "slide_type": "slide"
    }
   },
   "source": [
    "**Poll 9.2d)** What will the following print?"
   ]
  },
  {
   "cell_type": "code",
   "execution_count": 10,
   "metadata": {},
   "outputs": [
    {
     "name": "stdout",
     "output_type": "stream",
     "text": [
      "HelloHelloHelloHelloHello\n"
     ]
    }
   ],
   "source": [
    "def printstuff(a, z = 1, y = 2):\n",
    "    if len(a) > 2:\n",
    "        print(len(a)*y*z)\n",
    "    else:\n",
    "        print(len(a)*y)\n",
    "x = [1,2,3,4,5]\n",
    "printstuff(x, y = 'Hello')"
   ]
  },
  {
   "cell_type": "markdown",
   "metadata": {},
   "source": [
    "A) HelloHelloHelloHelloHello <br>\n",
    "B) Syntax Error <br>\n",
    "C) Runtime Error <br>\n",
    "D) 5 <br>\n",
    "E) 10\n",
    "    "
   ]
  },
  {
   "cell_type": "markdown",
   "metadata": {
    "slideshow": {
     "slide_type": "slide"
    }
   },
   "source": [
    "**Poll 9.3a)** What will the following print?"
   ]
  },
  {
   "cell_type": "code",
   "execution_count": 11,
   "metadata": {},
   "outputs": [
    {
     "name": "stdout",
     "output_type": "stream",
     "text": [
      "10\n"
     ]
    }
   ],
   "source": [
    "def printstuff2(a, z = 1, y = 2):\n",
    "    a1, a2, a3, a4, a5 = a\n",
    "    print(a5 + a[z] + a[y]) \n",
    "x = [1,2,3,4,5]\n",
    "printstuff2(x)"
   ]
  },
  {
   "cell_type": "markdown",
   "metadata": {},
   "source": [
    "A) 5 <br>\n",
    "B) 8 <br>\n",
    "C) 10 <br>\n",
    "D) 15 <br>\n",
    "E) 18\n",
    "    "
   ]
  },
  {
   "cell_type": "markdown",
   "metadata": {
    "slideshow": {
     "slide_type": "slide"
    }
   },
   "source": [
    "**Poll 9.3b)** What will the following print?"
   ]
  },
  {
   "cell_type": "code",
   "execution_count": 12,
   "metadata": {},
   "outputs": [
    {
     "name": "stdout",
     "output_type": "stream",
     "text": [
      "10\n",
      "None\n"
     ]
    }
   ],
   "source": [
    "def printstuff2(a, z = 1, y = 2):\n",
    "    a1, a2, a3, a4, a5 = a\n",
    "    print(a5 + a[z] + a[y])   \n",
    "x = [1,2,3,4,5]\n",
    "print(printstuff2(x))"
   ]
  },
  {
   "cell_type": "markdown",
   "metadata": {},
   "source": [
    "A) 10 <br>\n",
    "B) None <br>\n",
    "C) 10 <br>\n",
    "&nbsp;&nbsp;&nbsp;&nbsp;&nbsp;None<br>\n",
    "D) 10 None <br>\n",
    "E) 10, None\n",
    "    "
   ]
  },
  {
   "cell_type": "markdown",
   "metadata": {
    "slideshow": {
     "slide_type": "slide"
    }
   },
   "source": [
    "**Q:** I do not understanding how the plotting parameters in 9.4 are being plotted from the function. Basically, how do we answer 9.4..\n",
    "```python\n",
    "def euler(y, v, t, t_end, t_step):\n",
    "    ...the function does a bunch of stuff...\n",
    "    return t_list, y_list\n",
    "\n",
    "results = euler(y0, v0, t0, tmax, dt)\n",
    "\n",
    "# How do we plot time and position information?\n",
    "plt.plot(..., ...) \n",
    "```"
   ]
  },
  {
   "cell_type": "markdown",
   "metadata": {
    "slideshow": {
     "slide_type": "slide"
    }
   },
   "source": [
    "**Poll 9.4a)** What should the print statement be to print `4`?"
   ]
  },
  {
   "cell_type": "code",
   "execution_count": null,
   "metadata": {},
   "outputs": [],
   "source": [
    "def dostuff(a):\n",
    "    a1, a2, a3, a4, a5 = a\n",
    "    return len(a), [a4, a5]\n",
    "\n",
    "x = [1,2,3,4,5]\n",
    "y, z = dostuff(x)\n",
    "print(...)"
   ]
  },
  {
   "cell_type": "markdown",
   "metadata": {},
   "source": [
    "A) `print(z)` <br>\n",
    "B) `print(z[0])` <br>\n",
    "C) `print(z[1])`<br>\n",
    "D) `print(y[1][0])` <br>\n",
    "E) `print(y[1][1])`"
   ]
  },
  {
   "cell_type": "markdown",
   "metadata": {
    "slideshow": {
     "slide_type": "slide"
    }
   },
   "source": [
    "**Poll 9.4b)** What will the following print?"
   ]
  },
  {
   "cell_type": "code",
   "execution_count": 13,
   "metadata": {},
   "outputs": [
    {
     "name": "stdout",
     "output_type": "stream",
     "text": [
      "10\n"
     ]
    }
   ],
   "source": [
    "def dostuff(a):\n",
    "    a1, a2, a3, a4, a5 = a\n",
    "    return len(a), [a4, a5]\n",
    "\n",
    "a5 = 10\n",
    "x = [1,2,3,4,5]\n",
    "y, z = dostuff(x)\n",
    "print(a5)"
   ]
  },
  {
   "cell_type": "markdown",
   "metadata": {},
   "source": [
    "A) 5<br>\n",
    "B) 10<br>\n",
    "C) Error"
   ]
  },
  {
   "cell_type": "markdown",
   "metadata": {
    "slideshow": {
     "slide_type": "slide"
    }
   },
   "source": [
    "**Q:** Is the running of a function isolated from the rest of the code? For example, when 'a' is updated in question 9.3, it is updated to be 3 before the function is run, then the function runs and updates it to 2 within itself, but then the code overall still has a=3. Things within a function are isolated then?"
   ]
  },
  {
   "cell_type": "code",
   "execution_count": 16,
   "metadata": {},
   "outputs": [
    {
     "name": "stdout",
     "output_type": "stream",
     "text": [
      "2 3\n"
     ]
    }
   ],
   "source": [
    "def my_func(x):\n",
    "    a = x # Think of this new variable as a_my_func\n",
    "    return a\n",
    "a = 3\n",
    "print(my_func(2), a)"
   ]
  },
  {
   "cell_type": "markdown",
   "metadata": {
    "slideshow": {
     "slide_type": "slide"
    }
   },
   "source": [
    "# The rest of today\n",
    "* Group Worksheet 09 introduces Electric Field Hockey and continues our path toward advanced techniques for modelling motion and other ODEs"
   ]
  },
  {
   "cell_type": "code",
   "execution_count": null,
   "metadata": {},
   "outputs": [],
   "source": []
  }
 ],
 "metadata": {
  "celltoolbar": "Slideshow",
  "kernelspec": {
   "display_name": "Python 3",
   "language": "python",
   "name": "python3"
  },
  "language_info": {
   "codemirror_mode": {
    "name": "ipython",
    "version": 3
   },
   "file_extension": ".py",
   "mimetype": "text/x-python",
   "name": "python",
   "nbconvert_exporter": "python",
   "pygments_lexer": "ipython3",
   "version": "3.7.6"
  }
 },
 "nbformat": 4,
 "nbformat_minor": 4
}
