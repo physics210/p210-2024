{
 "cells": [
  {
   "cell_type": "markdown",
   "metadata": {
    "slideshow": {
     "slide_type": "slide"
    }
   },
   "source": [
    "# PHYS 210 Day 04 - Sep 15, 2024\n",
    "Agenda:\n",
    "\n",
    "1. Announcements\n",
    "1. Pre-class reading Q&A and polling questions\n",
    "  * Get you iclicker up and running\n",
    "1. Group and then solo worksheets"
   ]
  },
  {
   "cell_type": "markdown",
   "metadata": {
    "slideshow": {
     "slide_type": "slide"
    }
   },
   "source": [
    "## Announcements\n",
    "\n",
    "1. Today's table arrangements\n",
    "1. Reading 05 (for Wednesday) is longer than usual, so plan accordingly\n",
    "1. Project 01 details coming Wednesday\n",
    "1. Lots of comments in the reading Q&A from people wondering if they were doing something correctlyin the Preclass or Homework. I try to design these to have immediate feedback, but if your question is related to something hindering your progress, please ask it over on Piazza."
   ]
  },
  {
   "cell_type": "markdown",
   "metadata": {
    "slideshow": {
     "slide_type": "slide"
    }
   },
   "source": [
    "## Reading topics (our polling questions and Q&A)\n",
    "\n",
    "* **lists:** a container variable that holds an ordered sequence of other variables\n",
    "* Nested lists\n",
    "* `for` loops that iterate over a `list`\n",
    "* `while` loops "
   ]
  },
  {
   "cell_type": "markdown",
   "metadata": {
    "slideshow": {
     "slide_type": "slide"
    }
   },
   "source": [
    "**Poll 4.1:** What will the following code output?"
   ]
  },
  {
   "cell_type": "code",
   "execution_count": null,
   "metadata": {},
   "outputs": [],
   "source": [
    "alphabet = ['a', 'b', 'c', 'd', 'e', 'f', 'g'] \n",
    "print(alphabet[1:5:2])"
   ]
  },
  {
   "cell_type": "markdown",
   "metadata": {},
   "source": [
    "A) `['a', 'c', 'e']` <br>\n",
    "B) `['b', 'd', 'f']` <br>\n",
    "C) `['a', 'c']` <br>\n",
    "D) `['b', 'd']` <br>\n",
    "E) `['a', 'c', 'e', 'g']`"
   ]
  },
  {
   "cell_type": "code",
   "execution_count": null,
   "metadata": {
    "slideshow": {
     "slide_type": "slide"
    }
   },
   "outputs": [],
   "source": [
    "print(alphabet[:-2])\n",
    "print(alphabet[::-2])"
   ]
  },
  {
   "cell_type": "markdown",
   "metadata": {},
   "source": [
    "**Poll 4.2:** How many times will hello be printed?\n",
    "```python\n",
    "x = 1\n",
    "while (x < 5):\n",
    "    print(\"hello\")\n",
    "```"
   ]
  },
  {
   "cell_type": "code",
   "execution_count": null,
   "metadata": {},
   "outputs": [],
   "source": [
    "A) 0 times<br>\n",
    "B) 4 times<br>\n",
    "C) 5 times<br>\n",
    "D) 6 times<br>\n",
    "E) It will keep printing forever"
   ]
  },
  {
   "cell_type": "markdown",
   "metadata": {},
   "source": [
    "**Poll 4.3:** How many times will hello be printed?"
   ]
  },
  {
   "cell_type": "code",
   "execution_count": null,
   "metadata": {},
   "outputs": [],
   "source": [
    "x = 1\n",
    "while (x < 5):\n",
    "    print(\"hello\")\n",
    "    x = x + 1"
   ]
  },
  {
   "cell_type": "markdown",
   "metadata": {},
   "source": [
    "A) 0 times<br>\n",
    "B) 4 times<br>\n",
    "C) 5 times<br>\n",
    "D) 6 times<br>\n",
    "E) It will keep printing forever"
   ]
  },
  {
   "cell_type": "markdown",
   "metadata": {
    "slideshow": {
     "slide_type": "slide"
    }
   },
   "source": [
    "### Preclass 03, Your turn #3\n",
    "\n",
    "A dumb mistake on my part...I forgot to include a value for `max_iterations`, which caused some confusion"
   ]
  },
  {
   "cell_type": "code",
   "execution_count": null,
   "metadata": {},
   "outputs": [],
   "source": [
    "#################################################################\n",
    "# Initialize the iteration counter used to prevent infinite loops\n",
    "iteration_count = 0\n",
    "max_iterations = 100\n",
    "#################################################################"
   ]
  },
  {
   "cell_type": "markdown",
   "metadata": {
    "slideshow": {
     "slide_type": "slide"
    }
   },
   "source": [
    "#### Let's look at the individual questions that were asked"
   ]
  },
  {
   "cell_type": "code",
   "execution_count": null,
   "metadata": {},
   "outputs": [],
   "source": [
    "import numpy as np\n",
    "x = 2 # Start it at 2 to save some output space below\n",
    "xmax = np.pi\n",
    "dx = .25\n",
    "\n",
    "while x <= xmax:\n",
    "    print(f\"sin({x}) = {np.sin(x):.3f}\")\n",
    "    x = x + dx"
   ]
  },
  {
   "cell_type": "markdown",
   "metadata": {
    "slideshow": {
     "slide_type": "slide"
    }
   },
   "source": [
    "**1.** Does the \"I really wasn't expecting this result\" ever print?"
   ]
  },
  {
   "cell_type": "code",
   "execution_count": null,
   "metadata": {},
   "outputs": [],
   "source": [
    "import numpy as np; x = 2; xmax = np.pi; dx = .25\n",
    "\n",
    "while x <= xmax:\n",
    "    if (x > xmax):\n",
    "        print(\"I really wasn't expecting this result\")\n",
    "    else :\n",
    "        print(f\"sin({x}) = {np.sin(x):.3f}\")\n",
    "    x = x + dx"
   ]
  },
  {
   "cell_type": "markdown",
   "metadata": {
    "slideshow": {
     "slide_type": "slide"
    }
   },
   "source": [
    "Yes, but we have to move `x = x + dx`"
   ]
  },
  {
   "cell_type": "code",
   "execution_count": null,
   "metadata": {},
   "outputs": [],
   "source": [
    "import numpy as np; x = 2; xmax = np.pi; dx = .25\n",
    "\n",
    "while x <= xmax:\n",
    "    x = x + dx # my new home!\n",
    "    if (x > xmax):\n",
    "        print(\"I really wasn't expecting this result\")\n",
    "        print(f\"* sin({x}) = {np.sin(x):.3f}\")\n",
    "    else :\n",
    "        print(f\"sin({x}) = {np.sin(x):.3f}\")"
   ]
  },
  {
   "cell_type": "markdown",
   "metadata": {
    "slideshow": {
     "slide_type": "slide"
    }
   },
   "source": [
    "**2.** What happens if you add four spaces in front of the 'print(\"Loop finished\")' statement?"
   ]
  },
  {
   "cell_type": "code",
   "execution_count": null,
   "metadata": {},
   "outputs": [],
   "source": [
    "import numpy as np; x = 2; xmax = np.pi; dx = .25\n",
    "\n",
    "while x <= xmax:\n",
    "    print(f\"sin({x}) = {np.sin(x):.3f}\")\n",
    "    x = x + dx\n",
    "    \n",
    "    print(\"Loop finished\")"
   ]
  },
  {
   "cell_type": "markdown",
   "metadata": {
    "slideshow": {
     "slide_type": "slide"
    }
   },
   "source": [
    "**3.**  What happens if you comment out or delete the x = x + dx line? (Remember we already saw what happens if our `x = x + 1` was missing in Poll 3.2"
   ]
  },
  {
   "cell_type": "code",
   "execution_count": null,
   "metadata": {},
   "outputs": [],
   "source": [
    "import numpy as np; x = 2; xmax = np.pi; dx = .25\n",
    "iteration_count = 0; max_iterations = 4\n",
    "\n",
    "while x <= xmax:\n",
    "    iteration_count += 1\n",
    "    if iteration_count > max_iterations:\n",
    "        print(\"Infinite loop detected! Exiting the loop.\")\n",
    "        break                \n",
    "    print(f\"sin({x}) = {np.sin(x):.3f}\")\n",
    "    # x = x + dx\n",
    "print(\"Loop finished\")"
   ]
  },
  {
   "cell_type": "markdown",
   "metadata": {
    "slideshow": {
     "slide_type": "slide"
    }
   },
   "source": [
    "**4.**  What happens if we define `xmax` as a value smaller than our initial value of `x=0.`?"
   ]
  },
  {
   "cell_type": "code",
   "execution_count": null,
   "metadata": {},
   "outputs": [],
   "source": [
    "import numpy as np; x = 0; dx = .25\n",
    "\n",
    "xmax = -8\n",
    "print(\"Starting the loop with x =\",x)\n",
    "\n",
    "while x <= xmax:\n",
    "    print(f\"sin({x}) = {np.sin(x):.3f}\")\n",
    "\n",
    "print(\"Loop finished\")"
   ]
  },
  {
   "cell_type": "markdown",
   "metadata": {
    "slideshow": {
     "slide_type": "slide"
    }
   },
   "source": [
    "### Nested lists\n",
    "\n",
    "`len` answers how many indices can I use successfully: `nested[0]`, `nested[1]`,..."
   ]
  },
  {
   "cell_type": "code",
   "execution_count": null,
   "metadata": {},
   "outputs": [],
   "source": [
    "nested = [1, [\"2a\", \"2b\"], 3] \n",
    "print(len(nested))\n",
    "print(nested[1])\n",
    "print(nested[1][1])"
   ]
  },
  {
   "cell_type": "markdown",
   "metadata": {
    "slideshow": {
     "slide_type": "slide"
    }
   },
   "source": [
    "**Q.** Is there a way to append a list to add an element, but add the element at the start or in the middle of the list instead of at the end?\n",
    "\n",
    "**Q.** If the append() function only adds a new item to the end of a list, how do add new items to the start of a list? What about adding new items in the middle of a list?"
   ]
  },
  {
   "cell_type": "markdown",
   "metadata": {
    "slideshow": {
     "slide_type": "slide"
    }
   },
   "source": [
    "`list.insert(index, element)` is a list method that allows you to insert an element anywhere in the list:\n",
    "\n",
    "* `index`: where to insert the element (can be positive or negative). If greater than the length of the list, the element is added at the end.\n",
    "* `element`: The item to insert into the list.\n"
   ]
  },
  {
   "cell_type": "code",
   "execution_count": null,
   "metadata": {
    "slideshow": {
     "slide_type": "-"
    }
   },
   "outputs": [],
   "source": [
    "my_list = [1, 2, 4, 5]\n",
    "my_list.insert(2, 3)  # Insert 3 at index 2 \n",
    "my_list.insert(100, 6)  # Insert 6 at the end \n",
    "print(my_list) "
   ]
  },
  {
   "cell_type": "markdown",
   "metadata": {
    "slideshow": {
     "slide_type": "slide"
    }
   },
   "source": [
    "Less common would be to use list concatenation"
   ]
  },
  {
   "cell_type": "code",
   "execution_count": null,
   "metadata": {},
   "outputs": [],
   "source": [
    "my_list = [2, 3, 4]\n",
    "my_list = [1] + my_list \n",
    "print(my_list)"
   ]
  },
  {
   "cell_type": "code",
   "execution_count": null,
   "metadata": {},
   "outputs": [],
   "source": [
    "idx = 2\n",
    "my_list = [1, 2, 4, 5]\n",
    "my_list = my_list[:2] + [3] + my_list[2:] \n",
    "print(my_list)"
   ]
  },
  {
   "cell_type": "markdown",
   "metadata": {
    "slideshow": {
     "slide_type": "slide"
    }
   },
   "source": [
    "# The rest of today\n",
    "* Group worksheet and then move on to solo worksheet"
   ]
  }
 ],
 "metadata": {
  "celltoolbar": "Slideshow",
  "kernelspec": {
   "display_name": "Python 3",
   "language": "python",
   "name": "python3"
  },
  "language_info": {
   "codemirror_mode": {
    "name": "ipython",
    "version": 3
   },
   "file_extension": ".py",
   "mimetype": "text/x-python",
   "name": "python",
   "nbconvert_exporter": "python",
   "pygments_lexer": "ipython3",
   "version": "3.7.6"
  }
 },
 "nbformat": 4,
 "nbformat_minor": 4
}
