{
 "cells": [
  {
   "cell_type": "markdown",
   "metadata": {
    "id": "FBtDqWQqaAwr"
   },
   "source": [
    "# PHYS 210, Homework 11\n",
    "Due Monday, Oct 21, 2024 at the start of class on Canvas"
   ]
  },
  {
   "cell_type": "markdown",
   "metadata": {},
   "source": [
    "## *More practice with numpy arrays*"
   ]
  },
  {
   "cell_type": "markdown",
   "metadata": {},
   "source": [
    "### 11.1 `np.where`, array filtering and array masking"
   ]
  },
  {
   "cell_type": "markdown",
   "metadata": {},
   "source": [
    "Below is a sequence of tasks to gain a bit more practice using `np.where`, array filtering and array masking"
   ]
  },
  {
   "cell_type": "code",
   "execution_count": null,
   "metadata": {},
   "outputs": [],
   "source": [
    "# Load the array arr into memory\n",
    "\n",
    "import numpy as np\n",
    "arr = np.array([2, 4, 6, 8, 10, 12, 14, 16, 18, 20])"
   ]
  },
  {
   "cell_type": "markdown",
   "metadata": {},
   "source": [
    "#### Task 1: Basic np.where()\n",
    "With the help of `np.where`, create an array `indices` that contains indices of all elements greater than 10 from the array `arr`. "
   ]
  },
  {
   "cell_type": "code",
   "execution_count": null,
   "metadata": {},
   "outputs": [],
   "source": [
    "# Your code here for indices\n",
    "\n"
   ]
  },
  {
   "cell_type": "code",
   "execution_count": null,
   "metadata": {},
   "outputs": [],
   "source": [
    "# Test that indices contains the correct information\n",
    "if isinstance(indices, tuple):\n",
    "    print(\"*** Error. 'indices' is currently a tuple. ***\")\n",
    "    print(\"Recall that np.where returns a tuple and that you need to extract the array\")\n",
    "else:\n",
    "    assert np.array_equal(indices, [5, 6, 7, 8, 9])\n",
    "    print(\"You passed this test\")"
   ]
  },
  {
   "cell_type": "markdown",
   "metadata": {},
   "source": [
    "#### Task 2: np.where() as a conditional for array creation\n",
    "\n",
    "Create a new array, `arr2`, which contains the same elements as `arr` except for elements with values less than 10 are replaced with 0.\n",
    "\n",
    "If this use of `np.where` is new to you, you may wish to have a look at the usage and examples from the following documentation:\n",
    "https://numpy.org/doc/2.0/reference/generated/numpy.where.html"
   ]
  },
  {
   "cell_type": "code",
   "execution_count": null,
   "metadata": {},
   "outputs": [],
   "source": [
    "# Your code here for arr2\n",
    "\n"
   ]
  },
  {
   "cell_type": "code",
   "execution_count": null,
   "metadata": {},
   "outputs": [],
   "source": [
    "# Test that arr2 has the correct values\n",
    "assert np.array_equal(arr2, [0,0,0,0,10,12,14,16,18,20])\n",
    "print(\"You passed this test\")"
   ]
  },
  {
   "cell_type": "markdown",
   "metadata": {},
   "source": [
    "#### Task 3: Array masks\n",
    "In the preclass assignment we encountered a concept called array masking, but we didn't call it that. Array masking is when you create a boolean (True/False) array based on which of the array elements match a specific condition. \n",
    "\n",
    "For example, `arr>10` creates the array\n",
    "```python\n",
    "[False, False, False, False, False, True, True, True, True, True]\n",
    "```\n",
    "because the final 5 elements all meet the condition `arr>10`. We can use an array mask to subset an array, such as `arr[arr>10]` creates the following array because only those elements that correspond to `True` from the mask are selected for the new array:\n",
    "```python\n",
    "[12, 14, 16, 18, 20]\n",
    "```\n",
    "\n",
    "\n",
    "\n",
    "Create array mask `arr3` where only the elements divisible by 5 are `True`:"
   ]
  },
  {
   "cell_type": "code",
   "execution_count": null,
   "metadata": {},
   "outputs": [],
   "source": [
    "# Your code here for arr3\n",
    "\n"
   ]
  },
  {
   "cell_type": "code",
   "execution_count": null,
   "metadata": {},
   "outputs": [],
   "source": [
    "# Test that arr3 has the correct values\n",
    "assert np.array_equal(arr3, [False,False,False,False,True,False,False,False,False,True])\n",
    "print(\"You passed this test\")"
   ]
  },
  {
   "cell_type": "markdown",
   "metadata": {},
   "source": [
    "#### Task 4: Basic Array Filtering\n",
    "Now that we are reminded of how masks and array filtering work, create a new array `arr4` containing only the elements of `arr` that are divisible by 5."
   ]
  },
  {
   "cell_type": "code",
   "execution_count": null,
   "metadata": {},
   "outputs": [],
   "source": [
    "# Your code here for arr4\n",
    "\n"
   ]
  },
  {
   "cell_type": "code",
   "execution_count": null,
   "metadata": {},
   "outputs": [],
   "source": [
    "# Test that arr4 has the correct values\n",
    "assert np.array_equal(arr4, [10, 20])\n",
    "print(\"You passed this test\")"
   ]
  },
  {
   "cell_type": "markdown",
   "metadata": {},
   "source": [
    "#### Task 5: Complex Array Filtering\n",
    "Using array filtering, create a new array `arr5` keeping only the numbers that are either less than 6 or greater than 16. Try to do this with only a single line of code. \n",
    "\n",
    "Note that in array filtering, when you want to perform an \"or\" operation, you need to use the `|` operator instead of the `or` operator. This is because you need to use a bit-wise \"or\" to combine the two masks (one checks for < 6 and the other for >16). The example we saw in the preclass assignment using a bit-wise \"and\" (`&`) was `a2[ (a2>0) & (a2<1) ]`."
   ]
  },
  {
   "cell_type": "code",
   "execution_count": null,
   "metadata": {},
   "outputs": [],
   "source": [
    "# Your code here for arr5\n",
    "\n"
   ]
  },
  {
   "cell_type": "code",
   "execution_count": null,
   "metadata": {},
   "outputs": [],
   "source": [
    "# Test that arr5 has the correct values\n",
    "assert np.array_equal(arr5, [ 2,  4, 18, 20])\n",
    "print(\"You passed this test\")"
   ]
  },
  {
   "cell_type": "markdown",
   "metadata": {},
   "source": [
    "### 11.2 Numpy-compliant functions"
   ]
  },
  {
   "cell_type": "markdown",
   "metadata": {},
   "source": [
    "Take the `my_sign(a)` function from Preclass preparation assignent 11 and rewrite it so that it works with numpy arrays as arguments. It should return an array of the same shape as its argument (which may be 1, 2, or more dimensions), where the value of each element in the returned array is 1, 0 or -1 to reflect the sign of the value in the original array. It does not need to accept individual numbers as arguments, you can assume that an array is passed in.\n",
    "\n",
    "```python\n",
    "def my_sign(a):\n",
    "    if a > 0:\n",
    "        return 1\n",
    "    if a < 0:\n",
    "        return -1\n",
    "    if a == 0:\n",
    "        return 0\n",
    "```"
   ]
  },
  {
   "cell_type": "code",
   "execution_count": null,
   "metadata": {},
   "outputs": [],
   "source": [
    "# Define your my_sign(a) function here\n",
    "\n"
   ]
  },
  {
   "cell_type": "code",
   "execution_count": null,
   "metadata": {},
   "outputs": [],
   "source": [
    "# Test that my_sign takes and returns an array\n",
    "import numpy as np\n",
    "a = my_sign(np.array([-4,4,2,0,3]))\n",
    "assert type(a) == np.ndarray, \"The function did not return an array\"\n",
    "print(\"my_sign takes and returns an array\")"
   ]
  },
  {
   "cell_type": "code",
   "execution_count": null,
   "metadata": {},
   "outputs": [],
   "source": [
    "# Test that the correct values are returned\n",
    "import numpy as np\n",
    "from numpy.testing import assert_equal\n",
    "assert_equal(my_sign(np.array([2,4,1,0,-3,-7,27])), np.array([1,1,1,0,-1,-1,1]))\n",
    "print(\"the correct values are returned\")"
   ]
  },
  {
   "cell_type": "code",
   "execution_count": null,
   "metadata": {},
   "outputs": [],
   "source": [
    "# Test that the correct values are returned for floats\n",
    "import numpy as np\n",
    "from numpy.testing import assert_equal, assert_almost_equal\n",
    "assert_equal(my_sign(np.array([-2.3,1.,0.,-7.6])), np.array([-1,1,0,-1]), \n",
    "             err_msg = \"*** Function does not handle floats correctly\")\n",
    "print(\"the correct values are returned for floats\")"
   ]
  },
  {
   "cell_type": "code",
   "execution_count": null,
   "metadata": {},
   "outputs": [],
   "source": [
    "# Test that the function works with 2D arrays\n",
    "import numpy as np\n",
    "from numpy.testing import assert_equal, assert_almost_equal\n",
    "b = np.array([[5,-3,2],[9,0,-2]])\n",
    "assert_equal(my_sign(b),np.array([[1,-1,1],[1,0,-1]]), \n",
    "             err_msg = \"*** Function does not handle 2D arrays correctly\")\n",
    "print(\"the function works with 2D arrays\")"
   ]
  },
  {
   "cell_type": "markdown",
   "metadata": {},
   "source": [
    "### 11.3 `meshgrid`"
   ]
  },
  {
   "cell_type": "markdown",
   "metadata": {},
   "source": [
    "Calculate $\\exp(-r^2)$ on a 2-dimensional grid, similar to what was done in the preclass preparation assignment.\n",
    "\n",
    "Define a function `exp_r2()` that will: \n",
    "\n",
    "* Use `numpy.meshgrid()` to generate a 2000 x 2000 point grid that covers the range of -3 to +3 on both axes. \n",
    "* Calculate $\\exp(-r^2)$ and return a 2d, 2000 x 2000 array of these values. \n",
    "* You may consider using either `numpy.arange()` or `numpy.linspace()` for generating the initial points along each axis."
   ]
  },
  {
   "cell_type": "code",
   "execution_count": null,
   "metadata": {},
   "outputs": [],
   "source": [
    "# Define your exp_r2() function here\n",
    "\n"
   ]
  },
  {
   "cell_type": "code",
   "execution_count": null,
   "metadata": {},
   "outputs": [],
   "source": [
    "# Test that exp_r2 runs and returns an array of the desired shape\n",
    "assert(exp_r2().shape == (2000,2000))\n",
    "print(\"exp_r2 returns an array of the desired shape\")"
   ]
  },
  {
   "cell_type": "markdown",
   "metadata": {},
   "source": [
    "### 11.4 `imshow`"
   ]
  },
  {
   "cell_type": "markdown",
   "metadata": {},
   "source": [
    "Use `plt.imshow()`) with your function exp_r2() to reproduce the plot shown below. Don't worry about matching the exact colours or size.\n",
    "\n",
    "![imshow plot](https://i.ibb.co/bL8TJ9L/imshow.png)"
   ]
  },
  {
   "cell_type": "code",
   "execution_count": null,
   "metadata": {},
   "outputs": [],
   "source": [
    "# Your code here\n",
    "\n"
   ]
  },
  {
   "cell_type": "markdown",
   "metadata": {},
   "source": [
    "## *Completing this solo worksheet and submitting it to Canvas*\n",
    "Before submitting your work, restart + rerun your entire notebook to make sure that everything runs correctly and without error.\n",
    "\n",
    "To do this:\n",
    "1. **Restart & Run All:** From the \"Kernel\" menu to the right of the \"Cell\" menu, select \"Restart & Run All\". This will restart the python Kernel, erasing all variables currently stored in memory so that when you \"Run All\" cells, you can ensure that if you were to run your notebook again on a later day, it would run as intended.\n",
    "1. Look through the whole notebook and make sure there are no errors. Many questions have purposeful errors in the distributed version so make sure you have fixed them all such that \"Restart & Run All\" will run through the whole book and successfully print \"The notebook ran without errors\" at the end. If you have any trouble resolving the errors, please ask one of your classmates or ask us in class or on Piazza.\n",
    "\n",
    "**Export notebook as HTML:** After you've executed and checked your notebook, choose: File => Save_and_Export_Notebook_As => HTML. This will download an HTML version of your notebook to your computer. This version is can not be executed or modified. You may need to disable any pop-up blockers to allow the file to be downloaded.\n",
    "\n",
    "**Submit to Canvas:** Submit the html file that you just downloaded to the appropriate Solo Worksheet submission on Canvas."
   ]
  },
  {
   "cell_type": "code",
   "execution_count": null,
   "metadata": {},
   "outputs": [],
   "source": [
    "print(\"The notebook ran without errors\")"
   ]
  },
  {
   "cell_type": "code",
   "execution_count": null,
   "metadata": {},
   "outputs": [],
   "source": []
  }
 ],
 "metadata": {
  "colab": {
   "provenance": []
  },
  "kernelspec": {
   "display_name": "Python 3",
   "language": "python",
   "name": "python3"
  },
  "language_info": {
   "codemirror_mode": {
    "name": "ipython",
    "version": 3
   },
   "file_extension": ".py",
   "mimetype": "text/x-python",
   "name": "python",
   "nbconvert_exporter": "python",
   "pygments_lexer": "ipython3",
   "version": "3.7.6"
  }
 },
 "nbformat": 4,
 "nbformat_minor": 5
}
