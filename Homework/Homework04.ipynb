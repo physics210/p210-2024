{
 "cells": [
  {
   "cell_type": "markdown",
   "metadata": {
    "id": "s7LPEdMxDJwD"
   },
   "source": [
    "# PHYS 210, Homework 04\n",
    "Due Wednesday, Sep 18, 2024 at the start of class on Canvas"
   ]
  },
  {
   "cell_type": "markdown",
   "metadata": {},
   "source": [
    "## *4.1 Return of the command line*"
   ]
  },
  {
   "cell_type": "markdown",
   "metadata": {},
   "source": [
    "We previously introduced the Linux command line and are going to revisit it here. Let's start with a summary of some new useful basic commands."
   ]
  },
  {
   "cell_type": "markdown",
   "metadata": {},
   "source": [
    "`less filename` displays the content of a text file one screen at a time (more does something similar). Use `h` inside less to get a list of keyboard shortcuts. Most important are `space` to advance a screenful, and `q` to quit.\n",
    "\n",
    "`head -n filename` displays the first n lines of a text file (default n=10)\n",
    "\n",
    "`tail -n filename` displays the last n lines of a text file (default y)\n",
    "\n",
    "`wc filename` displays the number of lines, words and character in filename\n",
    "\n",
    "`mkdir dirName` creates the directory `dirName`\n",
    "\n",
    "`rmdir dirName` deletes a directory `dirName`. If `dirName` is not empty rmdir returns an error message\n",
    "\n",
    "`rm filename1 filename …` deletes files `filename1`, `filename2`, `…`\n",
    "\n",
    "`rm -r dirName` deletes the entire directory `dirName` even if directory is not empty, even its sub-directories, if any (use with caution!).\n",
    "\n",
    "`cp inName outName` creates a copy of file `inName` and names it `outName` (unless outName is a directory, in which case it will create a new file inside the `outName` directory).\n",
    "\n",
    "`cp -r inDirName outDirName` does the same as `cp` but when `inName` is a directory\n",
    "\n",
    "`mv inName outName` moves `inName` to `outName` (same as `cp -r` followed by the deletion of `inName`)"
   ]
  },
  {
   "cell_type": "markdown",
   "metadata": {},
   "source": [
    "### 4.1.1 Text File manipulation with nano text editor\n",
    "\n",
    "Open a terminal in Jupyter, CoCalc or anywhere else you might have access to a Linux terminal. \n",
    "\n",
    "Let's add a file to our home directory. We’ll use a text editor called `nano` to create a new text file `newfile.txt`.\n",
    "```\n",
    "jovyan@jupyter-[yourCWL]:~$ nano newfile.txt\n",
    "```\n",
    "Write a few sentences within nano and make sure you use the word 'the' on at least 3 different lines. Then use CTRL-O (indicated as ^O in the menu) to save the file and then enter to confirm. Finally use CTRL-X (^X) to exit.\n",
    "\n",
    "Next, make a copy of your file with the name: `file2.txt`\n",
    "\n",
    "Verify that `file2.txt` contains what it should using the less command.\n",
    "\n",
    "Using one of the commands from the list above, count how many lines, words and characters there are in `file2.txt`"
   ]
  },
  {
   "cell_type": "markdown",
   "metadata": {},
   "source": [
    "### 4.1.2 Pattern searching within text files\n",
    "\n",
    "`nano` does have a `find` function (called \"Where Is\"). However, you probably shouldn't use it when running a terminal inside your broser (like in Open Jupyter or Cocalc) since the required keyboard shortcut `^W` might be interpreted by your broswer as being a command to close your browser tab instead of as a command with nano. \n",
    "\n",
    "Instead we will use a very powerful commmand-line command for searching within files: `grep`.\n",
    "\n",
    "The basic syntax of grep is:\n",
    "```\n",
    "grep pattern filename\n",
    "```\n",
    "So, to search for occurences of the word 'the' in your text file, you would type:\n",
    "```\n",
    "jovyan@jupyter-[yourCWL]:~$ grep the file2.txt\n",
    "```\n",
    "or\n",
    "```\n",
    "jovyan@jupyter-[yourCWL]:~$ grep \"the\" file2.txt\n",
    "```\n",
    "**Try it out!**\n",
    "\n",
    "Grep will show you the entire line on which the pattern occurs."
   ]
  },
  {
   "cell_type": "markdown",
   "metadata": {},
   "source": [
    "### Your turn #1\n",
    "\n",
    "How would you use `grep` to search for the word \"hello\" in a file named \"sample.txt\"?\n",
    "\n",
    "A) `grep search \"hello\" sample.txt`<br>\n",
    "B) `grep \"hello\" from sample.txt`<br>\n",
    "C) `grep \"hello\" in sample.txt`<br>\n",
    "D) `grep \"hello\" sample.txt`"
   ]
  },
  {
   "cell_type": "code",
   "execution_count": null,
   "metadata": {},
   "outputs": [],
   "source": [
    "# Code testing area to help answer this question\n",
    "\n"
   ]
  },
  {
   "cell_type": "code",
   "execution_count": null,
   "metadata": {},
   "outputs": [],
   "source": [
    "# Enter your answer inside the string quotes and then run this cell to check your anwer\n",
    "\n",
    "answer = \"\"\n",
    "\n",
    "import hashlib\n",
    "assert answer in ['A', 'B', 'C', 'D'], \"Your answer did not match any of the choices\"\n",
    "assert hashlib.sha256(answer.encode()).hexdigest() == \\\n",
    "    '3f39d5c348e5b79d06e842c114e6cc571583bbf44e4b0ebfda1a01ec05745d43', \"Your answer is incorrect\"\n",
    "print(\"Your answer\", answer, \"is correct\") # Passed all assert statements above"
   ]
  },
  {
   "cell_type": "markdown",
   "metadata": {},
   "source": [
    "### 4.1.3 Redirecting output\n",
    "\n",
    "Command lines generate output information on the screen. However, you can redirect this information to a file filename by adding `> filename` at the end of the command line.\n",
    "\n",
    "You can pass on the output of a command as input for another command in the same line. This is done by putting `|` between the two commands, this is called a 'pipe'.\n",
    "\n",
    "For instance the command:\n",
    "```\n",
    "$ ls -l dirname | less \n",
    "```\n",
    "will show the detailed file list in directory `dirname` one screen at a time with the less command.\n",
    "\n"
   ]
  },
  {
   "cell_type": "markdown",
   "metadata": {},
   "source": [
    "### 4.1.4 More on redirecting output\n",
    "\n",
    "`grep` can also act inside a pipe to filter the text output from other commands, as in:\n",
    "```\n",
    "$ ls dirName | grep filter | less\n",
    "```\n",
    "This will show only filenames the have 'filter; in them. As shown in this example you can have multiple commands piped together."
   ]
  },
  {
   "cell_type": "markdown",
   "metadata": {},
   "source": [
    "### Your turn #2\n",
    "\n",
    "*(Try this out. You don't need to include any answers here.)*\n",
    "\n",
    "Use the pipe construction described above to list the contents of the directory `/bin` so that only a page at a time displays on the screen."
   ]
  },
  {
   "cell_type": "markdown",
   "metadata": {},
   "source": [
    "### Your turn #3: try out the following\n",
    "\n",
    "*(Try this out. You don't need to include any answers here.)*\n",
    "\n",
    "1. Use ls and grep to find files that contain the string 'mk' in /bin\n",
    "1. Do this again, but redirect the output to a file called: mk-files.txt\n",
    "1. Use `less mk-files.txt` to verify that the list of files is correct"
   ]
  },
  {
   "cell_type": "markdown",
   "metadata": {},
   "source": [
    "### 4.1.5 Wildcards\n",
    "\n",
    "Many commands can take a list of files or directories. To minimize writing, it is useful to use the concept of wildcards (using the asterisk character `*`)\n",
    "\n",
    "`ls *.txt` will list all files in the current directory whose file names end in .txt"
   ]
  },
  {
   "cell_type": "markdown",
   "metadata": {},
   "source": [
    "### Your turn #4\n",
    "\n",
    "*(Try this out. You don't need to include any answers here.)*\n",
    "\n",
    "Compare the outputs of `ls` and `ls *.txt` in the directory that you have been working in."
   ]
  },
  {
   "cell_type": "markdown",
   "metadata": {},
   "source": [
    "## *4.2 Slicing and step practice*"
   ]
  },
  {
   "cell_type": "markdown",
   "metadata": {},
   "source": [
    "Which *one* of the following will not produce the list `['G', 'E', 'C']`?\n",
    "```python\n",
    "long = [\"A\", \"B\", \"C\", \"D\", \"E\", \"F\", \"G\", \"H\", \"I\", \"J\"]\n",
    "```\n",
    "A)\n",
    "```python\n",
    "long[6:0:-2]\n",
    "```\n",
    "B)\n",
    "```python\n",
    "long[-4:-9:-2]\n",
    "```\n",
    "C)\n",
    "```python\n",
    "long[2:8:2][::-1]\n",
    "```\n",
    "D)\n",
    "```python\n",
    "long[2:8][::-2]\n",
    "```\n",
    "E)\n",
    "```python\n",
    "short = []\n",
    "for i in range(6,0,-2):\n",
    "    short.append(long[i])\n",
    "print(short)\n",
    "```\n",
    "F)\n",
    "```python\n",
    "short = []\n",
    "i = 6\n",
    "while i > 1:\n",
    "    short.append(long[i])\n",
    "    i -= 2\n",
    "print(short)\n",
    "```"
   ]
  },
  {
   "cell_type": "code",
   "execution_count": null,
   "metadata": {},
   "outputs": [],
   "source": [
    "# Code testing area to help answer this question\n",
    "\n"
   ]
  },
  {
   "cell_type": "code",
   "execution_count": null,
   "metadata": {},
   "outputs": [],
   "source": [
    "# Enter your answer inside the string quotes and then run this cell to check your anwer\n",
    "\n",
    "answer = \"\"\n",
    "\n",
    "import hashlib\n",
    "assert answer in ['A', 'B', 'C', 'D', 'E', 'F'], \"Your answer did not match any of the choices\"\n",
    "assert hashlib.sha256(answer.encode()).hexdigest() == \\\n",
    "    '3f39d5c348e5b79d06e842c114e6cc571583bbf44e4b0ebfda1a01ec05745d43', \"Your answer is incorrect\"\n",
    "print(\"Your answer\", answer, \"is correct\") # Passed all assert statements above"
   ]
  },
  {
   "attachments": {},
   "cell_type": "markdown",
   "metadata": {
    "id": "fz_u0eb53VRP"
   },
   "source": [
    "## *4.3 Fourth root estimate: Newton's Method*\n",
    "You may have seen Newton's Method [https://en.wikipedia.org/wiki/Newton's_method](https://en.wikipedia.org/wiki/Newton's_method) in a calculus class as a way to find roots of an equation. As a quick review, the method is illustrated in the figure:\n",
    "\n",
    "![](img/homework04-newtwon-method.png)\n",
    "\n",
    "The way it works is that you pick a starting point on the x-axis and call it $x_0$, (1.25 in the example above). You then evaluate the function, $f(x_0)$, and its derivative, $f'(x_0)$, at that point. Then using the derivative, slide down the tangent line (in blue) until you get back to the x axis. Call that point $x_1$. Then you can repeat the procedure, getting closer and closer to the root, which is where the equation passes through 0.\n",
    "\n",
    "This method can be expressed as:\n",
    "$$ x_{n+1} = x_n - \\frac{f(x_n)}{f'(x_n)}$$\n",
    "\n",
    "Subject to certain conditions on the function $f(x)$ and its first derivative (that we will not worry about), if $x_0$ is close enough to one of the roots, the sequence will converge to that nearest root.\n",
    "Because the function may have more than one root, which root is arrived at depends on the initial guess, $x_0$.\n",
    "\n",
    "Write a program, using a `while` or `for` loop, that finds the root of the funtion $f(x) = x^4-1$ by iterating Newton's method from the starting point `x0`. The output of this program should be two integer values:\n",
    "\n",
    "* `n`: This is the number of iterations of Newton's method that was required for convergence. Here we define convergence as when the distance between $x_n$ and one of the roots (`-1` or `1`) is less than 0.02. If the starting value, `x0`, is already within 0.02 of a root, the number of iterations required is 0. If it takes two iterations ($x_1$ and $x_2$), then this should be `n = 2`.\n",
    "* `root`: This is the value of the root that was converged to, `-1` or `1`.\n",
    "\n",
    "**Failure to converge:** Your loop should perform a maximum of 100 iterations. If it gets to a 100th iteration and then does not converge during that iteration, the values above should be `n = 100`, `root = -99`. Otherwise, if it does converge during the 100th iteration, the values should be `n = 100` and then `root = -1` or `root = 1`, as appropriate.\n",
    "\n",
    "We provide some assert statements below your code cell for you to check some initial values."
   ]
  },
  {
   "cell_type": "code",
   "execution_count": null,
   "metadata": {
    "id": "gok7Dir96P1p"
   },
   "outputs": [],
   "source": [
    "# Your code here\n",
    "\n"
   ]
  },
  {
   "cell_type": "code",
   "execution_count": null,
   "metadata": {
    "id": "gQX7gpWu6P14",
    "outputId": "8d03da08-10a5-40fd-cc68-737e3b7583ca"
   },
   "outputs": [],
   "source": [
    "# Test your output here\n",
    "\n",
    "if x0 == 0.000005:\n",
    "    assert root == -99 and n == 100\n",
    "    print(\"Passed the test for x0 =\",x0)\n",
    "elif x0 == 1.1:\n",
    "    assert root == 1 and n == 1\n",
    "    print(\"Passed the test for x0 =\",x0)\n",
    "elif x0 == -1.25:\n",
    "    assert root == -1 and n == 2\n",
    "    print(\"Passed the test for x0 =\",x0)\n",
    "else:\n",
    "    print(\"Your test x0 value should be one of the values shown above\")"
   ]
  },
  {
   "cell_type": "markdown",
   "metadata": {
    "id": "XLyUJjjS6P17"
   },
   "source": [
    "## *4.4 Fourth root estimate, part 2*\n",
    "\n",
    "Copy and modify your code from 4.3 so that it can instead accept a list `x0_list` as its input and then provide the lists `root_list` and `n_list` as its output. Like in the previous question, we provide some assert statements to provide feedback and help debug your code. Note that the `assert x0 ==` statement is to ensure you don't accidentally change `x0_list`."
   ]
  },
  {
   "cell_type": "code",
   "execution_count": null,
   "metadata": {
    "id": "V3dSyCdG6P1_"
   },
   "outputs": [],
   "source": [
    "# Your code here\n",
    "x0_list = [0.00005, 1.1, -1.25, 0.000053, 0.000052, 1.01, -1.01, 0.99, -0.99, 0.001, -0.001]\n",
    "\n",
    "\n"
   ]
  },
  {
   "cell_type": "code",
   "execution_count": null,
   "metadata": {
    "id": "zW-Ly9XO6P2H",
    "outputId": "f0060c6b-3ef5-428e-b2f2-468275bc4447"
   },
   "outputs": [],
   "source": [
    "# Use the assert statements below to check your results for x0_list\n",
    "\n",
    "assert x0_list == [5e-05, 1.1, -1.25, 5.3e-05, 5.2e-05, 1.01, -1.01, 0.99, -0.99, 0.001, -0.001]\n",
    "assert root_list == [-99, 1, -1, 1, -99, 1, -1, 1, -1, 1, -1]\n",
    "assert n_list == [100, 1, 2, 100, 100, 0, 0, 0, 0, 70, 70]\n",
    "\n",
    "print(\"Yay! All assert statements were passed\")"
   ]
  },
  {
   "cell_type": "markdown",
   "metadata": {
    "id": "bDmgj-cYDJwg"
   },
   "source": [
    "## *Completing this homework assignment and submitting it to Canvas*\n",
    "\n",
    "Before submitting your work, restart + rerun your entire notebook to make sure that everything runs correctly and without error.\n",
    "\n",
    "To do this:\n",
    "1. **Restart & Run All:** From the \"Kernel\" menu to the right of the \"Cell\" menu, select \"Restart & Run All\". This will restart the python Kernel, erasing all variables currently stored in memory so that when you \"Run All\" cells, you can ensure that if you were to run your notebook again on a later day, it would run as intended.\n",
    "1. Look through the whole notebook and make sure there are no errors. Many questions have purposeful errors in the distributed version so make sure you have fixed them all such that \"Restart & Run All\" will run through the whole book and successfully print \"The notebook ran without errors\" at the end. If you have any trouble resolving the errors, please ask one of your classmates or ask us in class or on Piazza.\n",
    "\n",
    "**Export notebook as HTML:** After you've executed and checked your notebook, choose: File => Save_and_Export_Notebook_As => HTML. This will download an HTML version of your notebook to your computer. This version is can not be executed or modified. You may need to disable any pop-up blockers to allow the file to be downloaded."
   ]
  },
  {
   "cell_type": "code",
   "execution_count": null,
   "metadata": {
    "id": "06eWAWMiDJwh",
    "tags": []
   },
   "outputs": [],
   "source": [
    "print(\"The notebook ran without errors\")"
   ]
  }
 ],
 "metadata": {
  "colab": {
   "provenance": []
  },
  "kernelspec": {
   "display_name": "Python 3",
   "language": "python",
   "name": "python3"
  },
  "language_info": {
   "codemirror_mode": {
    "name": "ipython",
    "version": 3
   },
   "file_extension": ".py",
   "mimetype": "text/x-python",
   "name": "python",
   "nbconvert_exporter": "python",
   "pygments_lexer": "ipython3",
   "version": "3.7.6"
  }
 },
 "nbformat": 4,
 "nbformat_minor": 1
}
