{
 "cells": [
  {
   "cell_type": "markdown",
   "metadata": {
    "id": "s7LPEdMxDJwD"
   },
   "source": [
    "# PHYS 210, Homework 03\n",
    "Due Monday, Sep 16, 2024 at the start of class on Canvas"
   ]
  },
  {
   "cell_type": "markdown",
   "metadata": {
    "id": "KKBcgJ-fDJwg"
   },
   "source": [
    "## *3.1 The Jupyter notebook debugger*"
   ]
  },
  {
   "cell_type": "markdown",
   "metadata": {},
   "source": [
    "Thus far in this course, we have used `print(..)` statements to help us perform debugging/troubleshooting when trying to locate problems with our code or to monitor the state of the program to ensure it is working as intended. Today we are going to learn how to use the Jupyter notebook debugger, which is a form of breakpoint debugger. This means that you'll be able to set points within your code where the execution will pause and you will be able to observe what the current values are that are stored in all of your variables. This can be very handy while working with loops when you are trying to figure out why they are working unexpectedly. \n",
    "\n",
    "The built-in Jupyter notebook debugger works only in JupyterLab, which is the interface that you have experienced with Jupyter Open (or syzygy or on the phys119 Jupyter serve). It does not work on CoCalc."
   ]
  },
  {
   "cell_type": "markdown",
   "metadata": {},
   "source": [
    "### 3.1.1 Running the debugger on a familiar `for`loop"
   ]
  },
  {
   "cell_type": "markdown",
   "metadata": {},
   "source": [
    "#### Enable the debugger\n",
    "\n",
    "The first thing we need to do is enable the debugger. You will know that it can be enabled when you see that the small bug symbol is dark and solid, as shown below.\n",
    "\n",
    "![The Enable Debugger button is immediately to the left of \"Python 3 (ipykernal)\" in the upper-right corner of the notebook](img/debugger-button.png)\n",
    "\n",
    "<br>Click on it to enable the debugger. This will cause a side panel to appear. You can disable the debugger by clicking on the same button again when it is red.\n",
    "\n",
    "![The side panel is shown](img/debugger-disable-and-side-panel.png)"
   ]
  },
  {
   "cell_type": "markdown",
   "metadata": {},
   "source": [
    "### Set a breakpoint\n",
    "\n",
    "Click on `BREAKPOINTS` to open up that subpanel. You may have noticed that when you enabled the debugger, line numbers were added to your code. Go down to the `for` loop code below and click on the empty space immediately to the left of line 18 (`t += dt`) to set a breakpoint at that line of code. You should see a solid red circle appear where you clicked and you should now see an entry in the `BREAKPOINTS` side-panel\n",
    "\n",
    "![](img/debugger-set-breakpoint.png)"
   ]
  },
  {
   "cell_type": "markdown",
   "metadata": {},
   "source": [
    "### Run the code up to breakpoint\n",
    "\n",
    "Open up the `VARIABLES` subpanel and then run the for loop (below). You will see that a bunch of `function variables` suddenly appear in the `VARIABLES` subpanel. Let's describe what has happend.\n",
    "\n",
    "The code block has run up to, but not including the breakpoint and every variable that was created or updated is now displayed.\n",
    "* These variables are displayed in alphabetical order, not the order in which they were created. This first 10 lines of code initializes (creates and gives initial values to) the following variables: `t`, `dt`, `tmax`, `y`, `v` and `num_steps`. \n",
    "* On line 12, we enter the for loop and `i` is set to `0` on the first loop\n",
    "* On line 15, `y_next` is initialized with `y + v * dt\n",
    "* The code pauses execution immediately before running line 18. Thus, `y` is still `0` instead of having the same value as `y_next`, which is what will happend once line 18 runs\n",
    "\n",
    "![](img/debugger-run.png)"
   ]
  },
  {
   "cell_type": "markdown",
   "metadata": {},
   "source": [
    "#### Stepping through the code\n",
    "\n",
    "The `CALLSTACK` subpanel has a number of different buttons on it and we are going to mention the use of the three most common ones that you will be using. Try them out.\n",
    "\n",
    "* **Continue:** Go to the next breakpoint. If you are in a loop (like we are), this will take you to the next iteration of the loops\n",
    "\n",
    "![](img/debugger-continue.png)\n",
    "\n",
    "* **Next:** Run the current line of code and go to the next one\n",
    "\n",
    "![](img/debugger-next.png)\n",
    "\n",
    "* **Terminate:** This is a bit of a misleading label since it actually runs the rest of the code block without stopping for breakpoints\n",
    "\n",
    "![](img/debugger-terminate.png)\n",
    "\n",
    "**Note:** After the code block has completed, to go back and run it again in debugging mode, you just need to go back and run/execute the cell again."
   ]
  },
  {
   "cell_type": "markdown",
   "metadata": {},
   "source": [
    "### Your turn #1\n",
    "\n",
    "Add a second breakpoint on the `break` line (line 25). Run the code and try using **Continue** until the code block completes and gives you the 'Break condition achieved' message. Check if all of the variables are what you expect them to be."
   ]
  },
  {
   "cell_type": "code",
   "execution_count": null,
   "metadata": {},
   "outputs": [],
   "source": [
    "# Constants and initial values\n",
    "t = 0.0 # s\n",
    "dt = 0.1 # s\n",
    "tmax = 100.0 # s\n",
    "\n",
    "y = 0. # m\n",
    "v = 15.3 # m/s\n",
    "\n",
    "# Calculate the number of steps\n",
    "num_steps = int(tmax / dt)\n",
    "\n",
    "for i in range(num_steps):\n",
    "    \n",
    "    # Calculate the kinematic variables at t+dt\n",
    "    y_next = y + v * dt\n",
    "\n",
    "    # Update time\n",
    "    t += dt\n",
    "\n",
    "    # Update kinematic variables for the next step\n",
    "    y = y_next\n",
    "    \n",
    "    if y >= 10: # Changed from 100 in the original code\n",
    "        print(\"Break condition achieved\")\n",
    "        break"
   ]
  },
  {
   "cell_type": "markdown",
   "metadata": {},
   "source": [
    "### Your turn #2\n",
    "\n",
    "The nested loop below is supposed to stop completely once the first match `i == j` has been found and then print out the matching numbers, but it is not working correctly. Use the Jupyter notebook debugger to help you figure out the issue so that you can fix it.      \n",
    "\n",
    "Note: It is likely that you will need to modify the code more than just moving the given pieces around."
   ]
  },
  {
   "cell_type": "code",
   "execution_count": null,
   "metadata": {},
   "outputs": [],
   "source": [
    "for i in range(5, 0, -1): \n",
    "    for j in range(1, 5): \n",
    "        if i == j:\n",
    "            break\n",
    "print(i,j)"
   ]
  },
  {
   "cell_type": "markdown",
   "metadata": {
    "id": "q1_8qSQc3VRA"
   },
   "source": [
    "## *3.2 Motion diagram*\n",
    "\n",
    "Using a `for` loop, write a small program that displays a representation of motion of a constant-velocity object moving across a 10 \"pixel\" track using print statements. Below are two examples where one frame refers to a printed line."
   ]
  },
  {
   "cell_type": "markdown",
   "metadata": {
    "id": "UJJIXfI_3VRC"
   },
   "source": [
    "**Example 1:** v = 1 (pixels/frame)\n",
    "```\n",
    "o_________               \n",
    "_o________          \n",
    "__o_______          \n",
    "___o______          \n",
    "____o_____          \n",
    "_____o____          \n",
    "______o___          \n",
    "_______o__          \n",
    "________o_          \n",
    "_________o                   \n",
    "```\n",
    "**Example 2:** v = 3 (pixels/frame)\n",
    "```\n",
    "o_________               \n",
    "___o______          \n",
    "______o___          \n",
    "_________o                  \n",
    "```"
   ]
  },
  {
   "cell_type": "markdown",
   "metadata": {
    "id": "iff-cMAg3VRF"
   },
   "source": [
    "In your program, you should be able to change `v` such that v represents the number of pixels the object moves each frame. Although you can assume that `v` will always be an integer, you should include some conditional logic so that\n",
    "1. It never enters the loop when `v = 0`\n",
    "1. It does not display any frames for situations where only one frame would be displayed (see examples below)\n",
    "\n",
    "Not required, but try to build your program so that you use a single dynamic print statement within your loop instead of conditional logic leading to 10 different possible print statements.\n",
    "\n",
    "Check your output for the following values of `v`:\n",
    "* `v = 0`: Nothing should be printed\n",
    "* `v = 1` and `v = 3`: the above examples should be reproduced\n",
    "* `v = 7`: two lines should be printed\n",
    "* `v = 17`: no lines should be printed\n",
    "* `v = -3`: no lines should be printed"
   ]
  },
  {
   "cell_type": "code",
   "execution_count": null,
   "metadata": {
    "id": "Ff1ylCva3VRI"
   },
   "outputs": [],
   "source": [
    "# Your code here\n",
    "\n",
    "v = int(1) # force this to always be an integer\n",
    "\n",
    "# for loop\n"
   ]
  },
  {
   "cell_type": "markdown",
   "metadata": {},
   "source": [
    "**Optional bonus task:** Try to make the object bounce off the right wall. Share ***your output*** (not your code) for v = 3 on Piazza."
   ]
  },
  {
   "cell_type": "markdown",
   "metadata": {
    "id": "fz_u0eb53VRP"
   },
   "source": [
    "## *3.3 Square root estimate: Heron's method*\n",
    "You are going to implement Heron's method (https://en.wikipedia.org/wiki/Methods_of_computing_square_roots#Heron's_method) for estimating a square root.\n",
    "\n",
    "Using the notation from Wikipedia, our value for which we are trying to find the square root is $S$. Our initial guess of the square root is $x_0$ and then each iterative refinement of the square root estimate is given by\n",
    "\n",
    "$$x_{n+1} = \\frac{1}{2} \\left( x_n + \\frac{S}{x_n} \\right).$$\n",
    "\n",
    "\n",
    "\n",
    "Using a for loop, build a program that\n",
    "1. Does a maximum of 50 iterations and indicates \"Maximum iterations reached without convergence\" when it reaches the threshold\n",
    "1. Always uses an initial guess of $x_0 = S.$\n",
    "1. Prints out the estimate, $x_n$, and the iteration number, $n$ for each iteration\n",
    "1. When an iteration gives a relative error of less than 0.0001 (0.01%), that should be the final iteration. The relative error should be found using the following equation, where $val$ is the actual correct square root which you can use `np.sqrt()` to determine:<br><br>\n",
    "$$abs \\left(\\frac{x_n - val}{val} \\right) < 0.0001 $$\n",
    "<br>\n",
    "1. Does not try to estimate the square root of a negative number.\n",
    "\n",
    "\n",
    "Investigate how many iterations it takes for values of $S = 100$, $S = 10,000$, and $S = 1,000,000.$ You should find that it takes 6, 9 and 13 iterations, respectively."
   ]
  },
  {
   "cell_type": "code",
   "execution_count": null,
   "metadata": {},
   "outputs": [],
   "source": [
    "# Your code here\n",
    "\n"
   ]
  },
  {
   "cell_type": "markdown",
   "metadata": {
    "id": "KKBcgJ-fDJwg"
   },
   "source": [
    "## *Completing this homework assignment and submitting it to Canvas*"
   ]
  },
  {
   "cell_type": "markdown",
   "metadata": {
    "id": "bDmgj-cYDJwg"
   },
   "source": [
    "Before submitting your work, restart + rerun your entire notebook to make sure that everything runs correctly and without error.\n",
    "\n",
    "To do this:\n",
    "1. **Restart & Run All:** From the \"Kernel\" menu to the right of the \"Cell\" menu, select \"Restart & Run All\". This will restart the python Kernel, erasing all variables currently stored in memory so that when you \"Run All\" cells, you can ensure that if you were to run your notebook again on a later day, it would run as intended.\n",
    "1. Look through the whole notebook and make sure there are no errors. Many questions have purposeful errors in the distributed version so make sure you have fixed them all such that \"Restart & Run All\" will run through the whole book and successfully print \"The notebook ran without errors\" at the end. If you have any trouble resolving the errors, please ask one of your classmates or ask us in class or on Piazza.\n",
    "\n",
    "**Export notebook as HTML:** After you've executed and checked your notebook, choose: File => Save_and_Export_Notebook_As => HTML. This will download an HTML version of your notebook to your computer. This version is can not be executed or modified. You may need to disable any pop-up blockers to allow the file to be downloaded."
   ]
  },
  {
   "cell_type": "code",
   "execution_count": null,
   "metadata": {
    "id": "06eWAWMiDJwh",
    "tags": []
   },
   "outputs": [],
   "source": [
    "print(\"The notebook ran without errors\")"
   ]
  }
 ],
 "metadata": {
  "colab": {
   "provenance": []
  },
  "kernelspec": {
   "display_name": "Python 3",
   "language": "python",
   "name": "python3"
  },
  "language_info": {
   "codemirror_mode": {
    "name": "ipython",
    "version": 3
   },
   "file_extension": ".py",
   "mimetype": "text/x-python",
   "name": "python",
   "nbconvert_exporter": "python",
   "pygments_lexer": "ipython3",
   "version": "3.7.6"
  }
 },
 "nbformat": 4,
 "nbformat_minor": 1
}
