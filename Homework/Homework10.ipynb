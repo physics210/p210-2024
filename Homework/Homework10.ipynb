{
 "cells": [
  {
   "cell_type": "markdown",
   "metadata": {
    "id": "FBtDqWQqaAwr"
   },
   "source": [
    "# PHYS 210, Homework 10\n",
    "Due Wednesday, Oct 16, 2024 at the start of class on Canvas"
   ]
  },
  {
   "cell_type": "markdown",
   "metadata": {},
   "source": [
    "## *Overview*"
   ]
  },
  {
   "cell_type": "markdown",
   "metadata": {},
   "source": [
    "This homework assignment focuses on developing some skills relevant to your upcoming Project 02. Specifically, you will be getting more practice working with `solve_ivp`, and some practice using functions to help you conduct phase-space investigations"
   ]
  },
  {
   "cell_type": "markdown",
   "metadata": {
    "id": "-iFgrwu8cQtC"
   },
   "source": [
    "## *The situation you are modelling using `solve_ivp`: a comet's close approach to the Earth*"
   ]
  },
  {
   "cell_type": "markdown",
   "metadata": {},
   "source": [
    "We want to determine how close the comet Peanut Butter---travelling in our solar system---will come to Earth. Our measurements and current models give us a fairly precise picture of the comet's position and trajectory when it is approximately 3.5 AU from the Sun. As a citizen scientist, you decide to produce some visualizations related to the situation. You also decide to perform a phase-space investigation to explore how the accuracy in our knowledge of the comet's position might impact how close the calculated approach will be.\n",
    "\n",
    "You will be using `solve_ivp` to model the path of the comet as it interacts gravitationally with the sun and the Earth. The first image below is a visualization of this motion that you will be reproducing based on data from your `solve_ivp` output (Task 1). The second image shows an example phase space investigation of how the comet's closest distance to the Earth varies as a function of small changes to the comet's initial y-velocity (Task 2).\n",
    "\n",
    "![comet path](https://i.ibb.co/YRSvR0J/comet-path.png)\n",
    "<center><b>Figure 1.</b> A visualization of the sun, Earth, comet system, with the comet's motion being modelled using solve_ivp. </center>\n",
    "\n",
    "![phase space investigation](https://i.ibb.co/F8BHpk0/varyvx.png)\n",
    "<center><b>Figure 2.</b> A phase space investigation of the impact of the comet's initial y-velocity on the \"distance of closest approach\" between the comet and Earth.</center>\n"
   ]
  },
  {
   "cell_type": "markdown",
   "metadata": {
    "id": "1Y-AuxbgcukV"
   },
   "source": [
    "## *Further details of the simulation*"
   ]
  },
  {
   "cell_type": "markdown",
   "metadata": {},
   "source": [
    "**Constants:** We are working in units of AU (astronomical distance units), solar masses and years, where we have the following constants:\n",
    "* $G = 39.48 \\text{ AU}^3 (M_\\text{sun})^{-1} year^{-2}$\n",
    "* $M_\\text{earth} = 3.003 \\times 10^{-6} M_\\text{sun}$\n",
    "* $M_\\text{sun} = 1.0 M_\\text{sun}$\n",
    "* $a_\\text{earth} = 1.0 \\text{ AU}$ (average distance from the Earth to the sun)"
   ]
  },
  {
   "cell_type": "markdown",
   "metadata": {},
   "source": [
    "**Earth's motion:** To simplify the model, treat Earth as having a perfectly circular path with position\n",
    "* $x = 1.0 \\times \\sin(2 \\pi t) \\mbox{ AU}$ , and\n",
    "* $y = -1.0 \\times \\cos(2 \\pi t) \\mbox{ AU}$,\n",
    "\n",
    "with $t$ being measured in years. **Important!** This means that `solve_ivp` is only used to model the motion of the comet. At any time $t$ these equations give you the position of the Earth."
   ]
  },
  {
   "cell_type": "markdown",
   "metadata": {},
   "source": [
    "**The sun's position:** The sun remains at the origin in this coordinate system. "
   ]
  },
  {
   "cell_type": "markdown",
   "metadata": {},
   "source": [
    "**The comet's initial conditions:** The initial state vector for our comet is\n",
    "* $x_0 = 3.5\\mbox{ AU}$,\n",
    "* $y_0 = 0.5\\mbox{ AU}$,\n",
    "* $v_{x0} = -6.0 \\mbox{ AU/year}$, and\n",
    "* $v_{y0} = -2.0 \\mbox{ AU/year}$."
   ]
  },
  {
   "cell_type": "markdown",
   "metadata": {},
   "source": [
    "**`solve_ivp` details:** You will be modelling the path of the comet using `solve_ivp`:\n",
    "* Model the path of the comet from its initial position (see above) through its approach toward the sun and then up until it is travelling away from the sun and is 1 AU from the sun. This point at which the comet has crossed the Earth's orbit (at 1 AU away from the sun) is when you should terminate the simulation (as shown in Figure 1).\n",
    "  * We define the \"distance of closest approach\" to be the distance between the Earth and the outard-moving comet at this point when the comet crosses the Earth's orbit at 1 AU from the sun. This is a significant simplification of how one would normally calculate the actual closest distance distance between them.\n",
    "* Use a minimum of 5000 time steps per year when modelling the motion of the comet using `solve_ivp`\n",
    "* To maximize the accuracy of the motion in the simulation, use the following `rtol` (relative toleranace) and `atol` (absolute tolerance) arguments:\n",
    "```python\n",
    "sol = solve_ivp(diff_eqns, .. , rtol=1e-9, atol=1e-9)\n",
    "```"
   ]
  },
  {
   "cell_type": "markdown",
   "metadata": {},
   "source": [
    "## *Task 1: Build a function to run the simulation with an optional flag to show the visualization*\n",
    "\n",
    "Build a function `comet_approach` that accepts two arguments: the initial state vector for your comet `[x, y, vx, vy]` and an optional Boolean flag. The two example function calls below specify the behaviours the function should have based the state of the optional Boolean flag:\n",
    "\n",
    "\n",
    "**When the optional Boolean flag is `True`.** Example:\n",
    "```python\n",
    "comet_approach( [3.5, 0.5, -6.0, -2.0], True )  # display plot but return no value\n",
    "```\n",
    "This call to `comet_approach` should display your visualization, but have no return value (meaning it should be a void function when the optional Boolean flag is `True`). This is how you will be displaying a visualization like that shown in Figure 1. Try to reproduce the visualization in Figure 1 as closely as possible, but do not get caught up trying to reproduce the 0.0046 AU closest distance exactly. Within a factor of 10 is close enough. \n",
    "<br><br><br>\n",
    "**When the optional Boolean flag is absent or `False`.** Example:\n",
    "```python\n",
    "d_approach = comet_approach( [3.5, 0.5, -6.0, -2.0] )  # return the distance, but display no plot\n",
    "```\n",
    "This call to `comet_approach` should <u>not</u> display your visualization. Instead the function should return the distance of closest apprach between the comet and the Earth, defined earlier as the distance between the Earth and comet at the point when the comet is travelling away from the sun and crosses the Earth's path at 1 AU from the sun.\n",
    "\n",
    "In the code box(es) below you should include all of the code infrastructure needed such that after they are run, a call to `comet_approach()` using either of the examples above would have the desired behaviour.\n"
   ]
  },
  {
   "cell_type": "code",
   "execution_count": null,
   "metadata": {},
   "outputs": [],
   "source": [
    "# Your code here\n",
    "\n"
   ]
  },
  {
   "cell_type": "code",
   "execution_count": null,
   "metadata": {},
   "outputs": [],
   "source": [
    "# More code here as needed. Add as many code boxes as you need\n",
    "\n"
   ]
  },
  {
   "cell_type": "markdown",
   "metadata": {},
   "source": [
    "#### Test 1: visualization\n",
    "\n",
    "Use only the function call below to produce your visualization. Your visualization should reproduce the same general features as Figure 1."
   ]
  },
  {
   "cell_type": "code",
   "execution_count": null,
   "metadata": {},
   "outputs": [],
   "source": [
    "# Test 1: Run this cell without adding/modifying code to demonstrate your function's behaviour\n",
    "\n",
    "comet_approach( [3.5, 0.5, -6.0, -2.0], True ) # display plot but return no value"
   ]
  },
  {
   "cell_type": "markdown",
   "metadata": {},
   "source": [
    "####  Test 2: return value with no visualization\n",
    "\n",
    "Use only the two lines below to return the closest approach information from your function and print it to the screen. There should be no visualization plotted."
   ]
  },
  {
   "cell_type": "code",
   "execution_count": null,
   "metadata": {},
   "outputs": [],
   "source": [
    "# Run this cell without adding/modifying code to demonstrate your function's behaviour\n",
    "\n",
    "d_approach = comet_approach( [3.5, 0.5, -6.0, -2.0] )  # return approach distance and DISPLAY NO PLOT.\n",
    "print(\"The distance of closest approach for the initial conditions is\",d_approach,\"AU.\")"
   ]
  },
  {
   "cell_type": "markdown",
   "metadata": {},
   "source": [
    "### Task 1 self-assessment checklist\n",
    "**Overall:** \n",
    "1. The gravitational forces from both the Sun and the Earth are used when calculating the acceleration of the comet\n",
    "1. Choices are made when calling `solve_ivp` to keep accuracy high, such as using the arguments `rtol=1e-9` and `atol=1e-9` within `solve_ivp` and using at least 5000 time steps per year. However, you do not need to reproduce the exact closest approach distance values shown in any of our examples.\n",
    "\n",
    "**Visualizations (optional boolean flag set to True):** \n",
    "1. When called with the optional Boolean flag set to True (e.g., `comet_approach( [3.5, 0.5, -6.0, -2.0], True )`), a visualization is produced without the call to the function needing to be further modified.\n",
    "1. `comet_approach()` is a void function (returns no value) when called with the optional Boolean flag set to `True`\n",
    "1. The three ojects and their trajectories are plotted such that they can be distinguished from each other and clearly identified via the legend\n",
    "1. There are appropriate axis titles\n",
    "1. The plotted trajectories end when the comet crosses the Earth's orbit (1AU) while travelling away from the sun.\n",
    "1. (Optional) The closest approach distance is automatically updated and communicated through the plot title\n",
    "\n",
    "**Return values (optional boolean flag set to False):** \n",
    "1. When called without the optional Boolean flag, (e.g., `comet_approach( [3.5, 0.5, -6.0, -2.0] )`) no plots are created\n",
    "1. When called without the optional Boolean flag, (e.g., `comet_approach( [3.5, 0.5, -6.0, -2.0] )`) the closest approach distance is returned"
   ]
  },
  {
   "cell_type": "markdown",
   "metadata": {},
   "source": [
    "## *Task 2: Investigate how the distance of closest approach depends on the initial y-velocity of the comet*\n",
    "\n",
    "You are going to perform a phase space investigation related to the initial x-position of the comet, meaning that you will use a comet state vector `[x, 0.5, -6.0, -2.0]`, where you systematically use different values for `x` to determine the distance of closest approach as determined by your `comet_approach()` function and then you will plot the results. \n",
    "\n",
    "Create a graph in the style of Figure 2 at the start of the document, but note that Figure 2 was done for a phase-space investigation using initial y-velocity, so there will be important differences for your phase-space investigation using x-position. \n",
    "\n",
    "In your phase-space investigation:\n",
    "* You should vary the initial x-position of the comet over some small range close to the initial state vector, while leaving the other variables in that initial state vector alone. \n",
    "* Pick a distance that you consider to be a dangerously close approach. In our example we used a distance of 0.01 AU (approximately four times the average distance between the Earth and moon), but you may need to choose a higher value since your choices related to `solve_ivp` implementation may not have allowed your comet to get as close as in the examples provided. \n",
    "* Fine-tune the range for your x-positions in your phase-space investigation so that approximately 1/4 to 1/2 of the values that you will plot will be closer than your \"dangerously close\" approach distance.\n",
    "* Produce a plot in a similar style as the one we produced in Figure 2, where the x-positions that correspond to dangerously close approaches are indicated differently than those that don't\n",
    "* Determine the minimum distance of closest approach and determine the initial x-position that corresponds to this smallest distance. Include these values on your graph. These values should be determined automatically by your code.\n",
    "\n",
    "### Task 2 self-assessment checklist:\n",
    "1. A graph of distance of closest approach vs x-position has been produced.\n",
    "1. A visual cue has been provided to distinguish between the dangerously close distances of closest approach and those that weren't\n",
    "1. The dangerously close distances represent approximately 1/4-1/2 of the plotted data points\n",
    "1. The minimum distance of closest approach and its corresponding initial x-position have been indicated on the graph\n",
    "1. For the previous point, these values were calculated automatically by your code."
   ]
  },
  {
   "cell_type": "code",
   "execution_count": null,
   "metadata": {},
   "outputs": [],
   "source": [
    "# Your code here\n",
    "\n"
   ]
  },
  {
   "cell_type": "code",
   "execution_count": null,
   "metadata": {},
   "outputs": [],
   "source": [
    "# More code here as needed. Add as many code boxes as you need\n",
    "\n"
   ]
  }
 ],
 "metadata": {
  "colab": {
   "provenance": []
  },
  "kernelspec": {
   "display_name": "Python 3",
   "language": "python",
   "name": "python3"
  },
  "language_info": {
   "codemirror_mode": {
    "name": "ipython",
    "version": 3
   },
   "file_extension": ".py",
   "mimetype": "text/x-python",
   "name": "python",
   "nbconvert_exporter": "python",
   "pygments_lexer": "ipython3",
   "version": "3.7.6"
  }
 },
 "nbformat": 4,
 "nbformat_minor": 5
}
